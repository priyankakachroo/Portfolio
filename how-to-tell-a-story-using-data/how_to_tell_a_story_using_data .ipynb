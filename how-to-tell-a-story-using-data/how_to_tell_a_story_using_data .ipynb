{
 "cells": [
  {
   "cell_type": "markdown",
   "metadata": {},
   "source": [
    "# Project description:"
   ]
  },
  {
   "cell_type": "markdown",
   "metadata": {},
   "source": [
    "We have decided to open a small robot-run cafe in Los Angeles. The project is promising but expensive, so you and your partners decide to try to attract investors. They’re interested in the current market conditions—will you be able to maintain your success when the novelty of robot waiters wears off.\n",
    "\n",
    "*You’re an analytics guru, so your partners have asked you to prepare some market research. You have open-source data on restaurants in LA.*"
   ]
  },
  {
   "cell_type": "markdown",
   "metadata": {},
   "source": [
    "**TABLE OF CONTENTS**"
   ]
  },
  {
   "cell_type": "markdown",
   "metadata": {},
   "source": [
    "* [Part 1. Download the data and prepare it for analysis : Download the data on restaurants in LA. Make sure that the data type for each column is correct and that there are no missing values or duplicates. Process them if necessary.\n",
    "File path: /datasets/rest_data_us.csv. Download dataset](#h1)\n",
    "   \n",
    "* [Part 2. Data analysis](#h2)\n",
    "    * [2.1 Investigate the proportions of the various types of establishments. Plot a graph.](#sh2.1)\n",
    "    * [2.2 Investigate the proportions of chain and nonchain establishments. Plot a graph.](#sh2.2)\n",
    "    * [2.3 Which type of establishment is typically a chain?](#sh2.3)\n",
    "    * [2.4 What characterizes chains: many establishments with a small number of seats or a few establishments with a lot of seats?](#sh2.4)\n",
    "    * [2.5 Determine the average number of seats for each type of restaurant. On average, which type of restaurant has the greatest number of seats? Plot graphs.](#sh2.5)\n",
    "    * [2.6 Put the data on street names from the address column in a separate column.](#sh2.6)\n",
    "    * [2.7 Plot a graph of the top ten streets by number of restaurants.](#sh2.7)\n",
    "    * [2.8 Find the number of streets that only have one restaurant.](#sh2.8)\n",
    "    * [2.9 For streets with a lot of restaurants, look at the distribution of the number of seats. What trends can you see?](#sh2.9)\n",
    "* [Part 3.CONCLUSION.](#h3)\n",
    "    \n",
    "* [Part 4. Preparing a presentation : Make a presentation of your research to share with investors. You can use any tool you’d like to create it, but you must convert your presentation to PDF format for assessment.](#h4)\n",
    "\n",
    "    \n",
    "\n",
    "\n",
    "\n",
    "\n",
    "\n"
   ]
  },
  {
   "cell_type": "markdown",
   "metadata": {},
   "source": [
    "<font color='green'><h2> Download the data and prepare it for analysis : <a class=\"anchor\" id=\"h1\"></a></h2></font>\n",
    "\n",
    "Download the data on restaurants in LA. Make sure that the data type for each column is correct and that there are no missing values or duplicates. Process them if necessary.\n",
    "File path: /datasets/rest_data_us.csv. Download dataset "
   ]
  },
  {
   "cell_type": "code",
   "execution_count": 1,
   "metadata": {},
   "outputs": [],
   "source": [
    "! pip install -q usaddress"
   ]
  },
  {
   "cell_type": "code",
   "execution_count": 2,
   "metadata": {},
   "outputs": [],
   "source": [
    "#importing all the required files\n",
    "import pandas as pd\n",
    "import numpy as np\n",
    "import matplotlib as mpl\n",
    "import matplotlib.pyplot as plt\n",
    "import seaborn as sns\n",
    "from scipy import stats as st\n",
    "#importing library\n",
    "import usaddress"
   ]
  },
  {
   "cell_type": "code",
   "execution_count": 3,
   "metadata": {},
   "outputs": [
    {
     "name": "stdout",
     "output_type": "stream",
     "text": [
      "<class 'pandas.core.frame.DataFrame'>\n",
      "RangeIndex: 9651 entries, 0 to 9650\n",
      "Data columns (total 6 columns):\n",
      "id             9651 non-null int64\n",
      "object_name    9651 non-null object\n",
      "address        9651 non-null object\n",
      "chain          9648 non-null object\n",
      "object_type    9651 non-null object\n",
      "number         9651 non-null int64\n",
      "dtypes: int64(2), object(4)\n",
      "memory usage: 452.5+ KB\n"
     ]
    },
    {
     "data": {
      "text/html": [
       "<div>\n",
       "<style scoped>\n",
       "    .dataframe tbody tr th:only-of-type {\n",
       "        vertical-align: middle;\n",
       "    }\n",
       "\n",
       "    .dataframe tbody tr th {\n",
       "        vertical-align: top;\n",
       "    }\n",
       "\n",
       "    .dataframe thead th {\n",
       "        text-align: right;\n",
       "    }\n",
       "</style>\n",
       "<table border=\"1\" class=\"dataframe\">\n",
       "  <thead>\n",
       "    <tr style=\"text-align: right;\">\n",
       "      <th></th>\n",
       "      <th>id</th>\n",
       "      <th>object_name</th>\n",
       "      <th>address</th>\n",
       "      <th>chain</th>\n",
       "      <th>object_type</th>\n",
       "      <th>number</th>\n",
       "    </tr>\n",
       "  </thead>\n",
       "  <tbody>\n",
       "    <tr>\n",
       "      <td>0</td>\n",
       "      <td>11786</td>\n",
       "      <td>HABITAT COFFEE SHOP</td>\n",
       "      <td>3708 N EAGLE ROCK BLVD</td>\n",
       "      <td>False</td>\n",
       "      <td>Cafe</td>\n",
       "      <td>26</td>\n",
       "    </tr>\n",
       "    <tr>\n",
       "      <td>1</td>\n",
       "      <td>11787</td>\n",
       "      <td>REILLY'S</td>\n",
       "      <td>100 WORLD WAY # 120</td>\n",
       "      <td>False</td>\n",
       "      <td>Restaurant</td>\n",
       "      <td>9</td>\n",
       "    </tr>\n",
       "    <tr>\n",
       "      <td>2</td>\n",
       "      <td>11788</td>\n",
       "      <td>STREET CHURROS</td>\n",
       "      <td>6801 HOLLYWOOD BLVD # 253</td>\n",
       "      <td>False</td>\n",
       "      <td>Fast Food</td>\n",
       "      <td>20</td>\n",
       "    </tr>\n",
       "    <tr>\n",
       "      <td>3</td>\n",
       "      <td>11789</td>\n",
       "      <td>TRINITI ECHO PARK</td>\n",
       "      <td>1814 W SUNSET BLVD</td>\n",
       "      <td>False</td>\n",
       "      <td>Restaurant</td>\n",
       "      <td>22</td>\n",
       "    </tr>\n",
       "    <tr>\n",
       "      <td>4</td>\n",
       "      <td>11790</td>\n",
       "      <td>POLLEN</td>\n",
       "      <td>2100 ECHO PARK AVE</td>\n",
       "      <td>False</td>\n",
       "      <td>Restaurant</td>\n",
       "      <td>20</td>\n",
       "    </tr>\n",
       "    <tr>\n",
       "      <td>5</td>\n",
       "      <td>11791</td>\n",
       "      <td>THE SPOT GRILL</td>\n",
       "      <td>10004 NATIONAL BLVD</td>\n",
       "      <td>False</td>\n",
       "      <td>Restaurant</td>\n",
       "      <td>14</td>\n",
       "    </tr>\n",
       "    <tr>\n",
       "      <td>6</td>\n",
       "      <td>11792</td>\n",
       "      <td>CPK</td>\n",
       "      <td>100 WORLD WAY # 126</td>\n",
       "      <td>False</td>\n",
       "      <td>Restaurant</td>\n",
       "      <td>100</td>\n",
       "    </tr>\n",
       "    <tr>\n",
       "      <td>7</td>\n",
       "      <td>11793</td>\n",
       "      <td>PHO LALA</td>\n",
       "      <td>3500 W 6TH ST STE 226</td>\n",
       "      <td>False</td>\n",
       "      <td>Restaurant</td>\n",
       "      <td>7</td>\n",
       "    </tr>\n",
       "    <tr>\n",
       "      <td>8</td>\n",
       "      <td>11794</td>\n",
       "      <td>ABC DONUTS</td>\n",
       "      <td>3027 N SAN FERNANDO RD UNIT 103</td>\n",
       "      <td>True</td>\n",
       "      <td>Fast Food</td>\n",
       "      <td>1</td>\n",
       "    </tr>\n",
       "    <tr>\n",
       "      <td>9</td>\n",
       "      <td>11795</td>\n",
       "      <td>UPSTAIRS</td>\n",
       "      <td>3707 N CAHUENGA BLVD</td>\n",
       "      <td>False</td>\n",
       "      <td>Restaurant</td>\n",
       "      <td>35</td>\n",
       "    </tr>\n",
       "  </tbody>\n",
       "</table>\n",
       "</div>"
      ],
      "text/plain": [
       "      id          object_name                          address  chain object_type  number\n",
       "0  11786  HABITAT COFFEE SHOP           3708 N EAGLE ROCK BLVD  False        Cafe      26\n",
       "1  11787             REILLY'S              100 WORLD WAY # 120  False  Restaurant       9\n",
       "2  11788       STREET CHURROS        6801 HOLLYWOOD BLVD # 253  False   Fast Food      20\n",
       "3  11789    TRINITI ECHO PARK               1814 W SUNSET BLVD  False  Restaurant      22\n",
       "4  11790               POLLEN               2100 ECHO PARK AVE  False  Restaurant      20\n",
       "5  11791       THE SPOT GRILL              10004 NATIONAL BLVD  False  Restaurant      14\n",
       "6  11792                  CPK              100 WORLD WAY # 126  False  Restaurant     100\n",
       "7  11793             PHO LALA            3500 W 6TH ST STE 226  False  Restaurant       7\n",
       "8  11794           ABC DONUTS  3027 N SAN FERNANDO RD UNIT 103   True   Fast Food       1\n",
       "9  11795             UPSTAIRS             3707 N CAHUENGA BLVD  False  Restaurant      35"
      ]
     },
     "metadata": {},
     "output_type": "display_data"
    }
   ],
   "source": [
    "df_data = pd.read_csv('/datasets/rest_data_us.csv')\n",
    "\n",
    "# study general information \n",
    "df_data.info()\n",
    "#displaying first 10 rows\n",
    "\n",
    "pd.set_option('display.max_columns', 100)\n",
    "pd.set_option('display.width', 1000)\n",
    "\n",
    "display(df_data.head(10))"
   ]
  },
  {
   "cell_type": "markdown",
   "metadata": {},
   "source": [
    "the Data description on restaurants in LA\n",
    "df_data table:\n",
    "1. object_name — establishment name\n",
    "2. chain — chain establishment (TRUE/FALSE)\n",
    "3. object_type — establishment type\n",
    "4. address — address\n",
    "5. number — number of seats\n",
    "<br>\n",
    "we imported all the necessary files .it can be seen that we can preprocess the data by cleaning the adress column,as some of the address does not contain any street name or street number we can seperate them "
   ]
  },
  {
   "cell_type": "markdown",
   "metadata": {},
   "source": [
    "<font color='green'><h3>Preprocess the data<a class=\"anchor\" id=\"sh1.1\"></a></h3></font>"
   ]
  },
  {
   "cell_type": "code",
   "execution_count": 4,
   "metadata": {},
   "outputs": [],
   "source": [
    "# cleaning the address column \n",
    "def cleaning_check(raw):\n",
    "    raw_address=usaddress.parse(raw)\n",
    "    dict_address={}\n",
    "    for i in raw_address:\n",
    "        dict_address.update({i[1]:i[0]})\n",
    "    #this line below checks for normal case with street and number    \n",
    "    if 'StreetName' in dict_address.keys() and 'AddressNumber' in dict_address.keys():\n",
    "        clean_adress=dict_address['AddressNumber']+\",\"+str(dict_address['StreetName'])\n",
    "        return clean_adress\n",
    "    else:\n",
    "        return 'no street or number'\n"
   ]
  },
  {
   "cell_type": "code",
   "execution_count": 5,
   "metadata": {},
   "outputs": [],
   "source": [
    "df_data['clean_street_check']=df_data.address.apply(cleaning_check)"
   ]
  },
  {
   "cell_type": "code",
   "execution_count": 6,
   "metadata": {},
   "outputs": [
    {
     "data": {
      "text/html": [
       "<div>\n",
       "<style scoped>\n",
       "    .dataframe tbody tr th:only-of-type {\n",
       "        vertical-align: middle;\n",
       "    }\n",
       "\n",
       "    .dataframe tbody tr th {\n",
       "        vertical-align: top;\n",
       "    }\n",
       "\n",
       "    .dataframe thead th {\n",
       "        text-align: right;\n",
       "    }\n",
       "</style>\n",
       "<table border=\"1\" class=\"dataframe\">\n",
       "  <thead>\n",
       "    <tr style=\"text-align: right;\">\n",
       "      <th></th>\n",
       "      <th>id</th>\n",
       "      <th>object_name</th>\n",
       "      <th>address</th>\n",
       "      <th>chain</th>\n",
       "      <th>object_type</th>\n",
       "      <th>number</th>\n",
       "      <th>clean_street_check</th>\n",
       "    </tr>\n",
       "  </thead>\n",
       "  <tbody>\n",
       "    <tr>\n",
       "      <td>0</td>\n",
       "      <td>11786</td>\n",
       "      <td>HABITAT COFFEE SHOP</td>\n",
       "      <td>3708 N EAGLE ROCK BLVD</td>\n",
       "      <td>False</td>\n",
       "      <td>Cafe</td>\n",
       "      <td>26</td>\n",
       "      <td>3708,ROCK</td>\n",
       "    </tr>\n",
       "    <tr>\n",
       "      <td>1</td>\n",
       "      <td>11787</td>\n",
       "      <td>REILLY'S</td>\n",
       "      <td>100 WORLD WAY # 120</td>\n",
       "      <td>False</td>\n",
       "      <td>Restaurant</td>\n",
       "      <td>9</td>\n",
       "      <td>100,WORLD</td>\n",
       "    </tr>\n",
       "    <tr>\n",
       "      <td>2</td>\n",
       "      <td>11788</td>\n",
       "      <td>STREET CHURROS</td>\n",
       "      <td>6801 HOLLYWOOD BLVD # 253</td>\n",
       "      <td>False</td>\n",
       "      <td>Fast Food</td>\n",
       "      <td>20</td>\n",
       "      <td>6801,HOLLYWOOD</td>\n",
       "    </tr>\n",
       "    <tr>\n",
       "      <td>3</td>\n",
       "      <td>11789</td>\n",
       "      <td>TRINITI ECHO PARK</td>\n",
       "      <td>1814 W SUNSET BLVD</td>\n",
       "      <td>False</td>\n",
       "      <td>Restaurant</td>\n",
       "      <td>22</td>\n",
       "      <td>1814,SUNSET</td>\n",
       "    </tr>\n",
       "    <tr>\n",
       "      <td>4</td>\n",
       "      <td>11790</td>\n",
       "      <td>POLLEN</td>\n",
       "      <td>2100 ECHO PARK AVE</td>\n",
       "      <td>False</td>\n",
       "      <td>Restaurant</td>\n",
       "      <td>20</td>\n",
       "      <td>2100,PARK</td>\n",
       "    </tr>\n",
       "    <tr>\n",
       "      <td>...</td>\n",
       "      <td>...</td>\n",
       "      <td>...</td>\n",
       "      <td>...</td>\n",
       "      <td>...</td>\n",
       "      <td>...</td>\n",
       "      <td>...</td>\n",
       "      <td>...</td>\n",
       "    </tr>\n",
       "    <tr>\n",
       "      <td>9646</td>\n",
       "      <td>21432</td>\n",
       "      <td>HALL OF JUSTICE</td>\n",
       "      <td>217 W TEMPLE AVE</td>\n",
       "      <td>False</td>\n",
       "      <td>Restaurant</td>\n",
       "      <td>122</td>\n",
       "      <td>217,TEMPLE</td>\n",
       "    </tr>\n",
       "    <tr>\n",
       "      <td>9647</td>\n",
       "      <td>21433</td>\n",
       "      <td>FIN-MELROSE</td>\n",
       "      <td>5750 MELROSE AVE</td>\n",
       "      <td>False</td>\n",
       "      <td>Restaurant</td>\n",
       "      <td>93</td>\n",
       "      <td>5750,MELROSE</td>\n",
       "    </tr>\n",
       "    <tr>\n",
       "      <td>9648</td>\n",
       "      <td>21434</td>\n",
       "      <td>JUICY WINGZ</td>\n",
       "      <td>6741 HOLLYWOOD BLVD</td>\n",
       "      <td>True</td>\n",
       "      <td>Fast Food</td>\n",
       "      <td>15</td>\n",
       "      <td>6741,HOLLYWOOD</td>\n",
       "    </tr>\n",
       "    <tr>\n",
       "      <td>9649</td>\n",
       "      <td>21435</td>\n",
       "      <td>MEDIDATE COFFEE</td>\n",
       "      <td>548 S SPRING ST STE 100</td>\n",
       "      <td>False</td>\n",
       "      <td>Cafe</td>\n",
       "      <td>6</td>\n",
       "      <td>548,SPRING</td>\n",
       "    </tr>\n",
       "    <tr>\n",
       "      <td>9650</td>\n",
       "      <td>21436</td>\n",
       "      <td>CAFE SPROUTS</td>\n",
       "      <td>1300 S SAN PEDRO ST STE 111</td>\n",
       "      <td>True</td>\n",
       "      <td>Restaurant</td>\n",
       "      <td>19</td>\n",
       "      <td>1300,PEDRO</td>\n",
       "    </tr>\n",
       "  </tbody>\n",
       "</table>\n",
       "<p>9651 rows × 7 columns</p>\n",
       "</div>"
      ],
      "text/plain": [
       "         id          object_name                      address  chain object_type  number clean_street_check\n",
       "0     11786  HABITAT COFFEE SHOP       3708 N EAGLE ROCK BLVD  False        Cafe      26          3708,ROCK\n",
       "1     11787             REILLY'S          100 WORLD WAY # 120  False  Restaurant       9          100,WORLD\n",
       "2     11788       STREET CHURROS    6801 HOLLYWOOD BLVD # 253  False   Fast Food      20     6801,HOLLYWOOD\n",
       "3     11789    TRINITI ECHO PARK           1814 W SUNSET BLVD  False  Restaurant      22        1814,SUNSET\n",
       "4     11790               POLLEN           2100 ECHO PARK AVE  False  Restaurant      20          2100,PARK\n",
       "...     ...                  ...                          ...    ...         ...     ...                ...\n",
       "9646  21432      HALL OF JUSTICE             217 W TEMPLE AVE  False  Restaurant     122         217,TEMPLE\n",
       "9647  21433          FIN-MELROSE             5750 MELROSE AVE  False  Restaurant      93       5750,MELROSE\n",
       "9648  21434          JUICY WINGZ          6741 HOLLYWOOD BLVD   True   Fast Food      15     6741,HOLLYWOOD\n",
       "9649  21435      MEDIDATE COFFEE      548 S SPRING ST STE 100  False        Cafe       6         548,SPRING\n",
       "9650  21436         CAFE SPROUTS  1300 S SAN PEDRO ST STE 111   True  Restaurant      19         1300,PEDRO\n",
       "\n",
       "[9651 rows x 7 columns]"
      ]
     },
     "execution_count": 6,
     "metadata": {},
     "output_type": "execute_result"
    }
   ],
   "source": [
    "df_data"
   ]
  },
  {
   "cell_type": "code",
   "execution_count": 7,
   "metadata": {},
   "outputs": [
    {
     "data": {
      "text/html": [
       "<div>\n",
       "<style scoped>\n",
       "    .dataframe tbody tr th:only-of-type {\n",
       "        vertical-align: middle;\n",
       "    }\n",
       "\n",
       "    .dataframe tbody tr th {\n",
       "        vertical-align: top;\n",
       "    }\n",
       "\n",
       "    .dataframe thead th {\n",
       "        text-align: right;\n",
       "    }\n",
       "</style>\n",
       "<table border=\"1\" class=\"dataframe\">\n",
       "  <thead>\n",
       "    <tr style=\"text-align: right;\">\n",
       "      <th></th>\n",
       "      <th>id</th>\n",
       "      <th>object_name</th>\n",
       "      <th>address</th>\n",
       "      <th>chain</th>\n",
       "      <th>object_type</th>\n",
       "      <th>number</th>\n",
       "      <th>clean_street_check</th>\n",
       "    </tr>\n",
       "  </thead>\n",
       "  <tbody>\n",
       "    <tr>\n",
       "      <td>1888</td>\n",
       "      <td>13674</td>\n",
       "      <td>MAGDALENO DEBBIE</td>\n",
       "      <td>OLVERA ST E17</td>\n",
       "      <td>False</td>\n",
       "      <td>Restaurant</td>\n",
       "      <td>15</td>\n",
       "      <td>no street or number</td>\n",
       "    </tr>\n",
       "    <tr>\n",
       "      <td>3719</td>\n",
       "      <td>15505</td>\n",
       "      <td>LAS ANITAS</td>\n",
       "      <td>OLVERA ST 26</td>\n",
       "      <td>False</td>\n",
       "      <td>Restaurant</td>\n",
       "      <td>38</td>\n",
       "      <td>no street or number</td>\n",
       "    </tr>\n",
       "    <tr>\n",
       "      <td>7003</td>\n",
       "      <td>18789</td>\n",
       "      <td>D.K. DONUTS</td>\n",
       "      <td>1033 1/2 LOS ANGELES ST</td>\n",
       "      <td>False</td>\n",
       "      <td>Fast Food</td>\n",
       "      <td>8</td>\n",
       "      <td>no street or number</td>\n",
       "    </tr>\n",
       "    <tr>\n",
       "      <td>7281</td>\n",
       "      <td>19067</td>\n",
       "      <td>CIELITO LINDO</td>\n",
       "      <td>OLVERA ST 23</td>\n",
       "      <td>False</td>\n",
       "      <td>Restaurant</td>\n",
       "      <td>2</td>\n",
       "      <td>no street or number</td>\n",
       "    </tr>\n",
       "    <tr>\n",
       "      <td>7319</td>\n",
       "      <td>19105</td>\n",
       "      <td>JUANITA'S CAFE</td>\n",
       "      <td>OLVERA ST 20</td>\n",
       "      <td>False</td>\n",
       "      <td>Restaurant</td>\n",
       "      <td>12</td>\n",
       "      <td>no street or number</td>\n",
       "    </tr>\n",
       "    <tr>\n",
       "      <td>7321</td>\n",
       "      <td>19107</td>\n",
       "      <td>KITTY'S SNOW CONES</td>\n",
       "      <td>OLVERA ST 2</td>\n",
       "      <td>False</td>\n",
       "      <td>Restaurant</td>\n",
       "      <td>11</td>\n",
       "      <td>no street or number</td>\n",
       "    </tr>\n",
       "    <tr>\n",
       "      <td>7327</td>\n",
       "      <td>19113</td>\n",
       "      <td>LA NOCHE BUENA</td>\n",
       "      <td>OLVERA ST E8</td>\n",
       "      <td>False</td>\n",
       "      <td>Restaurant</td>\n",
       "      <td>1</td>\n",
       "      <td>no street or number</td>\n",
       "    </tr>\n",
       "    <tr>\n",
       "      <td>7438</td>\n",
       "      <td>19224</td>\n",
       "      <td>LA GOLONDRINA</td>\n",
       "      <td>OLVERA ST W17</td>\n",
       "      <td>False</td>\n",
       "      <td>Restaurant</td>\n",
       "      <td>204</td>\n",
       "      <td>no street or number</td>\n",
       "    </tr>\n",
       "    <tr>\n",
       "      <td>7741</td>\n",
       "      <td>19527</td>\n",
       "      <td>RODOLFO'S RESTAURANT</td>\n",
       "      <td>OLVERA ST 5</td>\n",
       "      <td>True</td>\n",
       "      <td>Restaurant</td>\n",
       "      <td>4</td>\n",
       "      <td>no street or number</td>\n",
       "    </tr>\n",
       "  </tbody>\n",
       "</table>\n",
       "</div>"
      ],
      "text/plain": [
       "         id           object_name                  address  chain object_type  number   clean_street_check\n",
       "1888  13674      MAGDALENO DEBBIE            OLVERA ST E17  False  Restaurant      15  no street or number\n",
       "3719  15505            LAS ANITAS             OLVERA ST 26  False  Restaurant      38  no street or number\n",
       "7003  18789           D.K. DONUTS  1033 1/2 LOS ANGELES ST  False   Fast Food       8  no street or number\n",
       "7281  19067         CIELITO LINDO             OLVERA ST 23  False  Restaurant       2  no street or number\n",
       "7319  19105        JUANITA'S CAFE             OLVERA ST 20  False  Restaurant      12  no street or number\n",
       "7321  19107    KITTY'S SNOW CONES              OLVERA ST 2  False  Restaurant      11  no street or number\n",
       "7327  19113        LA NOCHE BUENA             OLVERA ST E8  False  Restaurant       1  no street or number\n",
       "7438  19224         LA GOLONDRINA            OLVERA ST W17  False  Restaurant     204  no street or number\n",
       "7741  19527  RODOLFO'S RESTAURANT              OLVERA ST 5   True  Restaurant       4  no street or number"
      ]
     },
     "execution_count": 7,
     "metadata": {},
     "output_type": "execute_result"
    }
   ],
   "source": [
    "#now we have to clean the rows with \"no street number\"\n",
    "df_data[df_data['clean_street_check']=='no street or number']"
   ]
  },
  {
   "cell_type": "code",
   "execution_count": 8,
   "metadata": {},
   "outputs": [
    {
     "data": {
      "text/plain": [
       "[('OLVERA', 'PlaceName'), ('ST', 'StateName'), ('E17', 'ZipCode')]"
      ]
     },
     "execution_count": 8,
     "metadata": {},
     "output_type": "execute_result"
    }
   ],
   "source": [
    "usaddress.parse(df_data.iloc[1888]['address'])"
   ]
  },
  {
   "cell_type": "code",
   "execution_count": 9,
   "metadata": {},
   "outputs": [],
   "source": [
    "# final cleaning of the remaining rows\n",
    "def cleaning_final(raw):\n",
    "    if raw.startswith('OLVERA'):\n",
    "        clean_adress='OLVERA,Los Angeles,USA'\n",
    "    elif raw.startswith('1033 1/2 LOS ANGELES'):\n",
    "        clean_adress='1033 1/2 LOS ANGELES ST,Los Angeles,USA'\n",
    "    else:\n",
    "        raw_address=usaddress.parse(raw)\n",
    "        dict_address={}\n",
    "        for i in raw_address:\n",
    "            dict_address.update({i[1]:i[0]})\n",
    "        clean_adress=dict_address['AddressNumber']+\" \"+str(dict_address['StreetName'])+str(', Los Angeles,USA')\n",
    "    return clean_adress"
   ]
  },
  {
   "cell_type": "code",
   "execution_count": 10,
   "metadata": {},
   "outputs": [
    {
     "data": {
      "text/html": [
       "<div>\n",
       "<style scoped>\n",
       "    .dataframe tbody tr th:only-of-type {\n",
       "        vertical-align: middle;\n",
       "    }\n",
       "\n",
       "    .dataframe tbody tr th {\n",
       "        vertical-align: top;\n",
       "    }\n",
       "\n",
       "    .dataframe thead th {\n",
       "        text-align: right;\n",
       "    }\n",
       "</style>\n",
       "<table border=\"1\" class=\"dataframe\">\n",
       "  <thead>\n",
       "    <tr style=\"text-align: right;\">\n",
       "      <th></th>\n",
       "      <th>id</th>\n",
       "      <th>object_name</th>\n",
       "      <th>address</th>\n",
       "      <th>chain</th>\n",
       "      <th>object_type</th>\n",
       "      <th>number</th>\n",
       "      <th>clean_street_check</th>\n",
       "      <th>clean_street_final</th>\n",
       "    </tr>\n",
       "  </thead>\n",
       "  <tbody>\n",
       "    <tr>\n",
       "      <td>4364</td>\n",
       "      <td>16150</td>\n",
       "      <td>CALIFORNIA PIZZA KITCHEN #</td>\n",
       "      <td>735 S FIGUEROA ST STE #305</td>\n",
       "      <td>True</td>\n",
       "      <td>Pizza</td>\n",
       "      <td>168</td>\n",
       "      <td>735,FIGUEROA</td>\n",
       "      <td>735 FIGUEROA, Los Angeles,USA</td>\n",
       "    </tr>\n",
       "    <tr>\n",
       "      <td>6980</td>\n",
       "      <td>18766</td>\n",
       "      <td>ALAMEDA STRIP</td>\n",
       "      <td>4209 S ALAMEDA ST</td>\n",
       "      <td>False</td>\n",
       "      <td>Restaurant</td>\n",
       "      <td>133</td>\n",
       "      <td>4209,ALAMEDA</td>\n",
       "      <td>4209 ALAMEDA, Los Angeles,USA</td>\n",
       "    </tr>\n",
       "    <tr>\n",
       "      <td>7952</td>\n",
       "      <td>19738</td>\n",
       "      <td>EL GRAN BURRITO RESTAURANT</td>\n",
       "      <td>4722 SANTA MONICA BLVD</td>\n",
       "      <td>True</td>\n",
       "      <td>Restaurant</td>\n",
       "      <td>25</td>\n",
       "      <td>4722,MONICA</td>\n",
       "      <td>4722 MONICA, Los Angeles,USA</td>\n",
       "    </tr>\n",
       "    <tr>\n",
       "      <td>8246</td>\n",
       "      <td>20032</td>\n",
       "      <td>CARRILLO'S RESTAURANT</td>\n",
       "      <td>254 W FLORENCE AVE</td>\n",
       "      <td>True</td>\n",
       "      <td>Restaurant</td>\n",
       "      <td>22</td>\n",
       "      <td>254,FLORENCE</td>\n",
       "      <td>254 FLORENCE, Los Angeles,USA</td>\n",
       "    </tr>\n",
       "    <tr>\n",
       "      <td>550</td>\n",
       "      <td>12336</td>\n",
       "      <td>SUBWAY #26578</td>\n",
       "      <td>1139 S HILL ST STE 110</td>\n",
       "      <td>True</td>\n",
       "      <td>Fast Food</td>\n",
       "      <td>9</td>\n",
       "      <td>1139,HILL</td>\n",
       "      <td>1139 HILL, Los Angeles,USA</td>\n",
       "    </tr>\n",
       "    <tr>\n",
       "      <td>5117</td>\n",
       "      <td>16903</td>\n",
       "      <td>MOM'S TAMALES</td>\n",
       "      <td>3328 PASADENA AVE</td>\n",
       "      <td>True</td>\n",
       "      <td>Restaurant</td>\n",
       "      <td>39</td>\n",
       "      <td>3328,PASADENA</td>\n",
       "      <td>3328 PASADENA, Los Angeles,USA</td>\n",
       "    </tr>\n",
       "    <tr>\n",
       "      <td>5095</td>\n",
       "      <td>16881</td>\n",
       "      <td>JACK IN THE BOX #250</td>\n",
       "      <td>2701 E CESAR E CHAVEZ AVE</td>\n",
       "      <td>True</td>\n",
       "      <td>Restaurant</td>\n",
       "      <td>38</td>\n",
       "      <td>2701,CHAVEZ</td>\n",
       "      <td>2701 CHAVEZ, Los Angeles,USA</td>\n",
       "    </tr>\n",
       "    <tr>\n",
       "      <td>2621</td>\n",
       "      <td>14407</td>\n",
       "      <td>PINKBERRY</td>\n",
       "      <td>2829 HYPERION AVE</td>\n",
       "      <td>True</td>\n",
       "      <td>Restaurant</td>\n",
       "      <td>17</td>\n",
       "      <td>2829,HYPERION</td>\n",
       "      <td>2829 HYPERION, Los Angeles,USA</td>\n",
       "    </tr>\n",
       "    <tr>\n",
       "      <td>5760</td>\n",
       "      <td>17546</td>\n",
       "      <td>SOUK SHAWARMA</td>\n",
       "      <td>1111 WILSHIRE BLVD # 104</td>\n",
       "      <td>False</td>\n",
       "      <td>Restaurant</td>\n",
       "      <td>11</td>\n",
       "      <td>1111,WILSHIRE</td>\n",
       "      <td>1111 WILSHIRE, Los Angeles,USA</td>\n",
       "    </tr>\n",
       "    <tr>\n",
       "      <td>1911</td>\n",
       "      <td>13697</td>\n",
       "      <td>EL COMPITA</td>\n",
       "      <td>4477 W PICO BLVD</td>\n",
       "      <td>False</td>\n",
       "      <td>Restaurant</td>\n",
       "      <td>13</td>\n",
       "      <td>4477,PICO</td>\n",
       "      <td>4477 PICO, Los Angeles,USA</td>\n",
       "    </tr>\n",
       "  </tbody>\n",
       "</table>\n",
       "</div>"
      ],
      "text/plain": [
       "         id                 object_name                     address  chain object_type  number clean_street_check              clean_street_final\n",
       "4364  16150  CALIFORNIA PIZZA KITCHEN #  735 S FIGUEROA ST STE #305   True       Pizza     168       735,FIGUEROA   735 FIGUEROA, Los Angeles,USA\n",
       "6980  18766               ALAMEDA STRIP           4209 S ALAMEDA ST  False  Restaurant     133       4209,ALAMEDA   4209 ALAMEDA, Los Angeles,USA\n",
       "7952  19738  EL GRAN BURRITO RESTAURANT      4722 SANTA MONICA BLVD   True  Restaurant      25        4722,MONICA    4722 MONICA, Los Angeles,USA\n",
       "8246  20032       CARRILLO'S RESTAURANT          254 W FLORENCE AVE   True  Restaurant      22       254,FLORENCE   254 FLORENCE, Los Angeles,USA\n",
       "550   12336               SUBWAY #26578      1139 S HILL ST STE 110   True   Fast Food       9          1139,HILL      1139 HILL, Los Angeles,USA\n",
       "5117  16903               MOM'S TAMALES           3328 PASADENA AVE   True  Restaurant      39      3328,PASADENA  3328 PASADENA, Los Angeles,USA\n",
       "5095  16881        JACK IN THE BOX #250   2701 E CESAR E CHAVEZ AVE   True  Restaurant      38        2701,CHAVEZ    2701 CHAVEZ, Los Angeles,USA\n",
       "2621  14407                   PINKBERRY           2829 HYPERION AVE   True  Restaurant      17      2829,HYPERION  2829 HYPERION, Los Angeles,USA\n",
       "5760  17546               SOUK SHAWARMA    1111 WILSHIRE BLVD # 104  False  Restaurant      11      1111,WILSHIRE  1111 WILSHIRE, Los Angeles,USA\n",
       "1911  13697                  EL COMPITA            4477 W PICO BLVD  False  Restaurant      13          4477,PICO      4477 PICO, Los Angeles,USA"
      ]
     },
     "execution_count": 10,
     "metadata": {},
     "output_type": "execute_result"
    }
   ],
   "source": [
    "df_data['clean_street_final']=df_data.address.apply(cleaning_final)\n",
    "df_data.sample(10)"
   ]
  },
  {
   "cell_type": "code",
   "execution_count": 11,
   "metadata": {},
   "outputs": [
    {
     "data": {
      "text/plain": [
       "False    9651\n",
       "dtype: int64"
      ]
     },
     "execution_count": 11,
     "metadata": {},
     "output_type": "execute_result"
    }
   ],
   "source": [
    "df_data.duplicated().value_counts()"
   ]
  },
  {
   "cell_type": "code",
   "execution_count": 12,
   "metadata": {},
   "outputs": [],
   "source": [
    "#cleaning of names \n",
    "def cleanNames(name):\n",
    "    name = name\n",
    "\n",
    "    # if # symbol in name, split it to remove numbers\n",
    "    if '#' in name:\n",
    "        name = name.split('#')[0].strip()\n",
    "    \n",
    "    # if - symbol in name, split it to remove numbers\n",
    "    if '-' in name:\n",
    "        tmp = name.split('-')\n",
    "\n",
    "        if tmp[1].isdecimal():\n",
    "            name = tmp[0].strip()\n",
    "    \n",
    "    return name"
   ]
  },
  {
   "cell_type": "code",
   "execution_count": 13,
   "metadata": {},
   "outputs": [],
   "source": [
    "df_data['name'] = df_data.object_name.apply(cleanNames)"
   ]
  },
  {
   "cell_type": "code",
   "execution_count": 14,
   "metadata": {},
   "outputs": [
    {
     "data": {
      "text/html": [
       "<div>\n",
       "<style scoped>\n",
       "    .dataframe tbody tr th:only-of-type {\n",
       "        vertical-align: middle;\n",
       "    }\n",
       "\n",
       "    .dataframe tbody tr th {\n",
       "        vertical-align: top;\n",
       "    }\n",
       "\n",
       "    .dataframe thead th {\n",
       "        text-align: right;\n",
       "    }\n",
       "</style>\n",
       "<table border=\"1\" class=\"dataframe\">\n",
       "  <thead>\n",
       "    <tr style=\"text-align: right;\">\n",
       "      <th></th>\n",
       "      <th>id</th>\n",
       "      <th>object_name</th>\n",
       "      <th>address</th>\n",
       "      <th>chain</th>\n",
       "      <th>object_type</th>\n",
       "      <th>number</th>\n",
       "      <th>clean_street_check</th>\n",
       "      <th>clean_street_final</th>\n",
       "      <th>name</th>\n",
       "    </tr>\n",
       "  </thead>\n",
       "  <tbody>\n",
       "    <tr>\n",
       "      <td>0</td>\n",
       "      <td>11786</td>\n",
       "      <td>HABITAT COFFEE SHOP</td>\n",
       "      <td>3708 N EAGLE ROCK BLVD</td>\n",
       "      <td>False</td>\n",
       "      <td>Cafe</td>\n",
       "      <td>26</td>\n",
       "      <td>3708,ROCK</td>\n",
       "      <td>3708 ROCK, Los Angeles,USA</td>\n",
       "      <td>HABITAT COFFEE SHOP</td>\n",
       "    </tr>\n",
       "    <tr>\n",
       "      <td>1</td>\n",
       "      <td>11787</td>\n",
       "      <td>REILLY'S</td>\n",
       "      <td>100 WORLD WAY # 120</td>\n",
       "      <td>False</td>\n",
       "      <td>Restaurant</td>\n",
       "      <td>9</td>\n",
       "      <td>100,WORLD</td>\n",
       "      <td>100 WORLD, Los Angeles,USA</td>\n",
       "      <td>REILLY'S</td>\n",
       "    </tr>\n",
       "    <tr>\n",
       "      <td>2</td>\n",
       "      <td>11788</td>\n",
       "      <td>STREET CHURROS</td>\n",
       "      <td>6801 HOLLYWOOD BLVD # 253</td>\n",
       "      <td>False</td>\n",
       "      <td>Fast Food</td>\n",
       "      <td>20</td>\n",
       "      <td>6801,HOLLYWOOD</td>\n",
       "      <td>6801 HOLLYWOOD, Los Angeles,USA</td>\n",
       "      <td>STREET CHURROS</td>\n",
       "    </tr>\n",
       "    <tr>\n",
       "      <td>3</td>\n",
       "      <td>11789</td>\n",
       "      <td>TRINITI ECHO PARK</td>\n",
       "      <td>1814 W SUNSET BLVD</td>\n",
       "      <td>False</td>\n",
       "      <td>Restaurant</td>\n",
       "      <td>22</td>\n",
       "      <td>1814,SUNSET</td>\n",
       "      <td>1814 SUNSET, Los Angeles,USA</td>\n",
       "      <td>TRINITI ECHO PARK</td>\n",
       "    </tr>\n",
       "    <tr>\n",
       "      <td>4</td>\n",
       "      <td>11790</td>\n",
       "      <td>POLLEN</td>\n",
       "      <td>2100 ECHO PARK AVE</td>\n",
       "      <td>False</td>\n",
       "      <td>Restaurant</td>\n",
       "      <td>20</td>\n",
       "      <td>2100,PARK</td>\n",
       "      <td>2100 PARK, Los Angeles,USA</td>\n",
       "      <td>POLLEN</td>\n",
       "    </tr>\n",
       "    <tr>\n",
       "      <td>...</td>\n",
       "      <td>...</td>\n",
       "      <td>...</td>\n",
       "      <td>...</td>\n",
       "      <td>...</td>\n",
       "      <td>...</td>\n",
       "      <td>...</td>\n",
       "      <td>...</td>\n",
       "      <td>...</td>\n",
       "      <td>...</td>\n",
       "    </tr>\n",
       "    <tr>\n",
       "      <td>9646</td>\n",
       "      <td>21432</td>\n",
       "      <td>HALL OF JUSTICE</td>\n",
       "      <td>217 W TEMPLE AVE</td>\n",
       "      <td>False</td>\n",
       "      <td>Restaurant</td>\n",
       "      <td>122</td>\n",
       "      <td>217,TEMPLE</td>\n",
       "      <td>217 TEMPLE, Los Angeles,USA</td>\n",
       "      <td>HALL OF JUSTICE</td>\n",
       "    </tr>\n",
       "    <tr>\n",
       "      <td>9647</td>\n",
       "      <td>21433</td>\n",
       "      <td>FIN-MELROSE</td>\n",
       "      <td>5750 MELROSE AVE</td>\n",
       "      <td>False</td>\n",
       "      <td>Restaurant</td>\n",
       "      <td>93</td>\n",
       "      <td>5750,MELROSE</td>\n",
       "      <td>5750 MELROSE, Los Angeles,USA</td>\n",
       "      <td>FIN-MELROSE</td>\n",
       "    </tr>\n",
       "    <tr>\n",
       "      <td>9648</td>\n",
       "      <td>21434</td>\n",
       "      <td>JUICY WINGZ</td>\n",
       "      <td>6741 HOLLYWOOD BLVD</td>\n",
       "      <td>True</td>\n",
       "      <td>Fast Food</td>\n",
       "      <td>15</td>\n",
       "      <td>6741,HOLLYWOOD</td>\n",
       "      <td>6741 HOLLYWOOD, Los Angeles,USA</td>\n",
       "      <td>JUICY WINGZ</td>\n",
       "    </tr>\n",
       "    <tr>\n",
       "      <td>9649</td>\n",
       "      <td>21435</td>\n",
       "      <td>MEDIDATE COFFEE</td>\n",
       "      <td>548 S SPRING ST STE 100</td>\n",
       "      <td>False</td>\n",
       "      <td>Cafe</td>\n",
       "      <td>6</td>\n",
       "      <td>548,SPRING</td>\n",
       "      <td>548 SPRING, Los Angeles,USA</td>\n",
       "      <td>MEDIDATE COFFEE</td>\n",
       "    </tr>\n",
       "    <tr>\n",
       "      <td>9650</td>\n",
       "      <td>21436</td>\n",
       "      <td>CAFE SPROUTS</td>\n",
       "      <td>1300 S SAN PEDRO ST STE 111</td>\n",
       "      <td>True</td>\n",
       "      <td>Restaurant</td>\n",
       "      <td>19</td>\n",
       "      <td>1300,PEDRO</td>\n",
       "      <td>1300 PEDRO, Los Angeles,USA</td>\n",
       "      <td>CAFE SPROUTS</td>\n",
       "    </tr>\n",
       "  </tbody>\n",
       "</table>\n",
       "<p>9651 rows × 9 columns</p>\n",
       "</div>"
      ],
      "text/plain": [
       "         id          object_name                      address  chain object_type  number clean_street_check               clean_street_final                 name\n",
       "0     11786  HABITAT COFFEE SHOP       3708 N EAGLE ROCK BLVD  False        Cafe      26          3708,ROCK       3708 ROCK, Los Angeles,USA  HABITAT COFFEE SHOP\n",
       "1     11787             REILLY'S          100 WORLD WAY # 120  False  Restaurant       9          100,WORLD       100 WORLD, Los Angeles,USA             REILLY'S\n",
       "2     11788       STREET CHURROS    6801 HOLLYWOOD BLVD # 253  False   Fast Food      20     6801,HOLLYWOOD  6801 HOLLYWOOD, Los Angeles,USA       STREET CHURROS\n",
       "3     11789    TRINITI ECHO PARK           1814 W SUNSET BLVD  False  Restaurant      22        1814,SUNSET     1814 SUNSET, Los Angeles,USA    TRINITI ECHO PARK\n",
       "4     11790               POLLEN           2100 ECHO PARK AVE  False  Restaurant      20          2100,PARK       2100 PARK, Los Angeles,USA               POLLEN\n",
       "...     ...                  ...                          ...    ...         ...     ...                ...                              ...                  ...\n",
       "9646  21432      HALL OF JUSTICE             217 W TEMPLE AVE  False  Restaurant     122         217,TEMPLE      217 TEMPLE, Los Angeles,USA      HALL OF JUSTICE\n",
       "9647  21433          FIN-MELROSE             5750 MELROSE AVE  False  Restaurant      93       5750,MELROSE    5750 MELROSE, Los Angeles,USA          FIN-MELROSE\n",
       "9648  21434          JUICY WINGZ          6741 HOLLYWOOD BLVD   True   Fast Food      15     6741,HOLLYWOOD  6741 HOLLYWOOD, Los Angeles,USA          JUICY WINGZ\n",
       "9649  21435      MEDIDATE COFFEE      548 S SPRING ST STE 100  False        Cafe       6         548,SPRING      548 SPRING, Los Angeles,USA      MEDIDATE COFFEE\n",
       "9650  21436         CAFE SPROUTS  1300 S SAN PEDRO ST STE 111   True  Restaurant      19         1300,PEDRO      1300 PEDRO, Los Angeles,USA         CAFE SPROUTS\n",
       "\n",
       "[9651 rows x 9 columns]"
      ]
     },
     "execution_count": 14,
     "metadata": {},
     "output_type": "execute_result"
    }
   ],
   "source": [
    "df_data"
   ]
  },
  {
   "cell_type": "markdown",
   "metadata": {},
   "source": [
    "while looking into data details ,we have preprocessed the name and address column \n",
    "1. cleaning the address column ,we imported the address library to complete the process of cleaning and then created function cleaning_check which will still contain rows which does not have street number or name \n",
    "2. we created another function cleaning_final before that we checked out the rows ,as what they have in common .\n",
    "3.then we created another function for cleaning name s where names contain # and - spaces between them ."
   ]
  },
  {
   "cell_type": "markdown",
   "metadata": {},
   "source": [
    "<font color='green'><h2> Data analysis<a class=\"anchor\" id=\"h2\"></a></h2></font>"
   ]
  },
  {
   "cell_type": "markdown",
   "metadata": {},
   "source": [
    "<font color='green'><h3>Investigate the proportions of the various types of establishments. Plot a graph.<a class=\"anchor\" id=\"sh2.1\"></a></h3></font>"
   ]
  },
  {
   "cell_type": "code",
   "execution_count": 15,
   "metadata": {},
   "outputs": [
    {
     "data": {
      "image/png": "[encoded data removed]",
      "text/plain": [
       "<Figure size 720x360 with 1 Axes>"
      ]
     },
     "metadata": {},
     "output_type": "display_data"
    }
   ],
   "source": [
    "#calculating the proportions of various types by value count \n",
    "df_proportion = df_data['object_type'].value_counts().rename_axis('type').reset_index(name='count')\n",
    "df_proportion\n",
    "#plotting piechart for various types of establishment\n",
    "plt.figure(figsize=(10, 5))\n",
    "plt.pie(df_proportion['count'], labels=df_proportion['type'],autopct='%0.f%%', shadow=True, startangle=65)\n",
    "plt.title('Types of Establishments')\n",
    "plt.show()\n",
    "\n"
   ]
  },
  {
   "cell_type": "markdown",
   "metadata": {},
   "source": [
    " while Investigating the proportions of the various types of establishments.it can be seen that resturants count more than other establishments while bakery and bar at the lowest .the percentage of resturants chain is higher as it counts to 75% while fastfood is 11% and the other establishments are near to 5 or 3%"
   ]
  },
  {
   "cell_type": "markdown",
   "metadata": {},
   "source": [
    "<font color='green'><h3>Investigate the proportions of chain and nonchain establishments. Plot a graph.<a class=\"anchor\" id=\"sh2.2\"></a></h3></font>"
   ]
  },
  {
   "cell_type": "code",
   "execution_count": 16,
   "metadata": {},
   "outputs": [
    {
     "data": {
      "image/png": "[encoded data removed]",
      "text/plain": [
       "<Figure size 432x288 with 1 Axes>"
      ]
     },
     "metadata": {},
     "output_type": "display_data"
    }
   ],
   "source": [
    "df_chain = df_data['chain'].value_counts().rename_axis('chain').reset_index(name='count')\n",
    "\n",
    "# plot pie chart with proportions\n",
    "plt.pie(df_chain['count'], labels=df_chain['chain'],autopct='%0.f%%', shadow=True, startangle=145)\n",
    "plt.title('Chain vs Non-Chain Establishments')\n",
    "plt.show()"
   ]
  },
  {
   "cell_type": "markdown",
   "metadata": {},
   "source": [
    "while investigating chain ,non-chain proportions .we calculated by calculating true and false in the columns .it can be seen that 38% of establishments are related with chain and 62% with non-chain.As,non chain dominates the chain by 24% of proportion."
   ]
  },
  {
   "cell_type": "markdown",
   "metadata": {},
   "source": [
    "<font color='green'><h3>Which type of establishment is typically a chain?<a class=\"anchor\" id=\"sh2.3\"></a></h3></font>"
   ]
  },
  {
   "cell_type": "code",
   "execution_count": 17,
   "metadata": {},
   "outputs": [
    {
     "data": {
      "image/png": "[encoded data removed]",
      "text/plain": [
       "<Figure size 720x504 with 1 Axes>"
      ]
     },
     "metadata": {
      "needs_background": "light"
     },
     "output_type": "display_data"
    }
   ],
   "source": [
    "# only using the chain data\n",
    "df_chaindata = df_data[df_data['chain'] == True]\n",
    "\n",
    "# counting the types of establishments\n",
    "df_chaindata = pd.pivot_table(df_chaindata,index=['chain','object_type'], values=['id'], aggfunc='count').reset_index()\n",
    "df_chaindata.columns = ['chain', 'type', 'count']\n",
    "df_chaindata = df_chaindata.sort_values(by='count', ascending=False)\n",
    "\n",
    "# calculating total establishment \n",
    "df_testablishment = df_data['object_type'].value_counts().rename_axis('type').reset_index(name='total')\n",
    "\n",
    "# using merge to join \n",
    "df_merge = pd.merge(df_chaindata, df_testablishment, how='inner', on='type')\n",
    "df_merge['ratio'] = df_merge['count'] / df_merge['total'] * 100\n",
    "\n",
    "# plot bar graph\n",
    "plt.figure(figsize=(10, 7))\n",
    "\n",
    "ax = sns.barplot(data = df_merge.sort_values('type', ascending=False), \n",
    "                 x='type', \n",
    "                 y='ratio')\n"
   ]
  },
  {
   "cell_type": "markdown",
   "metadata": {},
   "source": [
    "which type of establishment is typically a chain can be seen in the barplot .it shows bakery is all part of a chain with a ratio of 100%, cafe and fast food establishments are more than 50%.pizza is nearby to 50%.restaurants ,pizza and bar are less than 50% of proportion"
   ]
  },
  {
   "cell_type": "markdown",
   "metadata": {},
   "source": [
    "<font color='green'><h3>What characterizes chains: many establishments with a small number of seats or a few establishments with a lot of seats?<a class=\"anchor\" id=\"sh2.4\"></a></h3></font>"
   ]
  },
  {
   "cell_type": "code",
   "execution_count": 18,
   "metadata": {},
   "outputs": [
    {
     "data": {
      "image/png": "[encoded data removed]",
      "text/plain": [
       "<Figure size 432x432 with 3 Axes>"
      ]
     },
     "metadata": {
      "needs_background": "light"
     },
     "output_type": "display_data"
    }
   ],
   "source": [
    "# using chain data with number of seats\n",
    "df_chaindata = df_data[df_data['chain'] == True]\n",
    "df_chaindata  = pd.pivot_table(df_chaindata , index=['number'], values=['id'], aggfunc=['count']).reset_index()\n",
    "df_chaindata.columns = ['total_seats','count']\n",
    "df_chaindata  = df_chaindata.sort_values(by='count', ascending=False)\n",
    "\n",
    "# plot joint plot\n",
    "\n",
    "p = sns.jointplot(x=\"total_seats\", y=\"count\", data=df_chaindata,kind='reg', color='#FC5404')\n",
    "\n",
    "plt.xlabel('TOTAL NUMBER OF SEATS ')\n",
    "plt.ylabel('ESTABLISHMENTS')\n",
    "p.fig.suptitle('RELATION BETWEEN SEATS AND ESTABLISHMENTS')\n",
    "p.fig.tight_layout()\n",
    "p.fig.subplots_adjust(top=0.95) \n",
    "plt.show()"
   ]
  },
  {
   "cell_type": "markdown",
   "metadata": {},
   "source": [
    "The joint plot above shows the correlation between the number of seats and the number of establishments. In general, most of the establishments have 50 or less seats, while less of the establishments have 50 or more seats. "
   ]
  },
  {
   "cell_type": "markdown",
   "metadata": {},
   "source": [
    "<font color='green'><h3>Determine the average number of seats for each type of restaurant. On average, which type of restaurant has the greatest number of seats? Plot graphs.<a class=\"anchor\" id=\"sh2.5\"></a></h3></font>"
   ]
  },
  {
   "cell_type": "code",
   "execution_count": 19,
   "metadata": {},
   "outputs": [
    {
     "data": {
      "image/png": "[encoded data removed]",
      "text/plain": [
       "<Figure size 432x288 with 1 Axes>"
      ]
     },
     "metadata": {
      "needs_background": "light"
     },
     "output_type": "display_data"
    }
   ],
   "source": [
    "#calculating average seats \n",
    "df_avg  = pd.pivot_table(df_data , index=['object_type'], values=['number'], aggfunc=['mean']).reset_index()\n",
    "df_avg.columns = ['Establishment','SEATS']\n",
    "df_avg  = df_avg.sort_values(by='SEATS', ascending=False)\n",
    "ax = sns.barplot(data = df_avg, \n",
    "                 x='Establishment', \n",
    "                 y='SEATS')\n",
    "\n",
    "# Add titles and captions\n",
    "plt.xlabel('Type of Establishment')\n",
    "plt.ylabel('Average Number of Seats')\n",
    "plt.title('Average Number of Seats per Establishment')\n",
    "for p in ax.patches:\n",
    "    ax.annotate(format(p.get_height(), '.2f'), \n",
    "                xy=(p.get_x() + p.get_width() / 2., p.get_height()), \n",
    "                ha = 'center', \n",
    "                va = 'center', \n",
    "                xytext = (0, 10), \n",
    "                textcoords = 'offset points')\n",
    "\n",
    "plt.show()"
   ]
  },
  {
   "cell_type": "markdown",
   "metadata": {},
   "source": [
    "The above graph shows the average number of seats for each type of establishment. On average, restaurants have the greatest amount of seats almost 50 seats,while bar is nearby to 45.The lowest is for the bakery which is between 20 to 30.\n",
    "1. restuarants have the highest number of seats as by 48.4 \n",
    "2. bar has 44.77\n",
    "3. fastfood is having average of 31.84\n",
    "4. pizza by 28.64\n",
    "5. cafe have the average seats of 25 \n",
    "6. the bakery is having average of 21.77 which is the lowest in the establishment."
   ]
  },
  {
   "cell_type": "markdown",
   "metadata": {},
   "source": [
    "<font color='green'><h3>Put the data on street names from the address column in a separate column.<a class=\"anchor\" id=\"sh2.6\"></a></h3></font>"
   ]
  },
  {
   "cell_type": "code",
   "execution_count": 20,
   "metadata": {},
   "outputs": [
    {
     "data": {
      "text/html": [
       "<div>\n",
       "<style scoped>\n",
       "    .dataframe tbody tr th:only-of-type {\n",
       "        vertical-align: middle;\n",
       "    }\n",
       "\n",
       "    .dataframe tbody tr th {\n",
       "        vertical-align: top;\n",
       "    }\n",
       "\n",
       "    .dataframe thead th {\n",
       "        text-align: right;\n",
       "    }\n",
       "</style>\n",
       "<table border=\"1\" class=\"dataframe\">\n",
       "  <thead>\n",
       "    <tr style=\"text-align: right;\">\n",
       "      <th></th>\n",
       "      <th>id</th>\n",
       "      <th>object_name</th>\n",
       "      <th>address</th>\n",
       "      <th>chain</th>\n",
       "      <th>object_type</th>\n",
       "      <th>number</th>\n",
       "      <th>clean_street_check</th>\n",
       "      <th>clean_street_final</th>\n",
       "      <th>name</th>\n",
       "      <th>street_names</th>\n",
       "    </tr>\n",
       "  </thead>\n",
       "  <tbody>\n",
       "    <tr>\n",
       "      <td>0</td>\n",
       "      <td>11786</td>\n",
       "      <td>HABITAT COFFEE SHOP</td>\n",
       "      <td>3708 N EAGLE ROCK BLVD</td>\n",
       "      <td>False</td>\n",
       "      <td>Cafe</td>\n",
       "      <td>26</td>\n",
       "      <td>3708,ROCK</td>\n",
       "      <td>3708 ROCK, Los Angeles,USA</td>\n",
       "      <td>HABITAT COFFEE SHOP</td>\n",
       "      <td>ROCK</td>\n",
       "    </tr>\n",
       "    <tr>\n",
       "      <td>1</td>\n",
       "      <td>11787</td>\n",
       "      <td>REILLY'S</td>\n",
       "      <td>100 WORLD WAY # 120</td>\n",
       "      <td>False</td>\n",
       "      <td>Restaurant</td>\n",
       "      <td>9</td>\n",
       "      <td>100,WORLD</td>\n",
       "      <td>100 WORLD, Los Angeles,USA</td>\n",
       "      <td>REILLY'S</td>\n",
       "      <td>WORLD</td>\n",
       "    </tr>\n",
       "    <tr>\n",
       "      <td>2</td>\n",
       "      <td>11788</td>\n",
       "      <td>STREET CHURROS</td>\n",
       "      <td>6801 HOLLYWOOD BLVD # 253</td>\n",
       "      <td>False</td>\n",
       "      <td>Fast Food</td>\n",
       "      <td>20</td>\n",
       "      <td>6801,HOLLYWOOD</td>\n",
       "      <td>6801 HOLLYWOOD, Los Angeles,USA</td>\n",
       "      <td>STREET CHURROS</td>\n",
       "      <td>HOLLYWOOD</td>\n",
       "    </tr>\n",
       "    <tr>\n",
       "      <td>3</td>\n",
       "      <td>11789</td>\n",
       "      <td>TRINITI ECHO PARK</td>\n",
       "      <td>1814 W SUNSET BLVD</td>\n",
       "      <td>False</td>\n",
       "      <td>Restaurant</td>\n",
       "      <td>22</td>\n",
       "      <td>1814,SUNSET</td>\n",
       "      <td>1814 SUNSET, Los Angeles,USA</td>\n",
       "      <td>TRINITI ECHO PARK</td>\n",
       "      <td>SUNSET</td>\n",
       "    </tr>\n",
       "    <tr>\n",
       "      <td>4</td>\n",
       "      <td>11790</td>\n",
       "      <td>POLLEN</td>\n",
       "      <td>2100 ECHO PARK AVE</td>\n",
       "      <td>False</td>\n",
       "      <td>Restaurant</td>\n",
       "      <td>20</td>\n",
       "      <td>2100,PARK</td>\n",
       "      <td>2100 PARK, Los Angeles,USA</td>\n",
       "      <td>POLLEN</td>\n",
       "      <td>PARK</td>\n",
       "    </tr>\n",
       "    <tr>\n",
       "      <td>...</td>\n",
       "      <td>...</td>\n",
       "      <td>...</td>\n",
       "      <td>...</td>\n",
       "      <td>...</td>\n",
       "      <td>...</td>\n",
       "      <td>...</td>\n",
       "      <td>...</td>\n",
       "      <td>...</td>\n",
       "      <td>...</td>\n",
       "      <td>...</td>\n",
       "    </tr>\n",
       "    <tr>\n",
       "      <td>9646</td>\n",
       "      <td>21432</td>\n",
       "      <td>HALL OF JUSTICE</td>\n",
       "      <td>217 W TEMPLE AVE</td>\n",
       "      <td>False</td>\n",
       "      <td>Restaurant</td>\n",
       "      <td>122</td>\n",
       "      <td>217,TEMPLE</td>\n",
       "      <td>217 TEMPLE, Los Angeles,USA</td>\n",
       "      <td>HALL OF JUSTICE</td>\n",
       "      <td>TEMPLE</td>\n",
       "    </tr>\n",
       "    <tr>\n",
       "      <td>9647</td>\n",
       "      <td>21433</td>\n",
       "      <td>FIN-MELROSE</td>\n",
       "      <td>5750 MELROSE AVE</td>\n",
       "      <td>False</td>\n",
       "      <td>Restaurant</td>\n",
       "      <td>93</td>\n",
       "      <td>5750,MELROSE</td>\n",
       "      <td>5750 MELROSE, Los Angeles,USA</td>\n",
       "      <td>FIN-MELROSE</td>\n",
       "      <td>MELROSE</td>\n",
       "    </tr>\n",
       "    <tr>\n",
       "      <td>9648</td>\n",
       "      <td>21434</td>\n",
       "      <td>JUICY WINGZ</td>\n",
       "      <td>6741 HOLLYWOOD BLVD</td>\n",
       "      <td>True</td>\n",
       "      <td>Fast Food</td>\n",
       "      <td>15</td>\n",
       "      <td>6741,HOLLYWOOD</td>\n",
       "      <td>6741 HOLLYWOOD, Los Angeles,USA</td>\n",
       "      <td>JUICY WINGZ</td>\n",
       "      <td>HOLLYWOOD</td>\n",
       "    </tr>\n",
       "    <tr>\n",
       "      <td>9649</td>\n",
       "      <td>21435</td>\n",
       "      <td>MEDIDATE COFFEE</td>\n",
       "      <td>548 S SPRING ST STE 100</td>\n",
       "      <td>False</td>\n",
       "      <td>Cafe</td>\n",
       "      <td>6</td>\n",
       "      <td>548,SPRING</td>\n",
       "      <td>548 SPRING, Los Angeles,USA</td>\n",
       "      <td>MEDIDATE COFFEE</td>\n",
       "      <td>SPRING</td>\n",
       "    </tr>\n",
       "    <tr>\n",
       "      <td>9650</td>\n",
       "      <td>21436</td>\n",
       "      <td>CAFE SPROUTS</td>\n",
       "      <td>1300 S SAN PEDRO ST STE 111</td>\n",
       "      <td>True</td>\n",
       "      <td>Restaurant</td>\n",
       "      <td>19</td>\n",
       "      <td>1300,PEDRO</td>\n",
       "      <td>1300 PEDRO, Los Angeles,USA</td>\n",
       "      <td>CAFE SPROUTS</td>\n",
       "      <td>PEDRO</td>\n",
       "    </tr>\n",
       "  </tbody>\n",
       "</table>\n",
       "<p>9651 rows × 10 columns</p>\n",
       "</div>"
      ],
      "text/plain": [
       "         id          object_name                      address  chain object_type  number clean_street_check               clean_street_final                 name street_names\n",
       "0     11786  HABITAT COFFEE SHOP       3708 N EAGLE ROCK BLVD  False        Cafe      26          3708,ROCK       3708 ROCK, Los Angeles,USA  HABITAT COFFEE SHOP         ROCK\n",
       "1     11787             REILLY'S          100 WORLD WAY # 120  False  Restaurant       9          100,WORLD       100 WORLD, Los Angeles,USA             REILLY'S        WORLD\n",
       "2     11788       STREET CHURROS    6801 HOLLYWOOD BLVD # 253  False   Fast Food      20     6801,HOLLYWOOD  6801 HOLLYWOOD, Los Angeles,USA       STREET CHURROS    HOLLYWOOD\n",
       "3     11789    TRINITI ECHO PARK           1814 W SUNSET BLVD  False  Restaurant      22        1814,SUNSET     1814 SUNSET, Los Angeles,USA    TRINITI ECHO PARK       SUNSET\n",
       "4     11790               POLLEN           2100 ECHO PARK AVE  False  Restaurant      20          2100,PARK       2100 PARK, Los Angeles,USA               POLLEN         PARK\n",
       "...     ...                  ...                          ...    ...         ...     ...                ...                              ...                  ...          ...\n",
       "9646  21432      HALL OF JUSTICE             217 W TEMPLE AVE  False  Restaurant     122         217,TEMPLE      217 TEMPLE, Los Angeles,USA      HALL OF JUSTICE       TEMPLE\n",
       "9647  21433          FIN-MELROSE             5750 MELROSE AVE  False  Restaurant      93       5750,MELROSE    5750 MELROSE, Los Angeles,USA          FIN-MELROSE      MELROSE\n",
       "9648  21434          JUICY WINGZ          6741 HOLLYWOOD BLVD   True   Fast Food      15     6741,HOLLYWOOD  6741 HOLLYWOOD, Los Angeles,USA          JUICY WINGZ    HOLLYWOOD\n",
       "9649  21435      MEDIDATE COFFEE      548 S SPRING ST STE 100  False        Cafe       6         548,SPRING      548 SPRING, Los Angeles,USA      MEDIDATE COFFEE       SPRING\n",
       "9650  21436         CAFE SPROUTS  1300 S SAN PEDRO ST STE 111   True  Restaurant      19         1300,PEDRO      1300 PEDRO, Los Angeles,USA         CAFE SPROUTS        PEDRO\n",
       "\n",
       "[9651 rows x 10 columns]"
      ]
     },
     "execution_count": 20,
     "metadata": {},
     "output_type": "execute_result"
    }
   ],
   "source": [
    "#using regex method to calculate the street name from adress column\n",
    "df_data['street_names']= df_data.clean_street_final.str.extract(r\"(?P<CleanName> \\w{2,}[a-zA-Z ]+)\")\n",
    "df_data"
   ]
  },
  {
   "cell_type": "markdown",
   "metadata": {},
   "source": [
    "<font color='green'><h3>Plot a graph of the top ten streets by number of restaurants.<a class=\"anchor\" id=\"sh2.7\"></a></h3></font>"
   ]
  },
  {
   "cell_type": "code",
   "execution_count": 21,
   "metadata": {},
   "outputs": [
    {
     "data": {
      "image/png": "[encoded data removed]",
      "text/plain": [
       "<Figure size 720x504 with 1 Axes>"
      ]
     },
     "metadata": {
      "needs_background": "light"
     },
     "output_type": "display_data"
    }
   ],
   "source": [
    "#calculating top 10 streets by count values \n",
    "df_street = pd.pivot_table(df_data, index=['street_names'], values=['id'], aggfunc=['count']).reset_index()\n",
    "df_street.columns = ['street','count']\n",
    "df_street1 = df_street.sort_values(by='count', ascending=False).head(10)\n",
    "\n",
    "\n",
    "plt.figure(figsize=(10, 7))\n",
    "\n",
    "ax = sns.barplot(data = df_street1, \n",
    "                 x='street', \n",
    "                 y='count')\n",
    "\n",
    "\n",
    "plt.xlabel('Most Popular Streets')\n",
    "plt.ylabel('Number of Establishments')\n",
    "plt.title('Number of Establishments per Most Popular Streets')\n",
    "for p in ax.patches:\n",
    "    ax.annotate(format(p.get_height(), '.2f'), \n",
    "                xy=(p.get_x() + p.get_width() / 2., p.get_height()), \n",
    "                ha = 'center', \n",
    "                va = 'center', \n",
    "                xytext = (0, 10), \n",
    "                textcoords = 'offset points')\n",
    "\n",
    "plt.xticks(rotation=90)\n",
    "plt.show()"
   ]
  },
  {
   "cell_type": "markdown",
   "metadata": {},
   "source": [
    "the bar graph shows the top ten streets by number of restaurants.the top one is the sunset blvd then pico blvd .The last ones are wilshire blvd and beverly blvd.sunset have the highest number of establishment nearly to 404 then wilshire is with 398 establishments.the 9th and 10th streets are with 263 and 253 ,which are of 3rd and hollywood respectively.maybe thesestreets are nearby to hub area and crowded places for people to come easily to enjoy there leisure time."
   ]
  },
  {
   "cell_type": "markdown",
   "metadata": {},
   "source": [
    "<font color='green'><h3>Find the number of streets that only have one restaurant.<a class=\"anchor\" id=\"sh2.8\"></a></h3></font>"
   ]
  },
  {
   "cell_type": "code",
   "execution_count": 22,
   "metadata": {},
   "outputs": [
    {
     "data": {
      "text/html": [
       "<div>\n",
       "<style scoped>\n",
       "    .dataframe tbody tr th:only-of-type {\n",
       "        vertical-align: middle;\n",
       "    }\n",
       "\n",
       "    .dataframe tbody tr th {\n",
       "        vertical-align: top;\n",
       "    }\n",
       "\n",
       "    .dataframe thead th {\n",
       "        text-align: right;\n",
       "    }\n",
       "</style>\n",
       "<table border=\"1\" class=\"dataframe\">\n",
       "  <thead>\n",
       "    <tr style=\"text-align: right;\">\n",
       "      <th></th>\n",
       "      <th>street</th>\n",
       "      <th>count</th>\n",
       "    </tr>\n",
       "  </thead>\n",
       "  <tbody>\n",
       "    <tr>\n",
       "      <td>1</td>\n",
       "      <td>10TH</td>\n",
       "      <td>1</td>\n",
       "    </tr>\n",
       "    <tr>\n",
       "      <td>3</td>\n",
       "      <td>11th</td>\n",
       "      <td>1</td>\n",
       "    </tr>\n",
       "    <tr>\n",
       "      <td>7</td>\n",
       "      <td>16TH</td>\n",
       "      <td>1</td>\n",
       "    </tr>\n",
       "    <tr>\n",
       "      <td>8</td>\n",
       "      <td>17TH</td>\n",
       "      <td>1</td>\n",
       "    </tr>\n",
       "    <tr>\n",
       "      <td>9</td>\n",
       "      <td>18TH</td>\n",
       "      <td>1</td>\n",
       "    </tr>\n",
       "    <tr>\n",
       "      <td>...</td>\n",
       "      <td>...</td>\n",
       "      <td>...</td>\n",
       "    </tr>\n",
       "    <tr>\n",
       "      <td>437</td>\n",
       "      <td>ZOO</td>\n",
       "      <td>1</td>\n",
       "    </tr>\n",
       "    <tr>\n",
       "      <td>438</td>\n",
       "      <td>hollywood</td>\n",
       "      <td>1</td>\n",
       "    </tr>\n",
       "    <tr>\n",
       "      <td>439</td>\n",
       "      <td>pico</td>\n",
       "      <td>1</td>\n",
       "    </tr>\n",
       "    <tr>\n",
       "      <td>440</td>\n",
       "      <td>sunset</td>\n",
       "      <td>1</td>\n",
       "    </tr>\n",
       "    <tr>\n",
       "      <td>441</td>\n",
       "      <td>vine</td>\n",
       "      <td>1</td>\n",
       "    </tr>\n",
       "  </tbody>\n",
       "</table>\n",
       "<p>174 rows × 2 columns</p>\n",
       "</div>"
      ],
      "text/plain": [
       "         street  count\n",
       "1          10TH      1\n",
       "3          11th      1\n",
       "7          16TH      1\n",
       "8          17TH      1\n",
       "9          18TH      1\n",
       "..          ...    ...\n",
       "437         ZOO      1\n",
       "438   hollywood      1\n",
       "439        pico      1\n",
       "440      sunset      1\n",
       "441        vine      1\n",
       "\n",
       "[174 rows x 2 columns]"
      ]
     },
     "execution_count": 22,
     "metadata": {},
     "output_type": "execute_result"
    }
   ],
   "source": [
    "df_street2 = df_street[df_street['count'] == 1]\n",
    "#num_street = len(df_street2)\n",
    "#num_street\n",
    "df_street2"
   ]
  },
  {
   "cell_type": "markdown",
   "metadata": {},
   "source": [
    "hence there are 174 number of streets that only have one restaurant.as we counted the streets with one resturant by placing the count value to 1.some streets like 10th ,11th 16th ,zoo,pico.these are small streets and are not that much crowded."
   ]
  },
  {
   "cell_type": "markdown",
   "metadata": {},
   "source": [
    "<font color='green'><h3>For streets with a lot of restaurants, look at the distribution of the number of seats. What trends can you see?<a class=\"anchor\" id=\"sh2.9\"></a></h3></font>"
   ]
  },
  {
   "cell_type": "code",
   "execution_count": 23,
   "metadata": {},
   "outputs": [
    {
     "data": {
      "image/png": "[encoded data removed]",
      "text/plain": [
       "<Figure size 432x288 with 1 Axes>"
      ]
     },
     "metadata": {
      "needs_background": "light"
     },
     "output_type": "display_data"
    }
   ],
   "source": [
    "# calculate avg number of restaurants per street, extract only those greater than avg\n",
    "avg_num = df_street['count'].mean().round()\n",
    "avg_street = df_street[df_street['count'] > avg_num]\n",
    "\n",
    "# plot distribution plot\n",
    "ax = sns.distplot(avg_street['count'])\n",
    "ax.set_title('Distribution of the Number of Seats')\n",
    "ax.set_xlabel('Number of Seats')\n",
    "ax.set_ylabel('Density of Streets')\n",
    "plt.show()"
   ]
  },
  {
   "cell_type": "markdown",
   "metadata": {},
   "source": [
    "For streets with a lot of restaurants,the distribution of seats show .most of the establishments have seats between less than 100 .The graphsshows most of the establishment have less than 60 and 70 seats ."
   ]
  },
  {
   "cell_type": "markdown",
   "metadata": {},
   "source": [
    "<font color='green'><h2> CONCLUSION<a class=\"anchor\" id=\"h3\"></a></h2></font>"
   ]
  },
  {
   "cell_type": "markdown",
   "metadata": {},
   "source": [
    "We have decided to open a small robot-run cafe in Los Angeles. The project is promising but expensive, so we have decided to try to attract investors. They’re interested in the current market conditions—will you be able to maintain the success when the novelty of robot waiters wears off.\n",
    "\n",
    "We’re an analytics guru, so we have been  asked you to prepare some market research. We have open-source data on restaurants in LA.\n",
    "1. first of all we have downloaded the data and prepared it for analysis : Download the data on restaurants in LA. Make sure that the data type for each column is correct and that there are no missing values or duplicates. File path: /datasets/rest_data_us.csv. Downloaded dataset\n",
    "2.the Data description on restaurants in LA df_data table:\n",
    "   1. object_name — establishment name\n",
    "   2. chain — chain establishment (TRUE/FALSE)\n",
    "   3. object_type — establishment type\n",
    "   4. address — address\n",
    "   5. number — number of seats\n",
    "we have imported all the necessary files .it can be seen that we can preprocess the data by cleaning the adress column,as some of the address does not contain any street name or street number we can seperate them\n",
    "3. Secondly while looking into data details ,we have preprocessed the name and address column ,cleaning the address column ,we imported the address library to complete the process of cleaning and then created function cleaning_check which will still contain rows which does not have street number or name, we created another function cleaning_final before that we checked out the rows ,as what they have in common .then we created another function for cleaning name s where names contain # and - spaces between them .\n",
    "4. thirdly we analyzed the data\n",
    "     1. while Investigating the proportions of the various types of establishments.it can be seen that resturants count more than other establishments while bakery and bar at the lowest .\n",
    "     2. while investigating chain ,non-chain proportions .we calculated by calculating true and false in the columns .it can be seen that 38% of establishments are related with chain and 62% with non-chain.\n",
    "     3. which type of establishment is typically a chain can be seen in the barplot .it shows bakery is all part of a chain with a ratio of 100%, cafe and fast food establishments are more than 50%.pizza is nearby to 50%.restaurants ,pizza and bar are less than 50% of proportion\n",
    "     4. The joint plot above shows the correlation between the number of seats and the number of establishments. In general, most of the establishments have 50 or less seats, while less of the establishments have 50 or more seats.\n",
    "     5. The above graph shows the average number of seats for each type of establishment. On average, restaurants have the greatest amount of seats almost 50 seats,while bar is nearby to 45.The lowest is for the bakery which is between 20 to 30.\n",
    "     6. the bar graph shows the top ten streets by number of restaurants.the top one is the sunset blvd then pico blvd .The last ones are wilshire blvd and beverly blvd.\n",
    "     7. For streets with a lot of restaurants,the distribution of seats show .most of the establishments have seats between less than 100 .The graphsshows most of the establishment have less than 60 and 70 seats .\n",
    "\n",
    "Overall it can be concluded that the most profitable and worthwhile food establishment to invest in would be either a restaurant or a bar with anywhere between 40-50 seats that is located on any one of those 10 most popular streets mentioned above.As, non chain dominates the market maybe we can start with non chain then after some time we can develop the chain establishment\n",
    "\n",
    "\n",
    "\n"
   ]
  },
  {
   "cell_type": "markdown",
   "metadata": {},
   "source": [
    "<font color='green'><h2> Part 4. Preparing a presentation : Make a presentation of your research to share with investors. You can use any tool you’d like to create it, but you must convert your presentation to PDF format for assessment. <a class=\"anchor\" id=\"h4\"></a></h2></font>"
   ]
  },
  {
   "cell_type": "markdown",
   "metadata": {},
   "source": [
    "Presentation: <https://drive.google.com/file/d/1pdEm6-MnNByOdMNaLwUR3ClGAc2G1QqD/view?usp=sharing>\n"
   ]
  }
 ],
 "metadata": {
  "ExecuteTimeLog": [
   {
    "duration": 5457,
    "start_time": "2021-06-08T14:57:09.165Z"
   },
   {
    "duration": 1454,
    "start_time": "2021-06-08T14:57:14.625Z"
   },
   {
    "duration": 55,
    "start_time": "2021-06-08T14:57:16.082Z"
   },
   {
    "duration": 5,
    "start_time": "2021-06-08T14:57:16.140Z"
   },
   {
    "duration": 2228,
    "start_time": "2021-06-08T14:57:16.147Z"
   },
   {
    "duration": 22,
    "start_time": "2021-06-08T14:57:18.377Z"
   },
   {
    "duration": 36,
    "start_time": "2021-06-08T14:57:18.401Z"
   },
   {
    "duration": 6,
    "start_time": "2021-06-08T14:57:18.440Z"
   },
   {
    "duration": 6,
    "start_time": "2021-06-08T14:57:18.449Z"
   },
   {
    "duration": 2334,
    "start_time": "2021-06-08T14:57:18.458Z"
   },
   {
    "duration": 32,
    "start_time": "2021-06-08T14:57:20.795Z"
   },
   {
    "duration": 6,
    "start_time": "2021-06-08T14:57:20.830Z"
   },
   {
    "duration": 18,
    "start_time": "2021-06-08T14:57:20.838Z"
   },
   {
    "duration": 29,
    "start_time": "2021-06-08T14:57:20.858Z"
   },
   {
    "duration": 409,
    "start_time": "2021-06-08T14:57:20.890Z"
   },
   {
    "duration": -2104,
    "start_time": "2021-06-08T14:57:23.405Z"
   },
   {
    "duration": -2107,
    "start_time": "2021-06-08T14:57:23.410Z"
   },
   {
    "duration": -2110,
    "start_time": "2021-06-08T14:57:23.414Z"
   },
   {
    "duration": -2112,
    "start_time": "2021-06-08T14:57:23.417Z"
   },
   {
    "duration": -2113,
    "start_time": "2021-06-08T14:57:23.420Z"
   },
   {
    "duration": -2115,
    "start_time": "2021-06-08T14:57:23.423Z"
   },
   {
    "duration": -2123,
    "start_time": "2021-06-08T14:57:23.432Z"
   },
   {
    "duration": -2124,
    "start_time": "2021-06-08T14:57:23.435Z"
   },
   {
    "duration": 6829,
    "start_time": "2021-06-08T14:57:48.546Z"
   },
   {
    "duration": 14,
    "start_time": "2021-06-08T14:58:33.505Z"
   },
   {
    "duration": 92,
    "start_time": "2021-06-08T14:59:23.913Z"
   },
   {
    "duration": 177,
    "start_time": "2021-06-08T14:59:31.384Z"
   },
   {
    "duration": 245,
    "start_time": "2021-06-08T15:01:07.824Z"
   },
   {
    "duration": 109,
    "start_time": "2021-06-08T15:02:09.033Z"
   },
   {
    "duration": 1593,
    "start_time": "2021-06-08T15:08:57.101Z"
   },
   {
    "duration": 1774,
    "start_time": "2021-06-08T15:09:11.584Z"
   },
   {
    "duration": 1921,
    "start_time": "2021-06-08T15:09:24.864Z"
   },
   {
    "duration": 1510,
    "start_time": "2021-06-08T15:09:35.043Z"
   },
   {
    "duration": 1939,
    "start_time": "2021-06-08T15:10:34.505Z"
   },
   {
    "duration": 2070,
    "start_time": "2021-06-08T15:10:45.244Z"
   },
   {
    "duration": 1966,
    "start_time": "2021-06-08T15:10:54.444Z"
   },
   {
    "duration": 1525,
    "start_time": "2021-06-08T15:11:54.912Z"
   },
   {
    "duration": 1632,
    "start_time": "2021-06-08T15:12:14.425Z"
   },
   {
    "duration": 1883,
    "start_time": "2021-06-08T15:13:18.065Z"
   },
   {
    "duration": 1738,
    "start_time": "2021-06-08T15:13:31.345Z"
   },
   {
    "duration": 1686,
    "start_time": "2021-06-08T15:13:41.005Z"
   },
   {
    "duration": 1649,
    "start_time": "2021-06-08T15:13:50.585Z"
   },
   {
    "duration": 1518,
    "start_time": "2021-06-08T15:14:18.825Z"
   },
   {
    "duration": 1723,
    "start_time": "2021-06-08T15:15:01.885Z"
   },
   {
    "duration": 2046,
    "start_time": "2021-06-08T15:15:30.225Z"
   },
   {
    "duration": 1969,
    "start_time": "2021-06-08T15:18:28.625Z"
   },
   {
    "duration": 1849,
    "start_time": "2021-06-08T15:20:03.084Z"
   },
   {
    "duration": 1783,
    "start_time": "2021-06-08T15:21:13.465Z"
   },
   {
    "duration": 1851,
    "start_time": "2021-06-08T15:21:34.265Z"
   },
   {
    "duration": 1558,
    "start_time": "2021-06-08T15:21:47.184Z"
   },
   {
    "duration": 1752,
    "start_time": "2021-06-08T15:22:29.985Z"
   },
   {
    "duration": 1789,
    "start_time": "2021-06-08T15:23:04.465Z"
   },
   {
    "duration": 272,
    "start_time": "2021-06-08T15:23:25.845Z"
   },
   {
    "duration": 288,
    "start_time": "2021-06-08T15:23:39.024Z"
   },
   {
    "duration": 291,
    "start_time": "2021-06-08T15:24:28.385Z"
   },
   {
    "duration": 45,
    "start_time": "2021-06-08T15:28:18.005Z"
   },
   {
    "duration": 471,
    "start_time": "2021-06-08T15:28:25.705Z"
   },
   {
    "duration": 8,
    "start_time": "2021-06-08T15:39:25.305Z"
   },
   {
    "duration": 15,
    "start_time": "2021-06-08T15:39:52.912Z"
   },
   {
    "duration": 14,
    "start_time": "2021-06-08T15:40:07.072Z"
   },
   {
    "duration": 125522,
    "start_time": "2021-06-09T13:52:44.418Z"
   },
   {
    "duration": 1381,
    "start_time": "2021-06-09T13:54:49.943Z"
   },
   {
    "duration": 54,
    "start_time": "2021-06-09T13:54:51.328Z"
   },
   {
    "duration": 6,
    "start_time": "2021-06-09T13:54:51.384Z"
   },
   {
    "duration": 2145,
    "start_time": "2021-06-09T13:54:51.392Z"
   },
   {
    "duration": 22,
    "start_time": "2021-06-09T13:54:53.539Z"
   },
   {
    "duration": 32,
    "start_time": "2021-06-09T13:54:53.563Z"
   },
   {
    "duration": 6,
    "start_time": "2021-06-09T13:54:53.599Z"
   },
   {
    "duration": 6,
    "start_time": "2021-06-09T13:54:53.608Z"
   },
   {
    "duration": 2170,
    "start_time": "2021-06-09T13:54:53.616Z"
   },
   {
    "duration": 22,
    "start_time": "2021-06-09T13:54:55.788Z"
   },
   {
    "duration": 5,
    "start_time": "2021-06-09T13:54:55.812Z"
   },
   {
    "duration": 16,
    "start_time": "2021-06-09T13:54:55.819Z"
   },
   {
    "duration": 63,
    "start_time": "2021-06-09T13:54:55.837Z"
   },
   {
    "duration": 212,
    "start_time": "2021-06-09T13:54:55.903Z"
   },
   {
    "duration": 123,
    "start_time": "2021-06-09T13:54:56.118Z"
   },
   {
    "duration": 447,
    "start_time": "2021-06-09T13:54:56.244Z"
   },
   {
    "duration": 1674,
    "start_time": "2021-06-09T13:54:56.693Z"
   },
   {
    "duration": 317,
    "start_time": "2021-06-09T13:54:58.369Z"
   },
   {
    "duration": 122,
    "start_time": "2021-06-09T13:54:58.688Z"
   },
   {
    "duration": 484,
    "start_time": "2021-06-09T13:54:58.813Z"
   },
   {
    "duration": 14,
    "start_time": "2021-06-09T13:54:59.300Z"
   },
   {
    "duration": 328,
    "start_time": "2021-06-09T13:54:59.318Z"
   },
   {
    "duration": 58884,
    "start_time": "2021-06-09T13:57:18.323Z"
   },
   {
    "duration": 1323,
    "start_time": "2021-06-09T13:58:17.210Z"
   },
   {
    "duration": 56,
    "start_time": "2021-06-09T13:58:18.536Z"
   },
   {
    "duration": 6,
    "start_time": "2021-06-09T13:58:18.594Z"
   },
   {
    "duration": 2113,
    "start_time": "2021-06-09T13:58:18.603Z"
   },
   {
    "duration": 23,
    "start_time": "2021-06-09T13:58:20.718Z"
   },
   {
    "duration": 43,
    "start_time": "2021-06-09T13:58:20.744Z"
   },
   {
    "duration": 6,
    "start_time": "2021-06-09T13:58:20.792Z"
   },
   {
    "duration": 8,
    "start_time": "2021-06-09T13:58:20.803Z"
   },
   {
    "duration": 2139,
    "start_time": "2021-06-09T13:58:20.814Z"
   },
   {
    "duration": 36,
    "start_time": "2021-06-09T13:58:22.956Z"
   },
   {
    "duration": 5,
    "start_time": "2021-06-09T13:58:23.003Z"
   },
   {
    "duration": 11,
    "start_time": "2021-06-09T13:58:23.011Z"
   },
   {
    "duration": 26,
    "start_time": "2021-06-09T13:58:23.024Z"
   },
   {
    "duration": 210,
    "start_time": "2021-06-09T13:58:23.052Z"
   },
   {
    "duration": 123,
    "start_time": "2021-06-09T13:58:23.264Z"
   },
   {
    "duration": 353,
    "start_time": "2021-06-09T13:58:23.389Z"
   },
   {
    "duration": 1700,
    "start_time": "2021-06-09T13:58:23.744Z"
   },
   {
    "duration": 298,
    "start_time": "2021-06-09T13:58:25.447Z"
   },
   {
    "duration": 115,
    "start_time": "2021-06-09T13:58:25.747Z"
   },
   {
    "duration": 504,
    "start_time": "2021-06-09T13:58:25.884Z"
   },
   {
    "duration": 14,
    "start_time": "2021-06-09T13:58:26.390Z"
   },
   {
    "duration": 333,
    "start_time": "2021-06-09T13:58:26.408Z"
   },
   {
    "duration": 288750,
    "start_time": "2021-06-11T08:40:04.416Z"
   },
   {
    "duration": 3196,
    "start_time": "2021-06-11T08:44:53.169Z"
   },
   {
    "duration": 192,
    "start_time": "2021-06-11T08:44:56.368Z"
   },
   {
    "duration": 5,
    "start_time": "2021-06-11T08:44:56.564Z"
   },
   {
    "duration": 3874,
    "start_time": "2021-06-11T08:44:56.625Z"
   },
   {
    "duration": 28,
    "start_time": "2021-06-11T08:45:00.501Z"
   },
   {
    "duration": 31,
    "start_time": "2021-06-11T08:45:00.535Z"
   },
   {
    "duration": 7,
    "start_time": "2021-06-11T08:45:00.570Z"
   },
   {
    "duration": 14,
    "start_time": "2021-06-11T08:45:00.580Z"
   },
   {
    "duration": 2571,
    "start_time": "2021-06-11T08:45:00.596Z"
   },
   {
    "duration": 22,
    "start_time": "2021-06-11T08:45:03.169Z"
   },
   {
    "duration": 5,
    "start_time": "2021-06-11T08:45:03.194Z"
   },
   {
    "duration": 48,
    "start_time": "2021-06-11T08:45:03.201Z"
   },
   {
    "duration": 36,
    "start_time": "2021-06-11T08:45:03.253Z"
   },
   {
    "duration": 220,
    "start_time": "2021-06-11T08:45:03.291Z"
   },
   {
    "duration": 143,
    "start_time": "2021-06-11T08:45:03.513Z"
   },
   {
    "duration": 409,
    "start_time": "2021-06-11T08:45:03.658Z"
   },
   {
    "duration": 1961,
    "start_time": "2021-06-11T08:45:04.069Z"
   },
   {
    "duration": 347,
    "start_time": "2021-06-11T08:45:06.033Z"
   },
   {
    "duration": 150,
    "start_time": "2021-06-11T08:45:06.383Z"
   },
   {
    "duration": 519,
    "start_time": "2021-06-11T08:45:06.540Z"
   },
   {
    "duration": 15,
    "start_time": "2021-06-11T08:45:07.061Z"
   },
   {
    "duration": 380,
    "start_time": "2021-06-11T08:45:07.080Z"
   }
  ],
  "kernelspec": {
   "display_name": "Python 3",
   "language": "python",
   "name": "python3"
  },
  "language_info": {
   "codemirror_mode": {
    "name": "ipython",
    "version": 3
   },
   "file_extension": ".py",
   "mimetype": "text/x-python",
   "name": "python",
   "nbconvert_exporter": "python",
   "pygments_lexer": "ipython3",
   "version": "3.8.5"
  },
  "toc": {
   "base_numbering": 1,
   "nav_menu": {},
   "number_sections": true,
   "sideBar": true,
   "skip_h1_title": true,
   "title_cell": "Table of Contents",
   "title_sidebar": "Contents",
   "toc_cell": false,
   "toc_position": {},
   "toc_section_display": true,
   "toc_window_display": false
  }
 },
 "nbformat": 4,
 "nbformat_minor": 2
}
