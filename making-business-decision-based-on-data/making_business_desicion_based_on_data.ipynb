{
 "cells": [
  {
   "cell_type": "markdown",
   "metadata": {},
   "source": [
    "# Project description:"
   ]
  },
  {
   "cell_type": "markdown",
   "metadata": {},
   "source": [
    "*We are an analyst at a big online store. Together with the marketing department, you've compiled a list of hypotheses that may help boost revenue.\n",
    "<br>\n",
    "<br>\n",
    "we need to prioritize these hypotheses, launch an A/B test, and analyze the results.*\n"
   ]
  },
  {
   "cell_type": "markdown",
   "metadata": {},
   "source": [
    "**Table of Contents**\n",
    "\n",
    "* [Part 1. Prioritizing Hypotheses : The file hypotheses_us.csv contains nine hypotheses on boosting an online store's revenue with Reach, Impact, Confidence, and Effort specified for each.](#h1)\n",
    "    * [1.1 Apply the ICE framework to prioritize hypotheses. Sort them in descending order of priority.](#sh1.1)\n",
    "    * [1.2 Apply the RICE framework to prioritize hypotheses. Sort them in descending order of priority.](#sh1.2)\n",
    "    * [1.3 Show how the prioritization of hypotheses changes when you use RICE instead of ICE. Provide an explanation for the changes.](#sh1.3)\n",
    "    \n",
    "* [Part 2. A/B Test Analysis : carried out an A/B test and got the results described in the files orders_us.csv and visits_us.csv.](#h2)\n",
    "    * [2.1 Graph cumulative revenue by group. Make conclusions and conjectures.](#sh2.1)\n",
    "    * [2.2 Graph cumulative average order size by group. Make conclusions and conjectures.](#sh2.2)\n",
    "    * [2.3 Graph the relative difference in cumulative average order size for group B compared with group A. Make conclusions and conjectures.](#sh2.3)\n",
    "    * [2.4 Calculate each group's conversion rate as the ratio of orders to the number of visits for each day. Plot the daily conversion rates of the two groups and describe the difference. Draw conclusions and make conjectures.](#sh2.4)\n",
    "    * [2.5 Plot a scatter chart of the number of orders per user. Make conclusions and conjectures.](#sh2.5)\n",
    "    * [2.6 Calculate the 95th and 99th percentiles for the number of orders per user. Define the point at which a data point becomes an anomaly.](#sh2.6)\n",
    "    * [2.7 Plot a scatter chart of order prices. Make conclusions and conjectures.](#sh2.7)\n",
    "    * [2.8 Calculate the 95th and 99th percentiles of order prices. Define the point at which a data point becomes an anomaly.](#sh2.8)\n",
    "    * [2.9 Find the statistical significance of the difference in conversion between the groups using the raw data. Make conclusions and conjectures.](#sh2.9)\n",
    "    * [2.10 Find the statistical significance of the difference in average order size between the groups using the raw data. Make conclusions and conjectures.](#sh2.10)\n",
    "    * [2.11 Find the statistical significance of the difference in conversion between the groups using the filtered data. Make conclusions and conjectures.](#sh2.11)\n",
    "    * [2.12 Find the statistical significance of the difference in average order size between the groups using the filtered data. Make conclusions and conjectures.](#sh2.12)\n",
    "    * [2.13 Make a decision based on the test results. The possible decisions are: 1. Stop the test, consider one of the groups the leader. 2. Stop the test, conclude that there is no difference between the groups. 3. Continue the test.](#sh2.13)\n",
    "          \n",
    "* [3. Conclusion](#h3)"
   ]
  },
  {
   "cell_type": "markdown",
   "metadata": {},
   "source": [
    "<font color='green'><h2> Step 1.  Prioritizing Hypotheses <a class=\"anchor\" id=\"h1\"></a></h2></font>\n",
    "\n",
    "The file hypotheses_us.csv contains nine hypotheses on boosting an online store's revenue with Reach, Impact, Confidence, and Effort specified for each."
   ]
  },
  {
   "cell_type": "code",
   "execution_count": 1,
   "metadata": {},
   "outputs": [],
   "source": [
    "#importing all the required files\n",
    "import pandas as pd\n",
    "import numpy as np\n",
    "import matplotlib as mpl\n",
    "import matplotlib.pyplot as plt\n",
    "import seaborn as sns\n",
    "from scipy import stats as st"
   ]
  },
  {
   "cell_type": "code",
   "execution_count": 2,
   "metadata": {},
   "outputs": [
    {
     "name": "stdout",
     "output_type": "stream",
     "text": [
      "<class 'pandas.core.frame.DataFrame'>\n",
      "RangeIndex: 9 entries, 0 to 8\n",
      "Data columns (total 5 columns):\n",
      "Hypothesis    9 non-null object\n",
      "Reach         9 non-null int64\n",
      "Impact        9 non-null int64\n",
      "Confidence    9 non-null int64\n",
      "Effort        9 non-null int64\n",
      "dtypes: int64(4), object(1)\n",
      "memory usage: 488.0+ bytes\n"
     ]
    }
   ],
   "source": [
    "hypotheses = pd.read_csv('/datasets/hypotheses_us.csv', sep=';')\n",
    "\n",
    "# study general information \n",
    "hypotheses.info()\n",
    "#displaying first 10 rows\n",
    "hypotheses.head(10)\n",
    "#reducing all the columns into lowercase\n",
    "hypotheses.columns = hypotheses.columns.str.replace(' ','_').str.lower()\n"
   ]
  },
  {
   "cell_type": "markdown",
   "metadata": {},
   "source": [
    "<font color='green'><h3>  Apply the ICE framework to prioritize hypotheses. Sort them in descending order of priority. <a class=\"anchor\" id=\"sh1.1\"></a></h3></font>\n",
    "\n",
    "Here we need to find Impact, confidence, effort/ease (ICE) is one of the most popular ways of prioritizing problems."
   ]
  },
  {
   "cell_type": "code",
   "execution_count": null,
   "metadata": {},
   "outputs": [],
   "source": [
    "# Calculated the ICE for the hypotheses. Added the values the existing table. Named the new column ICE. 'ICE' sorted by the 'ICE' column in descending order.\n",
    "hypotheses['ICE'] = (hypotheses['impact'] * hypotheses['confidence'])/ (hypotheses['effort'])\n",
    "ice_value = hypotheses.sort_values(by='ICE', ascending=False)\n",
    "display(ice_value)\n"
   ]
  },
  {
   "cell_type": "markdown",
   "metadata": {},
   "source": [
    "ICE gives 8,0,7 and 6 as the most promising hypotheses when we calculated ICE framework and by sorting them in descending order . "
   ]
  },
  {
   "cell_type": "markdown",
   "metadata": {},
   "source": [
    "<font color='green'><h3>  Apply the RICE framework to prioritize hypotheses. Sort them in descending order of priority. <a class=\"anchor\" id=\"sh1.2\"></a></h3></font>\n",
    "\n",
    "it is  a modified version, RICE.RICE has four components:\n",
    "1. Reach — how many users will be affected by the update you want to introduce\n",
    "2. Impact — how strongly this update will affect the users, their experience, and their satisfaction with the product\n",
    "3. Confidence — how sure you are that your product will affect them in this way\n",
    "4. Effort — how much will it cost to test the hypothesis"
   ]
  },
  {
   "cell_type": "code",
   "execution_count": 4,
   "metadata": {},
   "outputs": [
    {
     "data": {
      "text/html": [
       "<div>\n",
       "<style scoped>\n",
       "    .dataframe tbody tr th:only-of-type {\n",
       "        vertical-align: middle;\n",
       "    }\n",
       "\n",
       "    .dataframe tbody tr th {\n",
       "        vertical-align: top;\n",
       "    }\n",
       "\n",
       "    .dataframe thead th {\n",
       "        text-align: right;\n",
       "    }\n",
       "</style>\n",
       "<table border=\"1\" class=\"dataframe\">\n",
       "  <thead>\n",
       "    <tr style=\"text-align: right;\">\n",
       "      <th></th>\n",
       "      <th>hypothesis</th>\n",
       "      <th>reach</th>\n",
       "      <th>impact</th>\n",
       "      <th>confidence</th>\n",
       "      <th>effort</th>\n",
       "      <th>ICE</th>\n",
       "      <th>RICE</th>\n",
       "    </tr>\n",
       "  </thead>\n",
       "  <tbody>\n",
       "    <tr>\n",
       "      <td>7</td>\n",
       "      <td>Add a subscription form to all the main pages....</td>\n",
       "      <td>10</td>\n",
       "      <td>7</td>\n",
       "      <td>8</td>\n",
       "      <td>5</td>\n",
       "      <td>11.200000</td>\n",
       "      <td>112.0</td>\n",
       "    </tr>\n",
       "    <tr>\n",
       "      <td>2</td>\n",
       "      <td>Add product recommendation blocks to the store...</td>\n",
       "      <td>8</td>\n",
       "      <td>3</td>\n",
       "      <td>7</td>\n",
       "      <td>3</td>\n",
       "      <td>7.000000</td>\n",
       "      <td>56.0</td>\n",
       "    </tr>\n",
       "    <tr>\n",
       "      <td>0</td>\n",
       "      <td>Add two new channels for attracting traffic. T...</td>\n",
       "      <td>3</td>\n",
       "      <td>10</td>\n",
       "      <td>8</td>\n",
       "      <td>6</td>\n",
       "      <td>13.333333</td>\n",
       "      <td>40.0</td>\n",
       "    </tr>\n",
       "    <tr>\n",
       "      <td>6</td>\n",
       "      <td>Show banners with current offers and sales on ...</td>\n",
       "      <td>5</td>\n",
       "      <td>3</td>\n",
       "      <td>8</td>\n",
       "      <td>3</td>\n",
       "      <td>8.000000</td>\n",
       "      <td>40.0</td>\n",
       "    </tr>\n",
       "    <tr>\n",
       "      <td>8</td>\n",
       "      <td>Launch a promotion that gives users discounts ...</td>\n",
       "      <td>1</td>\n",
       "      <td>9</td>\n",
       "      <td>9</td>\n",
       "      <td>5</td>\n",
       "      <td>16.200000</td>\n",
       "      <td>16.2</td>\n",
       "    </tr>\n",
       "    <tr>\n",
       "      <td>3</td>\n",
       "      <td>Change the category structure. This will incre...</td>\n",
       "      <td>8</td>\n",
       "      <td>3</td>\n",
       "      <td>3</td>\n",
       "      <td>8</td>\n",
       "      <td>1.125000</td>\n",
       "      <td>9.0</td>\n",
       "    </tr>\n",
       "    <tr>\n",
       "      <td>1</td>\n",
       "      <td>Launch your own delivery service. This will sh...</td>\n",
       "      <td>2</td>\n",
       "      <td>5</td>\n",
       "      <td>4</td>\n",
       "      <td>10</td>\n",
       "      <td>2.000000</td>\n",
       "      <td>4.0</td>\n",
       "    </tr>\n",
       "    <tr>\n",
       "      <td>5</td>\n",
       "      <td>Add a customer review page. This will increase...</td>\n",
       "      <td>3</td>\n",
       "      <td>2</td>\n",
       "      <td>2</td>\n",
       "      <td>3</td>\n",
       "      <td>1.333333</td>\n",
       "      <td>4.0</td>\n",
       "    </tr>\n",
       "    <tr>\n",
       "      <td>4</td>\n",
       "      <td>Change the background color on the main page. ...</td>\n",
       "      <td>3</td>\n",
       "      <td>1</td>\n",
       "      <td>1</td>\n",
       "      <td>1</td>\n",
       "      <td>1.000000</td>\n",
       "      <td>3.0</td>\n",
       "    </tr>\n",
       "  </tbody>\n",
       "</table>\n",
       "</div>"
      ],
      "text/plain": [
       "                                          hypothesis  reach  impact  \\\n",
       "7  Add a subscription form to all the main pages....     10       7   \n",
       "2  Add product recommendation blocks to the store...      8       3   \n",
       "0  Add two new channels for attracting traffic. T...      3      10   \n",
       "6  Show banners with current offers and sales on ...      5       3   \n",
       "8  Launch a promotion that gives users discounts ...      1       9   \n",
       "3  Change the category structure. This will incre...      8       3   \n",
       "1  Launch your own delivery service. This will sh...      2       5   \n",
       "5  Add a customer review page. This will increase...      3       2   \n",
       "4  Change the background color on the main page. ...      3       1   \n",
       "\n",
       "   confidence  effort        ICE   RICE  \n",
       "7           8       5  11.200000  112.0  \n",
       "2           7       3   7.000000   56.0  \n",
       "0           8       6  13.333333   40.0  \n",
       "6           8       3   8.000000   40.0  \n",
       "8           9       5  16.200000   16.2  \n",
       "3           3       8   1.125000    9.0  \n",
       "1           4      10   2.000000    4.0  \n",
       "5           2       3   1.333333    4.0  \n",
       "4           1       1   1.000000    3.0  "
      ]
     },
     "metadata": {},
     "output_type": "display_data"
    }
   ],
   "source": [
    "hypotheses['RICE'] = (hypotheses['reach'] * hypotheses['impact'] * hypotheses['confidence'])/hypotheses['effort']\n",
    "rice_value = hypotheses.sort_values(by='RICE', ascending=False)\n",
    "display(rice_value)"
   ]
  },
  {
   "cell_type": "markdown",
   "metadata": {},
   "source": [
    "this time most promising hypothesis are 7,2,0and 6.this time number 7 is in first place as,because its reach parameter is 10 while others have lowest."
   ]
  },
  {
   "cell_type": "markdown",
   "metadata": {},
   "source": [
    "<font color='green'><h3>Show how the prioritization of hypotheses changes when you use RICE instead of ICE. Provide an explanation for the changes. <a class=\"anchor\" id=\"sh1.3\"></a></h3></font>\n"
   ]
  },
  {
   "cell_type": "code",
   "execution_count": 5,
   "metadata": {
    "scrolled": false
   },
   "outputs": [
    {
     "data": {
      "text/plain": [
       "Text(0, 0.5, 'ICE/RICE Score')"
      ]
     },
     "execution_count": 5,
     "metadata": {},
     "output_type": "execute_result"
    },
    {
     "data": {
      "image/png": "[encoded data removed]",
      "text/plain": [
       "<Figure size 576x432 with 1 Axes>"
      ]
     },
     "metadata": {
      "needs_background": "light"
     },
     "output_type": "display_data"
    }
   ],
   "source": [
    "ax = hypotheses[['hypothesis','ICE','RICE']].plot(kind='bar',stacked=False, figsize=(8,6))\n",
    "for p in ax.patches:\n",
    "    ax.annotate(str(p.get_height().round()), (p.get_x() * 1.005, p.get_height() * 1.005), rotation=90)\n",
    "    \n",
    "plt.title('ICE vs RICE Prioritization')\n",
    "plt.xlabel('Hypotheses')\n",
    "plt.ylabel('ICE/RICE Score')"
   ]
  },
  {
   "cell_type": "markdown",
   "metadata": {},
   "source": [
    "The prioritization of hypotheses changes when we use RICE instead of ICE as it can be seen that the difference between ICE and RICE frameworks is the reach parameter, which estimates how many customers will be reached using polling. This parameters adds another factor to the framework, making RICE scores higher than ICE scores. The RICE framework will be impacted by the reach factor and the RICE score will be  changed according to that. For example, a hypothesis with a low impact confidence parameters will be measured differently with a high reach parameter. this can be analysed in the graph that :in the ICE results, hypothesis 8 is in the highest ranking . However, in the RICE results hypothesis 8 falls to the fifth highest ranking because its reach parameter is low while, hypothesis 7 (which was third highest ranking in ICE results) climbs to the highest ranking becuase its reach parameter is the highest possible value."
   ]
  },
  {
   "cell_type": "markdown",
   "metadata": {},
   "source": [
    "<font color='green'><h2> Step 2.  A/B Test Analysis : carried out an A/B test and got the results described in the files orders_us.csv and visits_us.csv <a class=\"anchor\" id=\"h2\"></a></h2></font>"
   ]
  },
  {
   "cell_type": "code",
   "execution_count": 6,
   "metadata": {},
   "outputs": [
    {
     "name": "stdout",
     "output_type": "stream",
     "text": [
      "<class 'pandas.core.frame.DataFrame'>\n",
      "RangeIndex: 1197 entries, 0 to 1196\n",
      "Data columns (total 5 columns):\n",
      "transactionId    1197 non-null int64\n",
      "visitorId        1197 non-null int64\n",
      "date             1197 non-null object\n",
      "revenue          1197 non-null float64\n",
      "group            1197 non-null object\n",
      "dtypes: float64(1), int64(2), object(2)\n",
      "memory usage: 46.9+ KB\n",
      "<class 'pandas.core.frame.DataFrame'>\n",
      "RangeIndex: 62 entries, 0 to 61\n",
      "Data columns (total 3 columns):\n",
      "date      62 non-null object\n",
      "group     62 non-null object\n",
      "visits    62 non-null int64\n",
      "dtypes: int64(1), object(2)\n",
      "memory usage: 1.6+ KB\n"
     ]
    },
    {
     "data": {
      "text/html": [
       "<div>\n",
       "<style scoped>\n",
       "    .dataframe tbody tr th:only-of-type {\n",
       "        vertical-align: middle;\n",
       "    }\n",
       "\n",
       "    .dataframe tbody tr th {\n",
       "        vertical-align: top;\n",
       "    }\n",
       "\n",
       "    .dataframe thead th {\n",
       "        text-align: right;\n",
       "    }\n",
       "</style>\n",
       "<table border=\"1\" class=\"dataframe\">\n",
       "  <thead>\n",
       "    <tr style=\"text-align: right;\">\n",
       "      <th></th>\n",
       "      <th>date</th>\n",
       "      <th>group</th>\n",
       "      <th>visits</th>\n",
       "    </tr>\n",
       "  </thead>\n",
       "  <tbody>\n",
       "    <tr>\n",
       "      <td>0</td>\n",
       "      <td>2019-08-01</td>\n",
       "      <td>A</td>\n",
       "      <td>719</td>\n",
       "    </tr>\n",
       "    <tr>\n",
       "      <td>1</td>\n",
       "      <td>2019-08-02</td>\n",
       "      <td>A</td>\n",
       "      <td>619</td>\n",
       "    </tr>\n",
       "    <tr>\n",
       "      <td>2</td>\n",
       "      <td>2019-08-03</td>\n",
       "      <td>A</td>\n",
       "      <td>507</td>\n",
       "    </tr>\n",
       "    <tr>\n",
       "      <td>3</td>\n",
       "      <td>2019-08-04</td>\n",
       "      <td>A</td>\n",
       "      <td>717</td>\n",
       "    </tr>\n",
       "    <tr>\n",
       "      <td>4</td>\n",
       "      <td>2019-08-05</td>\n",
       "      <td>A</td>\n",
       "      <td>756</td>\n",
       "    </tr>\n",
       "  </tbody>\n",
       "</table>\n",
       "</div>"
      ],
      "text/plain": [
       "         date group  visits\n",
       "0  2019-08-01     A     719\n",
       "1  2019-08-02     A     619\n",
       "2  2019-08-03     A     507\n",
       "3  2019-08-04     A     717\n",
       "4  2019-08-05     A     756"
      ]
     },
     "execution_count": 6,
     "metadata": {},
     "output_type": "execute_result"
    }
   ],
   "source": [
    "#loading the data file orders_us.csv and visits_us.csv\n",
    "df_orders = pd.read_csv('/datasets/orders_us.csv', sep=',')\n",
    "df_visits = pd.read_csv('/datasets/visits_us.csv', sep=',')\n",
    "\n",
    "\n",
    "# studying general information \n",
    "df_orders.info()\n",
    "df_visits.info()\n",
    "df_orders.head()\n",
    "df_visits.head()\n"
   ]
  },
  {
   "cell_type": "code",
   "execution_count": 7,
   "metadata": {},
   "outputs": [],
   "source": [
    "#converting datatype to datetime \n",
    "df_orders['date'] = pd.to_datetime(df_orders['date'])\n",
    "df_visits['date'] = pd.to_datetime(df_visits['date'])"
   ]
  },
  {
   "cell_type": "code",
   "execution_count": 8,
   "metadata": {},
   "outputs": [
    {
     "name": "stdout",
     "output_type": "stream",
     "text": [
      "False    62\n",
      "dtype: int64\n"
     ]
    }
   ],
   "source": [
    "print(df_visits.duplicated().value_counts())"
   ]
  },
  {
   "cell_type": "code",
   "execution_count": 9,
   "metadata": {},
   "outputs": [
    {
     "data": {
      "text/html": [
       "<div>\n",
       "<style scoped>\n",
       "    .dataframe tbody tr th:only-of-type {\n",
       "        vertical-align: middle;\n",
       "    }\n",
       "\n",
       "    .dataframe tbody tr th {\n",
       "        vertical-align: top;\n",
       "    }\n",
       "\n",
       "    .dataframe thead th {\n",
       "        text-align: right;\n",
       "    }\n",
       "</style>\n",
       "<table border=\"1\" class=\"dataframe\">\n",
       "  <thead>\n",
       "    <tr style=\"text-align: right;\">\n",
       "      <th></th>\n",
       "      <th>visitorId</th>\n",
       "      <th>group</th>\n",
       "    </tr>\n",
       "  </thead>\n",
       "  <tbody>\n",
       "    <tr>\n",
       "      <td>0</td>\n",
       "      <td>5114589</td>\n",
       "      <td>1</td>\n",
       "    </tr>\n",
       "    <tr>\n",
       "      <td>1</td>\n",
       "      <td>6958315</td>\n",
       "      <td>1</td>\n",
       "    </tr>\n",
       "    <tr>\n",
       "      <td>3</td>\n",
       "      <td>11685486</td>\n",
       "      <td>1</td>\n",
       "    </tr>\n",
       "    <tr>\n",
       "      <td>4</td>\n",
       "      <td>39475350</td>\n",
       "      <td>1</td>\n",
       "    </tr>\n",
       "    <tr>\n",
       "      <td>5</td>\n",
       "      <td>47206413</td>\n",
       "      <td>1</td>\n",
       "    </tr>\n",
       "    <tr>\n",
       "      <td>...</td>\n",
       "      <td>...</td>\n",
       "      <td>...</td>\n",
       "    </tr>\n",
       "    <tr>\n",
       "      <td>1025</td>\n",
       "      <td>4259830713</td>\n",
       "      <td>1</td>\n",
       "    </tr>\n",
       "    <tr>\n",
       "      <td>1027</td>\n",
       "      <td>4278982564</td>\n",
       "      <td>1</td>\n",
       "    </tr>\n",
       "    <tr>\n",
       "      <td>1028</td>\n",
       "      <td>4279090005</td>\n",
       "      <td>1</td>\n",
       "    </tr>\n",
       "    <tr>\n",
       "      <td>1029</td>\n",
       "      <td>4281247801</td>\n",
       "      <td>1</td>\n",
       "    </tr>\n",
       "    <tr>\n",
       "      <td>1030</td>\n",
       "      <td>4283872382</td>\n",
       "      <td>1</td>\n",
       "    </tr>\n",
       "  </tbody>\n",
       "</table>\n",
       "<p>973 rows × 2 columns</p>\n",
       "</div>"
      ],
      "text/plain": [
       "       visitorId  group\n",
       "0        5114589      1\n",
       "1        6958315      1\n",
       "3       11685486      1\n",
       "4       39475350      1\n",
       "5       47206413      1\n",
       "...          ...    ...\n",
       "1025  4259830713      1\n",
       "1027  4278982564      1\n",
       "1028  4279090005      1\n",
       "1029  4281247801      1\n",
       "1030  4283872382      1\n",
       "\n",
       "[973 rows x 2 columns]"
      ]
     },
     "execution_count": 9,
     "metadata": {},
     "output_type": "execute_result"
    }
   ],
   "source": [
    "datagroup = df_orders.groupby(['visitorId'])['group'].nunique().reset_index().query('group == 1')\n",
    "datagroup"
   ]
  },
  {
   "cell_type": "code",
   "execution_count": 10,
   "metadata": {},
   "outputs": [
    {
     "data": {
      "text/html": [
       "<div>\n",
       "<style scoped>\n",
       "    .dataframe tbody tr th:only-of-type {\n",
       "        vertical-align: middle;\n",
       "    }\n",
       "\n",
       "    .dataframe tbody tr th {\n",
       "        vertical-align: top;\n",
       "    }\n",
       "\n",
       "    .dataframe thead th {\n",
       "        text-align: right;\n",
       "    }\n",
       "</style>\n",
       "<table border=\"1\" class=\"dataframe\">\n",
       "  <thead>\n",
       "    <tr style=\"text-align: right;\">\n",
       "      <th></th>\n",
       "      <th>transactionId</th>\n",
       "      <th>visitorId</th>\n",
       "      <th>date</th>\n",
       "      <th>revenue</th>\n",
       "      <th>group</th>\n",
       "    </tr>\n",
       "  </thead>\n",
       "  <tbody>\n",
       "    <tr>\n",
       "      <td>0</td>\n",
       "      <td>3667963787</td>\n",
       "      <td>3312258926</td>\n",
       "      <td>2019-08-15</td>\n",
       "      <td>30.4</td>\n",
       "      <td>B</td>\n",
       "    </tr>\n",
       "    <tr>\n",
       "      <td>1</td>\n",
       "      <td>2804400009</td>\n",
       "      <td>3642806036</td>\n",
       "      <td>2019-08-15</td>\n",
       "      <td>15.2</td>\n",
       "      <td>B</td>\n",
       "    </tr>\n",
       "    <tr>\n",
       "      <td>3</td>\n",
       "      <td>3797467345</td>\n",
       "      <td>1196621759</td>\n",
       "      <td>2019-08-15</td>\n",
       "      <td>155.1</td>\n",
       "      <td>B</td>\n",
       "    </tr>\n",
       "    <tr>\n",
       "      <td>4</td>\n",
       "      <td>2282983706</td>\n",
       "      <td>2322279887</td>\n",
       "      <td>2019-08-15</td>\n",
       "      <td>40.5</td>\n",
       "      <td>B</td>\n",
       "    </tr>\n",
       "    <tr>\n",
       "      <td>5</td>\n",
       "      <td>182168103</td>\n",
       "      <td>935554773</td>\n",
       "      <td>2019-08-15</td>\n",
       "      <td>35.0</td>\n",
       "      <td>B</td>\n",
       "    </tr>\n",
       "    <tr>\n",
       "      <td>...</td>\n",
       "      <td>...</td>\n",
       "      <td>...</td>\n",
       "      <td>...</td>\n",
       "      <td>...</td>\n",
       "      <td>...</td>\n",
       "    </tr>\n",
       "    <tr>\n",
       "      <td>1191</td>\n",
       "      <td>3592955527</td>\n",
       "      <td>608641596</td>\n",
       "      <td>2019-08-14</td>\n",
       "      <td>255.7</td>\n",
       "      <td>B</td>\n",
       "    </tr>\n",
       "    <tr>\n",
       "      <td>1192</td>\n",
       "      <td>2662137336</td>\n",
       "      <td>3733762160</td>\n",
       "      <td>2019-08-14</td>\n",
       "      <td>100.8</td>\n",
       "      <td>B</td>\n",
       "    </tr>\n",
       "    <tr>\n",
       "      <td>1193</td>\n",
       "      <td>2203539145</td>\n",
       "      <td>370388673</td>\n",
       "      <td>2019-08-14</td>\n",
       "      <td>50.1</td>\n",
       "      <td>A</td>\n",
       "    </tr>\n",
       "    <tr>\n",
       "      <td>1194</td>\n",
       "      <td>1807773912</td>\n",
       "      <td>573423106</td>\n",
       "      <td>2019-08-14</td>\n",
       "      <td>165.3</td>\n",
       "      <td>A</td>\n",
       "    </tr>\n",
       "    <tr>\n",
       "      <td>1196</td>\n",
       "      <td>3936777065</td>\n",
       "      <td>2108080724</td>\n",
       "      <td>2019-08-15</td>\n",
       "      <td>3120.1</td>\n",
       "      <td>B</td>\n",
       "    </tr>\n",
       "  </tbody>\n",
       "</table>\n",
       "<p>1016 rows × 5 columns</p>\n",
       "</div>"
      ],
      "text/plain": [
       "      transactionId   visitorId       date  revenue group\n",
       "0        3667963787  3312258926 2019-08-15     30.4     B\n",
       "1        2804400009  3642806036 2019-08-15     15.2     B\n",
       "3        3797467345  1196621759 2019-08-15    155.1     B\n",
       "4        2282983706  2322279887 2019-08-15     40.5     B\n",
       "5         182168103   935554773 2019-08-15     35.0     B\n",
       "...             ...         ...        ...      ...   ...\n",
       "1191     3592955527   608641596 2019-08-14    255.7     B\n",
       "1192     2662137336  3733762160 2019-08-14    100.8     B\n",
       "1193     2203539145   370388673 2019-08-14     50.1     A\n",
       "1194     1807773912   573423106 2019-08-14    165.3     A\n",
       "1196     3936777065  2108080724 2019-08-15   3120.1     B\n",
       "\n",
       "[1016 rows x 5 columns]"
      ]
     },
     "execution_count": 10,
     "metadata": {},
     "output_type": "execute_result"
    }
   ],
   "source": [
    "df_orders = df_orders[df_orders['visitorId'].isin(datagroup['visitorId'])]\n",
    "df_orders"
   ]
  },
  {
   "cell_type": "markdown",
   "metadata": {},
   "source": [
    "<font color='green'><h3>Graph cumulative revenue by group. Make conclusions and conjectures. <a class=\"anchor\" id=\"sh2.1\"></a></h3></font>\n"
   ]
  },
  {
   "cell_type": "code",
   "execution_count": 11,
   "metadata": {},
   "outputs": [
    {
     "name": "stdout",
     "output_type": "stream",
     "text": [
      "         date group  orders  buyers  revenue  visitors\n",
      "0  2019-08-01     A      23      19   2266.6       719\n",
      "1  2019-08-01     B      17      17    967.2       713\n",
      "2  2019-08-02     A      42      36   3734.9      1338\n",
      "3  2019-08-02     B      40      39   3535.3      1294\n",
      "4  2019-08-03     A      66      60   5550.1      1845\n",
      "..        ...   ...     ...     ...      ...       ...\n",
      "57 2019-08-29     B     510     490  74576.7     17708\n",
      "58 2019-08-30     A     460     437  52363.7     18037\n",
      "59 2019-08-30     B     531     511  77863.5     18198\n",
      "60 2019-08-31     A     468     445  53212.0     18736\n",
      "61 2019-08-31     B     548     528  79651.2     18916\n",
      "\n",
      "[62 rows x 6 columns]\n"
     ]
    },
    {
     "data": {
      "image/png": "[encoded data removed]",
      "text/plain": [
       "<Figure size 432x288 with 1 Axes>"
      ]
     },
     "metadata": {
      "needs_background": "light"
     },
     "output_type": "display_data"
    }
   ],
   "source": [
    "\n",
    "datesGroups = df_orders[['date', 'group']].drop_duplicates()\n",
    "\n",
    "ordersAggregated = datesGroups.apply(\n",
    "    lambda x: df_orders[\n",
    "        np.logical_and(\n",
    "            df_orders['date'] <= x['date'], df_orders['group'] == x['group']\n",
    "        )\n",
    "    ].agg(\n",
    "        {\n",
    "            'date': 'max',\n",
    "            'group': 'max',\n",
    "            'transactionId': pd.Series.nunique,\n",
    "            'visitorId': pd.Series.nunique,\n",
    "            'revenue': 'sum',\n",
    "        }\n",
    "    ),\n",
    "    axis=1,\n",
    ").sort_values(by=['date', 'group'])\n",
    "\n",
    "visitorsAggregated = datesGroups.apply(\n",
    "    lambda x: df_visits[\n",
    "        np.logical_and(\n",
    "            df_visits['date'] <= x['date'], df_visits['group'] == x['group']\n",
    "        )\n",
    "    ].agg({'date': 'max', 'group': 'max', 'visits': 'sum'}),\n",
    "    axis=1,\n",
    ").sort_values(by=['date', 'group'])\n",
    "\n",
    "cumulativeData = ordersAggregated.merge(\n",
    "    visitorsAggregated, left_on=['date', 'group'], right_on=['date', 'group']\n",
    ")\n",
    "cumulativeData.columns = [\n",
    "    'date',\n",
    "    'group',\n",
    "    'orders',\n",
    "    'buyers',\n",
    "    'revenue',\n",
    "    'visitors',\n",
    "]\n",
    "print(cumulativeData)\n",
    "\n",
    "cumulativeRevenueA = cumulativeData[cumulativeData['group'] == 'A'][\n",
    "    ['date', 'revenue', 'orders']\n",
    "]\n",
    "cumulativeRevenueB = cumulativeData[cumulativeData['group'] == 'B'][\n",
    "    ['date', 'revenue', 'orders']\n",
    "]\n",
    "plt.plot(cumulativeRevenueA['date'], cumulativeRevenueA['revenue'], label='A')\n",
    "plt.plot(cumulativeRevenueB['date'], cumulativeRevenueB['revenue'], label='B')\n",
    "plt.legend()\n",
    "plt.title('Cumulative Revenue by Group over Time')\n",
    "plt.xlabel('Time')\n",
    "plt.ylabel('Cumulative Revenue')\n",
    "plt.xticks(rotation=90)\n",
    "plt.show()\n"
   ]
  },
  {
   "cell_type": "markdown",
   "metadata": {},
   "source": [
    "We calculated cumulative revenue  for both groups A and B. it can be seen that the cumulative revenue for both groups increases steadily overtime. However, around August 18 and 19 2019, the cumulative revenue of group B had a steap and swift increase from 40,000 dollars to 80,000 dollars and from there kept increasing upward past 80,000 dollars. While the cumulative revenue of group A did kept increasing while there is a sharp increase from 20 august 2019 and moved above 60000 dollars"
   ]
  },
  {
   "cell_type": "markdown",
   "metadata": {},
   "source": [
    "<font color='green'><h3>Graph cumulative average order size by group. Make conclusions and conjectures. <a class=\"anchor\" id=\"sh2.2\"></a></h3></font>\n"
   ]
  },
  {
   "cell_type": "code",
   "execution_count": 12,
   "metadata": {},
   "outputs": [
    {
     "data": {
      "image/png": "[encoded data removed]",
      "text/plain": [
       "<Figure size 432x288 with 1 Axes>"
      ]
     },
     "metadata": {
      "needs_background": "light"
     },
     "output_type": "display_data"
    }
   ],
   "source": [
    "# diving the revenue by the cumulative number of orders\n",
    "plt.plot(cumulativeRevenueA['date'], cumulativeRevenueA['revenue']/cumulativeRevenueA['orders'], label='A')\n",
    "plt.plot(cumulativeRevenueB['date'], cumulativeRevenueB['revenue']/cumulativeRevenueB['orders'], label='B')\n",
    "\n",
    "plt.axhline(y=100, color='black', linestyle='--')\n",
    "plt.legend()\n",
    "plt.title('Average Purchase Size by Group over Time')\n",
    "plt.xlabel('Time')\n",
    "plt.ylabel('Average Number of Orders')\n",
    "plt.xticks(rotation=90)\n",
    "plt.show()"
   ]
  },
  {
   "cell_type": "markdown",
   "metadata": {},
   "source": [
    "we calculated and plotted cumulative average order size  for both groups A and B, as shown in the graph above. in the above graph, we saw that group B has a sudden spike in cumulative revenue around August 17 2019 while group A did not have such increase. In this graph, we can see that the average purchase size for group B there is sharp increase tto 160 then again   it started decline to 140.group A still maintain the stability and consistency from august 17"
   ]
  },
  {
   "cell_type": "markdown",
   "metadata": {},
   "source": [
    "<font color='green'><h3>Graph the relative difference in cumulative average order size for group B compared with group A. Make conclusions and conjectures. <a class=\"anchor\" id=\"sh2.3\"></a></h3></font>\n"
   ]
  },
  {
   "cell_type": "code",
   "execution_count": 13,
   "metadata": {},
   "outputs": [
    {
     "data": {
      "image/png": "[encoded data removed]",
      "text/plain": [
       "<Figure size 432x288 with 1 Axes>"
      ]
     },
     "metadata": {
      "needs_background": "light"
     },
     "output_type": "display_data"
    }
   ],
   "source": [
    "mergedCumulativeRevenue = cumulativeRevenueA.merge(cumulativeRevenueB, left_on='date', right_on='date', how='left', suffixes=['A', 'B'])\n",
    "\n",
    "# plotting a relative difference graph for the average purchase sizes\n",
    "plt.plot(mergedCumulativeRevenue['date'], (mergedCumulativeRevenue['revenueB']/mergedCumulativeRevenue['ordersB'])/(mergedCumulativeRevenue['revenueA']/mergedCumulativeRevenue['ordersA'])-1)\n",
    "\n",
    "# adding the X axis\n",
    "plt.axhline(y=0, color='black', linestyle='--') \n",
    "plt.title('Relative Difference in Cumulative Average Order Size per Groups')\n",
    "plt.xlabel('Time')\n",
    "plt.ylabel('Average Order Size')\n",
    "plt.xticks(rotation=90)\n",
    "plt.show()\n"
   ]
  },
  {
   "cell_type": "markdown",
   "metadata": {},
   "source": [
    " the relative difference in cumulative average order size for group B compared with group A , it can be seen that there is a sudden and considerable changes maybe it happened due to large purchases .the graph drops at 13 august then  there is a sudden rice from 17 august which is sharp and upward ."
   ]
  },
  {
   "cell_type": "markdown",
   "metadata": {},
   "source": [
    "<font color='green'><h3>Calculate each group's conversion rate as the ratio of orders to the number of visits for each day. Plot the daily conversion rates of the two groups and describe the difference. Draw conclusions and make conjectures. <a class=\"anchor\" id=\"sh2.4\"></a></h3></font>\n"
   ]
  },
  {
   "cell_type": "code",
   "execution_count": 14,
   "metadata": {},
   "outputs": [
    {
     "data": {
      "image/png": "[encoded data removed]",
      "text/plain": [
       "<Figure size 432x288 with 1 Axes>"
      ]
     },
     "metadata": {
      "needs_background": "light"
     },
     "output_type": "display_data"
    }
   ],
   "source": [
    "cumulativeData['conversion'] = (\n",
    "    cumulativeData['orders'] / cumulativeData['visitors']\n",
    ")\n",
    "\n",
    "cumulativeDataA = cumulativeData[cumulativeData['group'] == 'A']\n",
    "cumulativeDataB = cumulativeData[cumulativeData['group'] == 'B']\n",
    "mergedCumulativeConversions = cumulativeDataA[['date','conversion','visitors']].merge(cumulativeDataB[['date','conversion','visitors']], left_on='date', right_on='date', how='left', suffixes=['A', 'B'])\n",
    "\n",
    "plt.plot(mergedCumulativeConversions['date'], mergedCumulativeConversions['conversionB']/mergedCumulativeConversions['conversionA']-1, label=\"Relative gain in conversion in group B as opposed to group A\")\n",
    "plt.legend()\n",
    "\n",
    "plt.axhline(y=0, color='black', linestyle='--')\n",
    "plt.axhline(y=0.2, color='grey', linestyle='--')\n",
    "\n",
    "plt.title('Conversion Rate')\n",
    "plt.xlabel('Time')\n",
    "plt.ylabel('Relativen Gain')\n",
    "plt.xticks(rotation=90)\n",
    "plt.show()"
   ]
  },
  {
   "cell_type": "markdown",
   "metadata": {},
   "source": [
    "from each group's conversion rate as the ratio of orders to the number of visits for each day.we Plotted the daily conversion rates of the two groups and find out that group b was leader and as it can be seen that highest peak is at august 17 .As it gained steadily and relativily stabalized by 20% higher than group a ."
   ]
  },
  {
   "cell_type": "markdown",
   "metadata": {},
   "source": [
    "<font color='green'><h3> Plot a scatter chart of the number of orders per user. Make conclusions and conjectures. <a class=\"anchor\" id=\"sh2.5\"></a></h3></font>\n"
   ]
  },
  {
   "cell_type": "code",
   "execution_count": 15,
   "metadata": {},
   "outputs": [
    {
     "data": {
      "image/png": "[encoded data removed]",
      "text/plain": [
       "<Figure size 432x288 with 1 Axes>"
      ]
     },
     "metadata": {
      "needs_background": "light"
     },
     "output_type": "display_data"
    }
   ],
   "source": [
    "# drop unneccessary columns and group the orders by users\n",
    "ordersByUsers= df_orders.drop(['group','revenue','date'], axis=1).groupby('visitorId', as_index=False).agg({'transactionId':pd.Series.nunique})\n",
    "ordersByUsers.columns = ['userId', 'orders']\n",
    "\n",
    "# sort data by number of orders in descending orders\n",
    "ordersByUsers = ordersByUsers.sort_values(by='orders', ascending=False)\n",
    "\n",
    "# finding values for horizontal axis  \n",
    "x_values = pd.Series(range(0, len(ordersByUsers)))\n",
    "\n",
    "plt.scatter(x_values, ordersByUsers['orders'], c='lightblue')\n",
    "plt.title('Raw Data: Number of Orders per User')\n",
    "plt.xlabel('Number of Generated Observations')\n",
    "plt.ylabel('Number of Orders')\n",
    "plt.show()\n"
   ]
  },
  {
   "cell_type": "markdown",
   "metadata": {},
   "source": [
    " For Plotting a scatter chart of the number of orders per user, we dropped unneccessary columns and group the orders by users.then we sorted no of orders in descending order and plotted the scatter graph .This scatter plot shows the number of orders per users using the raw data with anomalies. As one can see, the number of orders per user is mostly between 1 to 4  orders. Very few users order above 6 or 8 units."
   ]
  },
  {
   "cell_type": "markdown",
   "metadata": {},
   "source": [
    "<font color='green'><h3>Calculate the 95th and 99th percentiles for the number of orders per user. Define the point at which a data point becomes an anomaly.<a class=\"anchor\" id=\"sh2.6\"></a></h3></font>\n"
   ]
  },
  {
   "cell_type": "code",
   "execution_count": 16,
   "metadata": {},
   "outputs": [
    {
     "name": "stdout",
     "output_type": "stream",
     "text": [
      "[1. 2.]\n"
     ]
    }
   ],
   "source": [
    "#To calculate percentiles, we need the percentile() method from NumPy\n",
    "print(np.percentile(ordersByUsers['orders'], [95,99]))"
   ]
  },
  {
   "cell_type": "markdown",
   "metadata": {},
   "source": [
    "Not more than 5% of orders are more than 2 units, and not more than 1% orders are more than 4 units.Thus, it would be reasonable to set two or one orders per user as the lower limit for the number of orders and to filter anomalies on that basis. "
   ]
  },
  {
   "cell_type": "markdown",
   "metadata": {},
   "source": [
    "\n",
    "<font color='green'><h3>Plot a scatter chart of order prices. Make conclusions and conjectures<a class=\"anchor\" id=\"sh2.7\"></a></h3></font>\n"
   ]
  },
  {
   "cell_type": "code",
   "execution_count": 17,
   "metadata": {},
   "outputs": [
    {
     "data": {
      "text/html": [
       "<div>\n",
       "<style scoped>\n",
       "    .dataframe tbody tr th:only-of-type {\n",
       "        vertical-align: middle;\n",
       "    }\n",
       "\n",
       "    .dataframe tbody tr th {\n",
       "        vertical-align: top;\n",
       "    }\n",
       "\n",
       "    .dataframe thead th {\n",
       "        text-align: right;\n",
       "    }\n",
       "</style>\n",
       "<table border=\"1\" class=\"dataframe\">\n",
       "  <thead>\n",
       "    <tr style=\"text-align: right;\">\n",
       "      <th></th>\n",
       "      <th>userId</th>\n",
       "      <th>revenue</th>\n",
       "    </tr>\n",
       "  </thead>\n",
       "  <tbody>\n",
       "    <tr>\n",
       "      <td>477</td>\n",
       "      <td>2108080724</td>\n",
       "      <td>3120.1</td>\n",
       "    </tr>\n",
       "    <tr>\n",
       "      <td>300</td>\n",
       "      <td>1307669133</td>\n",
       "      <td>1425.8</td>\n",
       "    </tr>\n",
       "    <tr>\n",
       "      <td>202</td>\n",
       "      <td>888512513</td>\n",
       "      <td>1335.6</td>\n",
       "    </tr>\n",
       "    <tr>\n",
       "      <td>176</td>\n",
       "      <td>759473111</td>\n",
       "      <td>1115.7</td>\n",
       "    </tr>\n",
       "    <tr>\n",
       "      <td>938</td>\n",
       "      <td>4133034833</td>\n",
       "      <td>1050.0</td>\n",
       "    </tr>\n",
       "    <tr>\n",
       "      <td>...</td>\n",
       "      <td>...</td>\n",
       "      <td>...</td>\n",
       "    </tr>\n",
       "    <tr>\n",
       "      <td>887</td>\n",
       "      <td>3896738923</td>\n",
       "      <td>5.2</td>\n",
       "    </tr>\n",
       "    <tr>\n",
       "      <td>576</td>\n",
       "      <td>2524310328</td>\n",
       "      <td>5.2</td>\n",
       "    </tr>\n",
       "    <tr>\n",
       "      <td>453</td>\n",
       "      <td>1995481842</td>\n",
       "      <td>5.1</td>\n",
       "    </tr>\n",
       "    <tr>\n",
       "      <td>283</td>\n",
       "      <td>1224903511</td>\n",
       "      <td>5.1</td>\n",
       "    </tr>\n",
       "    <tr>\n",
       "      <td>6</td>\n",
       "      <td>54447517</td>\n",
       "      <td>5.0</td>\n",
       "    </tr>\n",
       "  </tbody>\n",
       "</table>\n",
       "<p>972 rows × 2 columns</p>\n",
       "</div>"
      ],
      "text/plain": [
       "         userId  revenue\n",
       "477  2108080724   3120.1\n",
       "300  1307669133   1425.8\n",
       "202   888512513   1335.6\n",
       "176   759473111   1115.7\n",
       "938  4133034833   1050.0\n",
       "..          ...      ...\n",
       "887  3896738923      5.2\n",
       "576  2524310328      5.2\n",
       "453  1995481842      5.1\n",
       "283  1224903511      5.1\n",
       "6      54447517      5.0\n",
       "\n",
       "[972 rows x 2 columns]"
      ]
     },
     "execution_count": 17,
     "metadata": {},
     "output_type": "execute_result"
    },
    {
     "data": {
      "image/png": "[encoded data removed]",
      "text/plain": [
       "<Figure size 432x288 with 1 Axes>"
      ]
     },
     "metadata": {
      "needs_background": "light"
     },
     "output_type": "display_data"
    }
   ],
   "source": [
    "# drop unneccessary columns and group the orders by users\n",
    "ordersByPrices= df_orders.drop(['group','transactionId','date'], axis=1).groupby('visitorId', as_index=False).agg({'revenue':'sum'})\n",
    "ordersByPrices.columns = ['userId', 'revenue']\n",
    "\n",
    "# sort data by number of orders in descending orders\n",
    "ordersByPrices = ordersByPrices.sort_values(by='revenue', ascending=False)\n",
    "\n",
    "# find values for horizontal axis by the number of generated observations \n",
    "x_values = pd.Series(range(0, len(ordersByPrices)))\n",
    "\n",
    "plt.scatter(x_values, ordersByPrices['revenue'])\n",
    "\n",
    "plt.title('Raw Data: Revenue per Order')\n",
    "plt.xlabel('Number of Generated Observations')\n",
    "plt.ylabel('Revenue per Order')\n",
    "ordersByPrices\n",
    "orderfilter = ordersByPrices[ordersByPrices['revenue'] < 5000]\n",
    "orderfilter"
   ]
  },
  {
   "cell_type": "code",
   "execution_count": 18,
   "metadata": {},
   "outputs": [
    {
     "data": {
      "text/plain": [
       "Text(0, 0.5, 'Revenue per Order')"
      ]
     },
     "execution_count": 18,
     "metadata": {},
     "output_type": "execute_result"
    },
    {
     "data": {
      "image/png": "[encoded data removed]",
      "text/plain": [
       "<Figure size 432x288 with 1 Axes>"
      ]
     },
     "metadata": {
      "needs_background": "light"
     },
     "output_type": "display_data"
    }
   ],
   "source": [
    "x_values = pd.Series(range(0, len(orderfilter)))\n",
    "\n",
    "plt.scatter(x_values, orderfilter['revenue'])\n",
    "\n",
    "plt.title('Raw Data: Revenue per Order')\n",
    "plt.xlabel('Number of Generated Observations')\n",
    "plt.ylabel('Revenue per Order')"
   ]
  },
  {
   "cell_type": "markdown",
   "metadata": {},
   "source": [
    "when we Plotted a scatter chart of order prices.we can see that the revenue per order is mostly below 2500 dollars. Very few orders have revenue above 2500 dollars."
   ]
  },
  {
   "cell_type": "markdown",
   "metadata": {},
   "source": [
    "<font color='green'><h3>Calculate the 95th and 99th percentiles of order prices. Define the point at which a data point becomes an anomaly.<a class=\"anchor\" id=\"sh2.8\"></a></h3></font>\n"
   ]
  },
  {
   "cell_type": "code",
   "execution_count": 19,
   "metadata": {},
   "outputs": [
    {
     "name": "stdout",
     "output_type": "stream",
     "text": [
      "[449.5   912.576]\n"
     ]
    }
   ],
   "source": [
    "#To calculate percentiles, we need the percentile() method from NumPy\n",
    "print(np.percentile(ordersByPrices['revenue'], [95,99]))"
   ]
  },
  {
   "cell_type": "markdown",
   "metadata": {},
   "source": [
    "Not more than 5% of orders prices are more than 510 dollars, and not more than 1% orders prices are more than 1047 dollars.Thus, it would be reasonable to set 510 or lower as the limit for the number of prices per order and to filter anomalies on that basis. "
   ]
  },
  {
   "cell_type": "markdown",
   "metadata": {},
   "source": [
    "<font color='green'><h3>Find the statistical significance of the difference in conversion between the groups using the raw data. Make conclusions and conjectures.<a class=\"anchor\" id=\"sh2.9\"></a></h3></font>\n"
   ]
  },
  {
   "cell_type": "markdown",
   "metadata": {},
   "source": [
    "*Alpha = 0.05*\n",
    "1. Null Hypothesis H0: There is no statistically significant difference in conversion between groups A and B. \n",
    "2. Alternative Hypothesis H1: There is a statistically significant difference in conversion between groups A and B."
   ]
  },
  {
   "cell_type": "code",
   "execution_count": 20,
   "metadata": {},
   "outputs": [
    {
     "name": "stdout",
     "output_type": "stream",
     "text": [
      "0.0134018156887569\n",
      "H0 rejected\n"
     ]
    }
   ],
   "source": [
    "# calculate statistical significance of difference in conversion between groups \n",
    "ordersByUsersA = df_orders[df_orders['group'] == 'A'].groupby('visitorId', as_index=False).agg({'transactionId': pd.Series.nunique})\n",
    "ordersByUsersA.columns = ['userId', 'orders']\n",
    "\n",
    "ordersByUsersB = df_orders[df_orders['group'] == 'B'].groupby('visitorId', as_index=False).agg({'transactionId': pd.Series.nunique})\n",
    "ordersByUsersB.columns = ['userId', 'orders']\n",
    "\n",
    "# delcare vars with users from different groups and the number of users / group\n",
    "sampleA = pd.concat([ordersByUsersA['orders'], pd.Series(0, index = np.arange(df_visits[df_visits['group'] == 'A']['visits'].sum() - len(ordersByUsersA['orders'])), name='orders')], axis=0)\n",
    "\n",
    "sampleB = pd.concat([ordersByUsersB['orders'], pd.Series(0, index = np.arange(df_visits[df_visits['group'] == 'B']['visits'].sum() - len(ordersByUsersA['orders'])), name='orders')], axis=0)\n",
    "\n",
    "p_value = st.mannwhitneyu(sampleA, sampleB,alternative='two-sided')[1]\n",
    "print(p_value)\n",
    "\n",
    "alpha = 0.05\n",
    "\n",
    "if p_value < alpha:\n",
    "    print('H0 rejected')\n",
    "else:\n",
    "    print('Failed to reject H0')"
   ]
  },
  {
   "cell_type": "markdown",
   "metadata": {},
   "source": [
    "first of all we took the sample code for a model, created the variables ordersByUsersA and ordersByUsersB with the columns ['userId', 'orders'], where the number of orders for users with at least one order will be specified.Declared the variables sampleA and sampleB, with users who made orders and the corresponding numbers of orders. Users without orders will have 0. \n",
    "Calculated the statistical significance of the difference in conversion based on the results after two weeks of testing. Applied the Mann-Whitney test.Printed the p-value to compare the groups' conversion. \n",
    "\n",
    "*. Null Hypothesis H0: There is no statistically significant difference in conversion between groups A and B. Alternative Hypothesis H1: There is a statistically significant difference in conversion between groups A and B.\n",
    "\n",
    "*. The p_value of 0.01 is less than the alpha level of 0.05 which means we can reject the null hypothesis and determine the difference between the conversion rate of groups A and B is statistically significant. This means there is a non-typical shift in the data."
   ]
  },
  {
   "cell_type": "markdown",
   "metadata": {},
   "source": [
    "<font color='green'><h3>Find the statistical significance of the difference in average order size between the groups using the raw data. Make conclusions and conjectures.<a class=\"anchor\" id=\"sh2.10\"></a></h3></font>\n"
   ]
  },
  {
   "cell_type": "markdown",
   "metadata": {},
   "source": [
    "*Alpha = 0.05*\n",
    "1. Null Hypothesis H0: There is no statistically significant difference in average order size between groups A and B.\n",
    "2. Alternative Hypothesis H1: There is a statistically significant difference in average order size between groups A and B."
   ]
  },
  {
   "cell_type": "code",
   "execution_count": 21,
   "metadata": {},
   "outputs": [
    {
     "name": "stdout",
     "output_type": "stream",
     "text": [
      "0.862\n",
      "Failed to reject H0\n"
     ]
    }
   ],
   "source": [
    "p_value = st.mannwhitneyu(df_orders[df_orders['group'] == 'A']['revenue'], df_orders[df_orders['group'] == 'B']['revenue'],alternative='two-sided')[1]\n",
    "print(\"{0:.3f}\".format(p_value))\n",
    "alpha = 0.05\n",
    "\n",
    "if p_value < alpha:\n",
    "    print('H0 rejected')\n",
    "else:\n",
    "    print('Failed to reject H0')"
   ]
  },
  {
   "cell_type": "markdown",
   "metadata": {},
   "source": [
    "In this section we find out  the statistical significance of the difference in average order size between the groups using the raw data.  we'll pass the data on revenue to the mannwhitneyu() criterion.\n",
    "\n",
    "*. Null Hypothesis H0: There is no statistically significant difference in average order size between groups A and B. Alternative Hypothesis H1: There is a statistically significant difference in average order size between groups A and B.\n",
    "\n",
    "The p_value of 0.35 is greater than than the alpha level of 0.05 which means we can cannnot reject to the null hypothesis and cannot make any conclusions about the difference in average order size. Additionally, it means there is a typical shift in the data."
   ]
  },
  {
   "cell_type": "markdown",
   "metadata": {},
   "source": [
    "<font color='green'><h3>Find the statistical significance of the difference in conversion between the groups using the filtered data. Make conclusions and conjectures.<a class=\"anchor\" id=\"sh2.11\"></a></h3></font>"
   ]
  },
  {
   "cell_type": "markdown",
   "metadata": {},
   "source": [
    "Alpha= 0.05\n",
    "1. Null Hypothesis H0: There is no statistically significant difference in conversion between groups A and B. \n",
    "2. Alternative Hypothesis H1: There is a statistically significant difference in conversion between groups A and B."
   ]
  },
  {
   "cell_type": "code",
   "execution_count": 22,
   "metadata": {},
   "outputs": [
    {
     "name": "stdout",
     "output_type": "stream",
     "text": [
      "0.00746\n",
      "H0 rejected\n"
     ]
    }
   ],
   "source": [
    "#finding out the orders greater than 2\n",
    "usersWithManyOrders = pd.concat([ordersByUsersA[ordersByUsersA['orders'] > 2]['userId'], ordersByUsersB[ordersByUsersB['orders'] > 2]['userId']], axis = 0)\n",
    "\n",
    "# finding out anomalous users with values greater than 500\n",
    "usersWithExpensiveOrders = df_orders[df_orders['revenue'] > 500]['visitorId']\n",
    "\n",
    "# joining them into abnormal table and removing the  dupliates by sorting them \n",
    "abnormalUsers = pd.concat([usersWithManyOrders, usersWithExpensiveOrders], axis = 0).drop_duplicates().sort_values()\n",
    "\n",
    "# calculated statistical signifiacne of the difference in conversion between groups using filtered data\n",
    "sampleAFiltered = pd.concat([ordersByUsersA[np.logical_not(ordersByUsersA['userId'].isin(abnormalUsers))]['orders'],pd.Series(0, index=np.arange(df_visits[df_visits['group']=='A']['visits'].sum() - len(ordersByUsersA['orders'])),name='orders')],axis=0)\n",
    "\n",
    "sampleBFiltered = pd.concat([ordersByUsersB[np.logical_not(ordersByUsersB['userId'].isin(abnormalUsers))]['orders'],pd.Series(0, index=np.arange(df_visits[df_visits['group']=='B']['visits'].sum() - len(ordersByUsersB['orders'])),name='orders')],axis=0)\n",
    "\n",
    "p_value = st.mannwhitneyu(sampleAFiltered, sampleBFiltered,alternative='two-sided')[1]\n",
    "print(\"{0:.5f}\".format(p_value))\n",
    "\n",
    "alpha = 0.05\n",
    "\n",
    "if p_value < alpha:\n",
    "    print('H0 rejected')\n",
    "else:\n",
    "    print('Failed to reject H0')"
   ]
  },
  {
   "cell_type": "markdown",
   "metadata": {},
   "source": [
    "here we have to find out the statistical significance of the difference in conversion between the groups using the filtered data. in which we took the number of orders greater than 2 and prices greater than 500 then calculated the stastical significance difference by using mannwhitney test. we took the alpha value to 0.05\n",
    "\n",
    "*. Null Hypothesis H0: There is no statistically significant difference in conversion between groups A and B. Alternative Hypothesis H1: There is a statistically significant difference in conversion between groups A and B.\n",
    "\n",
    "*. The p_value of 0.005 is still less than the alpha level of 0.05 which means we can reject the null hypothesis and determine the difference between the conversion rate of groups A and B is statistically significant. This means there is a non-typical shift in the data."
   ]
  },
  {
   "cell_type": "markdown",
   "metadata": {},
   "source": [
    "<font color='green'><h3>Find the statistical significance of the difference in average order size between the groups using the filtered data. Make conclusions and conjectures.<a class=\"anchor\" id=\"sh2.12\"></a></h3></font>"
   ]
  },
  {
   "cell_type": "markdown",
   "metadata": {},
   "source": [
    "Alpha=0.05\n",
    "1. Null Hypothesis H0: There is no statistically significant difference in average order size between groups A and B. \n",
    "2. Alternative Hypothesis H1: There is a statistically significant difference in average order size between groups A and B."
   ]
  },
  {
   "cell_type": "code",
   "execution_count": 23,
   "metadata": {},
   "outputs": [
    {
     "name": "stdout",
     "output_type": "stream",
     "text": [
      "0.889\n",
      "Failed to reject H0\n"
     ]
    }
   ],
   "source": [
    "p_value = st.mannwhitneyu(\n",
    "    df_orders[np.logical_and(\n",
    "        df_orders['group']=='A',\n",
    "        np.logical_not(df_orders['visitorId'].isin(abnormalUsers)))]['revenue'],\n",
    "    df_orders[np.logical_and(\n",
    "        df_orders['group']=='B',\n",
    "        np.logical_not(df_orders['visitorId'].isin(abnormalUsers)))]['revenue'],alternative='two-sided')[1]\n",
    "print(\"{0:.3f}\".format(p_value))\n",
    "\n",
    "alpha = 0.05\n",
    "\n",
    "if p_value < alpha:\n",
    "    print('H0 rejected')\n",
    "else:\n",
    "    print('Failed to reject H0')"
   ]
  },
  {
   "cell_type": "markdown",
   "metadata": {},
   "source": [
    "here we will Find out the statistical significance of the difference in average order size between the groups using the filtered data.We can filter the data such that we only have rows with 2 or less orders and that have a revenue of 500 dollars of less.\n",
    "\n",
    "Null Hypothesis H0: There is no statistically significant difference in average order size between groups A and B. Alternative Hypothesis H1: There is a statistically significant difference in average order size between groups A and B.\n",
    "\n",
    "The p_value of 0.455 is greater than than the alpha level of 0.05 which means we can cannnot reject to the null hypothesis and cannot make any conclusions about the difference in average order size. Additionally, it means there is a typical shift in the data."
   ]
  },
  {
   "cell_type": "markdown",
   "metadata": {},
   "source": [
    "<font color='green'><h3>Make a decision based on the test results. The possible decisions are: 1. Stop the test, consider one of the groups the leader. 2. Stop the test, conclude that there is no difference between the groups. 3. Continue the test.<a class=\"anchor\" id=\"sh2.13\"></a></h3></font>"
   ]
  },
  {
   "cell_type": "markdown",
   "metadata": {},
   "source": [
    "What conclusions that can we drawn from this test are: \n",
    "\n",
    "1.  Raw data revealed that the difference between the conversion rate of groups A and B is statistically significant between the groups.The p_value of 0.01 is less than the alpha level of 0.05 which means we can reject the null hypothesis \n",
    "2.  Raw data determined that there is a statistically significant difference in average order size between groups A and B.The p_value of 0.35 is greater than than the alpha level of 0.05 which means we can cannnot reject to the null hypothesis and cannot make any conclusions about the difference in average order size.\n",
    "3. filtered data revealed there is no  statistically significant differences in  average order size between the groups.The p_value of 0.005 is still less than the alpha level of 0.05 which means we can reject the null hypothesis\n",
    "4.  The p_value of 0.455 is greater than than the alpha level of 0.05 which means we can cannnot reject to the null hypothesis and cannot make any conclusions about the difference in average order size.\n",
    "<br>\n",
    "\n",
    "*The graph showing the difference in conversion between the groups tells us that  group B is the better group in which in invest resources. They generate greater cumulative revenue and have higher average order sizes.*\n",
    " Thus we decided to stop the test, call it a success, considering group B better than group A."
   ]
  }
 ],
 "metadata": {
  "kernelspec": {
   "display_name": "Python 3",
   "language": "python",
   "name": "python3"
  },
  "language_info": {
   "codemirror_mode": {
    "name": "ipython",
    "version": 3
   },
   "file_extension": ".py",
   "mimetype": "text/x-python",
   "name": "python",
   "nbconvert_exporter": "python",
   "pygments_lexer": "ipython3",
   "version": "3.8.5"
  },
  "toc": {
   "base_numbering": 1,
   "nav_menu": {},
   "number_sections": true,
   "sideBar": true,
   "skip_h1_title": true,
   "title_cell": "Table of Contents",
   "title_sidebar": "Contents",
   "toc_cell": false,
   "toc_position": {},
   "toc_section_display": true,
   "toc_window_display": false
  }
 },
 "nbformat": 4,
 "nbformat_minor": 2
}
