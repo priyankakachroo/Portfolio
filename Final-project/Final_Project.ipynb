{
 "cells": [
  {
   "cell_type": "markdown",
   "metadata": {},
   "source": [
    "<font color='blue'><h1>Telecom: Identifying Ineffective Operators </h1></font>"
   ]
  },
  {
   "cell_type": "markdown",
   "metadata": {},
   "source": [
    "# Project description "
   ]
  },
  {
   "cell_type": "markdown",
   "metadata": {},
   "source": [
    "*The virtual telephony service CallMeMaybe is developing a new function that will give supervisors information on the least effective operators. An operator is considered ineffective if they have a large number of missed incoming calls (internal and external) and a long waiting time for incoming calls. Moreover, if an operator is supposed to make outgoing calls, a small number of them is also a sign of ineffectiveness.The datasets contain data on the use of the virtual telephony service CallMeMaybe. Its clients are organizations that need to distribute large numbers of incoming calls among various operators, or make outgoing calls through their operators. Operators can also make internal calls to communicate with one another. These calls go through CallMeMaybe's network.*\n",
    "\n",
    "The dataset `telecom_dataset_us.csv` contains the following columns:\n",
    "1. user_id — client account ID\n",
    "2. date` — date the statistics were retrieved\n",
    "3. direction` — call direction (`out` for outgoing, `in` for incoming)\n",
    "4. internal` — whether the call was internal (between a client's operators)\n",
    "5. operator_id` — operator identifier\n",
    "6. is_missed_call` — whether the call was missed\n",
    "7. calls_count` — number of calls\n",
    "8. call_duration` — call duration (excluding waiting time)\n",
    "9. total_call_duration` — call duration (including waiting time)\n",
    " \n",
    "The dataset telecom_clients_us.csv contains the following columns:\n",
    "1. user_id\n",
    "2. tarrif_plan\n",
    "3. date_start"
   ]
  },
  {
   "cell_type": "markdown",
   "metadata": {},
   "source": [
    "### Table of Contents\n",
    "* [1. Download the data and prepare it for analysis](#h1)\n",
    "    * [1.1 Importing library files](#sh1.1)\n",
    "    * [1.2 Reading given data](#sh1.2)\n",
    "    * [1.3 Data Preprocessing](#sh1.3)\n",
    "    * [1.4 Conclusion](#sh1.4)\n",
    "* [2. Carry out exploratory data analysis](#h2)\n",
    "    * [2.1 Analysing outgoing and incoming calls](#sh2.1)\n",
    "        * [2.1.1 plotting pie chart of incoming and outgoing calls ](#sh2.1.1)\n",
    "        * [2.1.1 Looking at the average number of incoming and outgoing calls ](#sh2.1.1)\n",
    "        * [2.1.2 Analyse the waiting time for incoming calls](#sh2.1.2)\n",
    "        * [2.1.3 Determine the number of ineffective operators. Plotting histograms](#sh2.1.3)\n",
    "    * [2.2 Plotting histogram for tarrif plan and anlyzing the duration of calls per day ](#sh2.2)\n",
    "    * [2.3 Describe the customers' behavior. Find the tariff_plan, call duration, and missed call of users per month. Calculate the mean, dispersion, and standard deviation. Plot histograms. Describe the distributions. ](#sh2.3)\n",
    "* [3. Hypothesis](#h3)\n",
    "   * [3.1  Average call duration for ineffective operators and effective operators are the same. ](#sh2.1) \n",
    "* [4. Conclusion](#h4)"
   ]
  },
  {
   "cell_type": "markdown",
   "metadata": {},
   "source": [
    "<font color='green'><h2> Step 1.IMPORTING FILES AND DOWNLOADING THE DATA <a class=\"anchor\" id=\"h1\"></a></h2></font>"
   ]
  },
  {
   "cell_type": "markdown",
   "metadata": {},
   "source": [
    "<font color='green'><h3>Importing library files<a class=\"anchor\" id=\"h3.5\"></a></h3></font>"
   ]
  },
  {
   "cell_type": "code",
   "execution_count": 1,
   "metadata": {},
   "outputs": [],
   "source": [
    "import pandas as pd\n",
    "import numpy as np\n",
    "import matplotlib\n",
    "import matplotlib.pyplot as plt\n",
    "import seaborn as sns\n",
    "import matplotlib.dates as mdates\n",
    "import datetime \n",
    "import matplotlib.dates\n",
    "from scipy import stats as st"
   ]
  },
  {
   "cell_type": "markdown",
   "metadata": {},
   "source": [
    "<font color='green'><h3>Reading given data<a class=\"anchor\" id=\"h3.5\"></a></h3></font>"
   ]
  },
  {
   "cell_type": "code",
   "execution_count": 2,
   "metadata": {},
   "outputs": [
    {
     "name": "stdout",
     "output_type": "stream",
     "text": [
      "<class 'pandas.core.frame.DataFrame'>\n",
      "RangeIndex: 53902 entries, 0 to 53901\n",
      "Data columns (total 9 columns):\n",
      "user_id                53902 non-null int64\n",
      "date                   53902 non-null object\n",
      "direction              53902 non-null object\n",
      "internal               53785 non-null object\n",
      "operator_id            45730 non-null float64\n",
      "is_missed_call         53902 non-null bool\n",
      "calls_count            53902 non-null int64\n",
      "call_duration          53902 non-null int64\n",
      "total_call_duration    53902 non-null int64\n",
      "dtypes: bool(1), float64(1), int64(4), object(3)\n",
      "memory usage: 3.3+ MB\n"
     ]
    },
    {
     "data": {
      "text/html": [
       "<div>\n",
       "<style scoped>\n",
       "    .dataframe tbody tr th:only-of-type {\n",
       "        vertical-align: middle;\n",
       "    }\n",
       "\n",
       "    .dataframe tbody tr th {\n",
       "        vertical-align: top;\n",
       "    }\n",
       "\n",
       "    .dataframe thead th {\n",
       "        text-align: right;\n",
       "    }\n",
       "</style>\n",
       "<table border=\"1\" class=\"dataframe\">\n",
       "  <thead>\n",
       "    <tr style=\"text-align: right;\">\n",
       "      <th></th>\n",
       "      <th>user_id</th>\n",
       "      <th>date</th>\n",
       "      <th>direction</th>\n",
       "      <th>internal</th>\n",
       "      <th>operator_id</th>\n",
       "      <th>is_missed_call</th>\n",
       "      <th>calls_count</th>\n",
       "      <th>call_duration</th>\n",
       "      <th>total_call_duration</th>\n",
       "    </tr>\n",
       "  </thead>\n",
       "  <tbody>\n",
       "    <tr>\n",
       "      <td>0</td>\n",
       "      <td>166377</td>\n",
       "      <td>2019-08-04 00:00:00+03:00</td>\n",
       "      <td>in</td>\n",
       "      <td>False</td>\n",
       "      <td>NaN</td>\n",
       "      <td>True</td>\n",
       "      <td>2</td>\n",
       "      <td>0</td>\n",
       "      <td>4</td>\n",
       "    </tr>\n",
       "    <tr>\n",
       "      <td>1</td>\n",
       "      <td>166377</td>\n",
       "      <td>2019-08-05 00:00:00+03:00</td>\n",
       "      <td>out</td>\n",
       "      <td>True</td>\n",
       "      <td>880022.0</td>\n",
       "      <td>True</td>\n",
       "      <td>3</td>\n",
       "      <td>0</td>\n",
       "      <td>5</td>\n",
       "    </tr>\n",
       "    <tr>\n",
       "      <td>2</td>\n",
       "      <td>166377</td>\n",
       "      <td>2019-08-05 00:00:00+03:00</td>\n",
       "      <td>out</td>\n",
       "      <td>True</td>\n",
       "      <td>880020.0</td>\n",
       "      <td>True</td>\n",
       "      <td>1</td>\n",
       "      <td>0</td>\n",
       "      <td>1</td>\n",
       "    </tr>\n",
       "    <tr>\n",
       "      <td>3</td>\n",
       "      <td>166377</td>\n",
       "      <td>2019-08-05 00:00:00+03:00</td>\n",
       "      <td>out</td>\n",
       "      <td>True</td>\n",
       "      <td>880020.0</td>\n",
       "      <td>False</td>\n",
       "      <td>1</td>\n",
       "      <td>10</td>\n",
       "      <td>18</td>\n",
       "    </tr>\n",
       "    <tr>\n",
       "      <td>4</td>\n",
       "      <td>166377</td>\n",
       "      <td>2019-08-05 00:00:00+03:00</td>\n",
       "      <td>out</td>\n",
       "      <td>False</td>\n",
       "      <td>880022.0</td>\n",
       "      <td>True</td>\n",
       "      <td>3</td>\n",
       "      <td>0</td>\n",
       "      <td>25</td>\n",
       "    </tr>\n",
       "  </tbody>\n",
       "</table>\n",
       "</div>"
      ],
      "text/plain": [
       "   user_id                       date direction internal  operator_id  \\\n",
       "0   166377  2019-08-04 00:00:00+03:00        in    False          NaN   \n",
       "1   166377  2019-08-05 00:00:00+03:00       out     True     880022.0   \n",
       "2   166377  2019-08-05 00:00:00+03:00       out     True     880020.0   \n",
       "3   166377  2019-08-05 00:00:00+03:00       out     True     880020.0   \n",
       "4   166377  2019-08-05 00:00:00+03:00       out    False     880022.0   \n",
       "\n",
       "   is_missed_call  calls_count  call_duration  total_call_duration  \n",
       "0            True            2              0                    4  \n",
       "1            True            3              0                    5  \n",
       "2            True            1              0                    1  \n",
       "3           False            1             10                   18  \n",
       "4            True            3              0                   25  "
      ]
     },
     "metadata": {},
     "output_type": "display_data"
    }
   ],
   "source": [
    "# Open data files telecom dataset\n",
    "df_data = pd.read_csv('/datasets/telecom_dataset_us.csv')\n",
    "\n",
    "# Study general information\n",
    "df_data.info()\n",
    "display(df_data.head())"
   ]
  },
  {
   "cell_type": "code",
   "execution_count": 3,
   "metadata": {},
   "outputs": [
    {
     "name": "stdout",
     "output_type": "stream",
     "text": [
      "<class 'pandas.core.frame.DataFrame'>\n",
      "RangeIndex: 732 entries, 0 to 731\n",
      "Data columns (total 3 columns):\n",
      "user_id        732 non-null int64\n",
      "tariff_plan    732 non-null object\n",
      "date_start     732 non-null object\n",
      "dtypes: int64(1), object(2)\n",
      "memory usage: 17.3+ KB\n"
     ]
    },
    {
     "data": {
      "text/html": [
       "<div>\n",
       "<style scoped>\n",
       "    .dataframe tbody tr th:only-of-type {\n",
       "        vertical-align: middle;\n",
       "    }\n",
       "\n",
       "    .dataframe tbody tr th {\n",
       "        vertical-align: top;\n",
       "    }\n",
       "\n",
       "    .dataframe thead th {\n",
       "        text-align: right;\n",
       "    }\n",
       "</style>\n",
       "<table border=\"1\" class=\"dataframe\">\n",
       "  <thead>\n",
       "    <tr style=\"text-align: right;\">\n",
       "      <th></th>\n",
       "      <th>user_id</th>\n",
       "      <th>tariff_plan</th>\n",
       "      <th>date_start</th>\n",
       "    </tr>\n",
       "  </thead>\n",
       "  <tbody>\n",
       "    <tr>\n",
       "      <td>0</td>\n",
       "      <td>166713</td>\n",
       "      <td>A</td>\n",
       "      <td>2019-08-15</td>\n",
       "    </tr>\n",
       "    <tr>\n",
       "      <td>1</td>\n",
       "      <td>166901</td>\n",
       "      <td>A</td>\n",
       "      <td>2019-08-23</td>\n",
       "    </tr>\n",
       "    <tr>\n",
       "      <td>2</td>\n",
       "      <td>168527</td>\n",
       "      <td>A</td>\n",
       "      <td>2019-10-29</td>\n",
       "    </tr>\n",
       "    <tr>\n",
       "      <td>3</td>\n",
       "      <td>167097</td>\n",
       "      <td>A</td>\n",
       "      <td>2019-09-01</td>\n",
       "    </tr>\n",
       "    <tr>\n",
       "      <td>4</td>\n",
       "      <td>168193</td>\n",
       "      <td>A</td>\n",
       "      <td>2019-10-16</td>\n",
       "    </tr>\n",
       "  </tbody>\n",
       "</table>\n",
       "</div>"
      ],
      "text/plain": [
       "   user_id tariff_plan  date_start\n",
       "0   166713           A  2019-08-15\n",
       "1   166901           A  2019-08-23\n",
       "2   168527           A  2019-10-29\n",
       "3   167097           A  2019-09-01\n",
       "4   168193           A  2019-10-16"
      ]
     },
     "metadata": {},
     "output_type": "display_data"
    }
   ],
   "source": [
    "# Open data files\n",
    "df_clients = pd.read_csv('/datasets/telecom_clients_us.csv')\n",
    "\n",
    "# Study general information\n",
    "df_clients.info()\n",
    "display(df_clients.head())\n"
   ]
  },
  {
   "cell_type": "markdown",
   "metadata": {},
   "source": [
    "Here we read out general details of the two datasets df_data and df_clients \n",
    "The  dataset telecom_dataset_us.csv contains the following columns:\n",
    "1. user_id — client account ID\n",
    "2. date — date the statistics were retrieved\n",
    "3. direction — call direction (out for outgoing, in for incoming)\n",
    "4. internal -whether the call was internal (between a client's operators)\n",
    "5. operator_id -operator identifier\n",
    "6. is_missed_call - whether call is missed\n",
    "7. call_cóunt - number of call\n",
    "8. call_duration -excluding waiting time\n",
    "9. total_call duration - including waiting time \n",
    "<br>\n",
    "<br>\n",
    "The dataset telecom_clients_us.csv has the following columns:\n",
    "*. user_id - client id\n",
    "*. tariff_plan - client's current plan\n",
    "*. date_start - client registration date "
   ]
  },
  {
   "cell_type": "markdown",
   "metadata": {},
   "source": [
    "<font color='green'><h3>DATA PREPROCESSING<a class=\"anchor\" id=\"h3.5\"></a></h3></font>\n"
   ]
  },
  {
   "cell_type": "code",
   "execution_count": 4,
   "metadata": {},
   "outputs": [
    {
     "name": "stdout",
     "output_type": "stream",
     "text": [
      "Telecom_data\n",
      "       user_id                       date direction internal  operator_id  \\\n",
      "8       166377  2019-08-05 00:00:00+03:00       out    False     880020.0   \n",
      "28      166377  2019-08-12 00:00:00+03:00        in    False          NaN   \n",
      "44      166377  2019-08-14 00:00:00+03:00       out    False     880026.0   \n",
      "45      166377  2019-08-14 00:00:00+03:00        in    False          NaN   \n",
      "51      166377  2019-08-15 00:00:00+03:00       out    False     880026.0   \n",
      "...        ...                        ...       ...      ...          ...   \n",
      "53869   168601  2019-11-25 00:00:00+03:00        in    False     952914.0   \n",
      "53874   168601  2019-11-26 00:00:00+03:00        in    False     952914.0   \n",
      "53875   168601  2019-11-26 00:00:00+03:00        in    False          NaN   \n",
      "53885   168603  2019-11-20 00:00:00+03:00       out    False     959118.0   \n",
      "53900   168606  2019-11-15 00:00:00+03:00       out     True     957922.0   \n",
      "\n",
      "       is_missed_call  calls_count  call_duration  total_call_duration  \n",
      "8                True            8              0                   50  \n",
      "28               True            2              0                   34  \n",
      "44              False           10           1567                 1654  \n",
      "45               True            1              0                    3  \n",
      "51              False           11           1413                 1473  \n",
      "...               ...          ...            ...                  ...  \n",
      "53869           False            7           1229                 1282  \n",
      "53874           False            4            539                  562  \n",
      "53875            True            3              0                   35  \n",
      "53885            True            3              0                   89  \n",
      "53900           False            4           3130                 3190  \n",
      "\n",
      "[4900 rows x 9 columns]\n",
      "Telecom_client\n",
      "Empty DataFrame\n",
      "Columns: [user_id, tariff_plan, date_start]\n",
      "Index: []\n"
     ]
    }
   ],
   "source": [
    "#checking and analysing different dataframes\n",
    "list_of_dfs = {'Telecom_data':df_data,'Telecom_client':df_clients}\n",
    "\n",
    "for key in list_of_dfs:\n",
    "    print(key)\n",
    "    x = list_of_dfs[key][list_of_dfs[key].duplicated()]\n",
    "    print(x)     \n"
   ]
  },
  {
   "cell_type": "code",
   "execution_count": 5,
   "metadata": {},
   "outputs": [],
   "source": [
    "#checking duplicates in the dataframes and dropping duplicates\n",
    "# drop null values for internal and operator_id\n",
    "df_data.drop_duplicates(inplace = True)\n",
    "df_data.dropna(subset=['internal', 'operator_id'], inplace=True)\n"
   ]
  },
  {
   "cell_type": "code",
   "execution_count": 6,
   "metadata": {},
   "outputs": [],
   "source": [
    "#converting date to datetime in both dataframes df_data and df_clients\n",
    "df_data['date'] = pd.to_datetime(df_data['date'], format=\"%Y-%m-%d\").dt.date\n",
    "df_clients['date_start'] = pd.to_datetime(df_clients['date_start'], format=\"%Y-%m-%d\").dt.date\n",
    "# convert operator_id from float to int\n",
    "df_data['operator_id'] = df_data['operator_id'].astype(int)\n",
    "\n",
    "data = pd.merge(df_data, df_clients, on='user_id')\n"
   ]
  },
  {
   "cell_type": "code",
   "execution_count": 7,
   "metadata": {},
   "outputs": [
    {
     "name": "stdout",
     "output_type": "stream",
     "text": [
      "user_id                 1045.0\n",
      "operator_id            36918.0\n",
      "is_missed_call             1.0\n",
      "calls_count               13.0\n",
      "call_duration            772.0\n",
      "total_call_duration     1040.0\n",
      "dtype: float64\n"
     ]
    },
    {
     "data": {
      "text/plain": [
       "(34120, 11)"
      ]
     },
     "execution_count": 7,
     "metadata": {},
     "output_type": "execute_result"
    }
   ],
   "source": [
    "#checking and removing outliers by IQR method\n",
    "Q1 = data.quantile(0.25)\n",
    "Q3 = data.quantile(0.75)\n",
    "IQR = Q3 - Q1\n",
    "print(IQR)\n",
    "data = data[~((data < (Q1 - 1.5 * IQR)) |(data > (Q3 + 1.5 * IQR))).any(axis=1)]\n",
    "data.shape"
   ]
  },
  {
   "cell_type": "markdown",
   "metadata": {},
   "source": [
    "In data preprocessing phase,first of all we will check data duplicate entries in both the dataframes ,then removing unwanted data , and changing the datatypes for further analysis of calculation\n",
    "1. checking duplicated data it can be seen that in df_data there are 4900 rows with duplicate entries and in df_clients there it shows empty dataframe.Therefore we removed the duplicate entries.\n",
    "2. drop null values for internal and operator_id  columns in combination.\n",
    "3. then we converted the dates in both datasets df_clients and df_data into datetime format and changed the operator_id to int \n",
    "4. we removed the outliers by using IQR method, as The interquartile range (IQR), also called the midspread or middle 50%, or technically H-spread, is a measure of statistical dispersion, being equal to the difference between 75th and 25th percentiles, or between upper and lower quartiles, IQR = Q3 − Q1.we are left with 34120 rows."
   ]
  },
  {
   "cell_type": "markdown",
   "metadata": {},
   "source": [
    "**CONCLUSION**\n"
   ]
  },
  {
   "cell_type": "markdown",
   "metadata": {},
   "source": [
    "<font color='green'><h2> Step 2.Carry out exploratory data analysis<a class=\"anchor\" id=\"h1\"></a></h2></font>"
   ]
  },
  {
   "cell_type": "markdown",
   "metadata": {},
   "source": [
    "<font color='green'><h3>Analysing outgoing and incoming calls<a class=\"anchor\" id=\"h3.5\"></a></h3></font>\n",
    "\n"
   ]
  },
  {
   "cell_type": "markdown",
   "metadata": {},
   "source": [
    "<font color='green'><h4>plotting pie chart of incoming and outgoing calls<a class=\"anchor\" id=\"h4\"></a></h4></font>\n",
    "\n"
   ]
  },
  {
   "cell_type": "code",
   "execution_count": 8,
   "metadata": {},
   "outputs": [
    {
     "data": {
      "image/png": "[encoded data removed]",
      "text/plain": [
       "<Figure size 720x360 with 1 Axes>"
      ]
     },
     "metadata": {},
     "output_type": "display_data"
    }
   ],
   "source": [
    "# plotting pie chart of incoming and outgoing calls\n",
    "plt.figure(figsize=(10, 5))\n",
    "\n",
    "analyse_calls = df_data.groupby('internal')['operator_id'].count().reset_index()\n",
    "analyse_calls.columns = ['internal', 'count']\n",
    "\n",
    "labels = ['False', 'True']\n",
    "plt.pie(analyse_calls['count'], labels=labels, autopct='%0.f%%', shadow=True, startangle=145)\n",
    "plt.title('Shares of Internal and external calls')\n",
    "plt.show()"
   ]
  },
  {
   "cell_type": "markdown",
   "metadata": {},
   "source": [
    "while analysing the internal and external calls it can be seen from the pie chart above that 87 percent of the calls are external calls , only 13% are internal calls with the clients."
   ]
  },
  {
   "cell_type": "markdown",
   "metadata": {},
   "source": [
    "<font color='green'><h4>Looking at the average number of incoming and outgoing calls <a class=\"anchor\" id=\"h4\"></a></h4></font>\n",
    "\n"
   ]
  },
  {
   "cell_type": "code",
   "execution_count": 9,
   "metadata": {},
   "outputs": [
    {
     "name": "stdout",
     "output_type": "stream",
     "text": [
      "The average number of outgoing calls per operator is: calls_count    166.0\n",
      "dtype: float64\n",
      "The average number of incoming calls per operator is: calls_count    62.0\n",
      "dtype: float64\n"
     ]
    }
   ],
   "source": [
    "# calculating waiting time \n",
    "data['in_waiting_time_sec'] = data['total_call_duration'] - data['call_duration']\n",
    "outgoing_data = data[data['direction'] == 'out']\n",
    "incoming_data = data[data['direction'] == 'in']\n",
    "#calculating average number of incoming and outgoing calls\n",
    "avg_outgoing_per_op = outgoing_data.groupby('operator_id').agg({'calls_count' : 'sum'}).mean().round() \n",
    "avg_incoming_per_op = incoming_data.groupby('operator_id').agg({'calls_count' : 'sum'}).mean().round()\n",
    "print('The average number of outgoing calls per operator is: ' + str(avg_outgoing_per_op))\n",
    "print('The average number of incoming calls per operator is: ' + str(avg_incoming_per_op))\n",
    "\n"
   ]
  },
  {
   "cell_type": "markdown",
   "metadata": {},
   "source": [
    " In this first of all we merged the tables and calculated waiting time it can be seen that most of the calls are outgoing ,as the average number of outgoing calls per operator is: 166.0 and incoming calls per operator is: 62.0, so the outgoing calls are more neraly 3 times to incoming calls"
   ]
  },
  {
   "cell_type": "markdown",
   "metadata": {},
   "source": [
    "<font color='green'><h4>Analysing large number of missed calls <a class=\"anchor\" id=\"h4\"></a></h4></font>\n",
    "\n"
   ]
  },
  {
   "cell_type": "code",
   "execution_count": 10,
   "metadata": {},
   "outputs": [
    {
     "data": {
      "text/html": [
       "<div>\n",
       "<style scoped>\n",
       "    .dataframe tbody tr th:only-of-type {\n",
       "        vertical-align: middle;\n",
       "    }\n",
       "\n",
       "    .dataframe tbody tr th {\n",
       "        vertical-align: top;\n",
       "    }\n",
       "\n",
       "    .dataframe thead th {\n",
       "        text-align: right;\n",
       "    }\n",
       "</style>\n",
       "<table border=\"1\" class=\"dataframe\">\n",
       "  <thead>\n",
       "    <tr style=\"text-align: right;\">\n",
       "      <th></th>\n",
       "      <th>operator_id</th>\n",
       "      <th>missed_call_count</th>\n",
       "      <th>many_missed_calls</th>\n",
       "    </tr>\n",
       "  </thead>\n",
       "  <tbody>\n",
       "    <tr>\n",
       "      <td>0</td>\n",
       "      <td>882680</td>\n",
       "      <td>3</td>\n",
       "      <td>False</td>\n",
       "    </tr>\n",
       "    <tr>\n",
       "      <td>1</td>\n",
       "      <td>882684</td>\n",
       "      <td>4</td>\n",
       "      <td>False</td>\n",
       "    </tr>\n",
       "    <tr>\n",
       "      <td>2</td>\n",
       "      <td>882686</td>\n",
       "      <td>6</td>\n",
       "      <td>False</td>\n",
       "    </tr>\n",
       "    <tr>\n",
       "      <td>3</td>\n",
       "      <td>882690</td>\n",
       "      <td>2</td>\n",
       "      <td>False</td>\n",
       "    </tr>\n",
       "    <tr>\n",
       "      <td>4</td>\n",
       "      <td>884408</td>\n",
       "      <td>4</td>\n",
       "      <td>False</td>\n",
       "    </tr>\n",
       "    <tr>\n",
       "      <td>...</td>\n",
       "      <td>...</td>\n",
       "      <td>...</td>\n",
       "      <td>...</td>\n",
       "    </tr>\n",
       "    <tr>\n",
       "      <td>234</td>\n",
       "      <td>959312</td>\n",
       "      <td>7</td>\n",
       "      <td>False</td>\n",
       "    </tr>\n",
       "    <tr>\n",
       "      <td>235</td>\n",
       "      <td>960620</td>\n",
       "      <td>1</td>\n",
       "      <td>False</td>\n",
       "    </tr>\n",
       "    <tr>\n",
       "      <td>236</td>\n",
       "      <td>964510</td>\n",
       "      <td>2</td>\n",
       "      <td>False</td>\n",
       "    </tr>\n",
       "    <tr>\n",
       "      <td>237</td>\n",
       "      <td>964666</td>\n",
       "      <td>3</td>\n",
       "      <td>False</td>\n",
       "    </tr>\n",
       "    <tr>\n",
       "      <td>238</td>\n",
       "      <td>969272</td>\n",
       "      <td>1</td>\n",
       "      <td>False</td>\n",
       "    </tr>\n",
       "  </tbody>\n",
       "</table>\n",
       "<p>239 rows × 3 columns</p>\n",
       "</div>"
      ],
      "text/plain": [
       "     operator_id  missed_call_count many_missed_calls\n",
       "0         882680                  3             False\n",
       "1         882684                  4             False\n",
       "2         882686                  6             False\n",
       "3         882690                  2             False\n",
       "4         884408                  4             False\n",
       "..           ...                ...               ...\n",
       "234       959312                  7             False\n",
       "235       960620                  1             False\n",
       "236       964510                  2             False\n",
       "237       964666                  3             False\n",
       "238       969272                  1             False\n",
       "\n",
       "[239 rows x 3 columns]"
      ]
     },
     "metadata": {},
     "output_type": "display_data"
    }
   ],
   "source": [
    "# analysing data where missed calls is true and groupby operator_id\n",
    "#op_missed_calls = incoming_data[incoming_data['is_missed_call'] == True]\n",
    "op_missed_calls = (incoming_data[incoming_data['is_missed_call'] == True]\n",
    "                       .groupby('operator_id')['calls_count']\n",
    "                       .sum()\n",
    "                       .reset_index())\n",
    "op_missed_calls.columns = ['operator_id', 'missed_call_count']\n",
    "\n",
    "avg_missed_incoming_calls_per_op = op_missed_calls.mean()['missed_call_count'].round()\n",
    "\n",
    "# calculate 1 sigma to use as a measure\n",
    "wait_mean = op_missed_calls['missed_call_count'].mean()\n",
    "wait_std = op_missed_calls['missed_call_count'].std()\n",
    "sigma = wait_mean + (1 * wait_std)\n",
    "\n",
    "# group rows into missed callcategories\n",
    "def determineMissedCalls(row):\n",
    "    missed_call = row['missed_call_count']\n",
    "    \n",
    "    # if  num of missed calls per op is less than avg\n",
    "    if missed_call < sigma:\n",
    "        return 'False'\n",
    "    else:\n",
    "        return 'True'\n",
    "    \n",
    "op_missed_calls['many_missed_calls'] = op_missed_calls.apply(determineMissedCalls, axis=1)\n",
    "display(op_missed_calls)"
   ]
  },
  {
   "cell_type": "markdown",
   "metadata": {},
   "source": [
    "In this we analysed larged number of missed calls ,for that first of all we calculated missed_call_count for each operator then calculated mean  and then compared the total average number of missed call per operator for that operator. An operator is given False under many_missed_calls column if their average number of missed calls is less than the total average number of missed calls.we obtain many_missed _call in the bolean form.Here we found out that there are 239 operators with many missed calls\n"
   ]
  },
  {
   "cell_type": "code",
   "execution_count": 11,
   "metadata": {},
   "outputs": [
    {
     "data": {
      "text/html": [
       "<div>\n",
       "<style scoped>\n",
       "    .dataframe tbody tr th:only-of-type {\n",
       "        vertical-align: middle;\n",
       "    }\n",
       "\n",
       "    .dataframe tbody tr th {\n",
       "        vertical-align: top;\n",
       "    }\n",
       "\n",
       "    .dataframe thead th {\n",
       "        text-align: right;\n",
       "    }\n",
       "</style>\n",
       "<table border=\"1\" class=\"dataframe\">\n",
       "  <thead>\n",
       "    <tr style=\"text-align: right;\">\n",
       "      <th></th>\n",
       "      <th>operator_id</th>\n",
       "      <th>missed_call_count</th>\n",
       "    </tr>\n",
       "  </thead>\n",
       "  <tbody>\n",
       "    <tr>\n",
       "      <td>0</td>\n",
       "      <td>882680</td>\n",
       "      <td>3</td>\n",
       "    </tr>\n",
       "    <tr>\n",
       "      <td>1</td>\n",
       "      <td>882684</td>\n",
       "      <td>4</td>\n",
       "    </tr>\n",
       "    <tr>\n",
       "      <td>2</td>\n",
       "      <td>882686</td>\n",
       "      <td>6</td>\n",
       "    </tr>\n",
       "    <tr>\n",
       "      <td>3</td>\n",
       "      <td>882690</td>\n",
       "      <td>2</td>\n",
       "    </tr>\n",
       "    <tr>\n",
       "      <td>4</td>\n",
       "      <td>884408</td>\n",
       "      <td>4</td>\n",
       "    </tr>\n",
       "  </tbody>\n",
       "</table>\n",
       "</div>"
      ],
      "text/plain": [
       "   operator_id  missed_call_count\n",
       "0       882680                  3\n",
       "1       882684                  4\n",
       "2       882686                  6\n",
       "3       882690                  2\n",
       "4       884408                  4"
      ]
     },
     "execution_count": 11,
     "metadata": {},
     "output_type": "execute_result"
    }
   ],
   "source": [
    "# the reviewer code:\n",
    "\n",
    "# let's see the data:\n",
    "incoming_data.head(2)\n",
    "\n",
    "# the calls_count column contains the number of missing values, so it is better to use this way to calculate the \n",
    "# number of missing values per operator:\n",
    "rev_op_missed_calls = (incoming_data[incoming_data['is_missed_call'] == True]\n",
    "                       .groupby('operator_id')['calls_count']\n",
    "                       .sum()\n",
    "                       .reset_index())\n",
    "rev_op_missed_calls.columns = ['operator_id', 'missed_call_count']\n",
    "rev_op_missed_calls.head()"
   ]
  },
  {
   "cell_type": "markdown",
   "metadata": {},
   "source": [
    "<font color='green'><h4>Analyse the waiting time for incoming calls <a class=\"anchor\" id=\"h4\"></a></h4></font>\n",
    "\n"
   ]
  },
  {
   "cell_type": "code",
   "execution_count": 12,
   "metadata": {},
   "outputs": [
    {
     "name": "stdout",
     "output_type": "stream",
     "text": [
      "The total average waiting time incoming calls: 62.0 seconds\n"
     ]
    },
    {
     "data": {
      "text/html": [
       "<div>\n",
       "<style scoped>\n",
       "    .dataframe tbody tr th:only-of-type {\n",
       "        vertical-align: middle;\n",
       "    }\n",
       "\n",
       "    .dataframe tbody tr th {\n",
       "        vertical-align: top;\n",
       "    }\n",
       "\n",
       "    .dataframe thead th {\n",
       "        text-align: right;\n",
       "    }\n",
       "</style>\n",
       "<table border=\"1\" class=\"dataframe\">\n",
       "  <thead>\n",
       "    <tr style=\"text-align: right;\">\n",
       "      <th></th>\n",
       "      <th>operator_id</th>\n",
       "      <th>in_waiting_time_sec</th>\n",
       "      <th>long_waiting_time</th>\n",
       "    </tr>\n",
       "  </thead>\n",
       "  <tbody>\n",
       "    <tr>\n",
       "      <td>0</td>\n",
       "      <td>879896</td>\n",
       "      <td>27.0</td>\n",
       "      <td>False</td>\n",
       "    </tr>\n",
       "    <tr>\n",
       "      <td>1</td>\n",
       "      <td>879898</td>\n",
       "      <td>30.0</td>\n",
       "      <td>False</td>\n",
       "    </tr>\n",
       "    <tr>\n",
       "      <td>2</td>\n",
       "      <td>880020</td>\n",
       "      <td>8.0</td>\n",
       "      <td>False</td>\n",
       "    </tr>\n",
       "    <tr>\n",
       "      <td>3</td>\n",
       "      <td>880022</td>\n",
       "      <td>14.0</td>\n",
       "      <td>False</td>\n",
       "    </tr>\n",
       "    <tr>\n",
       "      <td>4</td>\n",
       "      <td>880026</td>\n",
       "      <td>8.0</td>\n",
       "      <td>False</td>\n",
       "    </tr>\n",
       "    <tr>\n",
       "      <td>...</td>\n",
       "      <td>...</td>\n",
       "      <td>...</td>\n",
       "      <td>...</td>\n",
       "    </tr>\n",
       "    <tr>\n",
       "      <td>749</td>\n",
       "      <td>971102</td>\n",
       "      <td>18.0</td>\n",
       "      <td>False</td>\n",
       "    </tr>\n",
       "    <tr>\n",
       "      <td>750</td>\n",
       "      <td>971354</td>\n",
       "      <td>42.0</td>\n",
       "      <td>False</td>\n",
       "    </tr>\n",
       "    <tr>\n",
       "      <td>751</td>\n",
       "      <td>972412</td>\n",
       "      <td>25.0</td>\n",
       "      <td>False</td>\n",
       "    </tr>\n",
       "    <tr>\n",
       "      <td>752</td>\n",
       "      <td>972460</td>\n",
       "      <td>4.0</td>\n",
       "      <td>False</td>\n",
       "    </tr>\n",
       "    <tr>\n",
       "      <td>753</td>\n",
       "      <td>973286</td>\n",
       "      <td>88.0</td>\n",
       "      <td>False</td>\n",
       "    </tr>\n",
       "  </tbody>\n",
       "</table>\n",
       "<p>754 rows × 3 columns</p>\n",
       "</div>"
      ],
      "text/plain": [
       "     operator_id  in_waiting_time_sec long_waiting_time\n",
       "0         879896                 27.0             False\n",
       "1         879898                 30.0             False\n",
       "2         880020                  8.0             False\n",
       "3         880022                 14.0             False\n",
       "4         880026                  8.0             False\n",
       "..           ...                  ...               ...\n",
       "749       971102                 18.0             False\n",
       "750       971354                 42.0             False\n",
       "751       972412                 25.0             False\n",
       "752       972460                  4.0             False\n",
       "753       973286                 88.0             False\n",
       "\n",
       "[754 rows x 3 columns]"
      ]
     },
     "metadata": {},
     "output_type": "display_data"
    }
   ],
   "source": [
    "\n",
    "# calculating mean and average waiting time for incoming calls \n",
    "\n",
    "avg_waiting_time_incoming_calls = incoming_data['in_waiting_time_sec'].mean().round()\n",
    "print('The total average waiting time incoming calls: ' + str(avg_waiting_time_incoming_calls) + \" seconds\")\n",
    "\n",
    "#get data where missed calls is true and calculating long waiting calls\n",
    "op_waiting_time = incoming_data.groupby('operator_id')['in_waiting_time_sec'].mean().round().reset_index()\n",
    "op_waiting_time\n",
    "# calculate 1 sigma to use as a measure\n",
    "wait_mean = incoming_data['in_waiting_time_sec'].mean()\n",
    "wait_std = incoming_data['in_waiting_time_sec'].std()\n",
    "sigma = wait_mean + (1 * wait_std)\n",
    "\n",
    "# group rows into wait time categories\n",
    "def determineWaitTime(row):\n",
    "    wait_time = row['in_waiting_time_sec']\n",
    "    \n",
    "    # if avg operator wait time is less than total avg wait time, not long waiting op\n",
    "    if wait_time < sigma:\n",
    "        return 'False'\n",
    "    else:\n",
    "        return 'True'\n",
    "    \n",
    "# determine if operators have a long wait time or not\n",
    "op_waiting_time['long_waiting_time'] = op_waiting_time.apply(determineWaitTime, axis=1)\n",
    "display(op_waiting_time)"
   ]
  },
  {
   "cell_type": "markdown",
   "metadata": {},
   "source": [
    "In this we analysed the waiting time by calculating The total average waiting time incoming calls: 98.0 seconds, taking waiting_time_sec per operator and calculating mean and then comparing the  total average number of waiting_time per operator for that operator. An operator is given False under long_waiting_time column if their average number of waiting_time is less than the total average number of waiting_time.Here we found out that there are 754 operators with long waiting time ."
   ]
  },
  {
   "cell_type": "markdown",
   "metadata": {},
   "source": [
    "<font color='green'><h4>Determine the number of ineffective operators.<a class=\"anchor\" id=\"h4\"></a></h4></font>\n",
    "\n"
   ]
  },
  {
   "cell_type": "code",
   "execution_count": 13,
   "metadata": {},
   "outputs": [
    {
     "data": {
      "text/html": [
       "<div>\n",
       "<style scoped>\n",
       "    .dataframe tbody tr th:only-of-type {\n",
       "        vertical-align: middle;\n",
       "    }\n",
       "\n",
       "    .dataframe tbody tr th {\n",
       "        vertical-align: top;\n",
       "    }\n",
       "\n",
       "    .dataframe thead th {\n",
       "        text-align: right;\n",
       "    }\n",
       "</style>\n",
       "<table border=\"1\" class=\"dataframe\">\n",
       "  <thead>\n",
       "    <tr style=\"text-align: right;\">\n",
       "      <th></th>\n",
       "      <th>operator_id</th>\n",
       "      <th>missed_call_count</th>\n",
       "      <th>many_missed_calls</th>\n",
       "      <th>in_waiting_time_sec</th>\n",
       "      <th>long_waiting_time</th>\n",
       "      <th>total_calls_count</th>\n",
       "      <th>few_outgoing_calls</th>\n",
       "    </tr>\n",
       "  </thead>\n",
       "  <tbody>\n",
       "    <tr>\n",
       "      <td>0</td>\n",
       "      <td>882684</td>\n",
       "      <td>4</td>\n",
       "      <td>False</td>\n",
       "      <td>71.0</td>\n",
       "      <td>False</td>\n",
       "      <td>401</td>\n",
       "      <td>False</td>\n",
       "    </tr>\n",
       "    <tr>\n",
       "      <td>1</td>\n",
       "      <td>882686</td>\n",
       "      <td>6</td>\n",
       "      <td>False</td>\n",
       "      <td>78.0</td>\n",
       "      <td>False</td>\n",
       "      <td>899</td>\n",
       "      <td>False</td>\n",
       "    </tr>\n",
       "    <tr>\n",
       "      <td>2</td>\n",
       "      <td>882690</td>\n",
       "      <td>2</td>\n",
       "      <td>False</td>\n",
       "      <td>275.0</td>\n",
       "      <td>True</td>\n",
       "      <td>328</td>\n",
       "      <td>False</td>\n",
       "    </tr>\n",
       "    <tr>\n",
       "      <td>3</td>\n",
       "      <td>884408</td>\n",
       "      <td>4</td>\n",
       "      <td>False</td>\n",
       "      <td>66.0</td>\n",
       "      <td>False</td>\n",
       "      <td>25</td>\n",
       "      <td>True</td>\n",
       "    </tr>\n",
       "    <tr>\n",
       "      <td>4</td>\n",
       "      <td>885876</td>\n",
       "      <td>20</td>\n",
       "      <td>True</td>\n",
       "      <td>79.0</td>\n",
       "      <td>False</td>\n",
       "      <td>315</td>\n",
       "      <td>False</td>\n",
       "    </tr>\n",
       "    <tr>\n",
       "      <td>...</td>\n",
       "      <td>...</td>\n",
       "      <td>...</td>\n",
       "      <td>...</td>\n",
       "      <td>...</td>\n",
       "      <td>...</td>\n",
       "      <td>...</td>\n",
       "      <td>...</td>\n",
       "    </tr>\n",
       "    <tr>\n",
       "      <td>193</td>\n",
       "      <td>959312</td>\n",
       "      <td>7</td>\n",
       "      <td>False</td>\n",
       "      <td>32.0</td>\n",
       "      <td>False</td>\n",
       "      <td>96</td>\n",
       "      <td>True</td>\n",
       "    </tr>\n",
       "    <tr>\n",
       "      <td>194</td>\n",
       "      <td>960620</td>\n",
       "      <td>1</td>\n",
       "      <td>False</td>\n",
       "      <td>75.0</td>\n",
       "      <td>False</td>\n",
       "      <td>58</td>\n",
       "      <td>True</td>\n",
       "    </tr>\n",
       "    <tr>\n",
       "      <td>195</td>\n",
       "      <td>964510</td>\n",
       "      <td>2</td>\n",
       "      <td>False</td>\n",
       "      <td>25.0</td>\n",
       "      <td>False</td>\n",
       "      <td>100</td>\n",
       "      <td>True</td>\n",
       "    </tr>\n",
       "    <tr>\n",
       "      <td>196</td>\n",
       "      <td>964666</td>\n",
       "      <td>3</td>\n",
       "      <td>False</td>\n",
       "      <td>64.0</td>\n",
       "      <td>False</td>\n",
       "      <td>34</td>\n",
       "      <td>True</td>\n",
       "    </tr>\n",
       "    <tr>\n",
       "      <td>197</td>\n",
       "      <td>969272</td>\n",
       "      <td>1</td>\n",
       "      <td>False</td>\n",
       "      <td>243.0</td>\n",
       "      <td>True</td>\n",
       "      <td>186</td>\n",
       "      <td>False</td>\n",
       "    </tr>\n",
       "  </tbody>\n",
       "</table>\n",
       "<p>198 rows × 7 columns</p>\n",
       "</div>"
      ],
      "text/plain": [
       "     operator_id  missed_call_count many_missed_calls  in_waiting_time_sec  \\\n",
       "0         882684                  4             False                 71.0   \n",
       "1         882686                  6             False                 78.0   \n",
       "2         882690                  2             False                275.0   \n",
       "3         884408                  4             False                 66.0   \n",
       "4         885876                 20              True                 79.0   \n",
       "..           ...                ...               ...                  ...   \n",
       "193       959312                  7             False                 32.0   \n",
       "194       960620                  1             False                 75.0   \n",
       "195       964510                  2             False                 25.0   \n",
       "196       964666                  3             False                 64.0   \n",
       "197       969272                  1             False                243.0   \n",
       "\n",
       "    long_waiting_time  total_calls_count few_outgoing_calls  \n",
       "0               False                401              False  \n",
       "1               False                899              False  \n",
       "2                True                328              False  \n",
       "3               False                 25               True  \n",
       "4               False                315              False  \n",
       "..                ...                ...                ...  \n",
       "193             False                 96               True  \n",
       "194             False                 58               True  \n",
       "195             False                100               True  \n",
       "196             False                 34               True  \n",
       "197              True                186              False  \n",
       "\n",
       "[198 rows x 7 columns]"
      ]
     },
     "execution_count": 13,
     "metadata": {},
     "output_type": "execute_result"
    }
   ],
   "source": [
    " #calculate number of outgoing calls per operators\n",
    "outgoing_per_op = (outgoing_data .groupby('operator_id')['calls_count']\n",
    "                       .sum()\n",
    "                       .reset_index())\n",
    "outgoing_per_op.columns = ['operator_id', 'total_calls_count']\n",
    "\n",
    "# calculate 1 sigma to use as a measure\n",
    "wait_mean = outgoing_per_op['total_calls_count'].mean()\n",
    "wait_std = outgoing_per_op['total_calls_count'].std()\n",
    "sigma = wait_mean + (1 * wait_std)\n",
    "\n",
    "\n",
    "# group rows into missed callcategories\n",
    "def determineOutgoingCalls(row):\n",
    "    outgoing_call = row['total_calls_count']\n",
    "    \n",
    "    # if op num of outgoing calls is greater than avg\n",
    "    if outgoing_call > wait_mean:\n",
    "        return 'False'\n",
    "    else:\n",
    "        return 'True'\n",
    "    \n",
    "outgoing_per_op['few_outgoing_calls'] = outgoing_per_op.apply(determineOutgoingCalls, axis=1)\n",
    "#display(outgoing_per_op[outgoing_per_op['few_outgoing_calls'] == 'True'])\n",
    "\n",
    "# combine dataframes\n",
    "total_in_operators = pd.merge(op_missed_calls, op_waiting_time, on='operator_id')\n",
    "total_in_operators = pd.merge(total_in_operators,outgoing_per_op , on='operator_id')\n",
    "total_in_operators\n",
    "\n"
   ]
  },
  {
   "cell_type": "code",
   "execution_count": 14,
   "metadata": {},
   "outputs": [
    {
     "data": {
      "text/html": [
       "<div>\n",
       "<style scoped>\n",
       "    .dataframe tbody tr th:only-of-type {\n",
       "        vertical-align: middle;\n",
       "    }\n",
       "\n",
       "    .dataframe tbody tr th {\n",
       "        vertical-align: top;\n",
       "    }\n",
       "\n",
       "    .dataframe thead th {\n",
       "        text-align: right;\n",
       "    }\n",
       "</style>\n",
       "<table border=\"1\" class=\"dataframe\">\n",
       "  <thead>\n",
       "    <tr style=\"text-align: right;\">\n",
       "      <th></th>\n",
       "      <th>operator_id</th>\n",
       "      <th>missed_call_count</th>\n",
       "      <th>many_missed_calls</th>\n",
       "      <th>in_waiting_time_sec</th>\n",
       "      <th>long_waiting_time</th>\n",
       "      <th>total_calls_count</th>\n",
       "      <th>few_outgoing_calls</th>\n",
       "    </tr>\n",
       "  </thead>\n",
       "  <tbody>\n",
       "    <tr>\n",
       "      <td>91</td>\n",
       "      <td>919554</td>\n",
       "      <td>11</td>\n",
       "      <td>True</td>\n",
       "      <td>381.0</td>\n",
       "      <td>True</td>\n",
       "      <td>8</td>\n",
       "      <td>True</td>\n",
       "    </tr>\n",
       "    <tr>\n",
       "      <td>168</td>\n",
       "      <td>944216</td>\n",
       "      <td>24</td>\n",
       "      <td>True</td>\n",
       "      <td>152.0</td>\n",
       "      <td>True</td>\n",
       "      <td>119</td>\n",
       "      <td>True</td>\n",
       "    </tr>\n",
       "    <tr>\n",
       "      <td>169</td>\n",
       "      <td>944218</td>\n",
       "      <td>15</td>\n",
       "      <td>True</td>\n",
       "      <td>176.0</td>\n",
       "      <td>True</td>\n",
       "      <td>164</td>\n",
       "      <td>True</td>\n",
       "    </tr>\n",
       "    <tr>\n",
       "      <td>170</td>\n",
       "      <td>944220</td>\n",
       "      <td>18</td>\n",
       "      <td>True</td>\n",
       "      <td>194.0</td>\n",
       "      <td>True</td>\n",
       "      <td>221</td>\n",
       "      <td>False</td>\n",
       "    </tr>\n",
       "  </tbody>\n",
       "</table>\n",
       "</div>"
      ],
      "text/plain": [
       "     operator_id  missed_call_count many_missed_calls  in_waiting_time_sec  \\\n",
       "91        919554                 11              True                381.0   \n",
       "168       944216                 24              True                152.0   \n",
       "169       944218                 15              True                176.0   \n",
       "170       944220                 18              True                194.0   \n",
       "\n",
       "    long_waiting_time  total_calls_count few_outgoing_calls  \n",
       "91               True                  8               True  \n",
       "168              True                119               True  \n",
       "169              True                164               True  \n",
       "170              True                221              False  "
      ]
     },
     "metadata": {},
     "output_type": "display_data"
    },
    {
     "data": {
      "text/html": [
       "<div>\n",
       "<style scoped>\n",
       "    .dataframe tbody tr th:only-of-type {\n",
       "        vertical-align: middle;\n",
       "    }\n",
       "\n",
       "    .dataframe tbody tr th {\n",
       "        vertical-align: top;\n",
       "    }\n",
       "\n",
       "    .dataframe thead th {\n",
       "        text-align: right;\n",
       "    }\n",
       "</style>\n",
       "<table border=\"1\" class=\"dataframe\">\n",
       "  <thead>\n",
       "    <tr style=\"text-align: right;\">\n",
       "      <th></th>\n",
       "      <th>operator_id</th>\n",
       "      <th>missed_call_count</th>\n",
       "      <th>many_missed_calls</th>\n",
       "      <th>in_waiting_time_sec</th>\n",
       "      <th>long_waiting_time</th>\n",
       "      <th>total_calls_count</th>\n",
       "      <th>few_outgoing_calls</th>\n",
       "    </tr>\n",
       "  </thead>\n",
       "  <tbody>\n",
       "    <tr>\n",
       "      <td>3</td>\n",
       "      <td>884408</td>\n",
       "      <td>4</td>\n",
       "      <td>False</td>\n",
       "      <td>66.0</td>\n",
       "      <td>False</td>\n",
       "      <td>25</td>\n",
       "      <td>True</td>\n",
       "    </tr>\n",
       "    <tr>\n",
       "      <td>5</td>\n",
       "      <td>885890</td>\n",
       "      <td>26</td>\n",
       "      <td>True</td>\n",
       "      <td>108.0</td>\n",
       "      <td>False</td>\n",
       "      <td>10</td>\n",
       "      <td>True</td>\n",
       "    </tr>\n",
       "    <tr>\n",
       "      <td>7</td>\n",
       "      <td>888406</td>\n",
       "      <td>1</td>\n",
       "      <td>False</td>\n",
       "      <td>36.0</td>\n",
       "      <td>False</td>\n",
       "      <td>6</td>\n",
       "      <td>True</td>\n",
       "    </tr>\n",
       "    <tr>\n",
       "      <td>10</td>\n",
       "      <td>888868</td>\n",
       "      <td>1</td>\n",
       "      <td>False</td>\n",
       "      <td>31.0</td>\n",
       "      <td>False</td>\n",
       "      <td>52</td>\n",
       "      <td>True</td>\n",
       "    </tr>\n",
       "    <tr>\n",
       "      <td>12</td>\n",
       "      <td>890228</td>\n",
       "      <td>1</td>\n",
       "      <td>False</td>\n",
       "      <td>17.0</td>\n",
       "      <td>False</td>\n",
       "      <td>86</td>\n",
       "      <td>True</td>\n",
       "    </tr>\n",
       "    <tr>\n",
       "      <td>...</td>\n",
       "      <td>...</td>\n",
       "      <td>...</td>\n",
       "      <td>...</td>\n",
       "      <td>...</td>\n",
       "      <td>...</td>\n",
       "      <td>...</td>\n",
       "      <td>...</td>\n",
       "    </tr>\n",
       "    <tr>\n",
       "      <td>192</td>\n",
       "      <td>958640</td>\n",
       "      <td>1</td>\n",
       "      <td>False</td>\n",
       "      <td>10.0</td>\n",
       "      <td>False</td>\n",
       "      <td>11</td>\n",
       "      <td>True</td>\n",
       "    </tr>\n",
       "    <tr>\n",
       "      <td>193</td>\n",
       "      <td>959312</td>\n",
       "      <td>7</td>\n",
       "      <td>False</td>\n",
       "      <td>32.0</td>\n",
       "      <td>False</td>\n",
       "      <td>96</td>\n",
       "      <td>True</td>\n",
       "    </tr>\n",
       "    <tr>\n",
       "      <td>194</td>\n",
       "      <td>960620</td>\n",
       "      <td>1</td>\n",
       "      <td>False</td>\n",
       "      <td>75.0</td>\n",
       "      <td>False</td>\n",
       "      <td>58</td>\n",
       "      <td>True</td>\n",
       "    </tr>\n",
       "    <tr>\n",
       "      <td>195</td>\n",
       "      <td>964510</td>\n",
       "      <td>2</td>\n",
       "      <td>False</td>\n",
       "      <td>25.0</td>\n",
       "      <td>False</td>\n",
       "      <td>100</td>\n",
       "      <td>True</td>\n",
       "    </tr>\n",
       "    <tr>\n",
       "      <td>196</td>\n",
       "      <td>964666</td>\n",
       "      <td>3</td>\n",
       "      <td>False</td>\n",
       "      <td>64.0</td>\n",
       "      <td>False</td>\n",
       "      <td>34</td>\n",
       "      <td>True</td>\n",
       "    </tr>\n",
       "  </tbody>\n",
       "</table>\n",
       "<p>100 rows × 7 columns</p>\n",
       "</div>"
      ],
      "text/plain": [
       "     operator_id  missed_call_count many_missed_calls  in_waiting_time_sec  \\\n",
       "3         884408                  4             False                 66.0   \n",
       "5         885890                 26              True                108.0   \n",
       "7         888406                  1             False                 36.0   \n",
       "10        888868                  1             False                 31.0   \n",
       "12        890228                  1             False                 17.0   \n",
       "..           ...                ...               ...                  ...   \n",
       "192       958640                  1             False                 10.0   \n",
       "193       959312                  7             False                 32.0   \n",
       "194       960620                  1             False                 75.0   \n",
       "195       964510                  2             False                 25.0   \n",
       "196       964666                  3             False                 64.0   \n",
       "\n",
       "    long_waiting_time  total_calls_count few_outgoing_calls  \n",
       "3               False                 25               True  \n",
       "5               False                 10               True  \n",
       "7               False                  6               True  \n",
       "10              False                 52               True  \n",
       "12              False                 86               True  \n",
       "..                ...                ...                ...  \n",
       "192             False                 11               True  \n",
       "193             False                 96               True  \n",
       "194             False                 58               True  \n",
       "195             False                100               True  \n",
       "196             False                 34               True  \n",
       "\n",
       "[100 rows x 7 columns]"
      ]
     },
     "metadata": {},
     "output_type": "display_data"
    },
    {
     "data": {
      "text/html": [
       "<div>\n",
       "<style scoped>\n",
       "    .dataframe tbody tr th:only-of-type {\n",
       "        vertical-align: middle;\n",
       "    }\n",
       "\n",
       "    .dataframe tbody tr th {\n",
       "        vertical-align: top;\n",
       "    }\n",
       "\n",
       "    .dataframe thead th {\n",
       "        text-align: right;\n",
       "    }\n",
       "</style>\n",
       "<table border=\"1\" class=\"dataframe\">\n",
       "  <thead>\n",
       "    <tr style=\"text-align: right;\">\n",
       "      <th></th>\n",
       "      <th>operator_id</th>\n",
       "      <th>missed_call_count</th>\n",
       "      <th>many_missed_calls</th>\n",
       "      <th>in_waiting_time_sec</th>\n",
       "      <th>long_waiting_time</th>\n",
       "      <th>total_calls_count</th>\n",
       "      <th>few_outgoing_calls</th>\n",
       "    </tr>\n",
       "  </thead>\n",
       "  <tbody>\n",
       "    <tr>\n",
       "      <td>0</td>\n",
       "      <td>919554</td>\n",
       "      <td>11</td>\n",
       "      <td>True</td>\n",
       "      <td>381.0</td>\n",
       "      <td>True</td>\n",
       "      <td>8</td>\n",
       "      <td>True</td>\n",
       "    </tr>\n",
       "    <tr>\n",
       "      <td>1</td>\n",
       "      <td>944216</td>\n",
       "      <td>24</td>\n",
       "      <td>True</td>\n",
       "      <td>152.0</td>\n",
       "      <td>True</td>\n",
       "      <td>119</td>\n",
       "      <td>True</td>\n",
       "    </tr>\n",
       "    <tr>\n",
       "      <td>2</td>\n",
       "      <td>944218</td>\n",
       "      <td>15</td>\n",
       "      <td>True</td>\n",
       "      <td>176.0</td>\n",
       "      <td>True</td>\n",
       "      <td>164</td>\n",
       "      <td>True</td>\n",
       "    </tr>\n",
       "    <tr>\n",
       "      <td>3</td>\n",
       "      <td>944220</td>\n",
       "      <td>18</td>\n",
       "      <td>True</td>\n",
       "      <td>194.0</td>\n",
       "      <td>True</td>\n",
       "      <td>221</td>\n",
       "      <td>False</td>\n",
       "    </tr>\n",
       "    <tr>\n",
       "      <td>4</td>\n",
       "      <td>884408</td>\n",
       "      <td>4</td>\n",
       "      <td>False</td>\n",
       "      <td>66.0</td>\n",
       "      <td>False</td>\n",
       "      <td>25</td>\n",
       "      <td>True</td>\n",
       "    </tr>\n",
       "    <tr>\n",
       "      <td>...</td>\n",
       "      <td>...</td>\n",
       "      <td>...</td>\n",
       "      <td>...</td>\n",
       "      <td>...</td>\n",
       "      <td>...</td>\n",
       "      <td>...</td>\n",
       "      <td>...</td>\n",
       "    </tr>\n",
       "    <tr>\n",
       "      <td>99</td>\n",
       "      <td>958640</td>\n",
       "      <td>1</td>\n",
       "      <td>False</td>\n",
       "      <td>10.0</td>\n",
       "      <td>False</td>\n",
       "      <td>11</td>\n",
       "      <td>True</td>\n",
       "    </tr>\n",
       "    <tr>\n",
       "      <td>100</td>\n",
       "      <td>959312</td>\n",
       "      <td>7</td>\n",
       "      <td>False</td>\n",
       "      <td>32.0</td>\n",
       "      <td>False</td>\n",
       "      <td>96</td>\n",
       "      <td>True</td>\n",
       "    </tr>\n",
       "    <tr>\n",
       "      <td>101</td>\n",
       "      <td>960620</td>\n",
       "      <td>1</td>\n",
       "      <td>False</td>\n",
       "      <td>75.0</td>\n",
       "      <td>False</td>\n",
       "      <td>58</td>\n",
       "      <td>True</td>\n",
       "    </tr>\n",
       "    <tr>\n",
       "      <td>102</td>\n",
       "      <td>964510</td>\n",
       "      <td>2</td>\n",
       "      <td>False</td>\n",
       "      <td>25.0</td>\n",
       "      <td>False</td>\n",
       "      <td>100</td>\n",
       "      <td>True</td>\n",
       "    </tr>\n",
       "    <tr>\n",
       "      <td>103</td>\n",
       "      <td>964666</td>\n",
       "      <td>3</td>\n",
       "      <td>False</td>\n",
       "      <td>64.0</td>\n",
       "      <td>False</td>\n",
       "      <td>34</td>\n",
       "      <td>True</td>\n",
       "    </tr>\n",
       "  </tbody>\n",
       "</table>\n",
       "<p>104 rows × 7 columns</p>\n",
       "</div>"
      ],
      "text/plain": [
       "     operator_id  missed_call_count many_missed_calls  in_waiting_time_sec  \\\n",
       "0         919554                 11              True                381.0   \n",
       "1         944216                 24              True                152.0   \n",
       "2         944218                 15              True                176.0   \n",
       "3         944220                 18              True                194.0   \n",
       "4         884408                  4             False                 66.0   \n",
       "..           ...                ...               ...                  ...   \n",
       "99        958640                  1             False                 10.0   \n",
       "100       959312                  7             False                 32.0   \n",
       "101       960620                  1             False                 75.0   \n",
       "102       964510                  2             False                 25.0   \n",
       "103       964666                  3             False                 64.0   \n",
       "\n",
       "    long_waiting_time  total_calls_count few_outgoing_calls  \n",
       "0                True                  8               True  \n",
       "1                True                119               True  \n",
       "2                True                164               True  \n",
       "3                True                221              False  \n",
       "4               False                 25               True  \n",
       "..                ...                ...                ...  \n",
       "99              False                 11               True  \n",
       "100             False                 96               True  \n",
       "101             False                 58               True  \n",
       "102             False                100               True  \n",
       "103             False                 34               True  \n",
       "\n",
       "[104 rows x 7 columns]"
      ]
     },
     "metadata": {},
     "output_type": "display_data"
    },
    {
     "name": "stdout",
     "output_type": "stream",
     "text": [
      "<class 'pandas.core.frame.DataFrame'>\n",
      "RangeIndex: 104 entries, 0 to 103\n",
      "Data columns (total 7 columns):\n",
      "operator_id            104 non-null int64\n",
      "missed_call_count      104 non-null int64\n",
      "many_missed_calls      104 non-null object\n",
      "in_waiting_time_sec    104 non-null float64\n",
      "long_waiting_time      104 non-null object\n",
      "total_calls_count      104 non-null int64\n",
      "few_outgoing_calls     104 non-null object\n",
      "dtypes: float64(1), int64(3), object(3)\n",
      "memory usage: 5.8+ KB\n"
     ]
    }
   ],
   "source": [
    "# identify ineffective ops for incoming calls\n",
    "ineffective_incoming_ops = total_in_operators[(total_in_operators['many_missed_calls'] == 'True') & (total_in_operators['long_waiting_time'] == 'True')]\n",
    "display(ineffective_incoming_ops)\n",
    "\n",
    "\n",
    "# identify ineffective ops for outgoing calls\n",
    "ineffective_outgoing_ops = total_in_operators[total_in_operators['few_outgoing_calls'] == 'True']\n",
    "display(ineffective_outgoing_ops)\n",
    "\n",
    "\n",
    "# concatenate results together\n",
    "result = pd.concat([ineffective_incoming_ops, ineffective_outgoing_ops], ignore_index=True, sort=False)\n",
    "display(result)\n",
    "result.info()"
   ]
  },
  {
   "cell_type": "markdown",
   "metadata": {},
   "source": [
    "First of all we calculated number of outgoing calls per operators,calculated 1 sigma to use as a measure and to identify the operators with less than average number of outgoing calls, we calculated the average number of outgoing calls per operator and then compared the total average number of missed calls per operator for that operator. An operator is given False under few_outgoing_calls if their average number of ouitgoing calls is greater than the total average number of outgoing calls.After that we analysed the inefeective operator and defined it them, that has a long waiting time (for both internal and external calls) and has many missed calls. Additionally, operators who make few outgoing calls (if they are supposed to) are considered ineffective.\n",
    "\n",
    "After merging the tables we concluded that\n",
    "1. in ineffective incoming calls out of there are 4 ineffetive operators\n",
    "2. in ineffective outgoing calls we found out there are 100 ineffective operators\n",
    "\n",
    "Hence we have identified a total of 104 ineffective ones as defined by their measures.\n",
    "\n"
   ]
  },
  {
   "cell_type": "markdown",
   "metadata": {},
   "source": [
    "<font color='green'><h3>Describe the customers' behavior. Find the tariff_plan, call duration, and missed call of users per month. Calculate the mean, dispersion, and standard deviation. Plot histograms. Describe the distributions.<a class=\"anchor\" id=\"h3.5\"></a></h3></font>"
   ]
  },
  {
   "cell_type": "code",
   "execution_count": 15,
   "metadata": {},
   "outputs": [],
   "source": [
    "months = 4\n",
    "data['duration_per_month'] = data['call_duration'] / months\n",
    "data['waitingtime_per_month'] = data['in_waiting_time_sec'] / months\n"
   ]
  },
  {
   "cell_type": "code",
   "execution_count": 16,
   "metadata": {},
   "outputs": [
    {
     "data": {
      "image/png": "[encoded data removed]",
      "text/plain": [
       "<Figure size 432x288 with 1 Axes>"
      ]
     },
     "metadata": {
      "needs_background": "light"
     },
     "output_type": "display_data"
    }
   ],
   "source": [
    "x1 = data.loc[data.tariff_plan=='A', 'duration_per_month']\n",
    "x2 = data.loc[data.tariff_plan=='B', 'duration_per_month']\n",
    "x3 = data.loc[data.tariff_plan=='C', 'duration_per_month']\n",
    "\n",
    "kwargs = dict(alpha=0.5, bins=10,density=True)\n",
    "\n",
    "plt.hist(x1, **kwargs, color='g', label='A')\n",
    "plt.hist(x2, **kwargs, color='r', label='B')\n",
    "plt.hist(x3, **kwargs, color='b', label='C')\n",
    "\n",
    "plt.gca().set(title='Histogram of volume of data for users of each plan', ylabel='Frequency',xlabel='duration_per_month')\n",
    "plt.xlim(0,600)\n",
    "plt.legend();"
   ]
  },
  {
   "cell_type": "code",
   "execution_count": 17,
   "metadata": {},
   "outputs": [
    {
     "data": {
      "image/png": "[encoded data removed]",
      "text/plain": [
       "<Figure size 432x288 with 1 Axes>"
      ]
     },
     "metadata": {
      "needs_background": "light"
     },
     "output_type": "display_data"
    }
   ],
   "source": [
    "x1 = data.loc[data.tariff_plan=='A', 'waitingtime_per_month']\n",
    "x2 = data.loc[data.tariff_plan=='B', 'waitingtime_per_month']\n",
    "x3 = data.loc[data.tariff_plan=='C', 'waitingtime_per_month']\n",
    "\n",
    "kwargs = dict(alpha=0.5, bins=10,density=True)\n",
    "\n",
    "plt.hist(x1, **kwargs, color='g', label='A')\n",
    "plt.hist(x2, **kwargs, color='r', label='B')\n",
    "plt.hist(x3, **kwargs, color='b', label='C')\n",
    "\n",
    "plt.gca().set(title='Histogram of waiting time of data for users of each plan', ylabel='Frequency',xlabel='waitingtime_per_month')\n",
    "plt.xlim(0,400)\n",
    "plt.legend();"
   ]
  },
  {
   "cell_type": "code",
   "execution_count": 18,
   "metadata": {},
   "outputs": [
    {
     "name": "stdout",
     "output_type": "stream",
     "text": [
      "duration_per_month       1169.390978\n",
      "waitingtime_per_month     424.235302\n",
      "dtype: float64\n"
     ]
    }
   ],
   "source": [
    "#calculating mean and variance of plan surf groupby userid\n",
    "df_A = data.query('tariff_plan == \"A\"').groupby(['user_id'])['duration_per_month','waitingtime_per_month'].mean()\n",
    "variance_surf = np.var(df_A)\n",
    "print(variance_surf)"
   ]
  },
  {
   "cell_type": "code",
   "execution_count": 19,
   "metadata": {},
   "outputs": [
    {
     "name": "stdout",
     "output_type": "stream",
     "text": [
      "duration_per_month       1208.501393\n",
      "waitingtime_per_month     246.113718\n",
      "dtype: float64\n"
     ]
    }
   ],
   "source": [
    "#calculating mean and variance of plan surf groupby userid\n",
    "df_B = data.query('tariff_plan == \"B\"').groupby(['user_id'])['duration_per_month','waitingtime_per_month'].mean()\n",
    "variance_surf = np.var(df_B)\n",
    "print(variance_surf)"
   ]
  },
  {
   "cell_type": "code",
   "execution_count": 20,
   "metadata": {},
   "outputs": [
    {
     "name": "stdout",
     "output_type": "stream",
     "text": [
      "duration_per_month       1405.737215\n",
      "waitingtime_per_month     212.192941\n",
      "dtype: float64\n"
     ]
    }
   ],
   "source": [
    "#calculating mean and variance of plan surf groupby userid\n",
    "df_C = data.query('tariff_plan == \"C\"').groupby(['user_id'])['duration_per_month','waitingtime_per_month'].mean()\n",
    "variance_surf = np.var(df_C)\n",
    "print(variance_surf)"
   ]
  },
  {
   "cell_type": "markdown",
   "metadata": {},
   "source": [
    "Here we calculated the customers behavior; tariff_plan, call duration, and missed call of users per month. Calculate the mean, dispersion, and standard deviation. Plotted histograms.from the figures it can be seen that tariff plan A  shows the highest number of values for waiting time and call duration per_month,as still there are only 10% users from A plan and when we analysed the histograms it can be seen that B shows the better of values than A and C and has the less waiting time among all the users."
   ]
  },
  {
   "cell_type": "markdown",
   "metadata": {},
   "source": [
    "<font color='green'><h3>Plotting histogram for duration of calls per day and analyzing the tariff plan <a class=\"anchor\" id=\"h3.5\"></a></h3></font>"
   ]
  },
  {
   "cell_type": "code",
   "execution_count": 21,
   "metadata": {},
   "outputs": [
    {
     "name": "stderr",
     "output_type": "stream",
     "text": [
      "/opt/conda/lib/python3.7/site-packages/pandas/plotting/_matplotlib/converter.py:103: FutureWarning: Using an implicitly registered datetime converter for a matplotlib plotting method. The converter was registered by pandas on import. Future versions of pandas will require you to explicitly register matplotlib converters.\n",
      "\n",
      "To register the converters:\n",
      "\t>>> from pandas.plotting import register_matplotlib_converters\n",
      "\t>>> register_matplotlib_converters()\n",
      "  warnings.warn(msg, FutureWarning)\n"
     ]
    },
    {
     "data": {
      "image/png": "[encoded data removed]",
      "text/plain": [
       "<Figure size 720x504 with 1 Axes>"
      ]
     },
     "metadata": {
      "needs_background": "light"
     },
     "output_type": "display_data"
    },
    {
     "name": "stdout",
     "output_type": "stream",
     "text": [
      "           date  calls_count\n",
      "0    2019-08-02           19\n",
      "1    2019-08-03           27\n",
      "2    2019-08-04            4\n",
      "3    2019-08-05           80\n",
      "4    2019-08-06           67\n",
      "..          ...          ...\n",
      "113  2019-11-24          968\n",
      "114  2019-11-25         4765\n",
      "115  2019-11-26         4505\n",
      "116  2019-11-27         4673\n",
      "117  2019-11-28         5093\n",
      "\n",
      "[118 rows x 2 columns]\n"
     ]
    }
   ],
   "source": [
    "fig = plt.figure(figsize=(10,7))\n",
    "#data.groupby('date').agg({'calls_count' : 'sum'})\n",
    "\n",
    "x = data.groupby('date').agg({'calls_count' : 'sum'}).reset_index() \n",
    "plt.bar(x['date'],x['calls_count'],color='pink')\n",
    "plt.title('Calls Per Day')\n",
    "plt.xlabel('date')\n",
    "plt.ylabel('Number of Calls')\n",
    "plt.show()\n",
    "print(x)"
   ]
  },
  {
   "cell_type": "code",
   "execution_count": 22,
   "metadata": {},
   "outputs": [
    {
     "data": {
      "image/png": "[encoded data removed]",
      "text/plain": [
       "<Figure size 720x360 with 1 Axes>"
      ]
     },
     "metadata": {},
     "output_type": "display_data"
    }
   ],
   "source": [
    "#analysing tariff plans\n",
    "plt.figure(figsize=(10, 5))\n",
    "\n",
    "tariff = df_clients.groupby('tariff_plan')['user_id'].count().reset_index()\n",
    "tariff.columns = ['tariff_plan', 'count']\n",
    "\n",
    "\n",
    "labels = ['A', 'B', 'C']\n",
    "plt.pie(tariff['count'], labels=labels, autopct='%0.f%%', shadow=True, startangle=145)\n",
    "plt.title('Tariff Plans')\n",
    "plt.show()"
   ]
  },
  {
   "cell_type": "markdown",
   "metadata": {},
   "source": [
    "In this we Plotted the  histogram for duration of calls per day and analyzing the tariff plan\n",
    "1. for the duration of calls it can be seen that  calls are increasing with the time .means per day day calls is increasing with the date .though every month there is some fluctuations some day there is high peak some weak low peak, but still overall the graph is in increasing phase.\n",
    "2. analysing the tariff plan it is clearly visible that tariff plan A user are the least of 10% ,B is of 36% and C is the highest of 54%"
   ]
  },
  {
   "cell_type": "markdown",
   "metadata": {},
   "source": [
    "<font color='green'><h2> Hypothesis <a class=\"anchor\" id=\"h1\"></a></h2></font>"
   ]
  },
  {
   "cell_type": "markdown",
   "metadata": {},
   "source": [
    "**Test hypothesis: Average call duration for ineffective operators and effective operators are the same.**"
   ]
  },
  {
   "cell_type": "markdown",
   "metadata": {},
   "source": [
    "alpha =0.5\n",
    "* Null Hypothesis H0: The average call duration for ineffective operators and effective operators are the same. \n",
    "* Hypothesis H1: The average call duration for ineffective operators and effective operators are NOT the same."
   ]
  },
  {
   "cell_type": "code",
   "execution_count": 23,
   "metadata": {},
   "outputs": [
    {
     "name": "stdout",
     "output_type": "stream",
     "text": [
      "Cannot reject H0\n"
     ]
    }
   ],
   "source": [
    "ineffective_op_id = result['operator_id'].to_numpy()\n",
    "\n",
    "# get data relating to ineffective operators\n",
    "ineffective_op_data = data[data['operator_id'].isin(ineffective_op_id)]\n",
    "\n",
    "# calculate average call duration for ineffective ops\n",
    "ineffective_call_duration_average = ineffective_op_data['call_duration'].mean().round(decimals=2)\n",
    "\n",
    "# find operator id of best operators \n",
    "effective_ops = total_in_operators[(total_in_operators['many_missed_calls'] == 'False') & (total_in_operators['long_waiting_time'] == 'False')]\n",
    "\n",
    "# get operator id in best operators\n",
    "effective_op_id = effective_ops['operator_id'].to_numpy()\n",
    "\n",
    "# get data relating to best operators\n",
    "effective_op_data = data[data['operator_id'].isin(effective_op_id)]\n",
    "\n",
    "# calculate average call duration for ineffective ops\n",
    "effective_call_duration_average = effective_op_data['call_duration'].mean().round(decimals=2)\n",
    "\n",
    "# perform a t-test\n",
    "results = st.ttest_ind(effective_op_data['call_duration'], ineffective_op_data['call_duration'],equal_var=False)\n",
    "p_value = results.pvalue\n",
    "alpha = 0.05\n",
    "\n",
    "if p_value < alpha:\n",
    "    print('Reject H0')\n",
    "else:\n",
    "    print('Cannot reject H0')"
   ]
  },
  {
   "cell_type": "markdown",
   "metadata": {},
   "source": [
    "We want to test the hypothesis that the average call duration for ineffective operators and effective operators are the same. We can do this using an independent samples t-test to compare the means from the two groups (ineffective operator average call duration and effective operator average call duration). We can apply a t-test here due to the Central Limit Theorem, which impliees that you can estimate the mean of a statistical population using the mean of a sample, and since the means are approximately normally distributed - we can use the t-test. considering a two-sided ttest with the assumption that the data have identical variances, once we haven't specified the parameter equal_var and by default it is True.If False, perform Welch’s t-test, which does not assume equal population variance . \n",
    "\n",
    "Null Hypothesis H0: The average call duration for ineffective operators and effective operators are the same. Alternative Hypothesis H1: The average call duration for ineffective operators and effective operators are NOT the same.\n",
    "\n",
    "The p_value suggests that we cannot reject the null hypothesis, thus indicating that the average call duration of ineffective operators and effective operators are same. "
   ]
  },
  {
   "cell_type": "markdown",
   "metadata": {},
   "source": [
    "<font color='green'><h2> Conclusion <a class=\"anchor\" id=\"h1\"></a></h2></font>"
   ]
  },
  {
   "cell_type": "markdown",
   "metadata": {},
   "source": [
    "The virtual telephony service CallMeMaybe is developing a new function that will give supervisors information on the least effective operators. An operator is considered ineffective if they have a large number of missed incoming calls (internal and external) and a long waiting time for incoming calls. Moreover, if an operator is supposed to make outgoing calls, a small number of them is also a sign of ineffectiveness.The datasets contain data on the use of the virtual telephony service CallMeMaybe. Its clients are organizations that need to distribute large numbers of incoming calls among various operators, or make outgoing calls through their operators. Operators can also make internal calls to communicate with one another. These calls go through CallMeMaybe's network.The dataset telecom_dataset_us.csv contains the following columns:user_id — client account ID\n",
    ",date` — date the statistics were retrieved,direction— call direction (outfor outgoing,in` for incoming),internal` — whether the call was internal (between a client's operators),operator_id` — operator identifier,is_missed_call,calls_count` — number of calls,call_duration` — call duration (excluding waiting time),total_call_duration` — call duration (including waiting time)\n",
    "The dataset telecom_clients_us.csv contains the following columns:user_id,tarrif_plan,date_start\n",
    "1. firstly In data preprocessing phase, first of all we dropped the internal and operator_id columns in combination,  then we converted the dates in both datasets df_clients and df_data into datetime format and changed the operator_id to int \n",
    "2. Secondly we while analysing the internal and external calls it can be seen from the pie chart above that 87 percent of the calls are external calls , only 13% are internal calls with the clients. we merged the tables and calculated waiting time it can be seen that most of the calls are outgoing ,the average number of outgoing calls per operator is: 166.0 and incoming calls per operator is: 62.0, so the outgoing calls are more neraly 3 times to incoming calls\n",
    "3. thirdly  we analysed larged number of missed calls ,for that first of all we calculated missed_call_count for each operator then calculated mean  and then compared the total average number of missed call per operator for that operator. An operator is given False under many_missed_calls column if their average number of missed calls is less than the total average number of missed calls.we obtain many_missed _call in the bolean form.Here we found out that there are 239 operators with many missed calls\n",
    "4. fourthly  we analysed the waiting time by calculating The total average waiting time incoming calls: 62.0 seconds, taking waiting_time_sec per operator and calculating mean and then comparing the  total average number of waiting_time per operator for that operator. An operator is given False under long_waiting_time column if their average number of waiting_time is less than the total average number of waiting_time.Here we found out that there are 754 operators with long waiting time .\n",
    "5. fifthly we analysed the ineffective operators ,we calculated number of outgoing calls per operators,calculated 1 sigma to use as a measure and to identify the operators with less than average number of outgoing calls, we calculated the average number of outgoing calls per operator and then compared the total average number of missed calls per operator for that operator. An operator is given False under few_outgoing_calls if their average number of ouitgoing calls is greater than the total average number of outgoing calls.After that we analysed the inefeective operator and defined it them, that has a long waiting time (for both internal and external calls) and has many missed calls. Additionally, operators who make few outgoing calls (if they are supposed to) are considered ineffective.\n",
    "\n",
    "After merging the tables we concluded that\n",
    "\n",
    "1. in ineffective incoming calls out of there are 4 ineffetive operators\n",
    "2. in ineffective outgoing calls we found out there are 100 ineffective operators\n",
    "Hence we have identified a total of 104 ineffective ones as defined by their measures.\n",
    "6.  we Plotted the histogram for duration of calls per day and analyzing the tariff plan\n",
    "\n",
    "for the duration of calls it can be seen that  calls are increasing with the time .means per day day calls is increasing with the date .though every month there is some fluctuations some day there is high peak some weak low peak, but still overall the graph is in increasing phase.\n",
    "analysing the tariff plan it is clearly visible that tariff plan A user are the least of 10% ,B is of 36% and C is the highest of 54%\n",
    "7. we calculated the customers behavior; tariff_plan, call duration, and missed call of users per month. Calculate the mean, dispersion, and standard deviation. Plotted histograms.from the figures it can be seen that tariff plan A  shows the highest number of values for waiting time and call duration per_month,as still there are only 10% users from A plan and when we analysed the histograms it can be seen that B shows the better of values than A and C and has the less waiting time among all the users.\n",
    "8. Test hypothesis: Average call duration for ineffective operators and effective operators are the same.Null Hypothesis H0: The average call duration for ineffective operators and effective operators are the same. Alternative Hypothesis H1: The average call duration for ineffective operators and effective operators are NOT the same.\n",
    "\n",
    "The p_value suggests that we should cannot reject the null hypothesis, thus indicating that the average call duration of ineffective operators and effective operators are same.\n",
    "\n",
    "\n",
    "\n"
   ]
  },
  {
   "cell_type": "markdown",
   "metadata": {},
   "source": [
    "**PRESENTATION LINK** -- https://1drv.ms/p/s!AubyKS6mZpHJhi8rV7uOdqMPcDAt?e=RyRpON"
   ]
  },
  {
   "cell_type": "markdown",
   "metadata": {},
   "source": [
    "**DASHBOARD LINK** -- https://public.tableau.com/shared/J9HFS9H67?:display_count=n&:origin=viz_share_link"
   ]
  },
  {
   "cell_type": "markdown",
   "metadata": {},
   "source": [
    "**REFERENCES**    \n",
    "1. https://towardsdatascience.com/ways-to-detect-and-remove-the-outliers-404d16608dba\n",
    "2. https://www.earthdatascience.org/courses/intro-to-earth-data-science/file-formats/use-text-files/format-text-with-markdown-jupyter-notebook/\n",
    "3. https://docs.scipy.org/doc/scipy/reference/generated/scipy.stats.ttest_ind.html\n"
   ]
  }
 ],
 "metadata": {
  "ExecuteTimeLog": [
   {
    "duration": 1435,
    "start_time": "2021-08-08T22:21:34.105Z"
   },
   {
    "duration": 429,
    "start_time": "2021-08-08T22:23:02.885Z"
   },
   {
    "duration": 37,
    "start_time": "2021-08-08T22:24:01.205Z"
   },
   {
    "duration": 1971,
    "start_time": "2021-08-08T22:29:32.932Z"
   },
   {
    "duration": 118,
    "start_time": "2021-08-08T22:29:34.906Z"
   },
   {
    "duration": 37,
    "start_time": "2021-08-08T22:29:35.028Z"
   },
   {
    "duration": 381,
    "start_time": "2021-08-08T22:29:35.067Z"
   },
   {
    "duration": 239,
    "start_time": "2021-08-08T22:30:12.204Z"
   },
   {
    "duration": 47,
    "start_time": "2021-08-08T22:30:25.920Z"
   },
   {
    "duration": 11,
    "start_time": "2021-08-08T22:31:56.481Z"
   },
   {
    "duration": 305,
    "start_time": "2021-08-08T22:44:18.481Z"
   },
   {
    "duration": 42,
    "start_time": "2021-08-08T22:44:27.231Z"
   },
   {
    "duration": 35,
    "start_time": "2021-08-08T22:44:30.759Z"
   },
   {
    "duration": 1435,
    "start_time": "2021-08-08T22:44:43.105Z"
   },
   {
    "duration": 110,
    "start_time": "2021-08-08T22:44:44.543Z"
   },
   {
    "duration": 41,
    "start_time": "2021-08-08T22:44:44.656Z"
   },
   {
    "duration": 41,
    "start_time": "2021-08-08T22:44:44.700Z"
   },
   {
    "duration": 23,
    "start_time": "2021-08-08T22:44:44.744Z"
   },
   {
    "duration": 18,
    "start_time": "2021-08-08T22:45:16.492Z"
   },
   {
    "duration": 1481,
    "start_time": "2021-08-08T22:45:27.246Z"
   },
   {
    "duration": 115,
    "start_time": "2021-08-08T22:45:28.731Z"
   },
   {
    "duration": 37,
    "start_time": "2021-08-08T22:45:28.850Z"
   },
   {
    "duration": 23,
    "start_time": "2021-08-08T22:45:28.891Z"
   },
   {
    "duration": 13,
    "start_time": "2021-08-08T22:45:28.918Z"
   },
   {
    "duration": 64,
    "start_time": "2021-08-08T22:45:42.114Z"
   },
   {
    "duration": 69,
    "start_time": "2021-08-08T22:55:32.275Z"
   },
   {
    "duration": 92,
    "start_time": "2021-08-08T22:55:41.775Z"
   },
   {
    "duration": 99,
    "start_time": "2021-08-08T22:55:58.835Z"
   },
   {
    "duration": 130,
    "start_time": "2021-08-08T22:56:09.995Z"
   },
   {
    "duration": 96,
    "start_time": "2021-08-08T22:56:18.806Z"
   },
   {
    "duration": 76,
    "start_time": "2021-08-08T22:56:51.795Z"
   },
   {
    "duration": 64,
    "start_time": "2021-08-08T22:59:35.796Z"
   },
   {
    "duration": 1497,
    "start_time": "2021-08-10T08:49:10.236Z"
   },
   {
    "duration": 108,
    "start_time": "2021-08-10T08:49:11.736Z"
   },
   {
    "duration": 48,
    "start_time": "2021-08-10T08:49:11.847Z"
   },
   {
    "duration": 75,
    "start_time": "2021-08-10T08:49:11.898Z"
   },
   {
    "duration": 12,
    "start_time": "2021-08-10T08:49:11.975Z"
   },
   {
    "duration": 484,
    "start_time": "2021-08-10T08:49:11.989Z"
   },
   {
    "duration": -364,
    "start_time": "2021-08-10T08:49:12.840Z"
   },
   {
    "duration": -365,
    "start_time": "2021-08-10T08:49:12.843Z"
   },
   {
    "duration": -367,
    "start_time": "2021-08-10T08:49:12.847Z"
   },
   {
    "duration": 1417,
    "start_time": "2021-08-10T08:53:14.314Z"
   },
   {
    "duration": 107,
    "start_time": "2021-08-10T08:53:15.734Z"
   },
   {
    "duration": 35,
    "start_time": "2021-08-10T08:53:15.845Z"
   },
   {
    "duration": 54,
    "start_time": "2021-08-10T08:53:15.883Z"
   },
   {
    "duration": 32,
    "start_time": "2021-08-10T08:53:15.939Z"
   },
   {
    "duration": 397,
    "start_time": "2021-08-10T08:53:15.973Z"
   },
   {
    "duration": -286,
    "start_time": "2021-08-10T08:53:16.659Z"
   },
   {
    "duration": -321,
    "start_time": "2021-08-10T08:53:16.695Z"
   },
   {
    "duration": -321,
    "start_time": "2021-08-10T08:53:16.697Z"
   },
   {
    "duration": 44,
    "start_time": "2021-08-10T08:54:17.702Z"
   },
   {
    "duration": 152,
    "start_time": "2021-08-10T08:54:27.282Z"
   },
   {
    "duration": 50,
    "start_time": "2021-08-10T08:54:32.392Z"
   },
   {
    "duration": 6316,
    "start_time": "2021-08-10T08:54:51.641Z"
   },
   {
    "duration": 15,
    "start_time": "2021-08-10T08:55:18.381Z"
   },
   {
    "duration": 38,
    "start_time": "2021-08-10T09:04:22.759Z"
   },
   {
    "duration": 27,
    "start_time": "2021-08-10T09:07:17.901Z"
   },
   {
    "duration": 6676,
    "start_time": "2021-08-10T09:12:27.387Z"
   },
   {
    "duration": 251,
    "start_time": "2021-08-10T09:13:25.552Z"
   },
   {
    "duration": 53,
    "start_time": "2021-08-10T09:13:30.772Z"
   },
   {
    "duration": 1386,
    "start_time": "2021-08-10T09:14:07.167Z"
   },
   {
    "duration": 107,
    "start_time": "2021-08-10T09:14:08.556Z"
   },
   {
    "duration": 36,
    "start_time": "2021-08-10T09:14:08.666Z"
   },
   {
    "duration": 86,
    "start_time": "2021-08-10T09:14:08.704Z"
   },
   {
    "duration": 11,
    "start_time": "2021-08-10T09:14:08.792Z"
   },
   {
    "duration": 70,
    "start_time": "2021-08-10T09:14:08.806Z"
   },
   {
    "duration": 158,
    "start_time": "2021-08-10T09:14:08.879Z"
   },
   {
    "duration": 59,
    "start_time": "2021-08-10T09:14:09.039Z"
   },
   {
    "duration": 61,
    "start_time": "2021-08-10T09:14:09.101Z"
   },
   {
    "duration": 49,
    "start_time": "2021-08-10T09:14:09.164Z"
   },
   {
    "duration": 6553,
    "start_time": "2021-08-10T09:14:09.215Z"
   },
   {
    "duration": 45,
    "start_time": "2021-08-10T09:15:32.465Z"
   },
   {
    "duration": 43,
    "start_time": "2021-08-10T09:15:41.305Z"
   },
   {
    "duration": 26,
    "start_time": "2021-08-10T09:17:20.475Z"
   },
   {
    "duration": 28,
    "start_time": "2021-08-10T09:17:27.645Z"
   },
   {
    "duration": 33,
    "start_time": "2021-08-10T09:17:57.070Z"
   },
   {
    "duration": 66,
    "start_time": "2021-08-10T09:20:11.261Z"
   },
   {
    "duration": 46,
    "start_time": "2021-08-10T09:28:52.009Z"
   },
   {
    "duration": 46,
    "start_time": "2021-08-10T09:29:21.564Z"
   },
   {
    "duration": 55,
    "start_time": "2021-08-10T09:32:29.074Z"
   },
   {
    "duration": 28,
    "start_time": "2021-08-10T09:33:30.285Z"
   },
   {
    "duration": 100,
    "start_time": "2021-08-10T09:36:56.928Z"
   },
   {
    "duration": 42,
    "start_time": "2021-08-10T09:37:09.154Z"
   },
   {
    "duration": 67,
    "start_time": "2021-08-10T09:37:54.022Z"
   },
   {
    "duration": 102,
    "start_time": "2021-08-10T09:39:01.822Z"
   },
   {
    "duration": 86,
    "start_time": "2021-08-10T09:40:18.406Z"
   },
   {
    "duration": 88,
    "start_time": "2021-08-10T09:40:54.206Z"
   },
   {
    "duration": 59,
    "start_time": "2021-08-10T09:41:01.759Z"
   },
   {
    "duration": 32,
    "start_time": "2021-08-10T09:41:39.753Z"
   },
   {
    "duration": 93,
    "start_time": "2021-08-10T09:42:32.120Z"
   },
   {
    "duration": 38,
    "start_time": "2021-08-10T09:46:26.786Z"
   },
   {
    "duration": 62,
    "start_time": "2021-08-10T09:47:38.061Z"
   },
   {
    "duration": -178,
    "start_time": "2021-08-10T09:48:18.081Z"
   },
   {
    "duration": 24,
    "start_time": "2021-08-10T09:48:36.165Z"
   },
   {
    "duration": 324,
    "start_time": "2021-08-10T09:49:31.545Z"
   },
   {
    "duration": 1452,
    "start_time": "2021-08-10T09:57:59.886Z"
   },
   {
    "duration": 109,
    "start_time": "2021-08-10T09:58:01.341Z"
   },
   {
    "duration": 36,
    "start_time": "2021-08-10T09:58:01.453Z"
   },
   {
    "duration": 73,
    "start_time": "2021-08-10T09:58:01.493Z"
   },
   {
    "duration": 11,
    "start_time": "2021-08-10T09:58:01.569Z"
   },
   {
    "duration": 451,
    "start_time": "2021-08-10T09:58:01.583Z"
   },
   {
    "duration": -178,
    "start_time": "2021-08-10T09:58:02.215Z"
   },
   {
    "duration": -193,
    "start_time": "2021-08-10T09:58:02.232Z"
   },
   {
    "duration": -197,
    "start_time": "2021-08-10T09:58:02.238Z"
   },
   {
    "duration": -200,
    "start_time": "2021-08-10T09:58:02.243Z"
   },
   {
    "duration": -205,
    "start_time": "2021-08-10T09:58:02.249Z"
   },
   {
    "duration": -208,
    "start_time": "2021-08-10T09:58:02.254Z"
   },
   {
    "duration": -212,
    "start_time": "2021-08-10T09:58:02.259Z"
   },
   {
    "duration": 6281,
    "start_time": "2021-08-10T09:58:14.749Z"
   },
   {
    "duration": 44,
    "start_time": "2021-08-10T09:58:39.210Z"
   },
   {
    "duration": 35,
    "start_time": "2021-08-10T10:02:14.322Z"
   },
   {
    "duration": 34,
    "start_time": "2021-08-10T10:03:02.726Z"
   },
   {
    "duration": 43,
    "start_time": "2021-08-10T10:03:16.936Z"
   },
   {
    "duration": 36,
    "start_time": "2021-08-10T10:03:24.865Z"
   },
   {
    "duration": 34,
    "start_time": "2021-08-10T10:03:30.127Z"
   },
   {
    "duration": 36,
    "start_time": "2021-08-10T10:03:35.428Z"
   },
   {
    "duration": 46,
    "start_time": "2021-08-10T10:04:25.901Z"
   },
   {
    "duration": 43,
    "start_time": "2021-08-10T10:04:40.082Z"
   },
   {
    "duration": 1368,
    "start_time": "2021-08-11T08:38:52.358Z"
   },
   {
    "duration": 95,
    "start_time": "2021-08-11T08:38:53.729Z"
   },
   {
    "duration": 33,
    "start_time": "2021-08-11T08:38:53.827Z"
   },
   {
    "duration": 56,
    "start_time": "2021-08-11T08:38:53.863Z"
   },
   {
    "duration": 10,
    "start_time": "2021-08-11T08:38:53.922Z"
   },
   {
    "duration": 533,
    "start_time": "2021-08-11T08:38:53.935Z"
   },
   {
    "duration": 2051,
    "start_time": "2021-08-11T08:38:52.420Z"
   },
   {
    "duration": 2046,
    "start_time": "2021-08-11T08:38:52.426Z"
   },
   {
    "duration": 2043,
    "start_time": "2021-08-11T08:38:52.431Z"
   },
   {
    "duration": 2040,
    "start_time": "2021-08-11T08:38:52.435Z"
   },
   {
    "duration": 2037,
    "start_time": "2021-08-11T08:38:52.439Z"
   },
   {
    "duration": 2035,
    "start_time": "2021-08-11T08:38:52.443Z"
   },
   {
    "duration": 2028,
    "start_time": "2021-08-11T08:38:52.451Z"
   },
   {
    "duration": 1421,
    "start_time": "2021-08-11T08:39:44.010Z"
   },
   {
    "duration": 99,
    "start_time": "2021-08-11T08:39:45.433Z"
   },
   {
    "duration": 31,
    "start_time": "2021-08-11T08:39:45.536Z"
   },
   {
    "duration": 48,
    "start_time": "2021-08-11T08:39:45.570Z"
   },
   {
    "duration": 10,
    "start_time": "2021-08-11T08:39:45.621Z"
   },
   {
    "duration": 462,
    "start_time": "2021-08-11T08:39:45.633Z"
   },
   {
    "duration": 2052,
    "start_time": "2021-08-11T08:39:44.046Z"
   },
   {
    "duration": 2048,
    "start_time": "2021-08-11T08:39:44.051Z"
   },
   {
    "duration": 2043,
    "start_time": "2021-08-11T08:39:44.058Z"
   },
   {
    "duration": 2026,
    "start_time": "2021-08-11T08:39:44.077Z"
   },
   {
    "duration": 2021,
    "start_time": "2021-08-11T08:39:44.083Z"
   },
   {
    "duration": 2017,
    "start_time": "2021-08-11T08:39:44.089Z"
   },
   {
    "duration": 2013,
    "start_time": "2021-08-11T08:39:44.094Z"
   },
   {
    "duration": 4,
    "start_time": "2021-08-11T08:53:10.249Z"
   },
   {
    "duration": 98,
    "start_time": "2021-08-11T08:53:10.256Z"
   },
   {
    "duration": 33,
    "start_time": "2021-08-11T08:53:10.357Z"
   },
   {
    "duration": 45,
    "start_time": "2021-08-11T08:53:10.393Z"
   },
   {
    "duration": 11,
    "start_time": "2021-08-11T08:53:10.440Z"
   },
   {
    "duration": 308,
    "start_time": "2021-08-11T08:53:10.453Z"
   },
   {
    "duration": 2098,
    "start_time": "2021-08-11T08:53:08.666Z"
   },
   {
    "duration": 2094,
    "start_time": "2021-08-11T08:53:08.671Z"
   },
   {
    "duration": 2092,
    "start_time": "2021-08-11T08:53:08.675Z"
   },
   {
    "duration": 2089,
    "start_time": "2021-08-11T08:53:08.679Z"
   },
   {
    "duration": 2086,
    "start_time": "2021-08-11T08:53:08.683Z"
   },
   {
    "duration": 2084,
    "start_time": "2021-08-11T08:53:08.687Z"
   },
   {
    "duration": 2080,
    "start_time": "2021-08-11T08:53:08.692Z"
   },
   {
    "duration": 31,
    "start_time": "2021-08-11T08:54:10.588Z"
   },
   {
    "duration": 11,
    "start_time": "2021-08-11T08:54:23.649Z"
   },
   {
    "duration": 10,
    "start_time": "2021-08-11T08:54:26.218Z"
   },
   {
    "duration": 291,
    "start_time": "2021-08-11T08:54:28.588Z"
   },
   {
    "duration": 16,
    "start_time": "2021-08-11T08:54:38.717Z"
   },
   {
    "duration": 5,
    "start_time": "2021-08-11T09:00:15.629Z"
   },
   {
    "duration": 94,
    "start_time": "2021-08-11T09:00:15.637Z"
   },
   {
    "duration": 34,
    "start_time": "2021-08-11T09:00:15.735Z"
   },
   {
    "duration": 11,
    "start_time": "2021-08-11T09:00:15.772Z"
   },
   {
    "duration": 307,
    "start_time": "2021-08-11T09:00:15.785Z"
   },
   {
    "duration": 2068,
    "start_time": "2021-08-11T09:00:14.027Z"
   },
   {
    "duration": 2064,
    "start_time": "2021-08-11T09:00:14.033Z"
   },
   {
    "duration": 2061,
    "start_time": "2021-08-11T09:00:14.037Z"
   },
   {
    "duration": 2057,
    "start_time": "2021-08-11T09:00:14.042Z"
   },
   {
    "duration": 2055,
    "start_time": "2021-08-11T09:00:14.046Z"
   },
   {
    "duration": 2051,
    "start_time": "2021-08-11T09:00:14.051Z"
   },
   {
    "duration": 2048,
    "start_time": "2021-08-11T09:00:14.055Z"
   },
   {
    "duration": 18,
    "start_time": "2021-08-11T09:00:34.828Z"
   },
   {
    "duration": 36,
    "start_time": "2021-08-11T09:00:37.328Z"
   },
   {
    "duration": 1344,
    "start_time": "2021-08-11T09:00:55.074Z"
   },
   {
    "duration": 96,
    "start_time": "2021-08-11T09:00:56.421Z"
   },
   {
    "duration": 32,
    "start_time": "2021-08-11T09:00:56.520Z"
   },
   {
    "duration": 27,
    "start_time": "2021-08-11T09:00:56.555Z"
   },
   {
    "duration": 39,
    "start_time": "2021-08-11T09:00:56.584Z"
   },
   {
    "duration": 37,
    "start_time": "2021-08-11T09:00:56.625Z"
   },
   {
    "duration": 168,
    "start_time": "2021-08-11T09:00:56.665Z"
   },
   {
    "duration": 50,
    "start_time": "2021-08-11T09:00:56.835Z"
   },
   {
    "duration": 29,
    "start_time": "2021-08-11T09:00:56.888Z"
   },
   {
    "duration": 64,
    "start_time": "2021-08-11T09:00:56.920Z"
   },
   {
    "duration": 71,
    "start_time": "2021-08-11T09:00:56.987Z"
   },
   {
    "duration": 6491,
    "start_time": "2021-08-11T09:00:57.060Z"
   },
   {
    "duration": 6,
    "start_time": "2021-08-11T09:04:41.555Z"
   },
   {
    "duration": 103,
    "start_time": "2021-08-11T09:04:41.563Z"
   },
   {
    "duration": 33,
    "start_time": "2021-08-11T09:04:41.669Z"
   },
   {
    "duration": 16,
    "start_time": "2021-08-11T09:04:41.705Z"
   },
   {
    "duration": 38,
    "start_time": "2021-08-11T09:04:41.724Z"
   },
   {
    "duration": 34,
    "start_time": "2021-08-11T09:04:41.783Z"
   },
   {
    "duration": 154,
    "start_time": "2021-08-11T09:04:41.819Z"
   },
   {
    "duration": 41,
    "start_time": "2021-08-11T09:04:41.975Z"
   },
   {
    "duration": 30,
    "start_time": "2021-08-11T09:04:42.019Z"
   },
   {
    "duration": 67,
    "start_time": "2021-08-11T09:04:42.052Z"
   },
   {
    "duration": 93,
    "start_time": "2021-08-11T09:04:42.121Z"
   },
   {
    "duration": 7175,
    "start_time": "2021-08-11T09:04:42.216Z"
   },
   {
    "duration": 30,
    "start_time": "2021-08-11T09:05:14.752Z"
   },
   {
    "duration": 60,
    "start_time": "2021-08-11T09:05:47.720Z"
   },
   {
    "duration": 61,
    "start_time": "2021-08-11T09:06:01.072Z"
   },
   {
    "duration": 579,
    "start_time": "2021-08-11T09:14:42.472Z"
   },
   {
    "duration": 537,
    "start_time": "2021-08-11T09:16:57.912Z"
   },
   {
    "duration": 1437,
    "start_time": "2021-08-11T09:37:27.274Z"
   },
   {
    "duration": 99,
    "start_time": "2021-08-11T09:37:28.714Z"
   },
   {
    "duration": 34,
    "start_time": "2021-08-11T09:37:28.816Z"
   },
   {
    "duration": 16,
    "start_time": "2021-08-11T09:37:28.853Z"
   },
   {
    "duration": 39,
    "start_time": "2021-08-11T09:37:28.882Z"
   },
   {
    "duration": 38,
    "start_time": "2021-08-11T09:37:28.923Z"
   },
   {
    "duration": 177,
    "start_time": "2021-08-11T09:37:28.963Z"
   },
   {
    "duration": 49,
    "start_time": "2021-08-11T09:37:29.143Z"
   },
   {
    "duration": 693,
    "start_time": "2021-08-11T09:37:29.196Z"
   },
   {
    "duration": 2186,
    "start_time": "2021-08-11T09:37:27.706Z"
   },
   {
    "duration": 2180,
    "start_time": "2021-08-11T09:37:27.713Z"
   },
   {
    "duration": 2178,
    "start_time": "2021-08-11T09:37:27.717Z"
   },
   {
    "duration": 39,
    "start_time": "2021-08-11T09:38:20.552Z"
   },
   {
    "duration": 45,
    "start_time": "2021-08-11T09:38:33.553Z"
   },
   {
    "duration": 73,
    "start_time": "2021-08-11T09:38:52.892Z"
   },
   {
    "duration": 1982,
    "start_time": "2021-08-11T09:39:02.184Z"
   },
   {
    "duration": 5,
    "start_time": "2021-08-11T09:39:53.243Z"
   },
   {
    "duration": 102,
    "start_time": "2021-08-11T09:39:53.250Z"
   },
   {
    "duration": 33,
    "start_time": "2021-08-11T09:39:53.355Z"
   },
   {
    "duration": 14,
    "start_time": "2021-08-11T09:39:53.391Z"
   },
   {
    "duration": 37,
    "start_time": "2021-08-11T09:39:53.407Z"
   },
   {
    "duration": 60,
    "start_time": "2021-08-11T09:39:53.446Z"
   },
   {
    "duration": 151,
    "start_time": "2021-08-11T09:39:53.508Z"
   },
   {
    "duration": 45,
    "start_time": "2021-08-11T09:39:53.661Z"
   },
   {
    "duration": 32,
    "start_time": "2021-08-11T09:39:53.709Z"
   },
   {
    "duration": 79,
    "start_time": "2021-08-11T09:39:53.743Z"
   },
   {
    "duration": 99,
    "start_time": "2021-08-11T09:39:53.825Z"
   },
   {
    "duration": 2099,
    "start_time": "2021-08-11T09:39:58.700Z"
   },
   {
    "duration": 2141,
    "start_time": "2021-08-11T09:40:22.675Z"
   },
   {
    "duration": 79,
    "start_time": "2021-08-11T09:41:45.552Z"
   },
   {
    "duration": 116,
    "start_time": "2021-08-11T09:44:52.713Z"
   },
   {
    "duration": 44,
    "start_time": "2021-08-11T09:45:21.221Z"
   },
   {
    "duration": 78,
    "start_time": "2021-08-11T09:45:25.553Z"
   },
   {
    "duration": 6329,
    "start_time": "2021-08-11T09:45:37.532Z"
   },
   {
    "duration": 4,
    "start_time": "2021-08-11T09:46:20.793Z"
   },
   {
    "duration": 93,
    "start_time": "2021-08-11T09:46:20.808Z"
   },
   {
    "duration": 34,
    "start_time": "2021-08-11T09:46:20.904Z"
   },
   {
    "duration": 14,
    "start_time": "2021-08-11T09:46:20.941Z"
   },
   {
    "duration": 52,
    "start_time": "2021-08-11T09:46:20.958Z"
   },
   {
    "duration": 31,
    "start_time": "2021-08-11T09:46:21.012Z"
   },
   {
    "duration": 160,
    "start_time": "2021-08-11T09:46:21.046Z"
   },
   {
    "duration": 41,
    "start_time": "2021-08-11T09:46:21.208Z"
   },
   {
    "duration": 48,
    "start_time": "2021-08-11T09:46:21.252Z"
   },
   {
    "duration": 46,
    "start_time": "2021-08-11T09:46:21.303Z"
   },
   {
    "duration": 97,
    "start_time": "2021-08-11T09:46:21.352Z"
   },
   {
    "duration": 6630,
    "start_time": "2021-08-11T09:46:21.452Z"
   },
   {
    "duration": 33,
    "start_time": "2021-08-11T09:47:29.492Z"
   },
   {
    "duration": 62,
    "start_time": "2021-08-11T09:47:50.473Z"
   },
   {
    "duration": 59,
    "start_time": "2021-08-11T09:47:57.532Z"
   },
   {
    "duration": 1349,
    "start_time": "2021-08-11T09:48:35.776Z"
   },
   {
    "duration": 107,
    "start_time": "2021-08-11T09:48:37.128Z"
   },
   {
    "duration": 34,
    "start_time": "2021-08-11T09:48:37.238Z"
   },
   {
    "duration": 23,
    "start_time": "2021-08-11T09:48:37.274Z"
   },
   {
    "duration": 39,
    "start_time": "2021-08-11T09:48:37.299Z"
   },
   {
    "duration": 62,
    "start_time": "2021-08-11T09:48:37.341Z"
   },
   {
    "duration": 162,
    "start_time": "2021-08-11T09:48:37.406Z"
   },
   {
    "duration": 45,
    "start_time": "2021-08-11T09:48:37.571Z"
   },
   {
    "duration": 29,
    "start_time": "2021-08-11T09:48:37.619Z"
   },
   {
    "duration": 70,
    "start_time": "2021-08-11T09:48:37.651Z"
   },
   {
    "duration": 96,
    "start_time": "2021-08-11T09:48:37.724Z"
   },
   {
    "duration": 2128,
    "start_time": "2021-08-11T09:48:41.954Z"
   },
   {
    "duration": 2126,
    "start_time": "2021-08-11T09:48:41.958Z"
   },
   {
    "duration": 2124,
    "start_time": "2021-08-11T09:48:41.961Z"
   },
   {
    "duration": 2122,
    "start_time": "2021-08-11T09:48:41.964Z"
   },
   {
    "duration": 2120,
    "start_time": "2021-08-11T09:48:41.968Z"
   },
   {
    "duration": 2117,
    "start_time": "2021-08-11T09:48:41.972Z"
   },
   {
    "duration": 2114,
    "start_time": "2021-08-11T09:48:41.976Z"
   },
   {
    "duration": 2113,
    "start_time": "2021-08-11T09:48:41.979Z"
   },
   {
    "duration": 2110,
    "start_time": "2021-08-11T09:48:41.983Z"
   },
   {
    "duration": 2106,
    "start_time": "2021-08-11T09:48:41.988Z"
   },
   {
    "duration": 2103,
    "start_time": "2021-08-11T09:48:41.992Z"
   },
   {
    "duration": 2102,
    "start_time": "2021-08-11T09:48:41.995Z"
   },
   {
    "duration": 4,
    "start_time": "2021-08-11T09:49:47.113Z"
   },
   {
    "duration": 97,
    "start_time": "2021-08-11T09:49:47.121Z"
   },
   {
    "duration": 33,
    "start_time": "2021-08-11T09:49:47.223Z"
   },
   {
    "duration": 23,
    "start_time": "2021-08-11T09:49:47.259Z"
   },
   {
    "duration": 39,
    "start_time": "2021-08-11T09:49:47.284Z"
   },
   {
    "duration": 30,
    "start_time": "2021-08-11T09:49:47.325Z"
   },
   {
    "duration": 163,
    "start_time": "2021-08-11T09:49:47.357Z"
   },
   {
    "duration": 37,
    "start_time": "2021-08-11T09:49:47.523Z"
   },
   {
    "duration": 45,
    "start_time": "2021-08-11T09:49:47.563Z"
   },
   {
    "duration": 43,
    "start_time": "2021-08-11T09:49:47.611Z"
   },
   {
    "duration": 75,
    "start_time": "2021-08-11T09:49:47.683Z"
   },
   {
    "duration": 6361,
    "start_time": "2021-08-11T09:49:47.760Z"
   },
   {
    "duration": 77,
    "start_time": "2021-08-11T09:50:18.472Z"
   },
   {
    "duration": 32,
    "start_time": "2021-08-11T09:50:34.052Z"
   },
   {
    "duration": 43,
    "start_time": "2021-08-11T09:50:41.152Z"
   },
   {
    "duration": 84,
    "start_time": "2021-08-11T09:51:02.892Z"
   },
   {
    "duration": 76,
    "start_time": "2021-08-11T09:51:11.432Z"
   },
   {
    "duration": 32,
    "start_time": "2021-08-11T09:51:21.952Z"
   },
   {
    "duration": 45,
    "start_time": "2021-08-11T09:51:27.592Z"
   },
   {
    "duration": 62,
    "start_time": "2021-08-11T09:51:32.693Z"
   },
   {
    "duration": 59,
    "start_time": "2021-08-11T09:51:35.072Z"
   },
   {
    "duration": 296,
    "start_time": "2021-08-11T10:13:07.426Z"
   },
   {
    "duration": 276,
    "start_time": "2021-08-11T10:13:24.952Z"
   },
   {
    "duration": 264,
    "start_time": "2021-08-11T10:13:58.551Z"
   },
   {
    "duration": 233,
    "start_time": "2021-08-11T10:14:26.744Z"
   },
   {
    "duration": 296,
    "start_time": "2021-08-11T10:15:03.011Z"
   },
   {
    "duration": 356,
    "start_time": "2021-08-11T10:16:26.351Z"
   },
   {
    "duration": 4,
    "start_time": "2021-08-11T10:16:40.352Z"
   },
   {
    "duration": 7,
    "start_time": "2021-08-11T10:16:49.411Z"
   },
   {
    "duration": 283,
    "start_time": "2021-08-11T10:17:04.851Z"
   },
   {
    "duration": 290,
    "start_time": "2021-08-11T10:17:27.551Z"
   },
   {
    "duration": 250,
    "start_time": "2021-08-11T10:18:38.927Z"
   },
   {
    "duration": 6,
    "start_time": "2021-08-11T10:19:18.152Z"
   },
   {
    "duration": 26,
    "start_time": "2021-08-11T10:20:12.531Z"
   },
   {
    "duration": 8,
    "start_time": "2021-08-11T10:20:52.992Z"
   },
   {
    "duration": 4,
    "start_time": "2021-08-11T10:21:02.752Z"
   },
   {
    "duration": 122,
    "start_time": "2021-08-11T10:21:08.952Z"
   },
   {
    "duration": 7,
    "start_time": "2021-08-11T10:21:18.911Z"
   },
   {
    "duration": 6,
    "start_time": "2021-08-11T10:21:41.872Z"
   },
   {
    "duration": 5,
    "start_time": "2021-08-11T10:21:45.872Z"
   },
   {
    "duration": 9,
    "start_time": "2021-08-11T10:22:07.312Z"
   },
   {
    "duration": 11,
    "start_time": "2021-08-11T10:22:21.852Z"
   },
   {
    "duration": 493,
    "start_time": "2021-08-11T10:23:45.152Z"
   },
   {
    "duration": 16,
    "start_time": "2021-08-11T10:23:57.412Z"
   },
   {
    "duration": 47,
    "start_time": "2021-08-11T10:24:04.312Z"
   },
   {
    "duration": 223,
    "start_time": "2021-08-11T10:26:34.992Z"
   },
   {
    "duration": 2233,
    "start_time": "2021-08-11T10:27:00.554Z"
   },
   {
    "duration": 40,
    "start_time": "2021-08-11T10:27:13.152Z"
   },
   {
    "duration": 6965,
    "start_time": "2021-08-11T10:27:44.151Z"
   },
   {
    "duration": 2052,
    "start_time": "2021-08-11T10:27:49.067Z"
   },
   {
    "duration": 8,
    "start_time": "2021-08-11T10:28:19.952Z"
   },
   {
    "duration": 62,
    "start_time": "2021-08-11T10:28:25.152Z"
   },
   {
    "duration": 1486,
    "start_time": "2021-08-11T10:37:13.857Z"
   },
   {
    "duration": 105,
    "start_time": "2021-08-11T10:37:15.346Z"
   },
   {
    "duration": 34,
    "start_time": "2021-08-11T10:37:15.455Z"
   },
   {
    "duration": 18,
    "start_time": "2021-08-11T10:37:15.492Z"
   },
   {
    "duration": 71,
    "start_time": "2021-08-11T10:37:15.513Z"
   },
   {
    "duration": 39,
    "start_time": "2021-08-11T10:37:15.586Z"
   },
   {
    "duration": 178,
    "start_time": "2021-08-11T10:37:15.629Z"
   },
   {
    "duration": 43,
    "start_time": "2021-08-11T10:37:15.809Z"
   },
   {
    "duration": 58,
    "start_time": "2021-08-11T10:37:15.857Z"
   },
   {
    "duration": 43,
    "start_time": "2021-08-11T10:37:15.919Z"
   },
   {
    "duration": 64,
    "start_time": "2021-08-11T10:37:15.983Z"
   },
   {
    "duration": 89,
    "start_time": "2021-08-11T10:37:16.049Z"
   },
   {
    "duration": 6,
    "start_time": "2021-08-11T10:37:16.140Z"
   },
   {
    "duration": 475,
    "start_time": "2021-08-11T10:37:16.149Z"
   },
   {
    "duration": 2357,
    "start_time": "2021-08-11T10:37:14.271Z"
   },
   {
    "duration": 2356,
    "start_time": "2021-08-11T10:37:14.274Z"
   },
   {
    "duration": 2355,
    "start_time": "2021-08-11T10:37:14.277Z"
   },
   {
    "duration": 8,
    "start_time": "2021-08-11T10:38:31.874Z"
   },
   {
    "duration": 7,
    "start_time": "2021-08-11T10:38:35.853Z"
   },
   {
    "duration": 1436,
    "start_time": "2021-08-11T10:39:00.394Z"
   },
   {
    "duration": 102,
    "start_time": "2021-08-11T10:39:01.833Z"
   },
   {
    "duration": 32,
    "start_time": "2021-08-11T10:39:01.938Z"
   },
   {
    "duration": 19,
    "start_time": "2021-08-11T10:39:01.973Z"
   },
   {
    "duration": 41,
    "start_time": "2021-08-11T10:39:01.995Z"
   },
   {
    "duration": 57,
    "start_time": "2021-08-11T10:39:02.039Z"
   },
   {
    "duration": 156,
    "start_time": "2021-08-11T10:39:02.099Z"
   },
   {
    "duration": 50,
    "start_time": "2021-08-11T10:39:02.258Z"
   },
   {
    "duration": 31,
    "start_time": "2021-08-11T10:39:02.311Z"
   },
   {
    "duration": 68,
    "start_time": "2021-08-11T10:39:02.345Z"
   },
   {
    "duration": 69,
    "start_time": "2021-08-11T10:39:02.415Z"
   },
   {
    "duration": 60,
    "start_time": "2021-08-11T10:39:02.487Z"
   },
   {
    "duration": 52,
    "start_time": "2021-08-11T10:39:02.550Z"
   },
   {
    "duration": 47,
    "start_time": "2021-08-11T10:39:02.605Z"
   },
   {
    "duration": 6511,
    "start_time": "2021-08-11T10:39:02.683Z"
   },
   {
    "duration": 2272,
    "start_time": "2021-08-11T10:39:06.924Z"
   },
   {
    "duration": 2267,
    "start_time": "2021-08-11T10:39:06.930Z"
   },
   {
    "duration": 6,
    "start_time": "2021-08-11T10:39:53.394Z"
   },
   {
    "duration": 32,
    "start_time": "2021-08-11T10:40:13.674Z"
   },
   {
    "duration": 364,
    "start_time": "2021-08-11T10:43:30.369Z"
   },
   {
    "duration": 380,
    "start_time": "2021-08-11T10:45:35.474Z"
   },
   {
    "duration": 482,
    "start_time": "2021-08-11T10:48:32.234Z"
   },
   {
    "duration": 422,
    "start_time": "2021-08-11T10:49:32.214Z"
   },
   {
    "duration": 483,
    "start_time": "2021-08-11T10:49:46.474Z"
   },
   {
    "duration": 701,
    "start_time": "2021-08-11T10:50:52.174Z"
   },
   {
    "duration": 507,
    "start_time": "2021-08-11T10:51:02.274Z"
   },
   {
    "duration": 394,
    "start_time": "2021-08-11T10:51:11.634Z"
   },
   {
    "duration": 399,
    "start_time": "2021-08-11T10:51:20.177Z"
   },
   {
    "duration": 377,
    "start_time": "2021-08-11T10:51:26.154Z"
   },
   {
    "duration": 393,
    "start_time": "2021-08-11T10:51:33.029Z"
   },
   {
    "duration": 402,
    "start_time": "2021-08-11T10:51:44.767Z"
   },
   {
    "duration": 382,
    "start_time": "2021-08-11T10:51:59.394Z"
   },
   {
    "duration": 20,
    "start_time": "2021-08-11T10:55:53.541Z"
   },
   {
    "duration": 17,
    "start_time": "2021-08-11T10:56:26.834Z"
   },
   {
    "duration": 15,
    "start_time": "2021-08-11T10:56:43.533Z"
   },
   {
    "duration": 593,
    "start_time": "2021-08-11T11:00:52.334Z"
   },
   {
    "duration": 434,
    "start_time": "2021-08-11T11:01:20.753Z"
   },
   {
    "duration": 91,
    "start_time": "2021-08-11T11:01:36.693Z"
   },
   {
    "duration": 509,
    "start_time": "2021-08-11T11:01:46.473Z"
   },
   {
    "duration": 642,
    "start_time": "2021-08-11T11:03:59.394Z"
   },
   {
    "duration": 693,
    "start_time": "2021-08-11T11:06:22.313Z"
   },
   {
    "duration": 748,
    "start_time": "2021-08-11T11:08:24.713Z"
   },
   {
    "duration": 353,
    "start_time": "2021-08-11T11:08:49.853Z"
   },
   {
    "duration": 725,
    "start_time": "2021-08-11T11:09:04.314Z"
   },
   {
    "duration": 153,
    "start_time": "2021-08-11T11:09:11.813Z"
   },
   {
    "duration": 1482,
    "start_time": "2021-08-13T22:24:43.824Z"
   },
   {
    "duration": 106,
    "start_time": "2021-08-13T22:24:45.309Z"
   },
   {
    "duration": 51,
    "start_time": "2021-08-13T22:24:45.418Z"
   },
   {
    "duration": 24,
    "start_time": "2021-08-13T22:24:45.473Z"
   },
   {
    "duration": 67,
    "start_time": "2021-08-13T22:24:45.501Z"
   },
   {
    "duration": 16,
    "start_time": "2021-08-13T22:24:45.571Z"
   },
   {
    "duration": 233,
    "start_time": "2021-08-13T22:24:45.590Z"
   },
   {
    "duration": 78,
    "start_time": "2021-08-13T22:24:45.828Z"
   },
   {
    "duration": 51,
    "start_time": "2021-08-13T22:24:45.911Z"
   },
   {
    "duration": 88,
    "start_time": "2021-08-13T22:24:45.965Z"
   },
   {
    "duration": 111,
    "start_time": "2021-08-13T22:24:46.056Z"
   },
   {
    "duration": 113,
    "start_time": "2021-08-13T22:24:46.176Z"
   },
   {
    "duration": 9,
    "start_time": "2021-08-13T22:24:46.292Z"
   },
   {
    "duration": 442,
    "start_time": "2021-08-13T22:24:46.304Z"
   },
   {
    "duration": 443,
    "start_time": "2021-08-13T22:24:46.749Z"
   },
   {
    "duration": 21,
    "start_time": "2021-08-13T22:24:47.195Z"
   },
   {
    "duration": 21,
    "start_time": "2021-08-13T22:24:47.219Z"
   },
   {
    "duration": 53,
    "start_time": "2021-08-13T22:24:47.243Z"
   },
   {
    "duration": 636,
    "start_time": "2021-08-13T22:24:47.299Z"
   },
   {
    "duration": 164,
    "start_time": "2021-08-13T22:24:47.937Z"
   },
   {
    "duration": 10474,
    "start_time": "2021-08-13T22:24:48.105Z"
   },
   {
    "duration": 9336,
    "start_time": "2021-08-13T22:26:10.815Z"
   },
   {
    "duration": 22,
    "start_time": "2021-08-13T22:26:49.614Z"
   },
   {
    "duration": 40,
    "start_time": "2021-08-13T22:45:46.143Z"
   },
   {
    "duration": 74,
    "start_time": "2021-08-13T22:58:48.224Z"
   },
   {
    "duration": 29,
    "start_time": "2021-08-13T23:05:51.394Z"
   },
   {
    "duration": 6,
    "start_time": "2021-08-13T23:25:09.504Z"
   },
   {
    "duration": 411,
    "start_time": "2021-08-13T23:25:11.867Z"
   },
   {
    "duration": 480,
    "start_time": "2021-08-13T23:25:33.864Z"
   },
   {
    "duration": 18,
    "start_time": "2021-08-13T23:25:54.864Z"
   },
   {
    "duration": 17,
    "start_time": "2021-08-13T23:25:57.594Z"
   },
   {
    "duration": 17,
    "start_time": "2021-08-13T23:26:00.024Z"
   },
   {
    "duration": 39,
    "start_time": "2021-08-13T23:47:12.005Z"
   },
   {
    "duration": 1479,
    "start_time": "2021-08-14T05:30:26.454Z"
   },
   {
    "duration": 142,
    "start_time": "2021-08-14T05:30:27.935Z"
   },
   {
    "duration": 48,
    "start_time": "2021-08-14T05:30:28.080Z"
   },
   {
    "duration": 17,
    "start_time": "2021-08-14T05:30:28.131Z"
   },
   {
    "duration": 42,
    "start_time": "2021-08-14T05:30:28.150Z"
   },
   {
    "duration": 167,
    "start_time": "2021-08-14T05:30:28.194Z"
   },
   {
    "duration": 49,
    "start_time": "2021-08-14T05:30:28.363Z"
   },
   {
    "duration": 54,
    "start_time": "2021-08-14T05:30:28.415Z"
   },
   {
    "duration": 38,
    "start_time": "2021-08-14T05:30:28.473Z"
   },
   {
    "duration": 87,
    "start_time": "2021-08-14T05:30:28.514Z"
   },
   {
    "duration": 62,
    "start_time": "2021-08-14T05:30:28.604Z"
   },
   {
    "duration": 9,
    "start_time": "2021-08-14T05:30:28.669Z"
   },
   {
    "duration": 418,
    "start_time": "2021-08-14T05:30:28.681Z"
   },
   {
    "duration": 406,
    "start_time": "2021-08-14T05:30:29.102Z"
   },
   {
    "duration": 18,
    "start_time": "2021-08-14T05:30:29.510Z"
   },
   {
    "duration": 34,
    "start_time": "2021-08-14T05:30:29.531Z"
   },
   {
    "duration": 18,
    "start_time": "2021-08-14T05:30:29.567Z"
   },
   {
    "duration": 570,
    "start_time": "2021-08-14T05:30:29.588Z"
   },
   {
    "duration": 159,
    "start_time": "2021-08-14T05:30:30.160Z"
   },
   {
    "duration": 19,
    "start_time": "2021-08-14T05:30:30.321Z"
   },
   {
    "duration": 23,
    "start_time": "2021-08-14T05:35:12.653Z"
   },
   {
    "duration": 16,
    "start_time": "2021-08-14T05:35:15.911Z"
   },
   {
    "duration": 41,
    "start_time": "2021-08-14T05:35:36.213Z"
   },
   {
    "duration": 22,
    "start_time": "2021-08-14T05:38:10.426Z"
   },
   {
    "duration": 15,
    "start_time": "2021-08-14T05:38:14.862Z"
   },
   {
    "duration": 30,
    "start_time": "2021-08-14T05:39:09.849Z"
   },
   {
    "duration": 16,
    "start_time": "2021-08-14T05:40:23.963Z"
   },
   {
    "duration": 12,
    "start_time": "2021-08-14T05:40:28.252Z"
   },
   {
    "duration": 12,
    "start_time": "2021-08-14T05:40:35.236Z"
   },
   {
    "duration": 12,
    "start_time": "2021-08-14T05:40:39.052Z"
   },
   {
    "duration": 12,
    "start_time": "2021-08-14T05:40:54.522Z"
   },
   {
    "duration": 12,
    "start_time": "2021-08-14T05:41:06.618Z"
   },
   {
    "duration": 18,
    "start_time": "2021-08-14T05:41:13.433Z"
   },
   {
    "duration": 3,
    "start_time": "2021-08-14T05:53:23.910Z"
   },
   {
    "duration": 10,
    "start_time": "2021-08-14T05:53:36.325Z"
   },
   {
    "duration": 16,
    "start_time": "2021-08-14T05:53:59.747Z"
   },
   {
    "duration": 18,
    "start_time": "2021-08-14T05:55:56.357Z"
   },
   {
    "duration": 15,
    "start_time": "2021-08-14T05:56:08.694Z"
   },
   {
    "duration": 21,
    "start_time": "2021-08-14T05:56:24.036Z"
   },
   {
    "duration": 17,
    "start_time": "2021-08-14T05:56:33.372Z"
   },
   {
    "duration": 17,
    "start_time": "2021-08-14T05:56:36.347Z"
   },
   {
    "duration": 31,
    "start_time": "2021-08-14T06:07:10.476Z"
   },
   {
    "duration": 19,
    "start_time": "2021-08-14T06:07:32.837Z"
   },
   {
    "duration": 296,
    "start_time": "2021-08-14T06:07:40.492Z"
   },
   {
    "duration": 31,
    "start_time": "2021-08-14T06:08:26.834Z"
   },
   {
    "duration": 29,
    "start_time": "2021-08-14T06:08:48.017Z"
   },
   {
    "duration": 20,
    "start_time": "2021-08-14T06:08:56.712Z"
   },
   {
    "duration": 1953,
    "start_time": "2021-08-14T06:09:04.031Z"
   },
   {
    "duration": 15,
    "start_time": "2021-08-14T06:10:30.602Z"
   },
   {
    "duration": 19,
    "start_time": "2021-08-14T06:10:38.457Z"
   },
   {
    "duration": 400,
    "start_time": "2021-08-14T06:10:46.145Z"
   },
   {
    "duration": 32,
    "start_time": "2021-08-14T06:10:51.617Z"
   },
   {
    "duration": 20,
    "start_time": "2021-08-14T06:14:12.230Z"
   },
   {
    "duration": 7,
    "start_time": "2021-08-14T06:14:37.540Z"
   },
   {
    "duration": 8,
    "start_time": "2021-08-14T06:14:42.611Z"
   },
   {
    "duration": 1438,
    "start_time": "2021-08-14T06:27:39.682Z"
   },
   {
    "duration": 108,
    "start_time": "2021-08-14T06:27:41.123Z"
   },
   {
    "duration": 40,
    "start_time": "2021-08-14T06:27:41.234Z"
   },
   {
    "duration": 27,
    "start_time": "2021-08-14T06:27:41.276Z"
   },
   {
    "duration": 51,
    "start_time": "2021-08-14T06:27:41.305Z"
   },
   {
    "duration": 167,
    "start_time": "2021-08-14T06:27:41.359Z"
   },
   {
    "duration": 66,
    "start_time": "2021-08-14T06:27:41.530Z"
   },
   {
    "duration": 32,
    "start_time": "2021-08-14T06:27:41.602Z"
   },
   {
    "duration": 40,
    "start_time": "2021-08-14T06:27:41.637Z"
   },
   {
    "duration": 47,
    "start_time": "2021-08-14T06:27:41.680Z"
   },
   {
    "duration": 87,
    "start_time": "2021-08-14T06:27:41.729Z"
   },
   {
    "duration": 63,
    "start_time": "2021-08-14T06:27:41.819Z"
   },
   {
    "duration": 7,
    "start_time": "2021-08-14T06:27:41.884Z"
   },
   {
    "duration": 452,
    "start_time": "2021-08-14T06:27:41.893Z"
   },
   {
    "duration": 428,
    "start_time": "2021-08-14T06:27:42.348Z"
   },
   {
    "duration": 18,
    "start_time": "2021-08-14T06:27:42.779Z"
   },
   {
    "duration": 17,
    "start_time": "2021-08-14T06:27:42.799Z"
   },
   {
    "duration": 45,
    "start_time": "2021-08-14T06:27:42.819Z"
   },
   {
    "duration": 560,
    "start_time": "2021-08-14T06:27:42.867Z"
   },
   {
    "duration": 164,
    "start_time": "2021-08-14T06:27:43.430Z"
   },
   {
    "duration": 28,
    "start_time": "2021-08-14T06:27:43.597Z"
   },
   {
    "duration": 1517,
    "start_time": "2021-08-15T15:17:46.220Z"
   },
   {
    "duration": 107,
    "start_time": "2021-08-15T15:17:47.739Z"
   },
   {
    "duration": 35,
    "start_time": "2021-08-15T15:17:47.849Z"
   },
   {
    "duration": 106,
    "start_time": "2021-08-15T15:17:47.887Z"
   },
   {
    "duration": 1048,
    "start_time": "2021-08-15T15:17:46.949Z"
   },
   {
    "duration": 1041,
    "start_time": "2021-08-15T15:17:46.957Z"
   },
   {
    "duration": 1037,
    "start_time": "2021-08-15T15:17:46.962Z"
   },
   {
    "duration": 1034,
    "start_time": "2021-08-15T15:17:46.967Z"
   },
   {
    "duration": 1030,
    "start_time": "2021-08-15T15:17:46.972Z"
   },
   {
    "duration": 1028,
    "start_time": "2021-08-15T15:17:46.976Z"
   },
   {
    "duration": 1023,
    "start_time": "2021-08-15T15:17:46.982Z"
   },
   {
    "duration": 1021,
    "start_time": "2021-08-15T15:17:46.986Z"
   },
   {
    "duration": 1016,
    "start_time": "2021-08-15T15:17:46.992Z"
   },
   {
    "duration": 1013,
    "start_time": "2021-08-15T15:17:46.996Z"
   },
   {
    "duration": 1009,
    "start_time": "2021-08-15T15:17:47.002Z"
   },
   {
    "duration": 998,
    "start_time": "2021-08-15T15:17:47.014Z"
   },
   {
    "duration": 995,
    "start_time": "2021-08-15T15:17:47.019Z"
   },
   {
    "duration": 990,
    "start_time": "2021-08-15T15:17:47.025Z"
   },
   {
    "duration": 988,
    "start_time": "2021-08-15T15:17:47.029Z"
   },
   {
    "duration": 984,
    "start_time": "2021-08-15T15:17:47.034Z"
   },
   {
    "duration": 982,
    "start_time": "2021-08-15T15:17:47.038Z"
   },
   {
    "duration": 980,
    "start_time": "2021-08-15T15:17:47.041Z"
   },
   {
    "duration": 107,
    "start_time": "2021-08-15T15:19:10.620Z"
   },
   {
    "duration": 103,
    "start_time": "2021-08-15T15:21:11.840Z"
   },
   {
    "duration": 419,
    "start_time": "2021-08-15T15:21:39.719Z"
   },
   {
    "duration": 282,
    "start_time": "2021-08-15T15:21:56.300Z"
   },
   {
    "duration": 41,
    "start_time": "2021-08-15T15:22:36.379Z"
   },
   {
    "duration": 361,
    "start_time": "2021-08-15T21:01:07.953Z"
   },
   {
    "duration": 1481,
    "start_time": "2021-08-15T21:01:51.868Z"
   },
   {
    "duration": 116,
    "start_time": "2021-08-15T21:01:53.351Z"
   },
   {
    "duration": 45,
    "start_time": "2021-08-15T21:01:53.470Z"
   },
   {
    "duration": 57,
    "start_time": "2021-08-15T21:01:53.518Z"
   },
   {
    "duration": 17,
    "start_time": "2021-08-15T21:01:53.577Z"
   },
   {
    "duration": 73,
    "start_time": "2021-08-15T21:01:53.597Z"
   },
   {
    "duration": 164,
    "start_time": "2021-08-15T21:01:53.672Z"
   },
   {
    "duration": 86,
    "start_time": "2021-08-15T21:01:53.839Z"
   },
   {
    "duration": 67,
    "start_time": "2021-08-15T21:01:53.931Z"
   },
   {
    "duration": 24,
    "start_time": "2021-08-15T21:01:54.002Z"
   },
   {
    "duration": 69,
    "start_time": "2021-08-15T21:01:54.029Z"
   },
   {
    "duration": 100,
    "start_time": "2021-08-15T21:01:54.100Z"
   },
   {
    "duration": 39,
    "start_time": "2021-08-15T21:01:54.202Z"
   },
   {
    "duration": 6,
    "start_time": "2021-08-15T21:01:54.263Z"
   },
   {
    "duration": 447,
    "start_time": "2021-08-15T21:01:54.272Z"
   },
   {
    "duration": 414,
    "start_time": "2021-08-15T21:01:54.722Z"
   },
   {
    "duration": 31,
    "start_time": "2021-08-15T21:01:55.139Z"
   },
   {
    "duration": 18,
    "start_time": "2021-08-15T21:01:55.172Z"
   },
   {
    "duration": 17,
    "start_time": "2021-08-15T21:01:55.193Z"
   },
   {
    "duration": 597,
    "start_time": "2021-08-15T21:01:55.212Z"
   },
   {
    "duration": 167,
    "start_time": "2021-08-15T21:01:55.811Z"
   },
   {
    "duration": 19,
    "start_time": "2021-08-15T21:01:55.981Z"
   },
   {
    "duration": 58,
    "start_time": "2021-08-15T21:23:13.794Z"
   },
   {
    "duration": 35,
    "start_time": "2021-08-15T21:25:00.395Z"
   },
   {
    "duration": 103,
    "start_time": "2021-08-15T21:28:17.354Z"
   },
   {
    "duration": 84,
    "start_time": "2021-08-15T21:28:57.914Z"
   },
   {
    "duration": 34,
    "start_time": "2021-08-15T21:29:18.314Z"
   },
   {
    "duration": 63,
    "start_time": "2021-08-15T21:35:14.394Z"
   },
   {
    "duration": 10,
    "start_time": "2021-08-15T21:40:07.033Z"
   },
   {
    "duration": 56,
    "start_time": "2021-08-15T21:41:02.593Z"
   },
   {
    "duration": 49,
    "start_time": "2021-08-15T21:41:20.075Z"
   },
   {
    "duration": 39,
    "start_time": "2021-08-15T21:42:05.934Z"
   },
   {
    "duration": 8,
    "start_time": "2021-08-15T21:42:24.873Z"
   },
   {
    "duration": 420,
    "start_time": "2021-08-15T21:42:27.933Z"
   },
   {
    "duration": 461,
    "start_time": "2021-08-15T21:42:37.673Z"
   },
   {
    "duration": 417,
    "start_time": "2021-08-15T21:42:53.074Z"
   },
   {
    "duration": 430,
    "start_time": "2021-08-15T21:43:01.554Z"
   },
   {
    "duration": 426,
    "start_time": "2021-08-15T21:43:07.174Z"
   },
   {
    "duration": 440,
    "start_time": "2021-08-15T21:43:21.353Z"
   },
   {
    "duration": 44,
    "start_time": "2021-08-15T21:44:28.233Z"
   },
   {
    "duration": 39,
    "start_time": "2021-08-15T21:44:55.454Z"
   },
   {
    "duration": 2032,
    "start_time": "2021-08-15T21:45:59.954Z"
   },
   {
    "duration": 2073,
    "start_time": "2021-08-15T21:46:30.074Z"
   },
   {
    "duration": 1951,
    "start_time": "2021-08-15T21:46:48.622Z"
   },
   {
    "duration": 675,
    "start_time": "2021-08-15T21:47:27.934Z"
   },
   {
    "duration": 600,
    "start_time": "2021-08-15T21:47:36.514Z"
   },
   {
    "duration": 437,
    "start_time": "2021-08-15T21:47:53.234Z"
   },
   {
    "duration": 561,
    "start_time": "2021-08-15T21:48:09.562Z"
   },
   {
    "duration": 330,
    "start_time": "2021-08-15T21:48:17.034Z"
   },
   {
    "duration": 8352,
    "start_time": "2021-08-15T21:49:53.078Z"
   },
   {
    "duration": 338,
    "start_time": "2021-08-15T21:50:34.474Z"
   },
   {
    "duration": 500,
    "start_time": "2021-08-15T21:51:22.794Z"
   },
   {
    "duration": 505,
    "start_time": "2021-08-15T21:51:57.034Z"
   },
   {
    "duration": 618,
    "start_time": "2021-08-15T21:53:12.754Z"
   },
   {
    "duration": 2022,
    "start_time": "2021-08-15T21:54:10.694Z"
   },
   {
    "duration": 2146,
    "start_time": "2021-08-15T21:58:25.554Z"
   },
   {
    "duration": 2036,
    "start_time": "2021-08-15T21:58:44.634Z"
   },
   {
    "duration": 10853,
    "start_time": "2021-08-15T22:00:28.942Z"
   },
   {
    "duration": 2014,
    "start_time": "2021-08-15T22:01:24.514Z"
   },
   {
    "duration": 277,
    "start_time": "2021-08-15T22:03:23.874Z"
   },
   {
    "duration": 102,
    "start_time": "2021-08-15T22:04:36.374Z"
   },
   {
    "duration": 249,
    "start_time": "2021-08-15T22:04:42.075Z"
   },
   {
    "duration": 433,
    "start_time": "2021-08-15T22:04:50.974Z"
   },
   {
    "duration": 1913,
    "start_time": "2021-08-15T22:05:32.970Z"
   },
   {
    "duration": 151,
    "start_time": "2021-08-15T22:05:34.887Z"
   },
   {
    "duration": 51,
    "start_time": "2021-08-15T22:05:35.064Z"
   },
   {
    "duration": 83,
    "start_time": "2021-08-15T22:05:35.118Z"
   },
   {
    "duration": 23,
    "start_time": "2021-08-15T22:05:35.205Z"
   },
   {
    "duration": 92,
    "start_time": "2021-08-15T22:05:35.231Z"
   },
   {
    "duration": 229,
    "start_time": "2021-08-15T22:05:35.329Z"
   },
   {
    "duration": 81,
    "start_time": "2021-08-15T22:05:35.563Z"
   },
   {
    "duration": 51,
    "start_time": "2021-08-15T22:05:35.663Z"
   },
   {
    "duration": 58,
    "start_time": "2021-08-15T22:05:35.717Z"
   },
   {
    "duration": 84,
    "start_time": "2021-08-15T22:05:35.778Z"
   },
   {
    "duration": 121,
    "start_time": "2021-08-15T22:05:35.865Z"
   },
   {
    "duration": 38,
    "start_time": "2021-08-15T22:05:35.989Z"
   },
   {
    "duration": 7,
    "start_time": "2021-08-15T22:05:36.061Z"
   },
   {
    "duration": 465,
    "start_time": "2021-08-15T22:05:36.071Z"
   },
   {
    "duration": 442,
    "start_time": "2021-08-15T22:05:36.539Z"
   },
   {
    "duration": 20,
    "start_time": "2021-08-15T22:05:36.983Z"
   },
   {
    "duration": 58,
    "start_time": "2021-08-15T22:05:37.005Z"
   },
   {
    "duration": 18,
    "start_time": "2021-08-15T22:05:37.065Z"
   },
   {
    "duration": 8398,
    "start_time": "2021-08-15T22:05:37.085Z"
   },
   {
    "duration": 172,
    "start_time": "2021-08-15T22:05:45.485Z"
   },
   {
    "duration": 21,
    "start_time": "2021-08-15T22:05:45.659Z"
   },
   {
    "duration": 8775,
    "start_time": "2021-08-15T22:06:34.196Z"
   },
   {
    "duration": 685,
    "start_time": "2021-08-15T22:07:11.336Z"
   },
   {
    "duration": 814,
    "start_time": "2021-08-15T22:08:09.474Z"
   },
   {
    "duration": 715,
    "start_time": "2021-08-15T22:10:41.576Z"
   },
   {
    "duration": 1486,
    "start_time": "2021-08-16T09:05:09.327Z"
   },
   {
    "duration": 724,
    "start_time": "2021-08-16T09:05:10.816Z"
   },
   {
    "duration": 63,
    "start_time": "2021-08-16T09:05:11.544Z"
   },
   {
    "duration": 47,
    "start_time": "2021-08-16T09:05:11.611Z"
   },
   {
    "duration": 79,
    "start_time": "2021-08-16T09:05:11.661Z"
   },
   {
    "duration": 59,
    "start_time": "2021-08-16T09:05:11.742Z"
   },
   {
    "duration": 168,
    "start_time": "2021-08-16T09:05:11.804Z"
   },
   {
    "duration": 77,
    "start_time": "2021-08-16T09:05:11.976Z"
   },
   {
    "duration": 53,
    "start_time": "2021-08-16T09:05:12.056Z"
   },
   {
    "duration": 18,
    "start_time": "2021-08-16T09:05:12.111Z"
   },
   {
    "duration": 78,
    "start_time": "2021-08-16T09:05:12.131Z"
   },
   {
    "duration": 90,
    "start_time": "2021-08-16T09:05:12.211Z"
   },
   {
    "duration": 39,
    "start_time": "2021-08-16T09:05:12.303Z"
   },
   {
    "duration": 7,
    "start_time": "2021-08-16T09:05:12.345Z"
   },
   {
    "duration": 474,
    "start_time": "2021-08-16T09:05:12.355Z"
   },
   {
    "duration": 429,
    "start_time": "2021-08-16T09:05:12.832Z"
   },
   {
    "duration": 38,
    "start_time": "2021-08-16T09:05:13.263Z"
   },
   {
    "duration": 20,
    "start_time": "2021-08-16T09:05:13.304Z"
   },
   {
    "duration": 17,
    "start_time": "2021-08-16T09:05:13.327Z"
   },
   {
    "duration": 800,
    "start_time": "2021-08-16T09:05:13.347Z"
   },
   {
    "duration": 170,
    "start_time": "2021-08-16T09:05:14.149Z"
   },
   {
    "duration": 116,
    "start_time": "2021-08-16T09:05:14.321Z"
   },
   {
    "duration": 75,
    "start_time": "2021-08-16T09:06:10.599Z"
   },
   {
    "duration": 81,
    "start_time": "2021-08-16T09:06:25.059Z"
   },
   {
    "duration": 59,
    "start_time": "2021-08-16T09:07:20.001Z"
   },
   {
    "duration": 81,
    "start_time": "2021-08-16T09:07:37.693Z"
   },
   {
    "duration": 520,
    "start_time": "2021-08-16T09:07:58.918Z"
   },
   {
    "duration": 471,
    "start_time": "2021-08-16T09:08:10.867Z"
   },
   {
    "duration": 515,
    "start_time": "2021-08-16T09:08:29.060Z"
   },
   {
    "duration": 80,
    "start_time": "2021-08-16T09:08:39.559Z"
   },
   {
    "duration": 90,
    "start_time": "2021-08-16T09:09:32.694Z"
   },
   {
    "duration": 105,
    "start_time": "2021-08-16T09:09:36.454Z"
   },
   {
    "duration": 53,
    "start_time": "2021-08-16T09:11:44.519Z"
   },
   {
    "duration": 16,
    "start_time": "2021-08-16T09:11:54.981Z"
   },
   {
    "duration": 60,
    "start_time": "2021-08-16T09:12:00.118Z"
   },
   {
    "duration": 38,
    "start_time": "2021-08-16T09:12:25.219Z"
   },
   {
    "duration": 38,
    "start_time": "2021-08-16T09:12:32.398Z"
   },
   {
    "duration": 77,
    "start_time": "2021-08-16T09:12:39.038Z"
   },
   {
    "duration": 35,
    "start_time": "2021-08-16T09:14:35.278Z"
   },
   {
    "duration": 63,
    "start_time": "2021-08-16T09:14:37.913Z"
   },
   {
    "duration": 4,
    "start_time": "2021-08-16T09:15:33.507Z"
   },
   {
    "duration": 114,
    "start_time": "2021-08-16T09:15:33.514Z"
   },
   {
    "duration": 39,
    "start_time": "2021-08-16T09:15:33.631Z"
   },
   {
    "duration": 47,
    "start_time": "2021-08-16T09:15:33.673Z"
   },
   {
    "duration": 37,
    "start_time": "2021-08-16T09:15:33.722Z"
   },
   {
    "duration": 58,
    "start_time": "2021-08-16T09:15:33.761Z"
   },
   {
    "duration": 154,
    "start_time": "2021-08-16T09:15:33.821Z"
   },
   {
    "duration": 61,
    "start_time": "2021-08-16T09:15:33.977Z"
   },
   {
    "duration": 32,
    "start_time": "2021-08-16T09:15:34.041Z"
   },
   {
    "duration": 36,
    "start_time": "2021-08-16T09:15:34.075Z"
   },
   {
    "duration": 38,
    "start_time": "2021-08-16T09:15:34.113Z"
   },
   {
    "duration": 91,
    "start_time": "2021-08-16T09:15:34.153Z"
   },
   {
    "duration": 56,
    "start_time": "2021-08-16T09:15:34.247Z"
   },
   {
    "duration": 7,
    "start_time": "2021-08-16T09:15:34.306Z"
   },
   {
    "duration": 433,
    "start_time": "2021-08-16T09:15:34.315Z"
   },
   {
    "duration": 518,
    "start_time": "2021-08-16T09:15:34.752Z"
   },
   {
    "duration": 32,
    "start_time": "2021-08-16T09:15:35.274Z"
   },
   {
    "duration": 20,
    "start_time": "2021-08-16T09:15:35.308Z"
   },
   {
    "duration": 15,
    "start_time": "2021-08-16T09:15:35.331Z"
   },
   {
    "duration": 769,
    "start_time": "2021-08-16T09:15:35.349Z"
   },
   {
    "duration": 168,
    "start_time": "2021-08-16T09:15:36.120Z"
   },
   {
    "duration": 25,
    "start_time": "2021-08-16T09:15:36.291Z"
   },
   {
    "duration": 33,
    "start_time": "2021-08-16T09:21:34.405Z"
   },
   {
    "duration": 71,
    "start_time": "2021-08-16T09:22:38.738Z"
   },
   {
    "duration": 1866,
    "start_time": "2021-08-16T20:02:11.227Z"
   },
   {
    "duration": 5,
    "start_time": "2021-08-16T20:07:07.261Z"
   },
   {
    "duration": 153,
    "start_time": "2021-08-16T20:07:07.268Z"
   },
   {
    "duration": 46,
    "start_time": "2021-08-16T20:07:07.425Z"
   },
   {
    "duration": 57,
    "start_time": "2021-08-16T20:07:07.475Z"
   },
   {
    "duration": 65,
    "start_time": "2021-08-16T20:07:07.535Z"
   },
   {
    "duration": 38,
    "start_time": "2021-08-16T20:07:07.602Z"
   },
   {
    "duration": 750,
    "start_time": "2021-08-16T20:07:07.643Z"
   },
   {
    "duration": 366,
    "start_time": "2021-08-16T20:07:08.030Z"
   },
   {
    "duration": 357,
    "start_time": "2021-08-16T20:07:08.041Z"
   },
   {
    "duration": 344,
    "start_time": "2021-08-16T20:07:08.055Z"
   },
   {
    "duration": 335,
    "start_time": "2021-08-16T20:07:08.066Z"
   },
   {
    "duration": 317,
    "start_time": "2021-08-16T20:07:08.085Z"
   },
   {
    "duration": 311,
    "start_time": "2021-08-16T20:07:08.092Z"
   },
   {
    "duration": 305,
    "start_time": "2021-08-16T20:07:08.100Z"
   },
   {
    "duration": 300,
    "start_time": "2021-08-16T20:07:08.106Z"
   },
   {
    "duration": 293,
    "start_time": "2021-08-16T20:07:08.115Z"
   },
   {
    "duration": 287,
    "start_time": "2021-08-16T20:07:08.122Z"
   },
   {
    "duration": 282,
    "start_time": "2021-08-16T20:07:08.129Z"
   },
   {
    "duration": 276,
    "start_time": "2021-08-16T20:07:08.136Z"
   },
   {
    "duration": 270,
    "start_time": "2021-08-16T20:07:08.143Z"
   },
   {
    "duration": 265,
    "start_time": "2021-08-16T20:07:08.150Z"
   },
   {
    "duration": 259,
    "start_time": "2021-08-16T20:07:08.157Z"
   },
   {
    "duration": 255,
    "start_time": "2021-08-16T20:07:08.163Z"
   },
   {
    "duration": 693,
    "start_time": "2021-08-16T20:08:13.680Z"
   },
   {
    "duration": 227,
    "start_time": "2021-08-16T20:19:18.580Z"
   },
   {
    "duration": 52,
    "start_time": "2021-08-16T20:19:22.960Z"
   },
   {
    "duration": 29,
    "start_time": "2021-08-16T20:19:24.980Z"
   },
   {
    "duration": 48,
    "start_time": "2021-08-16T20:21:26.700Z"
   },
   {
    "duration": 52,
    "start_time": "2021-08-16T20:22:11.620Z"
   },
   {
    "duration": 42,
    "start_time": "2021-08-16T20:22:28.243Z"
   },
   {
    "duration": 1507,
    "start_time": "2021-08-16T20:24:36.620Z"
   },
   {
    "duration": 104,
    "start_time": "2021-08-16T20:24:38.129Z"
   },
   {
    "duration": 35,
    "start_time": "2021-08-16T20:24:38.236Z"
   },
   {
    "duration": 41,
    "start_time": "2021-08-16T20:24:38.275Z"
   },
   {
    "duration": 70,
    "start_time": "2021-08-16T20:24:38.318Z"
   },
   {
    "duration": 52,
    "start_time": "2021-08-16T20:24:38.391Z"
   },
   {
    "duration": 69,
    "start_time": "2021-08-16T20:24:38.446Z"
   },
   {
    "duration": 171,
    "start_time": "2021-08-16T20:24:38.517Z"
   },
   {
    "duration": 31,
    "start_time": "2021-08-16T20:24:38.692Z"
   },
   {
    "duration": 56,
    "start_time": "2021-08-16T20:24:38.726Z"
   },
   {
    "duration": 17,
    "start_time": "2021-08-16T20:24:38.784Z"
   },
   {
    "duration": 71,
    "start_time": "2021-08-16T20:24:38.803Z"
   },
   {
    "duration": 62,
    "start_time": "2021-08-16T20:24:38.877Z"
   },
   {
    "duration": 80,
    "start_time": "2021-08-16T20:24:38.941Z"
   },
   {
    "duration": 7,
    "start_time": "2021-08-16T20:24:39.023Z"
   },
   {
    "duration": 411,
    "start_time": "2021-08-16T20:24:39.062Z"
   },
   {
    "duration": 410,
    "start_time": "2021-08-16T20:24:39.475Z"
   },
   {
    "duration": 19,
    "start_time": "2021-08-16T20:24:39.887Z"
   },
   {
    "duration": 17,
    "start_time": "2021-08-16T20:24:39.908Z"
   },
   {
    "duration": 45,
    "start_time": "2021-08-16T20:24:39.927Z"
   },
   {
    "duration": 765,
    "start_time": "2021-08-16T20:24:39.975Z"
   },
   {
    "duration": 166,
    "start_time": "2021-08-16T20:24:40.742Z"
   },
   {
    "duration": 101,
    "start_time": "2021-08-16T20:24:40.911Z"
   },
   {
    "duration": 406,
    "start_time": "2021-08-16T20:29:09.939Z"
   },
   {
    "duration": 417,
    "start_time": "2021-08-16T20:29:26.958Z"
   },
   {
    "duration": 406,
    "start_time": "2021-08-16T20:29:40.934Z"
   },
   {
    "duration": 1511,
    "start_time": "2021-08-17T07:30:00.228Z"
   },
   {
    "duration": 108,
    "start_time": "2021-08-17T07:30:01.742Z"
   },
   {
    "duration": 40,
    "start_time": "2021-08-17T07:30:01.854Z"
   },
   {
    "duration": 62,
    "start_time": "2021-08-17T07:30:01.898Z"
   },
   {
    "duration": 59,
    "start_time": "2021-08-17T07:30:01.963Z"
   },
   {
    "duration": 53,
    "start_time": "2021-08-17T07:30:02.025Z"
   },
   {
    "duration": 58,
    "start_time": "2021-08-17T07:30:02.081Z"
   },
   {
    "duration": 174,
    "start_time": "2021-08-17T07:30:02.141Z"
   },
   {
    "duration": 43,
    "start_time": "2021-08-17T07:30:02.319Z"
   },
   {
    "duration": 30,
    "start_time": "2021-08-17T07:30:02.365Z"
   },
   {
    "duration": 38,
    "start_time": "2021-08-17T07:30:02.397Z"
   },
   {
    "duration": 56,
    "start_time": "2021-08-17T07:30:02.437Z"
   },
   {
    "duration": 70,
    "start_time": "2021-08-17T07:30:02.495Z"
   },
   {
    "duration": 87,
    "start_time": "2021-08-17T07:30:02.567Z"
   },
   {
    "duration": 7,
    "start_time": "2021-08-17T07:30:02.657Z"
   },
   {
    "duration": 438,
    "start_time": "2021-08-17T07:30:02.666Z"
   },
   {
    "duration": 415,
    "start_time": "2021-08-17T07:30:03.106Z"
   },
   {
    "duration": 17,
    "start_time": "2021-08-17T07:30:03.523Z"
   },
   {
    "duration": 17,
    "start_time": "2021-08-17T07:30:03.554Z"
   },
   {
    "duration": 19,
    "start_time": "2021-08-17T07:30:03.573Z"
   },
   {
    "duration": 743,
    "start_time": "2021-08-17T07:30:03.594Z"
   },
   {
    "duration": 166,
    "start_time": "2021-08-17T07:30:04.340Z"
   },
   {
    "duration": 114,
    "start_time": "2021-08-17T07:30:04.508Z"
   }
  ],
  "kernelspec": {
   "display_name": "Python 3",
   "language": "python",
   "name": "python3"
  },
  "language_info": {
   "codemirror_mode": {
    "name": "ipython",
    "version": 3
   },
   "file_extension": ".py",
   "mimetype": "text/x-python",
   "name": "python",
   "nbconvert_exporter": "python",
   "pygments_lexer": "ipython3",
   "version": "3.8.5"
  },
  "toc": {
   "base_numbering": 1,
   "nav_menu": {},
   "number_sections": true,
   "sideBar": true,
   "skip_h1_title": true,
   "title_cell": "Table of Contents",
   "title_sidebar": "Contents",
   "toc_cell": false,
   "toc_position": {},
   "toc_section_display": true,
   "toc_window_display": false
  }
 },
 "nbformat": 4,
 "nbformat_minor": 2
}
