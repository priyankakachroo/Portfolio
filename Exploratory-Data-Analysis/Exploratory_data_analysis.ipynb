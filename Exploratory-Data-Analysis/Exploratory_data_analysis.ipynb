{
 "cells": [
  {
   "cell_type": "markdown",
   "metadata": {},
   "source": [
    "# Research on car sales ads\n",
    "\n",
    "You're an analyst at Crankshaft List. Hundreds of free advertisements for vehicles are published on your site every day.\n",
    "\n",
    "You need to study data collected over the last few years and determine which factors influence the price of a vehicle. "
   ]
  },
  {
   "cell_type": "markdown",
   "metadata": {},
   "source": [
    "### Step 1. Open the data file and study the general information. "
   ]
  },
  {
   "cell_type": "code",
   "execution_count": 1,
   "metadata": {},
   "outputs": [],
   "source": [
    "import pandas as pd \n",
    "import seaborn as sns\n",
    "import statistics \n",
    "import matplotlib.pyplot as plt\n",
    "from pandas import Series\n",
    "import numpy as np\n",
    "df = pd.read_csv('/datasets/vehicles_us.csv')\n",
    "df.head(30)\n",
    "from matplotlib import pyplot as plt\n",
    "%matplotlib inline "
   ]
  },
  {
   "cell_type": "code",
   "execution_count": 2,
   "metadata": {},
   "outputs": [
    {
     "data": {
      "text/html": [
       "<div>\n",
       "<style scoped>\n",
       "    .dataframe tbody tr th:only-of-type {\n",
       "        vertical-align: middle;\n",
       "    }\n",
       "\n",
       "    .dataframe tbody tr th {\n",
       "        vertical-align: top;\n",
       "    }\n",
       "\n",
       "    .dataframe thead th {\n",
       "        text-align: right;\n",
       "    }\n",
       "</style>\n",
       "<table border=\"1\" class=\"dataframe\">\n",
       "  <thead>\n",
       "    <tr style=\"text-align: right;\">\n",
       "      <th></th>\n",
       "      <th>price</th>\n",
       "      <th>model_year</th>\n",
       "      <th>model</th>\n",
       "      <th>condition</th>\n",
       "      <th>cylinders</th>\n",
       "      <th>fuel</th>\n",
       "      <th>odometer</th>\n",
       "      <th>transmission</th>\n",
       "      <th>type</th>\n",
       "      <th>paint_color</th>\n",
       "      <th>is_4wd</th>\n",
       "      <th>date_posted</th>\n",
       "      <th>days_listed</th>\n",
       "    </tr>\n",
       "  </thead>\n",
       "  <tbody>\n",
       "    <tr>\n",
       "      <td>count</td>\n",
       "      <td>51525.000000</td>\n",
       "      <td>47906.000000</td>\n",
       "      <td>51525</td>\n",
       "      <td>51525</td>\n",
       "      <td>46265.000000</td>\n",
       "      <td>51525</td>\n",
       "      <td>43633.000000</td>\n",
       "      <td>51525</td>\n",
       "      <td>51525</td>\n",
       "      <td>42258</td>\n",
       "      <td>25572.0</td>\n",
       "      <td>51525</td>\n",
       "      <td>51525.00000</td>\n",
       "    </tr>\n",
       "    <tr>\n",
       "      <td>unique</td>\n",
       "      <td>NaN</td>\n",
       "      <td>NaN</td>\n",
       "      <td>100</td>\n",
       "      <td>6</td>\n",
       "      <td>NaN</td>\n",
       "      <td>5</td>\n",
       "      <td>NaN</td>\n",
       "      <td>3</td>\n",
       "      <td>13</td>\n",
       "      <td>12</td>\n",
       "      <td>NaN</td>\n",
       "      <td>354</td>\n",
       "      <td>NaN</td>\n",
       "    </tr>\n",
       "    <tr>\n",
       "      <td>top</td>\n",
       "      <td>NaN</td>\n",
       "      <td>NaN</td>\n",
       "      <td>ford f-150</td>\n",
       "      <td>excellent</td>\n",
       "      <td>NaN</td>\n",
       "      <td>gas</td>\n",
       "      <td>NaN</td>\n",
       "      <td>automatic</td>\n",
       "      <td>SUV</td>\n",
       "      <td>white</td>\n",
       "      <td>NaN</td>\n",
       "      <td>2019-03-17</td>\n",
       "      <td>NaN</td>\n",
       "    </tr>\n",
       "    <tr>\n",
       "      <td>freq</td>\n",
       "      <td>NaN</td>\n",
       "      <td>NaN</td>\n",
       "      <td>2796</td>\n",
       "      <td>24773</td>\n",
       "      <td>NaN</td>\n",
       "      <td>47288</td>\n",
       "      <td>NaN</td>\n",
       "      <td>46902</td>\n",
       "      <td>12405</td>\n",
       "      <td>10029</td>\n",
       "      <td>NaN</td>\n",
       "      <td>186</td>\n",
       "      <td>NaN</td>\n",
       "    </tr>\n",
       "    <tr>\n",
       "      <td>mean</td>\n",
       "      <td>12132.464920</td>\n",
       "      <td>2009.750470</td>\n",
       "      <td>NaN</td>\n",
       "      <td>NaN</td>\n",
       "      <td>6.125235</td>\n",
       "      <td>NaN</td>\n",
       "      <td>115553.461738</td>\n",
       "      <td>NaN</td>\n",
       "      <td>NaN</td>\n",
       "      <td>NaN</td>\n",
       "      <td>1.0</td>\n",
       "      <td>NaN</td>\n",
       "      <td>39.55476</td>\n",
       "    </tr>\n",
       "    <tr>\n",
       "      <td>std</td>\n",
       "      <td>10040.803015</td>\n",
       "      <td>6.282065</td>\n",
       "      <td>NaN</td>\n",
       "      <td>NaN</td>\n",
       "      <td>1.660360</td>\n",
       "      <td>NaN</td>\n",
       "      <td>65094.611341</td>\n",
       "      <td>NaN</td>\n",
       "      <td>NaN</td>\n",
       "      <td>NaN</td>\n",
       "      <td>0.0</td>\n",
       "      <td>NaN</td>\n",
       "      <td>28.20427</td>\n",
       "    </tr>\n",
       "    <tr>\n",
       "      <td>min</td>\n",
       "      <td>1.000000</td>\n",
       "      <td>1908.000000</td>\n",
       "      <td>NaN</td>\n",
       "      <td>NaN</td>\n",
       "      <td>3.000000</td>\n",
       "      <td>NaN</td>\n",
       "      <td>0.000000</td>\n",
       "      <td>NaN</td>\n",
       "      <td>NaN</td>\n",
       "      <td>NaN</td>\n",
       "      <td>1.0</td>\n",
       "      <td>NaN</td>\n",
       "      <td>0.00000</td>\n",
       "    </tr>\n",
       "    <tr>\n",
       "      <td>25%</td>\n",
       "      <td>5000.000000</td>\n",
       "      <td>2006.000000</td>\n",
       "      <td>NaN</td>\n",
       "      <td>NaN</td>\n",
       "      <td>4.000000</td>\n",
       "      <td>NaN</td>\n",
       "      <td>70000.000000</td>\n",
       "      <td>NaN</td>\n",
       "      <td>NaN</td>\n",
       "      <td>NaN</td>\n",
       "      <td>1.0</td>\n",
       "      <td>NaN</td>\n",
       "      <td>19.00000</td>\n",
       "    </tr>\n",
       "    <tr>\n",
       "      <td>50%</td>\n",
       "      <td>9000.000000</td>\n",
       "      <td>2011.000000</td>\n",
       "      <td>NaN</td>\n",
       "      <td>NaN</td>\n",
       "      <td>6.000000</td>\n",
       "      <td>NaN</td>\n",
       "      <td>113000.000000</td>\n",
       "      <td>NaN</td>\n",
       "      <td>NaN</td>\n",
       "      <td>NaN</td>\n",
       "      <td>1.0</td>\n",
       "      <td>NaN</td>\n",
       "      <td>33.00000</td>\n",
       "    </tr>\n",
       "    <tr>\n",
       "      <td>75%</td>\n",
       "      <td>16839.000000</td>\n",
       "      <td>2014.000000</td>\n",
       "      <td>NaN</td>\n",
       "      <td>NaN</td>\n",
       "      <td>8.000000</td>\n",
       "      <td>NaN</td>\n",
       "      <td>155000.000000</td>\n",
       "      <td>NaN</td>\n",
       "      <td>NaN</td>\n",
       "      <td>NaN</td>\n",
       "      <td>1.0</td>\n",
       "      <td>NaN</td>\n",
       "      <td>53.00000</td>\n",
       "    </tr>\n",
       "    <tr>\n",
       "      <td>max</td>\n",
       "      <td>375000.000000</td>\n",
       "      <td>2019.000000</td>\n",
       "      <td>NaN</td>\n",
       "      <td>NaN</td>\n",
       "      <td>12.000000</td>\n",
       "      <td>NaN</td>\n",
       "      <td>990000.000000</td>\n",
       "      <td>NaN</td>\n",
       "      <td>NaN</td>\n",
       "      <td>NaN</td>\n",
       "      <td>1.0</td>\n",
       "      <td>NaN</td>\n",
       "      <td>271.00000</td>\n",
       "    </tr>\n",
       "  </tbody>\n",
       "</table>\n",
       "</div>"
      ],
      "text/plain": [
       "                price    model_year       model  condition     cylinders  \\\n",
       "count    51525.000000  47906.000000       51525      51525  46265.000000   \n",
       "unique            NaN           NaN         100          6           NaN   \n",
       "top               NaN           NaN  ford f-150  excellent           NaN   \n",
       "freq              NaN           NaN        2796      24773           NaN   \n",
       "mean     12132.464920   2009.750470         NaN        NaN      6.125235   \n",
       "std      10040.803015      6.282065         NaN        NaN      1.660360   \n",
       "min          1.000000   1908.000000         NaN        NaN      3.000000   \n",
       "25%       5000.000000   2006.000000         NaN        NaN      4.000000   \n",
       "50%       9000.000000   2011.000000         NaN        NaN      6.000000   \n",
       "75%      16839.000000   2014.000000         NaN        NaN      8.000000   \n",
       "max     375000.000000   2019.000000         NaN        NaN     12.000000   \n",
       "\n",
       "         fuel       odometer transmission   type paint_color   is_4wd  \\\n",
       "count   51525   43633.000000        51525  51525       42258  25572.0   \n",
       "unique      5            NaN            3     13          12      NaN   \n",
       "top       gas            NaN    automatic    SUV       white      NaN   \n",
       "freq    47288            NaN        46902  12405       10029      NaN   \n",
       "mean      NaN  115553.461738          NaN    NaN         NaN      1.0   \n",
       "std       NaN   65094.611341          NaN    NaN         NaN      0.0   \n",
       "min       NaN       0.000000          NaN    NaN         NaN      1.0   \n",
       "25%       NaN   70000.000000          NaN    NaN         NaN      1.0   \n",
       "50%       NaN  113000.000000          NaN    NaN         NaN      1.0   \n",
       "75%       NaN  155000.000000          NaN    NaN         NaN      1.0   \n",
       "max       NaN  990000.000000          NaN    NaN         NaN      1.0   \n",
       "\n",
       "       date_posted  days_listed  \n",
       "count        51525  51525.00000  \n",
       "unique         354          NaN  \n",
       "top     2019-03-17          NaN  \n",
       "freq           186          NaN  \n",
       "mean           NaN     39.55476  \n",
       "std            NaN     28.20427  \n",
       "min            NaN      0.00000  \n",
       "25%            NaN     19.00000  \n",
       "50%            NaN     33.00000  \n",
       "75%            NaN     53.00000  \n",
       "max            NaN    271.00000  "
      ]
     },
     "execution_count": 2,
     "metadata": {},
     "output_type": "execute_result"
    }
   ],
   "source": [
    "df.describe(include = 'all')"
   ]
  },
  {
   "cell_type": "code",
   "execution_count": 3,
   "metadata": {},
   "outputs": [
    {
     "data": {
      "text/plain": [
       "Index(['price', 'model_year', 'model', 'condition', 'cylinders', 'fuel',\n",
       "       'odometer', 'transmission', 'type', 'paint_color', 'is_4wd',\n",
       "       'date_posted', 'days_listed'],\n",
       "      dtype='object')"
      ]
     },
     "execution_count": 3,
     "metadata": {},
     "output_type": "execute_result"
    }
   ],
   "source": [
    "df.columns"
   ]
  },
  {
   "cell_type": "code",
   "execution_count": 4,
   "metadata": {},
   "outputs": [
    {
     "name": "stdout",
     "output_type": "stream",
     "text": [
      "<class 'pandas.core.frame.DataFrame'>\n",
      "RangeIndex: 51525 entries, 0 to 51524\n",
      "Data columns (total 13 columns):\n",
      "price           51525 non-null int64\n",
      "model_year      47906 non-null float64\n",
      "model           51525 non-null object\n",
      "condition       51525 non-null object\n",
      "cylinders       46265 non-null float64\n",
      "fuel            51525 non-null object\n",
      "odometer        43633 non-null float64\n",
      "transmission    51525 non-null object\n",
      "type            51525 non-null object\n",
      "paint_color     42258 non-null object\n",
      "is_4wd          25572 non-null float64\n",
      "date_posted     51525 non-null object\n",
      "days_listed     51525 non-null int64\n",
      "dtypes: float64(4), int64(2), object(7)\n",
      "memory usage: 5.1+ MB\n"
     ]
    }
   ],
   "source": [
    "df.info()"
   ]
  },
  {
   "cell_type": "code",
   "execution_count": 5,
   "metadata": {},
   "outputs": [],
   "source": [
    "# df.shape[]"
   ]
  },
  {
   "cell_type": "code",
   "execution_count": 6,
   "metadata": {},
   "outputs": [
    {
     "data": {
      "text/plain": [
       "price               0\n",
       "model_year       3619\n",
       "model               0\n",
       "condition           0\n",
       "cylinders        5260\n",
       "fuel                0\n",
       "odometer         7892\n",
       "transmission        0\n",
       "type                0\n",
       "paint_color      9267\n",
       "is_4wd          25953\n",
       "date_posted         0\n",
       "days_listed         0\n",
       "dtype: int64"
      ]
     },
     "execution_count": 6,
     "metadata": {},
     "output_type": "execute_result"
    }
   ],
   "source": [
    "df.isnull().sum()"
   ]
  },
  {
   "cell_type": "code",
   "execution_count": 7,
   "metadata": {},
   "outputs": [
    {
     "data": {
      "text/plain": [
       "array([ 19,  50,  79,   9,  28,  15,  73,  68,  17,  38,  29,  37,  24,\n",
       "       111,  13,  25,  27,   8,  64,  39,  40,  43,  23,  42, 101,  20,\n",
       "        14,   7,  31, 121,  22,  44,   1,  36,  21,  16,  10,  60,  51,\n",
       "        35, 261,  71,  99,   2,  26,  48,  54,  85,  41,  53,   3,  33,\n",
       "        30,  47,  32,  18,  52, 152,  11, 100,  94,  82, 141,  70,  57,\n",
       "        62,  46,  96,  58,  34,  93,  49,  55,  67,  78,  12,   6, 108,\n",
       "        72, 112,  83,  61,  59, 130,   4,  98,   5, 164,  56,  75,  74,\n",
       "        80,  66,  63, 109,  81,  90, 127,  45,  88,  91,  77,  69,  89,\n",
       "       114,  84, 110, 140, 104, 120,  97,  76,  92, 128, 113, 129,  65,\n",
       "       115, 106, 116, 154, 151, 147, 124, 102,  87, 143,  95,  86, 132,\n",
       "       105, 107,   0, 103, 117, 155, 118, 149, 144, 122, 137, 263, 148,\n",
       "       156, 179, 126, 169, 136, 125, 131, 119, 177, 174, 173, 134, 171,\n",
       "       145, 139, 166, 244, 228, 142, 135, 162, 183, 271, 138, 123, 157,\n",
       "       201, 161, 158, 150, 181, 184, 256, 133, 146, 195, 207, 163, 206,\n",
       "       236, 160, 190, 165, 159, 153, 204, 233, 185, 221, 226, 172, 203,\n",
       "       176, 202, 240, 197, 208, 209, 188, 187, 192, 193, 225, 243, 189,\n",
       "       175, 205, 180, 267, 182, 199, 217, 210, 178, 223, 167, 170, 194,\n",
       "       168, 213, 191, 252, 200, 186])"
      ]
     },
     "execution_count": 7,
     "metadata": {},
     "output_type": "execute_result"
    }
   ],
   "source": [
    "df['is_4wd'].unique()\n",
    "df['model_year'].unique()\n",
    "df['cylinders'].unique()\n",
    "df['odometer'].unique()\n",
    "df['paint_color'].unique()\n",
    "df['date_posted'].unique()\n",
    "df['days_listed'].unique()\n",
    "\n"
   ]
  },
  {
   "cell_type": "markdown",
   "metadata": {},
   "source": [
    "### Conclusion"
   ]
  },
  {
   "cell_type": "markdown",
   "metadata": {},
   "source": [
    "While looking at the data we can observe that there are \n",
    "1) 51525 entries in it \n",
    "2) Columns(price', 'model_year', 'model', 'condition', 'cylinders', 'fuel','odometer', 'transmission', 'type','paint_color','is_4wd','date_posted','days_listed')\n",
    "3) Observing  data it is clearly seen that there is missing values in model_year,odometer,cylinders,paintcolour,is_4wd\n",
    "4) it is generalised that is 4wd contain only one unique entry(1) and other entries are nan .it is also visible that it has the highest missing value\n"
   ]
  },
  {
   "cell_type": "markdown",
   "metadata": {},
   "source": [
    "### Step 2. Data preprocessing"
   ]
  },
  {
   "cell_type": "code",
   "execution_count": 8,
   "metadata": {},
   "outputs": [
    {
     "data": {
      "text/plain": [
       "price               0\n",
       "model_year       3619\n",
       "model               0\n",
       "condition           0\n",
       "cylinders        5260\n",
       "fuel                0\n",
       "odometer         7892\n",
       "transmission        0\n",
       "type                0\n",
       "paint_color      9267\n",
       "is_4wd          25953\n",
       "date_posted         0\n",
       "days_listed         0\n",
       "dtype: int64"
      ]
     },
     "execution_count": 8,
     "metadata": {},
     "output_type": "execute_result"
    }
   ],
   "source": [
    "df.isnull().sum()"
   ]
  },
  {
   "cell_type": "markdown",
   "metadata": {},
   "source": [
    "<font color='green'><h3>Filling the values in is_4wd </h3></font>"
   ]
  },
  {
   "cell_type": "code",
   "execution_count": 9,
   "metadata": {},
   "outputs": [
    {
     "data": {
      "text/plain": [
       "0.0    25953\n",
       "1.0    25572\n",
       "Name: is_4wd, dtype: int64"
      ]
     },
     "execution_count": 9,
     "metadata": {},
     "output_type": "execute_result"
    }
   ],
   "source": [
    "#we will fill it by 0 ,as 1(true) is present in whole set of entries ,then rest will be 0 (false)\n",
    "df['is_4wd'].fillna(value=0, inplace =True)\n",
    "df['is_4wd'].value_counts()"
   ]
  },
  {
   "cell_type": "markdown",
   "metadata": {},
   "source": [
    "<font color='green'><h3>Filling the values in paint_colour </h3></font>"
   ]
  },
  {
   "cell_type": "code",
   "execution_count": 10,
   "metadata": {},
   "outputs": [
    {
     "data": {
      "text/plain": [
       "array([nan, 'white', 'red', 'black', 'blue', 'grey', 'silver', 'custom',\n",
       "       'orange', 'yellow', 'brown', 'green', 'purple'], dtype=object)"
      ]
     },
     "execution_count": 10,
     "metadata": {},
     "output_type": "execute_result"
    }
   ],
   "source": [
    "df['paint_color'].unique()"
   ]
  },
  {
   "cell_type": "code",
   "execution_count": 11,
   "metadata": {},
   "outputs": [
    {
     "data": {
      "text/plain": [
       "white     10029\n",
       "black      7692\n",
       "silver     6244\n",
       "grey       5037\n",
       "blue       4475\n",
       "red        4421\n",
       "green      1396\n",
       "brown      1223\n",
       "custom     1153\n",
       "yellow      255\n",
       "orange      231\n",
       "purple      102\n",
       "Name: paint_color, dtype: int64"
      ]
     },
     "execution_count": 11,
     "metadata": {},
     "output_type": "execute_result"
    }
   ],
   "source": [
    "df['paint_color'].value_counts()"
   ]
  },
  {
   "cell_type": "code",
   "execution_count": 12,
   "metadata": {},
   "outputs": [
    {
     "data": {
      "text/plain": [
       "array(['bmw x5', 'ford f-150', 'hyundai sonata', 'chrysler 200',\n",
       "       'chrysler 300', 'toyota camry', 'honda pilot', 'kia sorento',\n",
       "       'chevrolet silverado 1500', 'honda accord', 'ram 1500',\n",
       "       'gmc yukon', 'jeep cherokee', 'chevrolet traverse',\n",
       "       'hyundai elantra', 'chevrolet tahoe', 'toyota rav4',\n",
       "       'chevrolet silverado', 'jeep wrangler', 'chevrolet malibu',\n",
       "       'ford fusion se', 'chevrolet impala', 'chevrolet corvette',\n",
       "       'jeep liberty', 'toyota camry le', 'nissan altima',\n",
       "       'subaru outback', 'toyota highlander', 'dodge charger',\n",
       "       'toyota tacoma', 'chevrolet equinox', 'nissan rogue',\n",
       "       'mercedes-benz benze sprinter 2500', 'honda cr-v',\n",
       "       'jeep grand cherokee', 'toyota 4runner', 'ford focus',\n",
       "       'honda civic', 'kia soul', 'chevrolet colorado',\n",
       "       'ford f150 supercrew cab xlt', 'chevrolet camaro lt coupe 2d',\n",
       "       'chevrolet cruze', 'ford mustang', 'chevrolet silverado 3500hd',\n",
       "       'nissan frontier crew cab sv', 'subaru impreza',\n",
       "       'jeep grand cherokee laredo', 'nissan versa', 'ford f-250 sd',\n",
       "       'chevrolet silverado 1500 crew', 'ford f250 super duty',\n",
       "       'chevrolet camaro', 'ford mustang gt coupe 2d', 'subaru forester',\n",
       "       'ford explorer', 'ford f-350 sd', 'ford edge', 'nissan maxima',\n",
       "       'ford f-250', 'nissan sentra', 'ford f150', 'chevrolet suburban',\n",
       "       'ford expedition', 'dodge grand caravan', 'ford taurus',\n",
       "       'acura tl', 'ford f350 super duty', 'ford ranger', 'gmc sierra',\n",
       "       'hyundai santa fe', 'ford escape', 'gmc sierra 2500hd',\n",
       "       'honda civic lx', 'gmc sierra 1500', 'honda odyssey',\n",
       "       'cadillac escalade', 'volkswagen jetta', 'toyota corolla',\n",
       "       'chrysler town & country', 'volkswagen passat', 'toyota prius',\n",
       "       'buick enclave', 'ford fusion', 'toyota tundra', 'ram 3500',\n",
       "       'ram 2500', 'nissan frontier', 'chevrolet silverado 2500hd',\n",
       "       'jeep wrangler unlimited', 'ford f-250 super duty', 'gmc acadia',\n",
       "       'toyota sienna', 'ford focus se', 'ford f250', 'dodge dakota',\n",
       "       'ford f350', 'chevrolet trailblazer', 'ford econoline',\n",
       "       'nissan murano'], dtype=object)"
      ]
     },
     "execution_count": 12,
     "metadata": {},
     "output_type": "execute_result"
    }
   ],
   "source": [
    "df['model'].unique() # checking if model column contain corrupted entries"
   ]
  },
  {
   "cell_type": "code",
   "execution_count": 13,
   "metadata": {
    "scrolled": true
   },
   "outputs": [
    {
     "data": {
      "text/html": [
       "<div>\n",
       "<style scoped>\n",
       "    .dataframe tbody tr th:only-of-type {\n",
       "        vertical-align: middle;\n",
       "    }\n",
       "\n",
       "    .dataframe tbody tr th {\n",
       "        vertical-align: top;\n",
       "    }\n",
       "\n",
       "    .dataframe thead th {\n",
       "        text-align: right;\n",
       "    }\n",
       "</style>\n",
       "<table border=\"1\" class=\"dataframe\">\n",
       "  <thead>\n",
       "    <tr style=\"text-align: right;\">\n",
       "      <th></th>\n",
       "      <th>price</th>\n",
       "      <th>model_year</th>\n",
       "      <th>model</th>\n",
       "      <th>condition</th>\n",
       "      <th>cylinders</th>\n",
       "      <th>fuel</th>\n",
       "      <th>odometer</th>\n",
       "      <th>transmission</th>\n",
       "      <th>type</th>\n",
       "      <th>paint_color</th>\n",
       "      <th>is_4wd</th>\n",
       "      <th>date_posted</th>\n",
       "      <th>days_listed</th>\n",
       "    </tr>\n",
       "  </thead>\n",
       "  <tbody>\n",
       "    <tr>\n",
       "      <td>0</td>\n",
       "      <td>9400</td>\n",
       "      <td>2011.0</td>\n",
       "      <td>bmw x5</td>\n",
       "      <td>good</td>\n",
       "      <td>6.0</td>\n",
       "      <td>gas</td>\n",
       "      <td>145000.0</td>\n",
       "      <td>automatic</td>\n",
       "      <td>SUV</td>\n",
       "      <td>black</td>\n",
       "      <td>1.0</td>\n",
       "      <td>2018-06-23</td>\n",
       "      <td>19</td>\n",
       "    </tr>\n",
       "    <tr>\n",
       "      <td>1</td>\n",
       "      <td>25500</td>\n",
       "      <td>NaN</td>\n",
       "      <td>ford f-150</td>\n",
       "      <td>good</td>\n",
       "      <td>6.0</td>\n",
       "      <td>gas</td>\n",
       "      <td>88705.0</td>\n",
       "      <td>automatic</td>\n",
       "      <td>pickup</td>\n",
       "      <td>white</td>\n",
       "      <td>1.0</td>\n",
       "      <td>2018-10-19</td>\n",
       "      <td>50</td>\n",
       "    </tr>\n",
       "    <tr>\n",
       "      <td>2</td>\n",
       "      <td>5500</td>\n",
       "      <td>2013.0</td>\n",
       "      <td>hyundai sonata</td>\n",
       "      <td>like new</td>\n",
       "      <td>4.0</td>\n",
       "      <td>gas</td>\n",
       "      <td>110000.0</td>\n",
       "      <td>automatic</td>\n",
       "      <td>sedan</td>\n",
       "      <td>red</td>\n",
       "      <td>0.0</td>\n",
       "      <td>2019-02-07</td>\n",
       "      <td>79</td>\n",
       "    </tr>\n",
       "    <tr>\n",
       "      <td>3</td>\n",
       "      <td>1500</td>\n",
       "      <td>2003.0</td>\n",
       "      <td>ford f-150</td>\n",
       "      <td>fair</td>\n",
       "      <td>8.0</td>\n",
       "      <td>gas</td>\n",
       "      <td>NaN</td>\n",
       "      <td>automatic</td>\n",
       "      <td>pickup</td>\n",
       "      <td>white</td>\n",
       "      <td>0.0</td>\n",
       "      <td>2019-03-22</td>\n",
       "      <td>9</td>\n",
       "    </tr>\n",
       "    <tr>\n",
       "      <td>4</td>\n",
       "      <td>14900</td>\n",
       "      <td>2017.0</td>\n",
       "      <td>chrysler 200</td>\n",
       "      <td>excellent</td>\n",
       "      <td>4.0</td>\n",
       "      <td>gas</td>\n",
       "      <td>80903.0</td>\n",
       "      <td>automatic</td>\n",
       "      <td>sedan</td>\n",
       "      <td>black</td>\n",
       "      <td>0.0</td>\n",
       "      <td>2019-04-02</td>\n",
       "      <td>28</td>\n",
       "    </tr>\n",
       "    <tr>\n",
       "      <td>...</td>\n",
       "      <td>...</td>\n",
       "      <td>...</td>\n",
       "      <td>...</td>\n",
       "      <td>...</td>\n",
       "      <td>...</td>\n",
       "      <td>...</td>\n",
       "      <td>...</td>\n",
       "      <td>...</td>\n",
       "      <td>...</td>\n",
       "      <td>...</td>\n",
       "      <td>...</td>\n",
       "      <td>...</td>\n",
       "      <td>...</td>\n",
       "    </tr>\n",
       "    <tr>\n",
       "      <td>51520</td>\n",
       "      <td>9249</td>\n",
       "      <td>2013.0</td>\n",
       "      <td>nissan maxima</td>\n",
       "      <td>like new</td>\n",
       "      <td>6.0</td>\n",
       "      <td>gas</td>\n",
       "      <td>88136.0</td>\n",
       "      <td>automatic</td>\n",
       "      <td>sedan</td>\n",
       "      <td>black</td>\n",
       "      <td>0.0</td>\n",
       "      <td>2018-10-03</td>\n",
       "      <td>37</td>\n",
       "    </tr>\n",
       "    <tr>\n",
       "      <td>51521</td>\n",
       "      <td>2700</td>\n",
       "      <td>2002.0</td>\n",
       "      <td>honda civic</td>\n",
       "      <td>salvage</td>\n",
       "      <td>4.0</td>\n",
       "      <td>gas</td>\n",
       "      <td>181500.0</td>\n",
       "      <td>automatic</td>\n",
       "      <td>sedan</td>\n",
       "      <td>white</td>\n",
       "      <td>0.0</td>\n",
       "      <td>2018-11-14</td>\n",
       "      <td>22</td>\n",
       "    </tr>\n",
       "    <tr>\n",
       "      <td>51522</td>\n",
       "      <td>3950</td>\n",
       "      <td>2009.0</td>\n",
       "      <td>hyundai sonata</td>\n",
       "      <td>excellent</td>\n",
       "      <td>4.0</td>\n",
       "      <td>gas</td>\n",
       "      <td>128000.0</td>\n",
       "      <td>automatic</td>\n",
       "      <td>sedan</td>\n",
       "      <td>blue</td>\n",
       "      <td>0.0</td>\n",
       "      <td>2018-11-15</td>\n",
       "      <td>32</td>\n",
       "    </tr>\n",
       "    <tr>\n",
       "      <td>51523</td>\n",
       "      <td>7455</td>\n",
       "      <td>2013.0</td>\n",
       "      <td>toyota corolla</td>\n",
       "      <td>good</td>\n",
       "      <td>4.0</td>\n",
       "      <td>gas</td>\n",
       "      <td>139573.0</td>\n",
       "      <td>automatic</td>\n",
       "      <td>sedan</td>\n",
       "      <td>black</td>\n",
       "      <td>0.0</td>\n",
       "      <td>2018-07-02</td>\n",
       "      <td>71</td>\n",
       "    </tr>\n",
       "    <tr>\n",
       "      <td>51524</td>\n",
       "      <td>6300</td>\n",
       "      <td>2014.0</td>\n",
       "      <td>nissan altima</td>\n",
       "      <td>good</td>\n",
       "      <td>4.0</td>\n",
       "      <td>gas</td>\n",
       "      <td>NaN</td>\n",
       "      <td>automatic</td>\n",
       "      <td>sedan</td>\n",
       "      <td>grey</td>\n",
       "      <td>0.0</td>\n",
       "      <td>2018-06-05</td>\n",
       "      <td>10</td>\n",
       "    </tr>\n",
       "  </tbody>\n",
       "</table>\n",
       "<p>51525 rows × 13 columns</p>\n",
       "</div>"
      ],
      "text/plain": [
       "       price  model_year           model  condition  cylinders fuel  odometer  \\\n",
       "0       9400      2011.0          bmw x5       good        6.0  gas  145000.0   \n",
       "1      25500         NaN      ford f-150       good        6.0  gas   88705.0   \n",
       "2       5500      2013.0  hyundai sonata   like new        4.0  gas  110000.0   \n",
       "3       1500      2003.0      ford f-150       fair        8.0  gas       NaN   \n",
       "4      14900      2017.0    chrysler 200  excellent        4.0  gas   80903.0   \n",
       "...      ...         ...             ...        ...        ...  ...       ...   \n",
       "51520   9249      2013.0   nissan maxima   like new        6.0  gas   88136.0   \n",
       "51521   2700      2002.0     honda civic    salvage        4.0  gas  181500.0   \n",
       "51522   3950      2009.0  hyundai sonata  excellent        4.0  gas  128000.0   \n",
       "51523   7455      2013.0  toyota corolla       good        4.0  gas  139573.0   \n",
       "51524   6300      2014.0   nissan altima       good        4.0  gas       NaN   \n",
       "\n",
       "      transmission    type paint_color  is_4wd date_posted  days_listed  \n",
       "0        automatic     SUV       black     1.0  2018-06-23           19  \n",
       "1        automatic  pickup       white     1.0  2018-10-19           50  \n",
       "2        automatic   sedan         red     0.0  2019-02-07           79  \n",
       "3        automatic  pickup       white     0.0  2019-03-22            9  \n",
       "4        automatic   sedan       black     0.0  2019-04-02           28  \n",
       "...            ...     ...         ...     ...         ...          ...  \n",
       "51520    automatic   sedan       black     0.0  2018-10-03           37  \n",
       "51521    automatic   sedan       white     0.0  2018-11-14           22  \n",
       "51522    automatic   sedan        blue     0.0  2018-11-15           32  \n",
       "51523    automatic   sedan       black     0.0  2018-07-02           71  \n",
       "51524    automatic   sedan        grey     0.0  2018-06-05           10  \n",
       "\n",
       "[51525 rows x 13 columns]"
      ]
     },
     "execution_count": 13,
     "metadata": {},
     "output_type": "execute_result"
    }
   ],
   "source": [
    "#we will replace the values in paint colour by the most common values grouped by model column by filling it by mode\n",
    "df['paint_color'] = df.groupby('model')['paint_color'].apply(lambda x: x.fillna(x.mode().iloc[0]))\n",
    "df"
   ]
  },
  {
   "cell_type": "markdown",
   "metadata": {},
   "source": [
    "<font color='green'><h3>Filling the values in model_year </h3></font>"
   ]
  },
  {
   "cell_type": "code",
   "execution_count": 14,
   "metadata": {},
   "outputs": [
    {
     "data": {
      "text/plain": [
       "array([2011.,   nan, 2013., 2003., 2017., 2014., 2015., 2012., 2008.,\n",
       "       2018., 2009., 2010., 2007., 2004., 2005., 2001., 2006., 1966.,\n",
       "       1994., 2019., 2000., 2016., 1993., 1999., 1997., 2002., 1981.,\n",
       "       1995., 1996., 1975., 1998., 1985., 1977., 1987., 1974., 1990.,\n",
       "       1992., 1991., 1972., 1967., 1988., 1969., 1989., 1978., 1965.,\n",
       "       1979., 1968., 1986., 1980., 1964., 1963., 1984., 1982., 1973.,\n",
       "       1970., 1955., 1971., 1976., 1983., 1954., 1962., 1948., 1960.,\n",
       "       1908., 1961., 1936., 1949., 1958., 1929.])"
      ]
     },
     "execution_count": 14,
     "metadata": {},
     "output_type": "execute_result"
    }
   ],
   "source": [
    "df['model_year'].unique()"
   ]
  },
  {
   "cell_type": "code",
   "execution_count": 15,
   "metadata": {
    "scrolled": true
   },
   "outputs": [
    {
     "data": {
      "text/html": [
       "<div>\n",
       "<style scoped>\n",
       "    .dataframe tbody tr th:only-of-type {\n",
       "        vertical-align: middle;\n",
       "    }\n",
       "\n",
       "    .dataframe tbody tr th {\n",
       "        vertical-align: top;\n",
       "    }\n",
       "\n",
       "    .dataframe thead th {\n",
       "        text-align: right;\n",
       "    }\n",
       "</style>\n",
       "<table border=\"1\" class=\"dataframe\">\n",
       "  <thead>\n",
       "    <tr style=\"text-align: right;\">\n",
       "      <th></th>\n",
       "      <th>price</th>\n",
       "      <th>model_year</th>\n",
       "      <th>model</th>\n",
       "      <th>condition</th>\n",
       "      <th>cylinders</th>\n",
       "      <th>fuel</th>\n",
       "      <th>odometer</th>\n",
       "      <th>transmission</th>\n",
       "      <th>type</th>\n",
       "      <th>paint_color</th>\n",
       "      <th>is_4wd</th>\n",
       "      <th>date_posted</th>\n",
       "      <th>days_listed</th>\n",
       "    </tr>\n",
       "  </thead>\n",
       "  <tbody>\n",
       "    <tr>\n",
       "      <td>0</td>\n",
       "      <td>9400</td>\n",
       "      <td>2011.0</td>\n",
       "      <td>bmw x5</td>\n",
       "      <td>good</td>\n",
       "      <td>6.0</td>\n",
       "      <td>gas</td>\n",
       "      <td>145000.0</td>\n",
       "      <td>automatic</td>\n",
       "      <td>SUV</td>\n",
       "      <td>black</td>\n",
       "      <td>1.0</td>\n",
       "      <td>2018-06-23</td>\n",
       "      <td>19</td>\n",
       "    </tr>\n",
       "    <tr>\n",
       "      <td>1</td>\n",
       "      <td>25500</td>\n",
       "      <td>2013.0</td>\n",
       "      <td>ford f-150</td>\n",
       "      <td>good</td>\n",
       "      <td>6.0</td>\n",
       "      <td>gas</td>\n",
       "      <td>88705.0</td>\n",
       "      <td>automatic</td>\n",
       "      <td>pickup</td>\n",
       "      <td>white</td>\n",
       "      <td>1.0</td>\n",
       "      <td>2018-10-19</td>\n",
       "      <td>50</td>\n",
       "    </tr>\n",
       "    <tr>\n",
       "      <td>2</td>\n",
       "      <td>5500</td>\n",
       "      <td>2013.0</td>\n",
       "      <td>hyundai sonata</td>\n",
       "      <td>like new</td>\n",
       "      <td>4.0</td>\n",
       "      <td>gas</td>\n",
       "      <td>110000.0</td>\n",
       "      <td>automatic</td>\n",
       "      <td>sedan</td>\n",
       "      <td>red</td>\n",
       "      <td>0.0</td>\n",
       "      <td>2019-02-07</td>\n",
       "      <td>79</td>\n",
       "    </tr>\n",
       "    <tr>\n",
       "      <td>3</td>\n",
       "      <td>1500</td>\n",
       "      <td>2003.0</td>\n",
       "      <td>ford f-150</td>\n",
       "      <td>fair</td>\n",
       "      <td>8.0</td>\n",
       "      <td>gas</td>\n",
       "      <td>NaN</td>\n",
       "      <td>automatic</td>\n",
       "      <td>pickup</td>\n",
       "      <td>white</td>\n",
       "      <td>0.0</td>\n",
       "      <td>2019-03-22</td>\n",
       "      <td>9</td>\n",
       "    </tr>\n",
       "    <tr>\n",
       "      <td>4</td>\n",
       "      <td>14900</td>\n",
       "      <td>2017.0</td>\n",
       "      <td>chrysler 200</td>\n",
       "      <td>excellent</td>\n",
       "      <td>4.0</td>\n",
       "      <td>gas</td>\n",
       "      <td>80903.0</td>\n",
       "      <td>automatic</td>\n",
       "      <td>sedan</td>\n",
       "      <td>black</td>\n",
       "      <td>0.0</td>\n",
       "      <td>2019-04-02</td>\n",
       "      <td>28</td>\n",
       "    </tr>\n",
       "    <tr>\n",
       "      <td>...</td>\n",
       "      <td>...</td>\n",
       "      <td>...</td>\n",
       "      <td>...</td>\n",
       "      <td>...</td>\n",
       "      <td>...</td>\n",
       "      <td>...</td>\n",
       "      <td>...</td>\n",
       "      <td>...</td>\n",
       "      <td>...</td>\n",
       "      <td>...</td>\n",
       "      <td>...</td>\n",
       "      <td>...</td>\n",
       "      <td>...</td>\n",
       "    </tr>\n",
       "    <tr>\n",
       "      <td>51520</td>\n",
       "      <td>9249</td>\n",
       "      <td>2013.0</td>\n",
       "      <td>nissan maxima</td>\n",
       "      <td>like new</td>\n",
       "      <td>6.0</td>\n",
       "      <td>gas</td>\n",
       "      <td>88136.0</td>\n",
       "      <td>automatic</td>\n",
       "      <td>sedan</td>\n",
       "      <td>black</td>\n",
       "      <td>0.0</td>\n",
       "      <td>2018-10-03</td>\n",
       "      <td>37</td>\n",
       "    </tr>\n",
       "    <tr>\n",
       "      <td>51521</td>\n",
       "      <td>2700</td>\n",
       "      <td>2002.0</td>\n",
       "      <td>honda civic</td>\n",
       "      <td>salvage</td>\n",
       "      <td>4.0</td>\n",
       "      <td>gas</td>\n",
       "      <td>181500.0</td>\n",
       "      <td>automatic</td>\n",
       "      <td>sedan</td>\n",
       "      <td>white</td>\n",
       "      <td>0.0</td>\n",
       "      <td>2018-11-14</td>\n",
       "      <td>22</td>\n",
       "    </tr>\n",
       "    <tr>\n",
       "      <td>51522</td>\n",
       "      <td>3950</td>\n",
       "      <td>2009.0</td>\n",
       "      <td>hyundai sonata</td>\n",
       "      <td>excellent</td>\n",
       "      <td>4.0</td>\n",
       "      <td>gas</td>\n",
       "      <td>128000.0</td>\n",
       "      <td>automatic</td>\n",
       "      <td>sedan</td>\n",
       "      <td>blue</td>\n",
       "      <td>0.0</td>\n",
       "      <td>2018-11-15</td>\n",
       "      <td>32</td>\n",
       "    </tr>\n",
       "    <tr>\n",
       "      <td>51523</td>\n",
       "      <td>7455</td>\n",
       "      <td>2013.0</td>\n",
       "      <td>toyota corolla</td>\n",
       "      <td>good</td>\n",
       "      <td>4.0</td>\n",
       "      <td>gas</td>\n",
       "      <td>139573.0</td>\n",
       "      <td>automatic</td>\n",
       "      <td>sedan</td>\n",
       "      <td>black</td>\n",
       "      <td>0.0</td>\n",
       "      <td>2018-07-02</td>\n",
       "      <td>71</td>\n",
       "    </tr>\n",
       "    <tr>\n",
       "      <td>51524</td>\n",
       "      <td>6300</td>\n",
       "      <td>2014.0</td>\n",
       "      <td>nissan altima</td>\n",
       "      <td>good</td>\n",
       "      <td>4.0</td>\n",
       "      <td>gas</td>\n",
       "      <td>NaN</td>\n",
       "      <td>automatic</td>\n",
       "      <td>sedan</td>\n",
       "      <td>grey</td>\n",
       "      <td>0.0</td>\n",
       "      <td>2018-06-05</td>\n",
       "      <td>10</td>\n",
       "    </tr>\n",
       "  </tbody>\n",
       "</table>\n",
       "<p>51525 rows × 13 columns</p>\n",
       "</div>"
      ],
      "text/plain": [
       "       price  model_year           model  condition  cylinders fuel  odometer  \\\n",
       "0       9400      2011.0          bmw x5       good        6.0  gas  145000.0   \n",
       "1      25500      2013.0      ford f-150       good        6.0  gas   88705.0   \n",
       "2       5500      2013.0  hyundai sonata   like new        4.0  gas  110000.0   \n",
       "3       1500      2003.0      ford f-150       fair        8.0  gas       NaN   \n",
       "4      14900      2017.0    chrysler 200  excellent        4.0  gas   80903.0   \n",
       "...      ...         ...             ...        ...        ...  ...       ...   \n",
       "51520   9249      2013.0   nissan maxima   like new        6.0  gas   88136.0   \n",
       "51521   2700      2002.0     honda civic    salvage        4.0  gas  181500.0   \n",
       "51522   3950      2009.0  hyundai sonata  excellent        4.0  gas  128000.0   \n",
       "51523   7455      2013.0  toyota corolla       good        4.0  gas  139573.0   \n",
       "51524   6300      2014.0   nissan altima       good        4.0  gas       NaN   \n",
       "\n",
       "      transmission    type paint_color  is_4wd date_posted  days_listed  \n",
       "0        automatic     SUV       black     1.0  2018-06-23           19  \n",
       "1        automatic  pickup       white     1.0  2018-10-19           50  \n",
       "2        automatic   sedan         red     0.0  2019-02-07           79  \n",
       "3        automatic  pickup       white     0.0  2019-03-22            9  \n",
       "4        automatic   sedan       black     0.0  2019-04-02           28  \n",
       "...            ...     ...         ...     ...         ...          ...  \n",
       "51520    automatic   sedan       black     0.0  2018-10-03           37  \n",
       "51521    automatic   sedan       white     0.0  2018-11-14           22  \n",
       "51522    automatic   sedan        blue     0.0  2018-11-15           32  \n",
       "51523    automatic   sedan       black     0.0  2018-07-02           71  \n",
       "51524    automatic   sedan        grey     0.0  2018-06-05           10  \n",
       "\n",
       "[51525 rows x 13 columns]"
      ]
     },
     "execution_count": 15,
     "metadata": {},
     "output_type": "execute_result"
    }
   ],
   "source": [
    "#we can fill it by using mode groupby model column\n",
    "df['model_year'] = df.groupby('model')['model_year'].apply(lambda x: x.fillna(x.mode().iloc[0]))\n",
    "df"
   ]
  },
  {
   "cell_type": "markdown",
   "metadata": {},
   "source": [
    "<font color='green'><h3>Filling the values in odometer </h3></font>"
   ]
  },
  {
   "cell_type": "code",
   "execution_count": 16,
   "metadata": {},
   "outputs": [
    {
     "data": {
      "text/plain": [
       "0.0         185\n",
       "140000.0    183\n",
       "120000.0    179\n",
       "130000.0    178\n",
       "160000.0    167\n",
       "           ... \n",
       "51595.0       1\n",
       "111381.0      1\n",
       "155940.0      1\n",
       "43402.0       1\n",
       "74063.0       1\n",
       "Name: odometer, Length: 17762, dtype: int64"
      ]
     },
     "execution_count": 16,
     "metadata": {},
     "output_type": "execute_result"
    }
   ],
   "source": [
    "df['odometer'].value_counts()"
   ]
  },
  {
   "cell_type": "code",
   "execution_count": 17,
   "metadata": {},
   "outputs": [
    {
     "name": "stderr",
     "output_type": "stream",
     "text": [
      "/opt/conda/lib/python3.7/site-packages/numpy/lib/nanfunctions.py:1111: RuntimeWarning: Mean of empty slice\n",
      "  return np.nanmean(a, axis, out=out, keepdims=keepdims)\n"
     ]
    },
    {
     "data": {
      "text/plain": [
       "price              0\n",
       "model_year         0\n",
       "model              0\n",
       "condition          0\n",
       "cylinders       5260\n",
       "fuel               0\n",
       "odometer           1\n",
       "transmission       0\n",
       "type               0\n",
       "paint_color        0\n",
       "is_4wd             0\n",
       "date_posted        0\n",
       "days_listed        0\n",
       "dtype: int64"
      ]
     },
     "execution_count": 17,
     "metadata": {},
     "output_type": "execute_result"
    }
   ],
   "source": [
    "#filling the values in odometer by median and grouping by model_year using transform method\n",
    "df[\"odometer\"] = df.groupby('model_year')['odometer'].transform(lambda x: x.fillna(x.median()))\n",
    "df.isnull().sum()"
   ]
  },
  {
   "cell_type": "code",
   "execution_count": 18,
   "metadata": {},
   "outputs": [
    {
     "data": {
      "text/html": [
       "<div>\n",
       "<style scoped>\n",
       "    .dataframe tbody tr th:only-of-type {\n",
       "        vertical-align: middle;\n",
       "    }\n",
       "\n",
       "    .dataframe tbody tr th {\n",
       "        vertical-align: top;\n",
       "    }\n",
       "\n",
       "    .dataframe thead th {\n",
       "        text-align: right;\n",
       "    }\n",
       "</style>\n",
       "<table border=\"1\" class=\"dataframe\">\n",
       "  <thead>\n",
       "    <tr style=\"text-align: right;\">\n",
       "      <th></th>\n",
       "      <th>price</th>\n",
       "      <th>model_year</th>\n",
       "      <th>model</th>\n",
       "      <th>condition</th>\n",
       "      <th>cylinders</th>\n",
       "      <th>fuel</th>\n",
       "      <th>odometer</th>\n",
       "      <th>transmission</th>\n",
       "      <th>type</th>\n",
       "      <th>paint_color</th>\n",
       "      <th>is_4wd</th>\n",
       "      <th>date_posted</th>\n",
       "      <th>days_listed</th>\n",
       "    </tr>\n",
       "  </thead>\n",
       "  <tbody>\n",
       "    <tr>\n",
       "      <td>45694</td>\n",
       "      <td>18000</td>\n",
       "      <td>1929.0</td>\n",
       "      <td>ford f-150</td>\n",
       "      <td>good</td>\n",
       "      <td>8.0</td>\n",
       "      <td>gas</td>\n",
       "      <td>NaN</td>\n",
       "      <td>manual</td>\n",
       "      <td>other</td>\n",
       "      <td>silver</td>\n",
       "      <td>0.0</td>\n",
       "      <td>2018-11-18</td>\n",
       "      <td>59</td>\n",
       "    </tr>\n",
       "  </tbody>\n",
       "</table>\n",
       "</div>"
      ],
      "text/plain": [
       "       price  model_year       model condition  cylinders fuel  odometer  \\\n",
       "45694  18000      1929.0  ford f-150      good        8.0  gas       NaN   \n",
       "\n",
       "      transmission   type paint_color  is_4wd date_posted  days_listed  \n",
       "45694       manual  other      silver     0.0  2018-11-18           59  "
      ]
     },
     "execution_count": 18,
     "metadata": {},
     "output_type": "execute_result"
    }
   ],
   "source": [
    "df[df['odometer'].isnull()]#one value is left there is only one data available for this"
   ]
  },
  {
   "cell_type": "code",
   "execution_count": 19,
   "metadata": {},
   "outputs": [
    {
     "data": {
      "text/plain": [
       "price              0\n",
       "model_year         0\n",
       "model              0\n",
       "condition          0\n",
       "cylinders       5260\n",
       "fuel               0\n",
       "odometer           0\n",
       "transmission       0\n",
       "type               0\n",
       "paint_color        0\n",
       "is_4wd             0\n",
       "date_posted        0\n",
       "days_listed        0\n",
       "dtype: int64"
      ]
     },
     "execution_count": 19,
     "metadata": {},
     "output_type": "execute_result"
    }
   ],
   "source": [
    "#df['odometer'].replace(np.nan, 0)\n",
    "df['odometer'].fillna(value=0, inplace =True)\n",
    "df[df['odometer'].isnull()]\n",
    "df.isnull().sum()\n"
   ]
  },
  {
   "cell_type": "markdown",
   "metadata": {},
   "source": [
    "<font color='green'><h3>Filling the values in cylinders </h3></font>"
   ]
  },
  {
   "cell_type": "code",
   "execution_count": 20,
   "metadata": {},
   "outputs": [
    {
     "data": {
      "text/plain": [
       "array([ 6.,  4.,  8., nan,  5., 10.,  3., 12.])"
      ]
     },
     "execution_count": 20,
     "metadata": {},
     "output_type": "execute_result"
    }
   ],
   "source": [
    "df['cylinders'].unique()"
   ]
  },
  {
   "cell_type": "code",
   "execution_count": 21,
   "metadata": {},
   "outputs": [],
   "source": [
    "#filling the values in cylinder by mean and grouping by model_year using transform method .\n",
    "#More cylinders will be required for the car whose model year id old.\n",
    "df[\"cylinders\"] = df.groupby('model_year')['cylinders'].transform(lambda x: x.fillna(x.mean()))\n"
   ]
  },
  {
   "cell_type": "code",
   "execution_count": 22,
   "metadata": {},
   "outputs": [],
   "source": [
    "df[df['cylinders'].isnull()]\n",
    "df['cylinders'].fillna(value=0, inplace =True)#filling the left value with 0\n"
   ]
  },
  {
   "cell_type": "code",
   "execution_count": 23,
   "metadata": {},
   "outputs": [
    {
     "data": {
      "text/plain": [
       "price           0\n",
       "model_year      0\n",
       "model           0\n",
       "condition       0\n",
       "cylinders       0\n",
       "fuel            0\n",
       "odometer        0\n",
       "transmission    0\n",
       "type            0\n",
       "paint_color     0\n",
       "is_4wd          0\n",
       "date_posted     0\n",
       "days_listed     0\n",
       "dtype: int64"
      ]
     },
     "execution_count": 23,
     "metadata": {},
     "output_type": "execute_result"
    }
   ],
   "source": [
    "df.isnull().sum()"
   ]
  },
  {
   "cell_type": "markdown",
   "metadata": {},
   "source": [
    "it can be seen that there is a lot of missing values.when looking the data for 4wd we replaced the other values by 0 as 1 was the rest of the values filled up.then replaced the values in paint colour by the most common values grouped by model column by filling it by mode.then we observed the model_year and  filled it by using mode groupby model column.for the values of odometer we adjusted it by median and grouping by model_year using transform method as we took the median of different models.and last in the case of cylinders filled the values in cylinder by mean and grouping by model_year using transform method ,More cylinders will be required for the car whose model year id old."
   ]
  },
  {
   "cell_type": "markdown",
   "metadata": {},
   "source": [
    "<font color='green'><h3>DATATYPE REPLACEMENT </h3></font>"
   ]
  },
  {
   "cell_type": "code",
   "execution_count": 24,
   "metadata": {},
   "outputs": [
    {
     "name": "stdout",
     "output_type": "stream",
     "text": [
      "<class 'pandas.core.frame.DataFrame'>\n",
      "RangeIndex: 51525 entries, 0 to 51524\n",
      "Data columns (total 13 columns):\n",
      "price           51525 non-null int64\n",
      "model_year      51525 non-null float64\n",
      "model           51525 non-null object\n",
      "condition       51525 non-null object\n",
      "cylinders       51525 non-null float64\n",
      "fuel            51525 non-null object\n",
      "odometer        51525 non-null float64\n",
      "transmission    51525 non-null object\n",
      "type            51525 non-null object\n",
      "paint_color     51525 non-null object\n",
      "is_4wd          51525 non-null float64\n",
      "date_posted     51525 non-null object\n",
      "days_listed     51525 non-null int64\n",
      "dtypes: float64(4), int64(2), object(7)\n",
      "memory usage: 5.1+ MB\n"
     ]
    }
   ],
   "source": [
    "df.info()"
   ]
  },
  {
   "cell_type": "code",
   "execution_count": 25,
   "metadata": {},
   "outputs": [
    {
     "name": "stdout",
     "output_type": "stream",
     "text": [
      "<class 'pandas.core.frame.DataFrame'>\n",
      "RangeIndex: 51525 entries, 0 to 51524\n",
      "Data columns (total 13 columns):\n",
      "price           51525 non-null int64\n",
      "model_year      51525 non-null int64\n",
      "model           51525 non-null object\n",
      "condition       51525 non-null object\n",
      "cylinders       51525 non-null int64\n",
      "fuel            51525 non-null object\n",
      "odometer        51525 non-null int64\n",
      "transmission    51525 non-null object\n",
      "type            51525 non-null object\n",
      "paint_color     51525 non-null object\n",
      "is_4wd          51525 non-null bool\n",
      "date_posted     51525 non-null datetime64[ns]\n",
      "days_listed     51525 non-null int64\n",
      "dtypes: bool(1), datetime64[ns](1), int64(5), object(6)\n",
      "memory usage: 4.8+ MB\n"
     ]
    }
   ],
   "source": [
    "#we will convert the model year in int\n",
    "df['model_year'] = df['model_year'].astype('int')\n",
    "#df['year'] = df['year'].astype('int')\n",
    "#df['vehicle_age'] = df['vehicle_age'].astype('int')\n",
    "df['odometer'] = df['odometer'].astype('int')\n",
    "df['cylinders'] = df['cylinders'].astype('int')#converting cylinders from float to int\n",
    "df['is_4wd'] = df['is_4wd'].astype('bool')#is_4wd to bool\n",
    "df['date_posted']= pd.to_datetime(df['date_posted'])#converting days_posted into date time format\n",
    "df.info()"
   ]
  },
  {
   "cell_type": "markdown",
   "metadata": {},
   "source": [
    "we converted the data of model_year_odometer and cylinders from float to int.and is 4wd column to boolean as it will represent 0 and 1 for true and false.then dateposted to datetime format."
   ]
  },
  {
   "cell_type": "markdown",
   "metadata": {},
   "source": [
    "### Step 3. Make calculations and add them to the table"
   ]
  },
  {
   "cell_type": "markdown",
   "metadata": {},
   "source": [
    "<font color='green'><h3>Categorizing condition column</h3></font>"
   ]
  },
  {
   "cell_type": "code",
   "execution_count": 26,
   "metadata": {},
   "outputs": [],
   "source": [
    "def category_condition(condition):\n",
    "    \n",
    "     if (condition == 'salvage'):\n",
    "        return 0\n",
    "     elif (condition == 'fair'):\n",
    "        return 1\n",
    "     elif (condition == 'good'):\n",
    "        return 2\n",
    "     elif (condition == 'excellent'):\n",
    "        return 3\n",
    "     elif (condition == 'new'):\n",
    "        return 5\n",
    "     else:\n",
    "        return 4\n",
    "    \n",
    "def process_categorize():\n",
    "    df['condition'] = df['condition'].apply(category_condition)    \n",
    "  \n",
    "\n",
    "    "
   ]
  },
  {
   "cell_type": "code",
   "execution_count": 27,
   "metadata": {},
   "outputs": [
    {
     "data": {
      "text/html": [
       "<div>\n",
       "<style scoped>\n",
       "    .dataframe tbody tr th:only-of-type {\n",
       "        vertical-align: middle;\n",
       "    }\n",
       "\n",
       "    .dataframe tbody tr th {\n",
       "        vertical-align: top;\n",
       "    }\n",
       "\n",
       "    .dataframe thead th {\n",
       "        text-align: right;\n",
       "    }\n",
       "</style>\n",
       "<table border=\"1\" class=\"dataframe\">\n",
       "  <thead>\n",
       "    <tr style=\"text-align: right;\">\n",
       "      <th></th>\n",
       "      <th>price</th>\n",
       "      <th>model_year</th>\n",
       "      <th>model</th>\n",
       "      <th>condition</th>\n",
       "      <th>cylinders</th>\n",
       "      <th>fuel</th>\n",
       "      <th>odometer</th>\n",
       "      <th>transmission</th>\n",
       "      <th>type</th>\n",
       "      <th>paint_color</th>\n",
       "      <th>is_4wd</th>\n",
       "      <th>date_posted</th>\n",
       "      <th>days_listed</th>\n",
       "    </tr>\n",
       "  </thead>\n",
       "  <tbody>\n",
       "    <tr>\n",
       "      <td>0</td>\n",
       "      <td>9400</td>\n",
       "      <td>2011</td>\n",
       "      <td>bmw x5</td>\n",
       "      <td>2</td>\n",
       "      <td>6</td>\n",
       "      <td>gas</td>\n",
       "      <td>145000</td>\n",
       "      <td>automatic</td>\n",
       "      <td>SUV</td>\n",
       "      <td>black</td>\n",
       "      <td>True</td>\n",
       "      <td>2018-06-23</td>\n",
       "      <td>19</td>\n",
       "    </tr>\n",
       "    <tr>\n",
       "      <td>1</td>\n",
       "      <td>25500</td>\n",
       "      <td>2013</td>\n",
       "      <td>ford f-150</td>\n",
       "      <td>2</td>\n",
       "      <td>6</td>\n",
       "      <td>gas</td>\n",
       "      <td>88705</td>\n",
       "      <td>automatic</td>\n",
       "      <td>pickup</td>\n",
       "      <td>white</td>\n",
       "      <td>True</td>\n",
       "      <td>2018-10-19</td>\n",
       "      <td>50</td>\n",
       "    </tr>\n",
       "    <tr>\n",
       "      <td>2</td>\n",
       "      <td>5500</td>\n",
       "      <td>2013</td>\n",
       "      <td>hyundai sonata</td>\n",
       "      <td>4</td>\n",
       "      <td>4</td>\n",
       "      <td>gas</td>\n",
       "      <td>110000</td>\n",
       "      <td>automatic</td>\n",
       "      <td>sedan</td>\n",
       "      <td>red</td>\n",
       "      <td>False</td>\n",
       "      <td>2019-02-07</td>\n",
       "      <td>79</td>\n",
       "    </tr>\n",
       "    <tr>\n",
       "      <td>3</td>\n",
       "      <td>1500</td>\n",
       "      <td>2003</td>\n",
       "      <td>ford f-150</td>\n",
       "      <td>1</td>\n",
       "      <td>8</td>\n",
       "      <td>gas</td>\n",
       "      <td>160954</td>\n",
       "      <td>automatic</td>\n",
       "      <td>pickup</td>\n",
       "      <td>white</td>\n",
       "      <td>False</td>\n",
       "      <td>2019-03-22</td>\n",
       "      <td>9</td>\n",
       "    </tr>\n",
       "    <tr>\n",
       "      <td>4</td>\n",
       "      <td>14900</td>\n",
       "      <td>2017</td>\n",
       "      <td>chrysler 200</td>\n",
       "      <td>3</td>\n",
       "      <td>4</td>\n",
       "      <td>gas</td>\n",
       "      <td>80903</td>\n",
       "      <td>automatic</td>\n",
       "      <td>sedan</td>\n",
       "      <td>black</td>\n",
       "      <td>False</td>\n",
       "      <td>2019-04-02</td>\n",
       "      <td>28</td>\n",
       "    </tr>\n",
       "    <tr>\n",
       "      <td>5</td>\n",
       "      <td>14990</td>\n",
       "      <td>2014</td>\n",
       "      <td>chrysler 300</td>\n",
       "      <td>3</td>\n",
       "      <td>6</td>\n",
       "      <td>gas</td>\n",
       "      <td>57954</td>\n",
       "      <td>automatic</td>\n",
       "      <td>sedan</td>\n",
       "      <td>black</td>\n",
       "      <td>True</td>\n",
       "      <td>2018-06-20</td>\n",
       "      <td>15</td>\n",
       "    </tr>\n",
       "    <tr>\n",
       "      <td>6</td>\n",
       "      <td>12990</td>\n",
       "      <td>2015</td>\n",
       "      <td>toyota camry</td>\n",
       "      <td>3</td>\n",
       "      <td>4</td>\n",
       "      <td>gas</td>\n",
       "      <td>79212</td>\n",
       "      <td>automatic</td>\n",
       "      <td>sedan</td>\n",
       "      <td>white</td>\n",
       "      <td>False</td>\n",
       "      <td>2018-12-27</td>\n",
       "      <td>73</td>\n",
       "    </tr>\n",
       "    <tr>\n",
       "      <td>7</td>\n",
       "      <td>15990</td>\n",
       "      <td>2013</td>\n",
       "      <td>honda pilot</td>\n",
       "      <td>3</td>\n",
       "      <td>6</td>\n",
       "      <td>gas</td>\n",
       "      <td>109473</td>\n",
       "      <td>automatic</td>\n",
       "      <td>SUV</td>\n",
       "      <td>black</td>\n",
       "      <td>True</td>\n",
       "      <td>2019-01-07</td>\n",
       "      <td>68</td>\n",
       "    </tr>\n",
       "    <tr>\n",
       "      <td>8</td>\n",
       "      <td>11500</td>\n",
       "      <td>2012</td>\n",
       "      <td>kia sorento</td>\n",
       "      <td>3</td>\n",
       "      <td>4</td>\n",
       "      <td>gas</td>\n",
       "      <td>104174</td>\n",
       "      <td>automatic</td>\n",
       "      <td>SUV</td>\n",
       "      <td>silver</td>\n",
       "      <td>True</td>\n",
       "      <td>2018-07-16</td>\n",
       "      <td>19</td>\n",
       "    </tr>\n",
       "    <tr>\n",
       "      <td>9</td>\n",
       "      <td>9200</td>\n",
       "      <td>2008</td>\n",
       "      <td>honda pilot</td>\n",
       "      <td>3</td>\n",
       "      <td>6</td>\n",
       "      <td>gas</td>\n",
       "      <td>147191</td>\n",
       "      <td>automatic</td>\n",
       "      <td>SUV</td>\n",
       "      <td>blue</td>\n",
       "      <td>True</td>\n",
       "      <td>2019-02-15</td>\n",
       "      <td>17</td>\n",
       "    </tr>\n",
       "  </tbody>\n",
       "</table>\n",
       "</div>"
      ],
      "text/plain": [
       "   price  model_year           model  condition  cylinders fuel  odometer  \\\n",
       "0   9400        2011          bmw x5          2          6  gas    145000   \n",
       "1  25500        2013      ford f-150          2          6  gas     88705   \n",
       "2   5500        2013  hyundai sonata          4          4  gas    110000   \n",
       "3   1500        2003      ford f-150          1          8  gas    160954   \n",
       "4  14900        2017    chrysler 200          3          4  gas     80903   \n",
       "5  14990        2014    chrysler 300          3          6  gas     57954   \n",
       "6  12990        2015    toyota camry          3          4  gas     79212   \n",
       "7  15990        2013     honda pilot          3          6  gas    109473   \n",
       "8  11500        2012     kia sorento          3          4  gas    104174   \n",
       "9   9200        2008     honda pilot          3          6  gas    147191   \n",
       "\n",
       "  transmission    type paint_color  is_4wd date_posted  days_listed  \n",
       "0    automatic     SUV       black    True  2018-06-23           19  \n",
       "1    automatic  pickup       white    True  2018-10-19           50  \n",
       "2    automatic   sedan         red   False  2019-02-07           79  \n",
       "3    automatic  pickup       white   False  2019-03-22            9  \n",
       "4    automatic   sedan       black   False  2019-04-02           28  \n",
       "5    automatic   sedan       black    True  2018-06-20           15  \n",
       "6    automatic   sedan       white   False  2018-12-27           73  \n",
       "7    automatic     SUV       black    True  2019-01-07           68  \n",
       "8    automatic     SUV      silver    True  2018-07-16           19  \n",
       "9    automatic     SUV        blue    True  2019-02-15           17  "
      ]
     },
     "execution_count": 27,
     "metadata": {},
     "output_type": "execute_result"
    }
   ],
   "source": [
    "process_categorize()\n",
    "df['condition'] = df['condition'].astype('int')\n",
    "df.head(10)\n"
   ]
  },
  {
   "cell_type": "markdown",
   "metadata": {},
   "source": [
    "<font color='green'><h3>Day of the week, month, and year the ad was placed</h3></font>"
   ]
  },
  {
   "cell_type": "code",
   "execution_count": 28,
   "metadata": {},
   "outputs": [],
   "source": [
    "df[\"weekday\"] = df[\"date_posted\"].dt.weekday\n",
    "df[\"month\"] = df[\"date_posted\"].dt.month\n",
    "df[\"year\"] = df[\"date_posted\"].dt.year\n",
    "df[\"day\"] = df[\"date_posted\"].dt.day"
   ]
  },
  {
   "cell_type": "code",
   "execution_count": 29,
   "metadata": {},
   "outputs": [
    {
     "data": {
      "text/html": [
       "<div>\n",
       "<style scoped>\n",
       "    .dataframe tbody tr th:only-of-type {\n",
       "        vertical-align: middle;\n",
       "    }\n",
       "\n",
       "    .dataframe tbody tr th {\n",
       "        vertical-align: top;\n",
       "    }\n",
       "\n",
       "    .dataframe thead th {\n",
       "        text-align: right;\n",
       "    }\n",
       "</style>\n",
       "<table border=\"1\" class=\"dataframe\">\n",
       "  <thead>\n",
       "    <tr style=\"text-align: right;\">\n",
       "      <th></th>\n",
       "      <th>price</th>\n",
       "      <th>model_year</th>\n",
       "      <th>model</th>\n",
       "      <th>condition</th>\n",
       "      <th>cylinders</th>\n",
       "      <th>fuel</th>\n",
       "      <th>odometer</th>\n",
       "      <th>transmission</th>\n",
       "      <th>type</th>\n",
       "      <th>paint_color</th>\n",
       "      <th>is_4wd</th>\n",
       "      <th>date_posted</th>\n",
       "      <th>days_listed</th>\n",
       "      <th>weekday</th>\n",
       "      <th>month</th>\n",
       "      <th>year</th>\n",
       "      <th>day</th>\n",
       "    </tr>\n",
       "  </thead>\n",
       "  <tbody>\n",
       "    <tr>\n",
       "      <td>0</td>\n",
       "      <td>9400</td>\n",
       "      <td>2011</td>\n",
       "      <td>bmw x5</td>\n",
       "      <td>2</td>\n",
       "      <td>6</td>\n",
       "      <td>gas</td>\n",
       "      <td>145000</td>\n",
       "      <td>automatic</td>\n",
       "      <td>SUV</td>\n",
       "      <td>black</td>\n",
       "      <td>True</td>\n",
       "      <td>2018-06-23</td>\n",
       "      <td>19</td>\n",
       "      <td>5</td>\n",
       "      <td>6</td>\n",
       "      <td>2018</td>\n",
       "      <td>23</td>\n",
       "    </tr>\n",
       "    <tr>\n",
       "      <td>1</td>\n",
       "      <td>25500</td>\n",
       "      <td>2013</td>\n",
       "      <td>ford f-150</td>\n",
       "      <td>2</td>\n",
       "      <td>6</td>\n",
       "      <td>gas</td>\n",
       "      <td>88705</td>\n",
       "      <td>automatic</td>\n",
       "      <td>pickup</td>\n",
       "      <td>white</td>\n",
       "      <td>True</td>\n",
       "      <td>2018-10-19</td>\n",
       "      <td>50</td>\n",
       "      <td>4</td>\n",
       "      <td>10</td>\n",
       "      <td>2018</td>\n",
       "      <td>19</td>\n",
       "    </tr>\n",
       "    <tr>\n",
       "      <td>2</td>\n",
       "      <td>5500</td>\n",
       "      <td>2013</td>\n",
       "      <td>hyundai sonata</td>\n",
       "      <td>4</td>\n",
       "      <td>4</td>\n",
       "      <td>gas</td>\n",
       "      <td>110000</td>\n",
       "      <td>automatic</td>\n",
       "      <td>sedan</td>\n",
       "      <td>red</td>\n",
       "      <td>False</td>\n",
       "      <td>2019-02-07</td>\n",
       "      <td>79</td>\n",
       "      <td>3</td>\n",
       "      <td>2</td>\n",
       "      <td>2019</td>\n",
       "      <td>7</td>\n",
       "    </tr>\n",
       "    <tr>\n",
       "      <td>3</td>\n",
       "      <td>1500</td>\n",
       "      <td>2003</td>\n",
       "      <td>ford f-150</td>\n",
       "      <td>1</td>\n",
       "      <td>8</td>\n",
       "      <td>gas</td>\n",
       "      <td>160954</td>\n",
       "      <td>automatic</td>\n",
       "      <td>pickup</td>\n",
       "      <td>white</td>\n",
       "      <td>False</td>\n",
       "      <td>2019-03-22</td>\n",
       "      <td>9</td>\n",
       "      <td>4</td>\n",
       "      <td>3</td>\n",
       "      <td>2019</td>\n",
       "      <td>22</td>\n",
       "    </tr>\n",
       "    <tr>\n",
       "      <td>4</td>\n",
       "      <td>14900</td>\n",
       "      <td>2017</td>\n",
       "      <td>chrysler 200</td>\n",
       "      <td>3</td>\n",
       "      <td>4</td>\n",
       "      <td>gas</td>\n",
       "      <td>80903</td>\n",
       "      <td>automatic</td>\n",
       "      <td>sedan</td>\n",
       "      <td>black</td>\n",
       "      <td>False</td>\n",
       "      <td>2019-04-02</td>\n",
       "      <td>28</td>\n",
       "      <td>1</td>\n",
       "      <td>4</td>\n",
       "      <td>2019</td>\n",
       "      <td>2</td>\n",
       "    </tr>\n",
       "    <tr>\n",
       "      <td>5</td>\n",
       "      <td>14990</td>\n",
       "      <td>2014</td>\n",
       "      <td>chrysler 300</td>\n",
       "      <td>3</td>\n",
       "      <td>6</td>\n",
       "      <td>gas</td>\n",
       "      <td>57954</td>\n",
       "      <td>automatic</td>\n",
       "      <td>sedan</td>\n",
       "      <td>black</td>\n",
       "      <td>True</td>\n",
       "      <td>2018-06-20</td>\n",
       "      <td>15</td>\n",
       "      <td>2</td>\n",
       "      <td>6</td>\n",
       "      <td>2018</td>\n",
       "      <td>20</td>\n",
       "    </tr>\n",
       "    <tr>\n",
       "      <td>6</td>\n",
       "      <td>12990</td>\n",
       "      <td>2015</td>\n",
       "      <td>toyota camry</td>\n",
       "      <td>3</td>\n",
       "      <td>4</td>\n",
       "      <td>gas</td>\n",
       "      <td>79212</td>\n",
       "      <td>automatic</td>\n",
       "      <td>sedan</td>\n",
       "      <td>white</td>\n",
       "      <td>False</td>\n",
       "      <td>2018-12-27</td>\n",
       "      <td>73</td>\n",
       "      <td>3</td>\n",
       "      <td>12</td>\n",
       "      <td>2018</td>\n",
       "      <td>27</td>\n",
       "    </tr>\n",
       "    <tr>\n",
       "      <td>7</td>\n",
       "      <td>15990</td>\n",
       "      <td>2013</td>\n",
       "      <td>honda pilot</td>\n",
       "      <td>3</td>\n",
       "      <td>6</td>\n",
       "      <td>gas</td>\n",
       "      <td>109473</td>\n",
       "      <td>automatic</td>\n",
       "      <td>SUV</td>\n",
       "      <td>black</td>\n",
       "      <td>True</td>\n",
       "      <td>2019-01-07</td>\n",
       "      <td>68</td>\n",
       "      <td>0</td>\n",
       "      <td>1</td>\n",
       "      <td>2019</td>\n",
       "      <td>7</td>\n",
       "    </tr>\n",
       "    <tr>\n",
       "      <td>8</td>\n",
       "      <td>11500</td>\n",
       "      <td>2012</td>\n",
       "      <td>kia sorento</td>\n",
       "      <td>3</td>\n",
       "      <td>4</td>\n",
       "      <td>gas</td>\n",
       "      <td>104174</td>\n",
       "      <td>automatic</td>\n",
       "      <td>SUV</td>\n",
       "      <td>silver</td>\n",
       "      <td>True</td>\n",
       "      <td>2018-07-16</td>\n",
       "      <td>19</td>\n",
       "      <td>0</td>\n",
       "      <td>7</td>\n",
       "      <td>2018</td>\n",
       "      <td>16</td>\n",
       "    </tr>\n",
       "    <tr>\n",
       "      <td>9</td>\n",
       "      <td>9200</td>\n",
       "      <td>2008</td>\n",
       "      <td>honda pilot</td>\n",
       "      <td>3</td>\n",
       "      <td>6</td>\n",
       "      <td>gas</td>\n",
       "      <td>147191</td>\n",
       "      <td>automatic</td>\n",
       "      <td>SUV</td>\n",
       "      <td>blue</td>\n",
       "      <td>True</td>\n",
       "      <td>2019-02-15</td>\n",
       "      <td>17</td>\n",
       "      <td>4</td>\n",
       "      <td>2</td>\n",
       "      <td>2019</td>\n",
       "      <td>15</td>\n",
       "    </tr>\n",
       "  </tbody>\n",
       "</table>\n",
       "</div>"
      ],
      "text/plain": [
       "   price  model_year           model  condition  cylinders fuel  odometer  \\\n",
       "0   9400        2011          bmw x5          2          6  gas    145000   \n",
       "1  25500        2013      ford f-150          2          6  gas     88705   \n",
       "2   5500        2013  hyundai sonata          4          4  gas    110000   \n",
       "3   1500        2003      ford f-150          1          8  gas    160954   \n",
       "4  14900        2017    chrysler 200          3          4  gas     80903   \n",
       "5  14990        2014    chrysler 300          3          6  gas     57954   \n",
       "6  12990        2015    toyota camry          3          4  gas     79212   \n",
       "7  15990        2013     honda pilot          3          6  gas    109473   \n",
       "8  11500        2012     kia sorento          3          4  gas    104174   \n",
       "9   9200        2008     honda pilot          3          6  gas    147191   \n",
       "\n",
       "  transmission    type paint_color  is_4wd date_posted  days_listed  weekday  \\\n",
       "0    automatic     SUV       black    True  2018-06-23           19        5   \n",
       "1    automatic  pickup       white    True  2018-10-19           50        4   \n",
       "2    automatic   sedan         red   False  2019-02-07           79        3   \n",
       "3    automatic  pickup       white   False  2019-03-22            9        4   \n",
       "4    automatic   sedan       black   False  2019-04-02           28        1   \n",
       "5    automatic   sedan       black    True  2018-06-20           15        2   \n",
       "6    automatic   sedan       white   False  2018-12-27           73        3   \n",
       "7    automatic     SUV       black    True  2019-01-07           68        0   \n",
       "8    automatic     SUV      silver    True  2018-07-16           19        0   \n",
       "9    automatic     SUV        blue    True  2019-02-15           17        4   \n",
       "\n",
       "   month  year  day  \n",
       "0      6  2018   23  \n",
       "1     10  2018   19  \n",
       "2      2  2019    7  \n",
       "3      3  2019   22  \n",
       "4      4  2019    2  \n",
       "5      6  2018   20  \n",
       "6     12  2018   27  \n",
       "7      1  2019    7  \n",
       "8      7  2018   16  \n",
       "9      2  2019   15  "
      ]
     },
     "execution_count": 29,
     "metadata": {},
     "output_type": "execute_result"
    }
   ],
   "source": [
    "df.head(10)"
   ]
  },
  {
   "cell_type": "markdown",
   "metadata": {},
   "source": [
    "<font color='green'><h3>The vehicle's age (in years) when the ad was placed </h3></font>"
   ]
  },
  {
   "cell_type": "code",
   "execution_count": 30,
   "metadata": {},
   "outputs": [
    {
     "data": {
      "text/html": [
       "<div>\n",
       "<style scoped>\n",
       "    .dataframe tbody tr th:only-of-type {\n",
       "        vertical-align: middle;\n",
       "    }\n",
       "\n",
       "    .dataframe tbody tr th {\n",
       "        vertical-align: top;\n",
       "    }\n",
       "\n",
       "    .dataframe thead th {\n",
       "        text-align: right;\n",
       "    }\n",
       "</style>\n",
       "<table border=\"1\" class=\"dataframe\">\n",
       "  <thead>\n",
       "    <tr style=\"text-align: right;\">\n",
       "      <th></th>\n",
       "      <th>price</th>\n",
       "      <th>model_year</th>\n",
       "      <th>model</th>\n",
       "      <th>condition</th>\n",
       "      <th>cylinders</th>\n",
       "      <th>fuel</th>\n",
       "      <th>odometer</th>\n",
       "      <th>transmission</th>\n",
       "      <th>type</th>\n",
       "      <th>paint_color</th>\n",
       "      <th>is_4wd</th>\n",
       "      <th>date_posted</th>\n",
       "      <th>days_listed</th>\n",
       "      <th>weekday</th>\n",
       "      <th>month</th>\n",
       "      <th>year</th>\n",
       "      <th>day</th>\n",
       "      <th>vehicle_age</th>\n",
       "    </tr>\n",
       "  </thead>\n",
       "  <tbody>\n",
       "    <tr>\n",
       "      <td>0</td>\n",
       "      <td>9400</td>\n",
       "      <td>2011</td>\n",
       "      <td>bmw x5</td>\n",
       "      <td>2</td>\n",
       "      <td>6</td>\n",
       "      <td>gas</td>\n",
       "      <td>145000</td>\n",
       "      <td>automatic</td>\n",
       "      <td>SUV</td>\n",
       "      <td>black</td>\n",
       "      <td>True</td>\n",
       "      <td>2018-06-23</td>\n",
       "      <td>19</td>\n",
       "      <td>5</td>\n",
       "      <td>6</td>\n",
       "      <td>2018</td>\n",
       "      <td>23</td>\n",
       "      <td>7</td>\n",
       "    </tr>\n",
       "    <tr>\n",
       "      <td>1</td>\n",
       "      <td>25500</td>\n",
       "      <td>2013</td>\n",
       "      <td>ford f-150</td>\n",
       "      <td>2</td>\n",
       "      <td>6</td>\n",
       "      <td>gas</td>\n",
       "      <td>88705</td>\n",
       "      <td>automatic</td>\n",
       "      <td>pickup</td>\n",
       "      <td>white</td>\n",
       "      <td>True</td>\n",
       "      <td>2018-10-19</td>\n",
       "      <td>50</td>\n",
       "      <td>4</td>\n",
       "      <td>10</td>\n",
       "      <td>2018</td>\n",
       "      <td>19</td>\n",
       "      <td>5</td>\n",
       "    </tr>\n",
       "    <tr>\n",
       "      <td>2</td>\n",
       "      <td>5500</td>\n",
       "      <td>2013</td>\n",
       "      <td>hyundai sonata</td>\n",
       "      <td>4</td>\n",
       "      <td>4</td>\n",
       "      <td>gas</td>\n",
       "      <td>110000</td>\n",
       "      <td>automatic</td>\n",
       "      <td>sedan</td>\n",
       "      <td>red</td>\n",
       "      <td>False</td>\n",
       "      <td>2019-02-07</td>\n",
       "      <td>79</td>\n",
       "      <td>3</td>\n",
       "      <td>2</td>\n",
       "      <td>2019</td>\n",
       "      <td>7</td>\n",
       "      <td>6</td>\n",
       "    </tr>\n",
       "    <tr>\n",
       "      <td>3</td>\n",
       "      <td>1500</td>\n",
       "      <td>2003</td>\n",
       "      <td>ford f-150</td>\n",
       "      <td>1</td>\n",
       "      <td>8</td>\n",
       "      <td>gas</td>\n",
       "      <td>160954</td>\n",
       "      <td>automatic</td>\n",
       "      <td>pickup</td>\n",
       "      <td>white</td>\n",
       "      <td>False</td>\n",
       "      <td>2019-03-22</td>\n",
       "      <td>9</td>\n",
       "      <td>4</td>\n",
       "      <td>3</td>\n",
       "      <td>2019</td>\n",
       "      <td>22</td>\n",
       "      <td>16</td>\n",
       "    </tr>\n",
       "    <tr>\n",
       "      <td>4</td>\n",
       "      <td>14900</td>\n",
       "      <td>2017</td>\n",
       "      <td>chrysler 200</td>\n",
       "      <td>3</td>\n",
       "      <td>4</td>\n",
       "      <td>gas</td>\n",
       "      <td>80903</td>\n",
       "      <td>automatic</td>\n",
       "      <td>sedan</td>\n",
       "      <td>black</td>\n",
       "      <td>False</td>\n",
       "      <td>2019-04-02</td>\n",
       "      <td>28</td>\n",
       "      <td>1</td>\n",
       "      <td>4</td>\n",
       "      <td>2019</td>\n",
       "      <td>2</td>\n",
       "      <td>2</td>\n",
       "    </tr>\n",
       "  </tbody>\n",
       "</table>\n",
       "</div>"
      ],
      "text/plain": [
       "   price  model_year           model  condition  cylinders fuel  odometer  \\\n",
       "0   9400        2011          bmw x5          2          6  gas    145000   \n",
       "1  25500        2013      ford f-150          2          6  gas     88705   \n",
       "2   5500        2013  hyundai sonata          4          4  gas    110000   \n",
       "3   1500        2003      ford f-150          1          8  gas    160954   \n",
       "4  14900        2017    chrysler 200          3          4  gas     80903   \n",
       "\n",
       "  transmission    type paint_color  is_4wd date_posted  days_listed  weekday  \\\n",
       "0    automatic     SUV       black    True  2018-06-23           19        5   \n",
       "1    automatic  pickup       white    True  2018-10-19           50        4   \n",
       "2    automatic   sedan         red   False  2019-02-07           79        3   \n",
       "3    automatic  pickup       white   False  2019-03-22            9        4   \n",
       "4    automatic   sedan       black   False  2019-04-02           28        1   \n",
       "\n",
       "   month  year  day  vehicle_age  \n",
       "0      6  2018   23            7  \n",
       "1     10  2018   19            5  \n",
       "2      2  2019    7            6  \n",
       "3      3  2019   22           16  \n",
       "4      4  2019    2            2  "
      ]
     },
     "execution_count": 30,
     "metadata": {},
     "output_type": "execute_result"
    }
   ],
   "source": [
    "df['vehicle_age'] = df['year']-df['model_year']\n",
    "df.head()\n"
   ]
  },
  {
   "cell_type": "markdown",
   "metadata": {},
   "source": [
    "<font color='green'><h3>The vehicle's average mileage per year </h3></font>"
   ]
  },
  {
   "cell_type": "code",
   "execution_count": 31,
   "metadata": {},
   "outputs": [
    {
     "data": {
      "text/html": [
       "<div>\n",
       "<style scoped>\n",
       "    .dataframe tbody tr th:only-of-type {\n",
       "        vertical-align: middle;\n",
       "    }\n",
       "\n",
       "    .dataframe tbody tr th {\n",
       "        vertical-align: top;\n",
       "    }\n",
       "\n",
       "    .dataframe thead th {\n",
       "        text-align: right;\n",
       "    }\n",
       "</style>\n",
       "<table border=\"1\" class=\"dataframe\">\n",
       "  <thead>\n",
       "    <tr style=\"text-align: right;\">\n",
       "      <th></th>\n",
       "      <th>price</th>\n",
       "      <th>model_year</th>\n",
       "      <th>model</th>\n",
       "      <th>condition</th>\n",
       "      <th>cylinders</th>\n",
       "      <th>fuel</th>\n",
       "      <th>odometer</th>\n",
       "      <th>transmission</th>\n",
       "      <th>type</th>\n",
       "      <th>paint_color</th>\n",
       "      <th>is_4wd</th>\n",
       "      <th>date_posted</th>\n",
       "      <th>days_listed</th>\n",
       "      <th>weekday</th>\n",
       "      <th>month</th>\n",
       "      <th>year</th>\n",
       "      <th>day</th>\n",
       "      <th>vehicle_age</th>\n",
       "      <th>avg_mileage</th>\n",
       "    </tr>\n",
       "  </thead>\n",
       "  <tbody>\n",
       "    <tr>\n",
       "      <td>0</td>\n",
       "      <td>9400</td>\n",
       "      <td>2011</td>\n",
       "      <td>bmw x5</td>\n",
       "      <td>2</td>\n",
       "      <td>6</td>\n",
       "      <td>gas</td>\n",
       "      <td>145000</td>\n",
       "      <td>automatic</td>\n",
       "      <td>SUV</td>\n",
       "      <td>black</td>\n",
       "      <td>True</td>\n",
       "      <td>2018-06-23</td>\n",
       "      <td>19</td>\n",
       "      <td>5</td>\n",
       "      <td>6</td>\n",
       "      <td>2018</td>\n",
       "      <td>23</td>\n",
       "      <td>7</td>\n",
       "      <td>24166.666667</td>\n",
       "    </tr>\n",
       "    <tr>\n",
       "      <td>1</td>\n",
       "      <td>25500</td>\n",
       "      <td>2013</td>\n",
       "      <td>ford f-150</td>\n",
       "      <td>2</td>\n",
       "      <td>6</td>\n",
       "      <td>gas</td>\n",
       "      <td>88705</td>\n",
       "      <td>automatic</td>\n",
       "      <td>pickup</td>\n",
       "      <td>white</td>\n",
       "      <td>True</td>\n",
       "      <td>2018-10-19</td>\n",
       "      <td>50</td>\n",
       "      <td>4</td>\n",
       "      <td>10</td>\n",
       "      <td>2018</td>\n",
       "      <td>19</td>\n",
       "      <td>5</td>\n",
       "      <td>14784.166667</td>\n",
       "    </tr>\n",
       "    <tr>\n",
       "      <td>2</td>\n",
       "      <td>5500</td>\n",
       "      <td>2013</td>\n",
       "      <td>hyundai sonata</td>\n",
       "      <td>4</td>\n",
       "      <td>4</td>\n",
       "      <td>gas</td>\n",
       "      <td>110000</td>\n",
       "      <td>automatic</td>\n",
       "      <td>sedan</td>\n",
       "      <td>red</td>\n",
       "      <td>False</td>\n",
       "      <td>2019-02-07</td>\n",
       "      <td>79</td>\n",
       "      <td>3</td>\n",
       "      <td>2</td>\n",
       "      <td>2019</td>\n",
       "      <td>7</td>\n",
       "      <td>6</td>\n",
       "      <td>27500.000000</td>\n",
       "    </tr>\n",
       "    <tr>\n",
       "      <td>3</td>\n",
       "      <td>1500</td>\n",
       "      <td>2003</td>\n",
       "      <td>ford f-150</td>\n",
       "      <td>1</td>\n",
       "      <td>8</td>\n",
       "      <td>gas</td>\n",
       "      <td>160954</td>\n",
       "      <td>automatic</td>\n",
       "      <td>pickup</td>\n",
       "      <td>white</td>\n",
       "      <td>False</td>\n",
       "      <td>2019-03-22</td>\n",
       "      <td>9</td>\n",
       "      <td>4</td>\n",
       "      <td>3</td>\n",
       "      <td>2019</td>\n",
       "      <td>22</td>\n",
       "      <td>16</td>\n",
       "      <td>20119.250000</td>\n",
       "    </tr>\n",
       "    <tr>\n",
       "      <td>4</td>\n",
       "      <td>14900</td>\n",
       "      <td>2017</td>\n",
       "      <td>chrysler 200</td>\n",
       "      <td>3</td>\n",
       "      <td>4</td>\n",
       "      <td>gas</td>\n",
       "      <td>80903</td>\n",
       "      <td>automatic</td>\n",
       "      <td>sedan</td>\n",
       "      <td>black</td>\n",
       "      <td>False</td>\n",
       "      <td>2019-04-02</td>\n",
       "      <td>28</td>\n",
       "      <td>1</td>\n",
       "      <td>4</td>\n",
       "      <td>2019</td>\n",
       "      <td>2</td>\n",
       "      <td>2</td>\n",
       "      <td>20225.750000</td>\n",
       "    </tr>\n",
       "  </tbody>\n",
       "</table>\n",
       "</div>"
      ],
      "text/plain": [
       "   price  model_year           model  condition  cylinders fuel  odometer  \\\n",
       "0   9400        2011          bmw x5          2          6  gas    145000   \n",
       "1  25500        2013      ford f-150          2          6  gas     88705   \n",
       "2   5500        2013  hyundai sonata          4          4  gas    110000   \n",
       "3   1500        2003      ford f-150          1          8  gas    160954   \n",
       "4  14900        2017    chrysler 200          3          4  gas     80903   \n",
       "\n",
       "  transmission    type paint_color  is_4wd date_posted  days_listed  weekday  \\\n",
       "0    automatic     SUV       black    True  2018-06-23           19        5   \n",
       "1    automatic  pickup       white    True  2018-10-19           50        4   \n",
       "2    automatic   sedan         red   False  2019-02-07           79        3   \n",
       "3    automatic  pickup       white   False  2019-03-22            9        4   \n",
       "4    automatic   sedan       black   False  2019-04-02           28        1   \n",
       "\n",
       "   month  year  day  vehicle_age   avg_mileage  \n",
       "0      6  2018   23            7  24166.666667  \n",
       "1     10  2018   19            5  14784.166667  \n",
       "2      2  2019    7            6  27500.000000  \n",
       "3      3  2019   22           16  20119.250000  \n",
       "4      4  2019    2            2  20225.750000  "
      ]
     },
     "execution_count": 31,
     "metadata": {},
     "output_type": "execute_result"
    }
   ],
   "source": [
    "df['avg_mileage'] = df['odometer'] / df['cylinders']#mileage is calculated by dividing miles travelled by cylinders to fill \n",
    "df.head()\n"
   ]
  },
  {
   "cell_type": "markdown",
   "metadata": {},
   "source": [
    "we used categorisation in condition column from fair to excellent rating it from 0 to 5 conditions of car .then we breaked the date posted column into weekday ,month,year and day and added it to the table.then we calculated vehicle age and avg_mileage on the basis of the available data ."
   ]
  },
  {
   "cell_type": "markdown",
   "metadata": {},
   "source": [
    "### Step 4. Carry out exploratory data analysis"
   ]
  },
  {
   "cell_type": "markdown",
   "metadata": {},
   "source": [
    "<font color='green'><h3>Histograms for each parameter price, vehicle's age when the ad was placed, mileage, number of cylinders, and condition. </h3></font>"
   ]
  },
  {
   "cell_type": "code",
   "execution_count": 32,
   "metadata": {},
   "outputs": [
    {
     "data": {
      "text/plain": [
       "375000"
      ]
     },
     "execution_count": 32,
     "metadata": {},
     "output_type": "execute_result"
    }
   ],
   "source": [
    "df['price'].max()\n",
    "#df['pri'].min()\n"
   ]
  },
  {
   "cell_type": "code",
   "execution_count": 33,
   "metadata": {},
   "outputs": [
    {
     "data": {
      "image/png": "[encoded data removed]",
      "text/plain": [
       "<Figure size 432x288 with 1 Axes>"
      ]
     },
     "metadata": {
      "needs_background": "light"
     },
     "output_type": "display_data"
    }
   ],
   "source": [
    "#histogram for price parameter\n",
    "df[\"price\"].plot(kind='hist', bins=100, range =(1,375000), title=\"the price of car on the number of sales\")\n",
    "plt.show()\n"
   ]
  },
  {
   "cell_type": "code",
   "execution_count": 34,
   "metadata": {},
   "outputs": [
    {
     "data": {
      "text/plain": [
       "0"
      ]
     },
     "execution_count": 34,
     "metadata": {},
     "output_type": "execute_result"
    }
   ],
   "source": [
    "df[\"vehicle_age\"].min()"
   ]
  },
  {
   "cell_type": "code",
   "execution_count": 35,
   "metadata": {},
   "outputs": [
    {
     "data": {
      "image/png": "[encoded data removed]",
      "text/plain": [
       "<Figure size 432x288 with 1 Axes>"
      ]
     },
     "metadata": {
      "needs_background": "light"
     },
     "output_type": "display_data"
    }
   ],
   "source": [
    "#histogram for parameter vehicle age\n",
    "df[\"vehicle_age\"].plot(kind='hist', bins=40, range =(0,110), title=\"the age of car on the number of sales\")\n",
    "plt.show()\n"
   ]
  },
  {
   "cell_type": "code",
   "execution_count": 36,
   "metadata": {},
   "outputs": [
    {
     "data": {
      "text/plain": [
       "inf"
      ]
     },
     "execution_count": 36,
     "metadata": {},
     "output_type": "execute_result"
    }
   ],
   "source": [
    "df[\"avg_mileage\"].max()"
   ]
  },
  {
   "cell_type": "code",
   "execution_count": 37,
   "metadata": {},
   "outputs": [
    {
     "data": {
      "image/png": "[encoded data removed]",
      "text/plain": [
       "<Figure size 432x288 with 1 Axes>"
      ]
     },
     "metadata": {
      "needs_background": "light"
     },
     "output_type": "display_data"
    }
   ],
   "source": [
    "#histogram for parameter vehicle age\n",
    "df[\"avg_mileage\"].plot(kind='hist', bins=40, range =(0,90000), title=\"the mileage of car on the number of sales\")\n",
    "plt.show()"
   ]
  },
  {
   "cell_type": "code",
   "execution_count": 38,
   "metadata": {},
   "outputs": [
    {
     "data": {
      "text/plain": [
       "count    51525.000000\n",
       "mean         6.069034\n",
       "std          1.591608\n",
       "min          0.000000\n",
       "25%          4.000000\n",
       "50%          6.000000\n",
       "75%          8.000000\n",
       "max         12.000000\n",
       "Name: cylinders, dtype: float64"
      ]
     },
     "execution_count": 38,
     "metadata": {},
     "output_type": "execute_result"
    }
   ],
   "source": [
    "df['cylinders'].describe()"
   ]
  },
  {
   "cell_type": "code",
   "execution_count": 39,
   "metadata": {},
   "outputs": [
    {
     "data": {
      "image/png": "[encoded data removed]",
      "text/plain": [
       "<Figure size 432x288 with 1 Axes>"
      ]
     },
     "metadata": {
      "needs_background": "light"
     },
     "output_type": "display_data"
    }
   ],
   "source": [
    "#histogram for cylinders\n",
    "df[\"cylinders\"].plot(kind='hist', bins=4, range =(0,12), title=\"the cylinders of car on the number of sales\")\n",
    "plt.show()"
   ]
  },
  {
   "cell_type": "code",
   "execution_count": 40,
   "metadata": {},
   "outputs": [
    {
     "data": {
      "image/png": "[encoded data removed]",
      "text/plain": [
       "<Figure size 432x288 with 1 Axes>"
      ]
     },
     "metadata": {
      "needs_background": "light"
     },
     "output_type": "display_data"
    }
   ],
   "source": [
    "#histogram for condition\n",
    "df[\"condition\"].plot(kind='hist', bins=3, range =(0,5), title=\"the condition of car on the number of sales\")\n",
    "plt.show()"
   ]
  },
  {
   "cell_type": "code",
   "execution_count": 41,
   "metadata": {},
   "outputs": [
    {
     "data": {
      "text/plain": [
       "count    51525.000000\n",
       "mean         2.637535\n",
       "std          0.712447\n",
       "min          0.000000\n",
       "25%          2.000000\n",
       "50%          3.000000\n",
       "75%          3.000000\n",
       "max          5.000000\n",
       "Name: condition, dtype: float64"
      ]
     },
     "execution_count": 41,
     "metadata": {},
     "output_type": "execute_result"
    }
   ],
   "source": [
    "df['condition'].describe()"
   ]
  },
  {
   "cell_type": "markdown",
   "metadata": {},
   "source": [
    "<font color='green'><h3>Determine the upper limits of outliers, remove the outliers and store them in a separate DataFrame, and continue your work with the filtered data. </h3></font>"
   ]
  },
  {
   "cell_type": "code",
   "execution_count": 42,
   "metadata": {},
   "outputs": [
    {
     "data": {
      "text/plain": [
       "<matplotlib.axes._subplots.AxesSubplot at 0x7fa946171650>"
      ]
     },
     "execution_count": 42,
     "metadata": {},
     "output_type": "execute_result"
    },
    {
     "data": {
      "image/png": "[encoded data removed]",
      "text/plain": [
       "<Figure size 432x288 with 1 Axes>"
      ]
     },
     "metadata": {
      "needs_background": "light"
     },
     "output_type": "display_data"
    }
   ],
   "source": [
    "df.boxplot()"
   ]
  },
  {
   "cell_type": "code",
   "execution_count": 43,
   "metadata": {},
   "outputs": [
    {
     "data": {
      "text/html": [
       "<div>\n",
       "<style scoped>\n",
       "    .dataframe tbody tr th:only-of-type {\n",
       "        vertical-align: middle;\n",
       "    }\n",
       "\n",
       "    .dataframe tbody tr th {\n",
       "        vertical-align: top;\n",
       "    }\n",
       "\n",
       "    .dataframe thead th {\n",
       "        text-align: right;\n",
       "    }\n",
       "</style>\n",
       "<table border=\"1\" class=\"dataframe\">\n",
       "  <thead>\n",
       "    <tr style=\"text-align: right;\">\n",
       "      <th></th>\n",
       "      <th>price</th>\n",
       "      <th>model_year</th>\n",
       "      <th>condition</th>\n",
       "      <th>cylinders</th>\n",
       "      <th>odometer</th>\n",
       "      <th>days_listed</th>\n",
       "      <th>weekday</th>\n",
       "      <th>month</th>\n",
       "      <th>year</th>\n",
       "      <th>day</th>\n",
       "      <th>vehicle_age</th>\n",
       "      <th>avg_mileage</th>\n",
       "    </tr>\n",
       "  </thead>\n",
       "  <tbody>\n",
       "    <tr>\n",
       "      <td>count</td>\n",
       "      <td>51525.000000</td>\n",
       "      <td>51525.000000</td>\n",
       "      <td>51525.000000</td>\n",
       "      <td>51525.000000</td>\n",
       "      <td>51525.000000</td>\n",
       "      <td>51525.00000</td>\n",
       "      <td>51525.000000</td>\n",
       "      <td>51525.000000</td>\n",
       "      <td>51525.000000</td>\n",
       "      <td>51525.000000</td>\n",
       "      <td>51525.000000</td>\n",
       "      <td>5.152500e+04</td>\n",
       "    </tr>\n",
       "    <tr>\n",
       "      <td>mean</td>\n",
       "      <td>12132.464920</td>\n",
       "      <td>2009.871033</td>\n",
       "      <td>2.637535</td>\n",
       "      <td>6.069034</td>\n",
       "      <td>115127.154139</td>\n",
       "      <td>39.55476</td>\n",
       "      <td>3.005434</td>\n",
       "      <td>6.628491</td>\n",
       "      <td>2018.307462</td>\n",
       "      <td>15.449491</td>\n",
       "      <td>8.436429</td>\n",
       "      <td>inf</td>\n",
       "    </tr>\n",
       "    <tr>\n",
       "      <td>std</td>\n",
       "      <td>10040.803015</td>\n",
       "      <td>6.145084</td>\n",
       "      <td>0.712447</td>\n",
       "      <td>1.591608</td>\n",
       "      <td>62085.715317</td>\n",
       "      <td>28.20427</td>\n",
       "      <td>1.997759</td>\n",
       "      <td>3.474134</td>\n",
       "      <td>0.461447</td>\n",
       "      <td>8.736521</td>\n",
       "      <td>6.158509</td>\n",
       "      <td>NaN</td>\n",
       "    </tr>\n",
       "    <tr>\n",
       "      <td>min</td>\n",
       "      <td>1.000000</td>\n",
       "      <td>1908.000000</td>\n",
       "      <td>0.000000</td>\n",
       "      <td>0.000000</td>\n",
       "      <td>0.000000</td>\n",
       "      <td>0.00000</td>\n",
       "      <td>0.000000</td>\n",
       "      <td>1.000000</td>\n",
       "      <td>2018.000000</td>\n",
       "      <td>1.000000</td>\n",
       "      <td>0.000000</td>\n",
       "      <td>0.000000e+00</td>\n",
       "    </tr>\n",
       "    <tr>\n",
       "      <td>25%</td>\n",
       "      <td>5000.000000</td>\n",
       "      <td>2007.000000</td>\n",
       "      <td>2.000000</td>\n",
       "      <td>4.000000</td>\n",
       "      <td>73289.000000</td>\n",
       "      <td>19.00000</td>\n",
       "      <td>1.000000</td>\n",
       "      <td>3.000000</td>\n",
       "      <td>2018.000000</td>\n",
       "      <td>8.000000</td>\n",
       "      <td>4.000000</td>\n",
       "      <td>1.204025e+04</td>\n",
       "    </tr>\n",
       "    <tr>\n",
       "      <td>50%</td>\n",
       "      <td>9000.000000</td>\n",
       "      <td>2011.000000</td>\n",
       "      <td>3.000000</td>\n",
       "      <td>6.000000</td>\n",
       "      <td>113683.000000</td>\n",
       "      <td>33.00000</td>\n",
       "      <td>3.000000</td>\n",
       "      <td>7.000000</td>\n",
       "      <td>2018.000000</td>\n",
       "      <td>15.000000</td>\n",
       "      <td>7.000000</td>\n",
       "      <td>1.917050e+04</td>\n",
       "    </tr>\n",
       "    <tr>\n",
       "      <td>75%</td>\n",
       "      <td>16839.000000</td>\n",
       "      <td>2014.000000</td>\n",
       "      <td>3.000000</td>\n",
       "      <td>8.000000</td>\n",
       "      <td>152732.000000</td>\n",
       "      <td>53.00000</td>\n",
       "      <td>5.000000</td>\n",
       "      <td>10.000000</td>\n",
       "      <td>2019.000000</td>\n",
       "      <td>23.000000</td>\n",
       "      <td>12.000000</td>\n",
       "      <td>2.649383e+04</td>\n",
       "    </tr>\n",
       "    <tr>\n",
       "      <td>max</td>\n",
       "      <td>375000.000000</td>\n",
       "      <td>2019.000000</td>\n",
       "      <td>5.000000</td>\n",
       "      <td>12.000000</td>\n",
       "      <td>990000.000000</td>\n",
       "      <td>271.00000</td>\n",
       "      <td>6.000000</td>\n",
       "      <td>12.000000</td>\n",
       "      <td>2019.000000</td>\n",
       "      <td>31.000000</td>\n",
       "      <td>110.000000</td>\n",
       "      <td>inf</td>\n",
       "    </tr>\n",
       "  </tbody>\n",
       "</table>\n",
       "</div>"
      ],
      "text/plain": [
       "               price    model_year     condition     cylinders       odometer  \\\n",
       "count   51525.000000  51525.000000  51525.000000  51525.000000   51525.000000   \n",
       "mean    12132.464920   2009.871033      2.637535      6.069034  115127.154139   \n",
       "std     10040.803015      6.145084      0.712447      1.591608   62085.715317   \n",
       "min         1.000000   1908.000000      0.000000      0.000000       0.000000   \n",
       "25%      5000.000000   2007.000000      2.000000      4.000000   73289.000000   \n",
       "50%      9000.000000   2011.000000      3.000000      6.000000  113683.000000   \n",
       "75%     16839.000000   2014.000000      3.000000      8.000000  152732.000000   \n",
       "max    375000.000000   2019.000000      5.000000     12.000000  990000.000000   \n",
       "\n",
       "       days_listed       weekday         month          year           day  \\\n",
       "count  51525.00000  51525.000000  51525.000000  51525.000000  51525.000000   \n",
       "mean      39.55476      3.005434      6.628491   2018.307462     15.449491   \n",
       "std       28.20427      1.997759      3.474134      0.461447      8.736521   \n",
       "min        0.00000      0.000000      1.000000   2018.000000      1.000000   \n",
       "25%       19.00000      1.000000      3.000000   2018.000000      8.000000   \n",
       "50%       33.00000      3.000000      7.000000   2018.000000     15.000000   \n",
       "75%       53.00000      5.000000     10.000000   2019.000000     23.000000   \n",
       "max      271.00000      6.000000     12.000000   2019.000000     31.000000   \n",
       "\n",
       "        vehicle_age   avg_mileage  \n",
       "count  51525.000000  5.152500e+04  \n",
       "mean       8.436429           inf  \n",
       "std        6.158509           NaN  \n",
       "min        0.000000  0.000000e+00  \n",
       "25%        4.000000  1.204025e+04  \n",
       "50%        7.000000  1.917050e+04  \n",
       "75%       12.000000  2.649383e+04  \n",
       "max      110.000000           inf  "
      ]
     },
     "execution_count": 43,
     "metadata": {},
     "output_type": "execute_result"
    }
   ],
   "source": [
    "df.describe()"
   ]
  },
  {
   "cell_type": "markdown",
   "metadata": {},
   "source": [
    "<font color='green'><h3>Determine the upper limits of price outliers, removed the outliers and store them in a separate DataFrame df1  </h3></font>"
   ]
  },
  {
   "cell_type": "code",
   "execution_count": 44,
   "metadata": {},
   "outputs": [
    {
     "data": {
      "text/plain": [
       "(5000.0, 16839.0)"
      ]
     },
     "execution_count": 44,
     "metadata": {},
     "output_type": "execute_result"
    }
   ],
   "source": [
    "q1 = df.price.quantile(0.25)\n",
    "q3 = df.price.quantile(0.75)\n",
    "q1, q3"
   ]
  },
  {
   "cell_type": "code",
   "execution_count": 45,
   "metadata": {},
   "outputs": [
    {
     "data": {
      "text/plain": [
       "11839.0"
      ]
     },
     "execution_count": 45,
     "metadata": {},
     "output_type": "execute_result"
    }
   ],
   "source": [
    "iqr = q3 - q1\n",
    "iqr"
   ]
  },
  {
   "cell_type": "code",
   "execution_count": 46,
   "metadata": {},
   "outputs": [
    {
     "data": {
      "text/plain": [
       "(-12758.5, 34597.5)"
      ]
     },
     "execution_count": 46,
     "metadata": {},
     "output_type": "execute_result"
    }
   ],
   "source": [
    "lower_limit1 = q1 -1.5*iqr\n",
    "upper_limit1= q3 + 1.5*iqr\n",
    "lower_limit1, upper_limit1"
   ]
  },
  {
   "cell_type": "code",
   "execution_count": 47,
   "metadata": {},
   "outputs": [
    {
     "data": {
      "text/html": [
       "<div>\n",
       "<style scoped>\n",
       "    .dataframe tbody tr th:only-of-type {\n",
       "        vertical-align: middle;\n",
       "    }\n",
       "\n",
       "    .dataframe tbody tr th {\n",
       "        vertical-align: top;\n",
       "    }\n",
       "\n",
       "    .dataframe thead th {\n",
       "        text-align: right;\n",
       "    }\n",
       "</style>\n",
       "<table border=\"1\" class=\"dataframe\">\n",
       "  <thead>\n",
       "    <tr style=\"text-align: right;\">\n",
       "      <th></th>\n",
       "      <th>price</th>\n",
       "      <th>model_year</th>\n",
       "      <th>model</th>\n",
       "      <th>condition</th>\n",
       "      <th>cylinders</th>\n",
       "      <th>fuel</th>\n",
       "      <th>odometer</th>\n",
       "      <th>transmission</th>\n",
       "      <th>type</th>\n",
       "      <th>paint_color</th>\n",
       "      <th>is_4wd</th>\n",
       "      <th>date_posted</th>\n",
       "      <th>days_listed</th>\n",
       "      <th>weekday</th>\n",
       "      <th>month</th>\n",
       "      <th>year</th>\n",
       "      <th>day</th>\n",
       "      <th>vehicle_age</th>\n",
       "      <th>avg_mileage</th>\n",
       "    </tr>\n",
       "  </thead>\n",
       "  <tbody>\n",
       "    <tr>\n",
       "      <td>0</td>\n",
       "      <td>9400</td>\n",
       "      <td>2011</td>\n",
       "      <td>bmw x5</td>\n",
       "      <td>2</td>\n",
       "      <td>6</td>\n",
       "      <td>gas</td>\n",
       "      <td>145000</td>\n",
       "      <td>automatic</td>\n",
       "      <td>SUV</td>\n",
       "      <td>black</td>\n",
       "      <td>True</td>\n",
       "      <td>2018-06-23</td>\n",
       "      <td>19</td>\n",
       "      <td>5</td>\n",
       "      <td>6</td>\n",
       "      <td>2018</td>\n",
       "      <td>23</td>\n",
       "      <td>7</td>\n",
       "      <td>24166.666667</td>\n",
       "    </tr>\n",
       "    <tr>\n",
       "      <td>1</td>\n",
       "      <td>25500</td>\n",
       "      <td>2013</td>\n",
       "      <td>ford f-150</td>\n",
       "      <td>2</td>\n",
       "      <td>6</td>\n",
       "      <td>gas</td>\n",
       "      <td>88705</td>\n",
       "      <td>automatic</td>\n",
       "      <td>pickup</td>\n",
       "      <td>white</td>\n",
       "      <td>True</td>\n",
       "      <td>2018-10-19</td>\n",
       "      <td>50</td>\n",
       "      <td>4</td>\n",
       "      <td>10</td>\n",
       "      <td>2018</td>\n",
       "      <td>19</td>\n",
       "      <td>5</td>\n",
       "      <td>14784.166667</td>\n",
       "    </tr>\n",
       "    <tr>\n",
       "      <td>2</td>\n",
       "      <td>5500</td>\n",
       "      <td>2013</td>\n",
       "      <td>hyundai sonata</td>\n",
       "      <td>4</td>\n",
       "      <td>4</td>\n",
       "      <td>gas</td>\n",
       "      <td>110000</td>\n",
       "      <td>automatic</td>\n",
       "      <td>sedan</td>\n",
       "      <td>red</td>\n",
       "      <td>False</td>\n",
       "      <td>2019-02-07</td>\n",
       "      <td>79</td>\n",
       "      <td>3</td>\n",
       "      <td>2</td>\n",
       "      <td>2019</td>\n",
       "      <td>7</td>\n",
       "      <td>6</td>\n",
       "      <td>27500.000000</td>\n",
       "    </tr>\n",
       "    <tr>\n",
       "      <td>3</td>\n",
       "      <td>1500</td>\n",
       "      <td>2003</td>\n",
       "      <td>ford f-150</td>\n",
       "      <td>1</td>\n",
       "      <td>8</td>\n",
       "      <td>gas</td>\n",
       "      <td>160954</td>\n",
       "      <td>automatic</td>\n",
       "      <td>pickup</td>\n",
       "      <td>white</td>\n",
       "      <td>False</td>\n",
       "      <td>2019-03-22</td>\n",
       "      <td>9</td>\n",
       "      <td>4</td>\n",
       "      <td>3</td>\n",
       "      <td>2019</td>\n",
       "      <td>22</td>\n",
       "      <td>16</td>\n",
       "      <td>20119.250000</td>\n",
       "    </tr>\n",
       "    <tr>\n",
       "      <td>4</td>\n",
       "      <td>14900</td>\n",
       "      <td>2017</td>\n",
       "      <td>chrysler 200</td>\n",
       "      <td>3</td>\n",
       "      <td>4</td>\n",
       "      <td>gas</td>\n",
       "      <td>80903</td>\n",
       "      <td>automatic</td>\n",
       "      <td>sedan</td>\n",
       "      <td>black</td>\n",
       "      <td>False</td>\n",
       "      <td>2019-04-02</td>\n",
       "      <td>28</td>\n",
       "      <td>1</td>\n",
       "      <td>4</td>\n",
       "      <td>2019</td>\n",
       "      <td>2</td>\n",
       "      <td>2</td>\n",
       "      <td>20225.750000</td>\n",
       "    </tr>\n",
       "    <tr>\n",
       "      <td>...</td>\n",
       "      <td>...</td>\n",
       "      <td>...</td>\n",
       "      <td>...</td>\n",
       "      <td>...</td>\n",
       "      <td>...</td>\n",
       "      <td>...</td>\n",
       "      <td>...</td>\n",
       "      <td>...</td>\n",
       "      <td>...</td>\n",
       "      <td>...</td>\n",
       "      <td>...</td>\n",
       "      <td>...</td>\n",
       "      <td>...</td>\n",
       "      <td>...</td>\n",
       "      <td>...</td>\n",
       "      <td>...</td>\n",
       "      <td>...</td>\n",
       "      <td>...</td>\n",
       "      <td>...</td>\n",
       "    </tr>\n",
       "    <tr>\n",
       "      <td>51520</td>\n",
       "      <td>9249</td>\n",
       "      <td>2013</td>\n",
       "      <td>nissan maxima</td>\n",
       "      <td>4</td>\n",
       "      <td>6</td>\n",
       "      <td>gas</td>\n",
       "      <td>88136</td>\n",
       "      <td>automatic</td>\n",
       "      <td>sedan</td>\n",
       "      <td>black</td>\n",
       "      <td>False</td>\n",
       "      <td>2018-10-03</td>\n",
       "      <td>37</td>\n",
       "      <td>2</td>\n",
       "      <td>10</td>\n",
       "      <td>2018</td>\n",
       "      <td>3</td>\n",
       "      <td>5</td>\n",
       "      <td>14689.333333</td>\n",
       "    </tr>\n",
       "    <tr>\n",
       "      <td>51521</td>\n",
       "      <td>2700</td>\n",
       "      <td>2002</td>\n",
       "      <td>honda civic</td>\n",
       "      <td>0</td>\n",
       "      <td>4</td>\n",
       "      <td>gas</td>\n",
       "      <td>181500</td>\n",
       "      <td>automatic</td>\n",
       "      <td>sedan</td>\n",
       "      <td>white</td>\n",
       "      <td>False</td>\n",
       "      <td>2018-11-14</td>\n",
       "      <td>22</td>\n",
       "      <td>2</td>\n",
       "      <td>11</td>\n",
       "      <td>2018</td>\n",
       "      <td>14</td>\n",
       "      <td>16</td>\n",
       "      <td>45375.000000</td>\n",
       "    </tr>\n",
       "    <tr>\n",
       "      <td>51522</td>\n",
       "      <td>3950</td>\n",
       "      <td>2009</td>\n",
       "      <td>hyundai sonata</td>\n",
       "      <td>3</td>\n",
       "      <td>4</td>\n",
       "      <td>gas</td>\n",
       "      <td>128000</td>\n",
       "      <td>automatic</td>\n",
       "      <td>sedan</td>\n",
       "      <td>blue</td>\n",
       "      <td>False</td>\n",
       "      <td>2018-11-15</td>\n",
       "      <td>32</td>\n",
       "      <td>3</td>\n",
       "      <td>11</td>\n",
       "      <td>2018</td>\n",
       "      <td>15</td>\n",
       "      <td>9</td>\n",
       "      <td>32000.000000</td>\n",
       "    </tr>\n",
       "    <tr>\n",
       "      <td>51523</td>\n",
       "      <td>7455</td>\n",
       "      <td>2013</td>\n",
       "      <td>toyota corolla</td>\n",
       "      <td>2</td>\n",
       "      <td>4</td>\n",
       "      <td>gas</td>\n",
       "      <td>139573</td>\n",
       "      <td>automatic</td>\n",
       "      <td>sedan</td>\n",
       "      <td>black</td>\n",
       "      <td>False</td>\n",
       "      <td>2018-07-02</td>\n",
       "      <td>71</td>\n",
       "      <td>0</td>\n",
       "      <td>7</td>\n",
       "      <td>2018</td>\n",
       "      <td>2</td>\n",
       "      <td>5</td>\n",
       "      <td>34893.250000</td>\n",
       "    </tr>\n",
       "    <tr>\n",
       "      <td>51524</td>\n",
       "      <td>6300</td>\n",
       "      <td>2014</td>\n",
       "      <td>nissan altima</td>\n",
       "      <td>2</td>\n",
       "      <td>4</td>\n",
       "      <td>gas</td>\n",
       "      <td>90990</td>\n",
       "      <td>automatic</td>\n",
       "      <td>sedan</td>\n",
       "      <td>grey</td>\n",
       "      <td>False</td>\n",
       "      <td>2018-06-05</td>\n",
       "      <td>10</td>\n",
       "      <td>1</td>\n",
       "      <td>6</td>\n",
       "      <td>2018</td>\n",
       "      <td>5</td>\n",
       "      <td>4</td>\n",
       "      <td>22747.500000</td>\n",
       "    </tr>\n",
       "  </tbody>\n",
       "</table>\n",
       "<p>49879 rows × 19 columns</p>\n",
       "</div>"
      ],
      "text/plain": [
       "       price  model_year           model  condition  cylinders fuel  odometer  \\\n",
       "0       9400        2011          bmw x5          2          6  gas    145000   \n",
       "1      25500        2013      ford f-150          2          6  gas     88705   \n",
       "2       5500        2013  hyundai sonata          4          4  gas    110000   \n",
       "3       1500        2003      ford f-150          1          8  gas    160954   \n",
       "4      14900        2017    chrysler 200          3          4  gas     80903   \n",
       "...      ...         ...             ...        ...        ...  ...       ...   \n",
       "51520   9249        2013   nissan maxima          4          6  gas     88136   \n",
       "51521   2700        2002     honda civic          0          4  gas    181500   \n",
       "51522   3950        2009  hyundai sonata          3          4  gas    128000   \n",
       "51523   7455        2013  toyota corolla          2          4  gas    139573   \n",
       "51524   6300        2014   nissan altima          2          4  gas     90990   \n",
       "\n",
       "      transmission    type paint_color  is_4wd date_posted  days_listed  \\\n",
       "0        automatic     SUV       black    True  2018-06-23           19   \n",
       "1        automatic  pickup       white    True  2018-10-19           50   \n",
       "2        automatic   sedan         red   False  2019-02-07           79   \n",
       "3        automatic  pickup       white   False  2019-03-22            9   \n",
       "4        automatic   sedan       black   False  2019-04-02           28   \n",
       "...            ...     ...         ...     ...         ...          ...   \n",
       "51520    automatic   sedan       black   False  2018-10-03           37   \n",
       "51521    automatic   sedan       white   False  2018-11-14           22   \n",
       "51522    automatic   sedan        blue   False  2018-11-15           32   \n",
       "51523    automatic   sedan       black   False  2018-07-02           71   \n",
       "51524    automatic   sedan        grey   False  2018-06-05           10   \n",
       "\n",
       "       weekday  month  year  day  vehicle_age   avg_mileage  \n",
       "0            5      6  2018   23            7  24166.666667  \n",
       "1            4     10  2018   19            5  14784.166667  \n",
       "2            3      2  2019    7            6  27500.000000  \n",
       "3            4      3  2019   22           16  20119.250000  \n",
       "4            1      4  2019    2            2  20225.750000  \n",
       "...        ...    ...   ...  ...          ...           ...  \n",
       "51520        2     10  2018    3            5  14689.333333  \n",
       "51521        2     11  2018   14           16  45375.000000  \n",
       "51522        3     11  2018   15            9  32000.000000  \n",
       "51523        0      7  2018    2            5  34893.250000  \n",
       "51524        1      6  2018    5            4  22747.500000  \n",
       "\n",
       "[49879 rows x 19 columns]"
      ]
     },
     "execution_count": 47,
     "metadata": {},
     "output_type": "execute_result"
    }
   ],
   "source": [
    "df1_no_outlier = df[(df.price<upper_limit1)]\n",
    "df1_no_outlier"
   ]
  },
  {
   "cell_type": "markdown",
   "metadata": {},
   "source": [
    "<font color='green'><h3>Determine the upper limits of vehicle age outliers, removed the outliers and store them in a separate DataFrame df2  </h3></font>"
   ]
  },
  {
   "cell_type": "code",
   "execution_count": 48,
   "metadata": {},
   "outputs": [
    {
     "data": {
      "text/plain": [
       "(4.0, 12.0)"
      ]
     },
     "execution_count": 48,
     "metadata": {},
     "output_type": "execute_result"
    }
   ],
   "source": [
    "q1 = df.vehicle_age.quantile(0.25)\n",
    "q3 = df.vehicle_age.quantile(0.75)\n",
    "q1, q3"
   ]
  },
  {
   "cell_type": "code",
   "execution_count": 49,
   "metadata": {},
   "outputs": [
    {
     "data": {
      "text/plain": [
       "24.0"
      ]
     },
     "execution_count": 49,
     "metadata": {},
     "output_type": "execute_result"
    }
   ],
   "source": [
    "iqr = q3 - q1\n",
    "iqr\n",
    "upper_limit2= q3 + 1.5*iqr\n",
    "upper_limit2"
   ]
  },
  {
   "cell_type": "code",
   "execution_count": 50,
   "metadata": {},
   "outputs": [
    {
     "data": {
      "text/html": [
       "<div>\n",
       "<style scoped>\n",
       "    .dataframe tbody tr th:only-of-type {\n",
       "        vertical-align: middle;\n",
       "    }\n",
       "\n",
       "    .dataframe tbody tr th {\n",
       "        vertical-align: top;\n",
       "    }\n",
       "\n",
       "    .dataframe thead th {\n",
       "        text-align: right;\n",
       "    }\n",
       "</style>\n",
       "<table border=\"1\" class=\"dataframe\">\n",
       "  <thead>\n",
       "    <tr style=\"text-align: right;\">\n",
       "      <th></th>\n",
       "      <th>price</th>\n",
       "      <th>model_year</th>\n",
       "      <th>model</th>\n",
       "      <th>condition</th>\n",
       "      <th>cylinders</th>\n",
       "      <th>fuel</th>\n",
       "      <th>odometer</th>\n",
       "      <th>transmission</th>\n",
       "      <th>type</th>\n",
       "      <th>paint_color</th>\n",
       "      <th>is_4wd</th>\n",
       "      <th>date_posted</th>\n",
       "      <th>days_listed</th>\n",
       "      <th>weekday</th>\n",
       "      <th>month</th>\n",
       "      <th>year</th>\n",
       "      <th>day</th>\n",
       "      <th>vehicle_age</th>\n",
       "      <th>avg_mileage</th>\n",
       "    </tr>\n",
       "  </thead>\n",
       "  <tbody>\n",
       "    <tr>\n",
       "      <td>0</td>\n",
       "      <td>9400</td>\n",
       "      <td>2011</td>\n",
       "      <td>bmw x5</td>\n",
       "      <td>2</td>\n",
       "      <td>6</td>\n",
       "      <td>gas</td>\n",
       "      <td>145000</td>\n",
       "      <td>automatic</td>\n",
       "      <td>SUV</td>\n",
       "      <td>black</td>\n",
       "      <td>True</td>\n",
       "      <td>2018-06-23</td>\n",
       "      <td>19</td>\n",
       "      <td>5</td>\n",
       "      <td>6</td>\n",
       "      <td>2018</td>\n",
       "      <td>23</td>\n",
       "      <td>7</td>\n",
       "      <td>24166.666667</td>\n",
       "    </tr>\n",
       "    <tr>\n",
       "      <td>1</td>\n",
       "      <td>25500</td>\n",
       "      <td>2013</td>\n",
       "      <td>ford f-150</td>\n",
       "      <td>2</td>\n",
       "      <td>6</td>\n",
       "      <td>gas</td>\n",
       "      <td>88705</td>\n",
       "      <td>automatic</td>\n",
       "      <td>pickup</td>\n",
       "      <td>white</td>\n",
       "      <td>True</td>\n",
       "      <td>2018-10-19</td>\n",
       "      <td>50</td>\n",
       "      <td>4</td>\n",
       "      <td>10</td>\n",
       "      <td>2018</td>\n",
       "      <td>19</td>\n",
       "      <td>5</td>\n",
       "      <td>14784.166667</td>\n",
       "    </tr>\n",
       "    <tr>\n",
       "      <td>2</td>\n",
       "      <td>5500</td>\n",
       "      <td>2013</td>\n",
       "      <td>hyundai sonata</td>\n",
       "      <td>4</td>\n",
       "      <td>4</td>\n",
       "      <td>gas</td>\n",
       "      <td>110000</td>\n",
       "      <td>automatic</td>\n",
       "      <td>sedan</td>\n",
       "      <td>red</td>\n",
       "      <td>False</td>\n",
       "      <td>2019-02-07</td>\n",
       "      <td>79</td>\n",
       "      <td>3</td>\n",
       "      <td>2</td>\n",
       "      <td>2019</td>\n",
       "      <td>7</td>\n",
       "      <td>6</td>\n",
       "      <td>27500.000000</td>\n",
       "    </tr>\n",
       "    <tr>\n",
       "      <td>3</td>\n",
       "      <td>1500</td>\n",
       "      <td>2003</td>\n",
       "      <td>ford f-150</td>\n",
       "      <td>1</td>\n",
       "      <td>8</td>\n",
       "      <td>gas</td>\n",
       "      <td>160954</td>\n",
       "      <td>automatic</td>\n",
       "      <td>pickup</td>\n",
       "      <td>white</td>\n",
       "      <td>False</td>\n",
       "      <td>2019-03-22</td>\n",
       "      <td>9</td>\n",
       "      <td>4</td>\n",
       "      <td>3</td>\n",
       "      <td>2019</td>\n",
       "      <td>22</td>\n",
       "      <td>16</td>\n",
       "      <td>20119.250000</td>\n",
       "    </tr>\n",
       "    <tr>\n",
       "      <td>4</td>\n",
       "      <td>14900</td>\n",
       "      <td>2017</td>\n",
       "      <td>chrysler 200</td>\n",
       "      <td>3</td>\n",
       "      <td>4</td>\n",
       "      <td>gas</td>\n",
       "      <td>80903</td>\n",
       "      <td>automatic</td>\n",
       "      <td>sedan</td>\n",
       "      <td>black</td>\n",
       "      <td>False</td>\n",
       "      <td>2019-04-02</td>\n",
       "      <td>28</td>\n",
       "      <td>1</td>\n",
       "      <td>4</td>\n",
       "      <td>2019</td>\n",
       "      <td>2</td>\n",
       "      <td>2</td>\n",
       "      <td>20225.750000</td>\n",
       "    </tr>\n",
       "    <tr>\n",
       "      <td>...</td>\n",
       "      <td>...</td>\n",
       "      <td>...</td>\n",
       "      <td>...</td>\n",
       "      <td>...</td>\n",
       "      <td>...</td>\n",
       "      <td>...</td>\n",
       "      <td>...</td>\n",
       "      <td>...</td>\n",
       "      <td>...</td>\n",
       "      <td>...</td>\n",
       "      <td>...</td>\n",
       "      <td>...</td>\n",
       "      <td>...</td>\n",
       "      <td>...</td>\n",
       "      <td>...</td>\n",
       "      <td>...</td>\n",
       "      <td>...</td>\n",
       "      <td>...</td>\n",
       "      <td>...</td>\n",
       "    </tr>\n",
       "    <tr>\n",
       "      <td>51520</td>\n",
       "      <td>9249</td>\n",
       "      <td>2013</td>\n",
       "      <td>nissan maxima</td>\n",
       "      <td>4</td>\n",
       "      <td>6</td>\n",
       "      <td>gas</td>\n",
       "      <td>88136</td>\n",
       "      <td>automatic</td>\n",
       "      <td>sedan</td>\n",
       "      <td>black</td>\n",
       "      <td>False</td>\n",
       "      <td>2018-10-03</td>\n",
       "      <td>37</td>\n",
       "      <td>2</td>\n",
       "      <td>10</td>\n",
       "      <td>2018</td>\n",
       "      <td>3</td>\n",
       "      <td>5</td>\n",
       "      <td>14689.333333</td>\n",
       "    </tr>\n",
       "    <tr>\n",
       "      <td>51521</td>\n",
       "      <td>2700</td>\n",
       "      <td>2002</td>\n",
       "      <td>honda civic</td>\n",
       "      <td>0</td>\n",
       "      <td>4</td>\n",
       "      <td>gas</td>\n",
       "      <td>181500</td>\n",
       "      <td>automatic</td>\n",
       "      <td>sedan</td>\n",
       "      <td>white</td>\n",
       "      <td>False</td>\n",
       "      <td>2018-11-14</td>\n",
       "      <td>22</td>\n",
       "      <td>2</td>\n",
       "      <td>11</td>\n",
       "      <td>2018</td>\n",
       "      <td>14</td>\n",
       "      <td>16</td>\n",
       "      <td>45375.000000</td>\n",
       "    </tr>\n",
       "    <tr>\n",
       "      <td>51522</td>\n",
       "      <td>3950</td>\n",
       "      <td>2009</td>\n",
       "      <td>hyundai sonata</td>\n",
       "      <td>3</td>\n",
       "      <td>4</td>\n",
       "      <td>gas</td>\n",
       "      <td>128000</td>\n",
       "      <td>automatic</td>\n",
       "      <td>sedan</td>\n",
       "      <td>blue</td>\n",
       "      <td>False</td>\n",
       "      <td>2018-11-15</td>\n",
       "      <td>32</td>\n",
       "      <td>3</td>\n",
       "      <td>11</td>\n",
       "      <td>2018</td>\n",
       "      <td>15</td>\n",
       "      <td>9</td>\n",
       "      <td>32000.000000</td>\n",
       "    </tr>\n",
       "    <tr>\n",
       "      <td>51523</td>\n",
       "      <td>7455</td>\n",
       "      <td>2013</td>\n",
       "      <td>toyota corolla</td>\n",
       "      <td>2</td>\n",
       "      <td>4</td>\n",
       "      <td>gas</td>\n",
       "      <td>139573</td>\n",
       "      <td>automatic</td>\n",
       "      <td>sedan</td>\n",
       "      <td>black</td>\n",
       "      <td>False</td>\n",
       "      <td>2018-07-02</td>\n",
       "      <td>71</td>\n",
       "      <td>0</td>\n",
       "      <td>7</td>\n",
       "      <td>2018</td>\n",
       "      <td>2</td>\n",
       "      <td>5</td>\n",
       "      <td>34893.250000</td>\n",
       "    </tr>\n",
       "    <tr>\n",
       "      <td>51524</td>\n",
       "      <td>6300</td>\n",
       "      <td>2014</td>\n",
       "      <td>nissan altima</td>\n",
       "      <td>2</td>\n",
       "      <td>4</td>\n",
       "      <td>gas</td>\n",
       "      <td>90990</td>\n",
       "      <td>automatic</td>\n",
       "      <td>sedan</td>\n",
       "      <td>grey</td>\n",
       "      <td>False</td>\n",
       "      <td>2018-06-05</td>\n",
       "      <td>10</td>\n",
       "      <td>1</td>\n",
       "      <td>6</td>\n",
       "      <td>2018</td>\n",
       "      <td>5</td>\n",
       "      <td>4</td>\n",
       "      <td>22747.500000</td>\n",
       "    </tr>\n",
       "  </tbody>\n",
       "</table>\n",
       "<p>50638 rows × 19 columns</p>\n",
       "</div>"
      ],
      "text/plain": [
       "       price  model_year           model  condition  cylinders fuel  odometer  \\\n",
       "0       9400        2011          bmw x5          2          6  gas    145000   \n",
       "1      25500        2013      ford f-150          2          6  gas     88705   \n",
       "2       5500        2013  hyundai sonata          4          4  gas    110000   \n",
       "3       1500        2003      ford f-150          1          8  gas    160954   \n",
       "4      14900        2017    chrysler 200          3          4  gas     80903   \n",
       "...      ...         ...             ...        ...        ...  ...       ...   \n",
       "51520   9249        2013   nissan maxima          4          6  gas     88136   \n",
       "51521   2700        2002     honda civic          0          4  gas    181500   \n",
       "51522   3950        2009  hyundai sonata          3          4  gas    128000   \n",
       "51523   7455        2013  toyota corolla          2          4  gas    139573   \n",
       "51524   6300        2014   nissan altima          2          4  gas     90990   \n",
       "\n",
       "      transmission    type paint_color  is_4wd date_posted  days_listed  \\\n",
       "0        automatic     SUV       black    True  2018-06-23           19   \n",
       "1        automatic  pickup       white    True  2018-10-19           50   \n",
       "2        automatic   sedan         red   False  2019-02-07           79   \n",
       "3        automatic  pickup       white   False  2019-03-22            9   \n",
       "4        automatic   sedan       black   False  2019-04-02           28   \n",
       "...            ...     ...         ...     ...         ...          ...   \n",
       "51520    automatic   sedan       black   False  2018-10-03           37   \n",
       "51521    automatic   sedan       white   False  2018-11-14           22   \n",
       "51522    automatic   sedan        blue   False  2018-11-15           32   \n",
       "51523    automatic   sedan       black   False  2018-07-02           71   \n",
       "51524    automatic   sedan        grey   False  2018-06-05           10   \n",
       "\n",
       "       weekday  month  year  day  vehicle_age   avg_mileage  \n",
       "0            5      6  2018   23            7  24166.666667  \n",
       "1            4     10  2018   19            5  14784.166667  \n",
       "2            3      2  2019    7            6  27500.000000  \n",
       "3            4      3  2019   22           16  20119.250000  \n",
       "4            1      4  2019    2            2  20225.750000  \n",
       "...        ...    ...   ...  ...          ...           ...  \n",
       "51520        2     10  2018    3            5  14689.333333  \n",
       "51521        2     11  2018   14           16  45375.000000  \n",
       "51522        3     11  2018   15            9  32000.000000  \n",
       "51523        0      7  2018    2            5  34893.250000  \n",
       "51524        1      6  2018    5            4  22747.500000  \n",
       "\n",
       "[50638 rows x 19 columns]"
      ]
     },
     "execution_count": 50,
     "metadata": {},
     "output_type": "execute_result"
    }
   ],
   "source": [
    "df2_no_outlier = df[(df.vehicle_age<upper_limit2)]\n",
    "df2_no_outlier"
   ]
  },
  {
   "cell_type": "markdown",
   "metadata": {},
   "source": [
    "<font color='green'><h3>Determine the upper limits of avg_mileage outliers, removed the outliers and store them in a separate DataFrame df3  </h3></font>"
   ]
  },
  {
   "cell_type": "code",
   "execution_count": 51,
   "metadata": {},
   "outputs": [
    {
     "data": {
      "text/plain": [
       "(12040.25, 26493.833333333332)"
      ]
     },
     "execution_count": 51,
     "metadata": {},
     "output_type": "execute_result"
    }
   ],
   "source": [
    "q1 = df.avg_mileage.quantile(0.25)\n",
    "q3 = df.avg_mileage.quantile(0.75)\n",
    "q1, q3"
   ]
  },
  {
   "cell_type": "code",
   "execution_count": 52,
   "metadata": {
    "scrolled": true
   },
   "outputs": [
    {
     "data": {
      "text/html": [
       "<div>\n",
       "<style scoped>\n",
       "    .dataframe tbody tr th:only-of-type {\n",
       "        vertical-align: middle;\n",
       "    }\n",
       "\n",
       "    .dataframe tbody tr th {\n",
       "        vertical-align: top;\n",
       "    }\n",
       "\n",
       "    .dataframe thead th {\n",
       "        text-align: right;\n",
       "    }\n",
       "</style>\n",
       "<table border=\"1\" class=\"dataframe\">\n",
       "  <thead>\n",
       "    <tr style=\"text-align: right;\">\n",
       "      <th></th>\n",
       "      <th>price</th>\n",
       "      <th>model_year</th>\n",
       "      <th>model</th>\n",
       "      <th>condition</th>\n",
       "      <th>cylinders</th>\n",
       "      <th>fuel</th>\n",
       "      <th>odometer</th>\n",
       "      <th>transmission</th>\n",
       "      <th>type</th>\n",
       "      <th>paint_color</th>\n",
       "      <th>is_4wd</th>\n",
       "      <th>date_posted</th>\n",
       "      <th>days_listed</th>\n",
       "      <th>weekday</th>\n",
       "      <th>month</th>\n",
       "      <th>year</th>\n",
       "      <th>day</th>\n",
       "      <th>vehicle_age</th>\n",
       "      <th>avg_mileage</th>\n",
       "    </tr>\n",
       "  </thead>\n",
       "  <tbody>\n",
       "    <tr>\n",
       "      <td>0</td>\n",
       "      <td>9400</td>\n",
       "      <td>2011</td>\n",
       "      <td>bmw x5</td>\n",
       "      <td>2</td>\n",
       "      <td>6</td>\n",
       "      <td>gas</td>\n",
       "      <td>145000</td>\n",
       "      <td>automatic</td>\n",
       "      <td>SUV</td>\n",
       "      <td>black</td>\n",
       "      <td>True</td>\n",
       "      <td>2018-06-23</td>\n",
       "      <td>19</td>\n",
       "      <td>5</td>\n",
       "      <td>6</td>\n",
       "      <td>2018</td>\n",
       "      <td>23</td>\n",
       "      <td>7</td>\n",
       "      <td>24166.666667</td>\n",
       "    </tr>\n",
       "    <tr>\n",
       "      <td>1</td>\n",
       "      <td>25500</td>\n",
       "      <td>2013</td>\n",
       "      <td>ford f-150</td>\n",
       "      <td>2</td>\n",
       "      <td>6</td>\n",
       "      <td>gas</td>\n",
       "      <td>88705</td>\n",
       "      <td>automatic</td>\n",
       "      <td>pickup</td>\n",
       "      <td>white</td>\n",
       "      <td>True</td>\n",
       "      <td>2018-10-19</td>\n",
       "      <td>50</td>\n",
       "      <td>4</td>\n",
       "      <td>10</td>\n",
       "      <td>2018</td>\n",
       "      <td>19</td>\n",
       "      <td>5</td>\n",
       "      <td>14784.166667</td>\n",
       "    </tr>\n",
       "    <tr>\n",
       "      <td>2</td>\n",
       "      <td>5500</td>\n",
       "      <td>2013</td>\n",
       "      <td>hyundai sonata</td>\n",
       "      <td>4</td>\n",
       "      <td>4</td>\n",
       "      <td>gas</td>\n",
       "      <td>110000</td>\n",
       "      <td>automatic</td>\n",
       "      <td>sedan</td>\n",
       "      <td>red</td>\n",
       "      <td>False</td>\n",
       "      <td>2019-02-07</td>\n",
       "      <td>79</td>\n",
       "      <td>3</td>\n",
       "      <td>2</td>\n",
       "      <td>2019</td>\n",
       "      <td>7</td>\n",
       "      <td>6</td>\n",
       "      <td>27500.000000</td>\n",
       "    </tr>\n",
       "    <tr>\n",
       "      <td>3</td>\n",
       "      <td>1500</td>\n",
       "      <td>2003</td>\n",
       "      <td>ford f-150</td>\n",
       "      <td>1</td>\n",
       "      <td>8</td>\n",
       "      <td>gas</td>\n",
       "      <td>160954</td>\n",
       "      <td>automatic</td>\n",
       "      <td>pickup</td>\n",
       "      <td>white</td>\n",
       "      <td>False</td>\n",
       "      <td>2019-03-22</td>\n",
       "      <td>9</td>\n",
       "      <td>4</td>\n",
       "      <td>3</td>\n",
       "      <td>2019</td>\n",
       "      <td>22</td>\n",
       "      <td>16</td>\n",
       "      <td>20119.250000</td>\n",
       "    </tr>\n",
       "    <tr>\n",
       "      <td>4</td>\n",
       "      <td>14900</td>\n",
       "      <td>2017</td>\n",
       "      <td>chrysler 200</td>\n",
       "      <td>3</td>\n",
       "      <td>4</td>\n",
       "      <td>gas</td>\n",
       "      <td>80903</td>\n",
       "      <td>automatic</td>\n",
       "      <td>sedan</td>\n",
       "      <td>black</td>\n",
       "      <td>False</td>\n",
       "      <td>2019-04-02</td>\n",
       "      <td>28</td>\n",
       "      <td>1</td>\n",
       "      <td>4</td>\n",
       "      <td>2019</td>\n",
       "      <td>2</td>\n",
       "      <td>2</td>\n",
       "      <td>20225.750000</td>\n",
       "    </tr>\n",
       "    <tr>\n",
       "      <td>...</td>\n",
       "      <td>...</td>\n",
       "      <td>...</td>\n",
       "      <td>...</td>\n",
       "      <td>...</td>\n",
       "      <td>...</td>\n",
       "      <td>...</td>\n",
       "      <td>...</td>\n",
       "      <td>...</td>\n",
       "      <td>...</td>\n",
       "      <td>...</td>\n",
       "      <td>...</td>\n",
       "      <td>...</td>\n",
       "      <td>...</td>\n",
       "      <td>...</td>\n",
       "      <td>...</td>\n",
       "      <td>...</td>\n",
       "      <td>...</td>\n",
       "      <td>...</td>\n",
       "      <td>...</td>\n",
       "    </tr>\n",
       "    <tr>\n",
       "      <td>51520</td>\n",
       "      <td>9249</td>\n",
       "      <td>2013</td>\n",
       "      <td>nissan maxima</td>\n",
       "      <td>4</td>\n",
       "      <td>6</td>\n",
       "      <td>gas</td>\n",
       "      <td>88136</td>\n",
       "      <td>automatic</td>\n",
       "      <td>sedan</td>\n",
       "      <td>black</td>\n",
       "      <td>False</td>\n",
       "      <td>2018-10-03</td>\n",
       "      <td>37</td>\n",
       "      <td>2</td>\n",
       "      <td>10</td>\n",
       "      <td>2018</td>\n",
       "      <td>3</td>\n",
       "      <td>5</td>\n",
       "      <td>14689.333333</td>\n",
       "    </tr>\n",
       "    <tr>\n",
       "      <td>51521</td>\n",
       "      <td>2700</td>\n",
       "      <td>2002</td>\n",
       "      <td>honda civic</td>\n",
       "      <td>0</td>\n",
       "      <td>4</td>\n",
       "      <td>gas</td>\n",
       "      <td>181500</td>\n",
       "      <td>automatic</td>\n",
       "      <td>sedan</td>\n",
       "      <td>white</td>\n",
       "      <td>False</td>\n",
       "      <td>2018-11-14</td>\n",
       "      <td>22</td>\n",
       "      <td>2</td>\n",
       "      <td>11</td>\n",
       "      <td>2018</td>\n",
       "      <td>14</td>\n",
       "      <td>16</td>\n",
       "      <td>45375.000000</td>\n",
       "    </tr>\n",
       "    <tr>\n",
       "      <td>51522</td>\n",
       "      <td>3950</td>\n",
       "      <td>2009</td>\n",
       "      <td>hyundai sonata</td>\n",
       "      <td>3</td>\n",
       "      <td>4</td>\n",
       "      <td>gas</td>\n",
       "      <td>128000</td>\n",
       "      <td>automatic</td>\n",
       "      <td>sedan</td>\n",
       "      <td>blue</td>\n",
       "      <td>False</td>\n",
       "      <td>2018-11-15</td>\n",
       "      <td>32</td>\n",
       "      <td>3</td>\n",
       "      <td>11</td>\n",
       "      <td>2018</td>\n",
       "      <td>15</td>\n",
       "      <td>9</td>\n",
       "      <td>32000.000000</td>\n",
       "    </tr>\n",
       "    <tr>\n",
       "      <td>51523</td>\n",
       "      <td>7455</td>\n",
       "      <td>2013</td>\n",
       "      <td>toyota corolla</td>\n",
       "      <td>2</td>\n",
       "      <td>4</td>\n",
       "      <td>gas</td>\n",
       "      <td>139573</td>\n",
       "      <td>automatic</td>\n",
       "      <td>sedan</td>\n",
       "      <td>black</td>\n",
       "      <td>False</td>\n",
       "      <td>2018-07-02</td>\n",
       "      <td>71</td>\n",
       "      <td>0</td>\n",
       "      <td>7</td>\n",
       "      <td>2018</td>\n",
       "      <td>2</td>\n",
       "      <td>5</td>\n",
       "      <td>34893.250000</td>\n",
       "    </tr>\n",
       "    <tr>\n",
       "      <td>51524</td>\n",
       "      <td>6300</td>\n",
       "      <td>2014</td>\n",
       "      <td>nissan altima</td>\n",
       "      <td>2</td>\n",
       "      <td>4</td>\n",
       "      <td>gas</td>\n",
       "      <td>90990</td>\n",
       "      <td>automatic</td>\n",
       "      <td>sedan</td>\n",
       "      <td>grey</td>\n",
       "      <td>False</td>\n",
       "      <td>2018-06-05</td>\n",
       "      <td>10</td>\n",
       "      <td>1</td>\n",
       "      <td>6</td>\n",
       "      <td>2018</td>\n",
       "      <td>5</td>\n",
       "      <td>4</td>\n",
       "      <td>22747.500000</td>\n",
       "    </tr>\n",
       "  </tbody>\n",
       "</table>\n",
       "<p>50495 rows × 19 columns</p>\n",
       "</div>"
      ],
      "text/plain": [
       "       price  model_year           model  condition  cylinders fuel  odometer  \\\n",
       "0       9400        2011          bmw x5          2          6  gas    145000   \n",
       "1      25500        2013      ford f-150          2          6  gas     88705   \n",
       "2       5500        2013  hyundai sonata          4          4  gas    110000   \n",
       "3       1500        2003      ford f-150          1          8  gas    160954   \n",
       "4      14900        2017    chrysler 200          3          4  gas     80903   \n",
       "...      ...         ...             ...        ...        ...  ...       ...   \n",
       "51520   9249        2013   nissan maxima          4          6  gas     88136   \n",
       "51521   2700        2002     honda civic          0          4  gas    181500   \n",
       "51522   3950        2009  hyundai sonata          3          4  gas    128000   \n",
       "51523   7455        2013  toyota corolla          2          4  gas    139573   \n",
       "51524   6300        2014   nissan altima          2          4  gas     90990   \n",
       "\n",
       "      transmission    type paint_color  is_4wd date_posted  days_listed  \\\n",
       "0        automatic     SUV       black    True  2018-06-23           19   \n",
       "1        automatic  pickup       white    True  2018-10-19           50   \n",
       "2        automatic   sedan         red   False  2019-02-07           79   \n",
       "3        automatic  pickup       white   False  2019-03-22            9   \n",
       "4        automatic   sedan       black   False  2019-04-02           28   \n",
       "...            ...     ...         ...     ...         ...          ...   \n",
       "51520    automatic   sedan       black   False  2018-10-03           37   \n",
       "51521    automatic   sedan       white   False  2018-11-14           22   \n",
       "51522    automatic   sedan        blue   False  2018-11-15           32   \n",
       "51523    automatic   sedan       black   False  2018-07-02           71   \n",
       "51524    automatic   sedan        grey   False  2018-06-05           10   \n",
       "\n",
       "       weekday  month  year  day  vehicle_age   avg_mileage  \n",
       "0            5      6  2018   23            7  24166.666667  \n",
       "1            4     10  2018   19            5  14784.166667  \n",
       "2            3      2  2019    7            6  27500.000000  \n",
       "3            4      3  2019   22           16  20119.250000  \n",
       "4            1      4  2019    2            2  20225.750000  \n",
       "...        ...    ...   ...  ...          ...           ...  \n",
       "51520        2     10  2018    3            5  14689.333333  \n",
       "51521        2     11  2018   14           16  45375.000000  \n",
       "51522        3     11  2018   15            9  32000.000000  \n",
       "51523        0      7  2018    2            5  34893.250000  \n",
       "51524        1      6  2018    5            4  22747.500000  \n",
       "\n",
       "[50495 rows x 19 columns]"
      ]
     },
     "execution_count": 52,
     "metadata": {},
     "output_type": "execute_result"
    }
   ],
   "source": [
    "iqr = q3 - q1\n",
    "iqr\n",
    "upper_limit3= q3 + 1.5*iqr\n",
    "upper_limit3\n",
    "df3_no_outlier = df[(df.avg_mileage<upper_limit3)]\n",
    "df3_no_outlier"
   ]
  },
  {
   "cell_type": "markdown",
   "metadata": {},
   "source": [
    "<font color='green'><h3>Determine the upper limits of cylinders outliers, removed the outliers and store them in a separate DataFrame df4_no_outlier  </h3></font>"
   ]
  },
  {
   "cell_type": "code",
   "execution_count": 53,
   "metadata": {},
   "outputs": [
    {
     "data": {
      "text/plain": [
       "(4.0, 8.0)"
      ]
     },
     "execution_count": 53,
     "metadata": {},
     "output_type": "execute_result"
    }
   ],
   "source": [
    "q1 = df.cylinders.quantile(0.25)\n",
    "q3 = df.cylinders.quantile(0.75)\n",
    "q1, q3"
   ]
  },
  {
   "cell_type": "code",
   "execution_count": 54,
   "metadata": {},
   "outputs": [
    {
     "data": {
      "text/html": [
       "<div>\n",
       "<style scoped>\n",
       "    .dataframe tbody tr th:only-of-type {\n",
       "        vertical-align: middle;\n",
       "    }\n",
       "\n",
       "    .dataframe tbody tr th {\n",
       "        vertical-align: top;\n",
       "    }\n",
       "\n",
       "    .dataframe thead th {\n",
       "        text-align: right;\n",
       "    }\n",
       "</style>\n",
       "<table border=\"1\" class=\"dataframe\">\n",
       "  <thead>\n",
       "    <tr style=\"text-align: right;\">\n",
       "      <th></th>\n",
       "      <th>price</th>\n",
       "      <th>model_year</th>\n",
       "      <th>model</th>\n",
       "      <th>condition</th>\n",
       "      <th>cylinders</th>\n",
       "      <th>fuel</th>\n",
       "      <th>odometer</th>\n",
       "      <th>transmission</th>\n",
       "      <th>type</th>\n",
       "      <th>paint_color</th>\n",
       "      <th>is_4wd</th>\n",
       "      <th>date_posted</th>\n",
       "      <th>days_listed</th>\n",
       "      <th>weekday</th>\n",
       "      <th>month</th>\n",
       "      <th>year</th>\n",
       "      <th>day</th>\n",
       "      <th>vehicle_age</th>\n",
       "      <th>avg_mileage</th>\n",
       "    </tr>\n",
       "  </thead>\n",
       "  <tbody>\n",
       "    <tr>\n",
       "      <td>0</td>\n",
       "      <td>9400</td>\n",
       "      <td>2011</td>\n",
       "      <td>bmw x5</td>\n",
       "      <td>2</td>\n",
       "      <td>6</td>\n",
       "      <td>gas</td>\n",
       "      <td>145000</td>\n",
       "      <td>automatic</td>\n",
       "      <td>SUV</td>\n",
       "      <td>black</td>\n",
       "      <td>True</td>\n",
       "      <td>2018-06-23</td>\n",
       "      <td>19</td>\n",
       "      <td>5</td>\n",
       "      <td>6</td>\n",
       "      <td>2018</td>\n",
       "      <td>23</td>\n",
       "      <td>7</td>\n",
       "      <td>24166.666667</td>\n",
       "    </tr>\n",
       "    <tr>\n",
       "      <td>1</td>\n",
       "      <td>25500</td>\n",
       "      <td>2013</td>\n",
       "      <td>ford f-150</td>\n",
       "      <td>2</td>\n",
       "      <td>6</td>\n",
       "      <td>gas</td>\n",
       "      <td>88705</td>\n",
       "      <td>automatic</td>\n",
       "      <td>pickup</td>\n",
       "      <td>white</td>\n",
       "      <td>True</td>\n",
       "      <td>2018-10-19</td>\n",
       "      <td>50</td>\n",
       "      <td>4</td>\n",
       "      <td>10</td>\n",
       "      <td>2018</td>\n",
       "      <td>19</td>\n",
       "      <td>5</td>\n",
       "      <td>14784.166667</td>\n",
       "    </tr>\n",
       "    <tr>\n",
       "      <td>2</td>\n",
       "      <td>5500</td>\n",
       "      <td>2013</td>\n",
       "      <td>hyundai sonata</td>\n",
       "      <td>4</td>\n",
       "      <td>4</td>\n",
       "      <td>gas</td>\n",
       "      <td>110000</td>\n",
       "      <td>automatic</td>\n",
       "      <td>sedan</td>\n",
       "      <td>red</td>\n",
       "      <td>False</td>\n",
       "      <td>2019-02-07</td>\n",
       "      <td>79</td>\n",
       "      <td>3</td>\n",
       "      <td>2</td>\n",
       "      <td>2019</td>\n",
       "      <td>7</td>\n",
       "      <td>6</td>\n",
       "      <td>27500.000000</td>\n",
       "    </tr>\n",
       "    <tr>\n",
       "      <td>3</td>\n",
       "      <td>1500</td>\n",
       "      <td>2003</td>\n",
       "      <td>ford f-150</td>\n",
       "      <td>1</td>\n",
       "      <td>8</td>\n",
       "      <td>gas</td>\n",
       "      <td>160954</td>\n",
       "      <td>automatic</td>\n",
       "      <td>pickup</td>\n",
       "      <td>white</td>\n",
       "      <td>False</td>\n",
       "      <td>2019-03-22</td>\n",
       "      <td>9</td>\n",
       "      <td>4</td>\n",
       "      <td>3</td>\n",
       "      <td>2019</td>\n",
       "      <td>22</td>\n",
       "      <td>16</td>\n",
       "      <td>20119.250000</td>\n",
       "    </tr>\n",
       "    <tr>\n",
       "      <td>4</td>\n",
       "      <td>14900</td>\n",
       "      <td>2017</td>\n",
       "      <td>chrysler 200</td>\n",
       "      <td>3</td>\n",
       "      <td>4</td>\n",
       "      <td>gas</td>\n",
       "      <td>80903</td>\n",
       "      <td>automatic</td>\n",
       "      <td>sedan</td>\n",
       "      <td>black</td>\n",
       "      <td>False</td>\n",
       "      <td>2019-04-02</td>\n",
       "      <td>28</td>\n",
       "      <td>1</td>\n",
       "      <td>4</td>\n",
       "      <td>2019</td>\n",
       "      <td>2</td>\n",
       "      <td>2</td>\n",
       "      <td>20225.750000</td>\n",
       "    </tr>\n",
       "    <tr>\n",
       "      <td>...</td>\n",
       "      <td>...</td>\n",
       "      <td>...</td>\n",
       "      <td>...</td>\n",
       "      <td>...</td>\n",
       "      <td>...</td>\n",
       "      <td>...</td>\n",
       "      <td>...</td>\n",
       "      <td>...</td>\n",
       "      <td>...</td>\n",
       "      <td>...</td>\n",
       "      <td>...</td>\n",
       "      <td>...</td>\n",
       "      <td>...</td>\n",
       "      <td>...</td>\n",
       "      <td>...</td>\n",
       "      <td>...</td>\n",
       "      <td>...</td>\n",
       "      <td>...</td>\n",
       "      <td>...</td>\n",
       "    </tr>\n",
       "    <tr>\n",
       "      <td>51520</td>\n",
       "      <td>9249</td>\n",
       "      <td>2013</td>\n",
       "      <td>nissan maxima</td>\n",
       "      <td>4</td>\n",
       "      <td>6</td>\n",
       "      <td>gas</td>\n",
       "      <td>88136</td>\n",
       "      <td>automatic</td>\n",
       "      <td>sedan</td>\n",
       "      <td>black</td>\n",
       "      <td>False</td>\n",
       "      <td>2018-10-03</td>\n",
       "      <td>37</td>\n",
       "      <td>2</td>\n",
       "      <td>10</td>\n",
       "      <td>2018</td>\n",
       "      <td>3</td>\n",
       "      <td>5</td>\n",
       "      <td>14689.333333</td>\n",
       "    </tr>\n",
       "    <tr>\n",
       "      <td>51521</td>\n",
       "      <td>2700</td>\n",
       "      <td>2002</td>\n",
       "      <td>honda civic</td>\n",
       "      <td>0</td>\n",
       "      <td>4</td>\n",
       "      <td>gas</td>\n",
       "      <td>181500</td>\n",
       "      <td>automatic</td>\n",
       "      <td>sedan</td>\n",
       "      <td>white</td>\n",
       "      <td>False</td>\n",
       "      <td>2018-11-14</td>\n",
       "      <td>22</td>\n",
       "      <td>2</td>\n",
       "      <td>11</td>\n",
       "      <td>2018</td>\n",
       "      <td>14</td>\n",
       "      <td>16</td>\n",
       "      <td>45375.000000</td>\n",
       "    </tr>\n",
       "    <tr>\n",
       "      <td>51522</td>\n",
       "      <td>3950</td>\n",
       "      <td>2009</td>\n",
       "      <td>hyundai sonata</td>\n",
       "      <td>3</td>\n",
       "      <td>4</td>\n",
       "      <td>gas</td>\n",
       "      <td>128000</td>\n",
       "      <td>automatic</td>\n",
       "      <td>sedan</td>\n",
       "      <td>blue</td>\n",
       "      <td>False</td>\n",
       "      <td>2018-11-15</td>\n",
       "      <td>32</td>\n",
       "      <td>3</td>\n",
       "      <td>11</td>\n",
       "      <td>2018</td>\n",
       "      <td>15</td>\n",
       "      <td>9</td>\n",
       "      <td>32000.000000</td>\n",
       "    </tr>\n",
       "    <tr>\n",
       "      <td>51523</td>\n",
       "      <td>7455</td>\n",
       "      <td>2013</td>\n",
       "      <td>toyota corolla</td>\n",
       "      <td>2</td>\n",
       "      <td>4</td>\n",
       "      <td>gas</td>\n",
       "      <td>139573</td>\n",
       "      <td>automatic</td>\n",
       "      <td>sedan</td>\n",
       "      <td>black</td>\n",
       "      <td>False</td>\n",
       "      <td>2018-07-02</td>\n",
       "      <td>71</td>\n",
       "      <td>0</td>\n",
       "      <td>7</td>\n",
       "      <td>2018</td>\n",
       "      <td>2</td>\n",
       "      <td>5</td>\n",
       "      <td>34893.250000</td>\n",
       "    </tr>\n",
       "    <tr>\n",
       "      <td>51524</td>\n",
       "      <td>6300</td>\n",
       "      <td>2014</td>\n",
       "      <td>nissan altima</td>\n",
       "      <td>2</td>\n",
       "      <td>4</td>\n",
       "      <td>gas</td>\n",
       "      <td>90990</td>\n",
       "      <td>automatic</td>\n",
       "      <td>sedan</td>\n",
       "      <td>grey</td>\n",
       "      <td>False</td>\n",
       "      <td>2018-06-05</td>\n",
       "      <td>10</td>\n",
       "      <td>1</td>\n",
       "      <td>6</td>\n",
       "      <td>2018</td>\n",
       "      <td>5</td>\n",
       "      <td>4</td>\n",
       "      <td>22747.500000</td>\n",
       "    </tr>\n",
       "  </tbody>\n",
       "</table>\n",
       "<p>51525 rows × 19 columns</p>\n",
       "</div>"
      ],
      "text/plain": [
       "       price  model_year           model  condition  cylinders fuel  odometer  \\\n",
       "0       9400        2011          bmw x5          2          6  gas    145000   \n",
       "1      25500        2013      ford f-150          2          6  gas     88705   \n",
       "2       5500        2013  hyundai sonata          4          4  gas    110000   \n",
       "3       1500        2003      ford f-150          1          8  gas    160954   \n",
       "4      14900        2017    chrysler 200          3          4  gas     80903   \n",
       "...      ...         ...             ...        ...        ...  ...       ...   \n",
       "51520   9249        2013   nissan maxima          4          6  gas     88136   \n",
       "51521   2700        2002     honda civic          0          4  gas    181500   \n",
       "51522   3950        2009  hyundai sonata          3          4  gas    128000   \n",
       "51523   7455        2013  toyota corolla          2          4  gas    139573   \n",
       "51524   6300        2014   nissan altima          2          4  gas     90990   \n",
       "\n",
       "      transmission    type paint_color  is_4wd date_posted  days_listed  \\\n",
       "0        automatic     SUV       black    True  2018-06-23           19   \n",
       "1        automatic  pickup       white    True  2018-10-19           50   \n",
       "2        automatic   sedan         red   False  2019-02-07           79   \n",
       "3        automatic  pickup       white   False  2019-03-22            9   \n",
       "4        automatic   sedan       black   False  2019-04-02           28   \n",
       "...            ...     ...         ...     ...         ...          ...   \n",
       "51520    automatic   sedan       black   False  2018-10-03           37   \n",
       "51521    automatic   sedan       white   False  2018-11-14           22   \n",
       "51522    automatic   sedan        blue   False  2018-11-15           32   \n",
       "51523    automatic   sedan       black   False  2018-07-02           71   \n",
       "51524    automatic   sedan        grey   False  2018-06-05           10   \n",
       "\n",
       "       weekday  month  year  day  vehicle_age   avg_mileage  \n",
       "0            5      6  2018   23            7  24166.666667  \n",
       "1            4     10  2018   19            5  14784.166667  \n",
       "2            3      2  2019    7            6  27500.000000  \n",
       "3            4      3  2019   22           16  20119.250000  \n",
       "4            1      4  2019    2            2  20225.750000  \n",
       "...        ...    ...   ...  ...          ...           ...  \n",
       "51520        2     10  2018    3            5  14689.333333  \n",
       "51521        2     11  2018   14           16  45375.000000  \n",
       "51522        3     11  2018   15            9  32000.000000  \n",
       "51523        0      7  2018    2            5  34893.250000  \n",
       "51524        1      6  2018    5            4  22747.500000  \n",
       "\n",
       "[51525 rows x 19 columns]"
      ]
     },
     "execution_count": 54,
     "metadata": {},
     "output_type": "execute_result"
    }
   ],
   "source": [
    "iqr = q3 - q1\n",
    "iqr\n",
    "upper_limit4= q3 + 1.5*iqr\n",
    "upper_limit4\n",
    "df4_no_outlier = df[(df.cylinders<upper_limit4)]\n",
    "df4_no_outlier"
   ]
  },
  {
   "cell_type": "markdown",
   "metadata": {},
   "source": [
    "<font color='green'><h3>Determine the upper limits of conditions outliers, removed the outliers and store them in a separate DataFrame df5_no_outlier  </h3></font>"
   ]
  },
  {
   "cell_type": "code",
   "execution_count": 55,
   "metadata": {},
   "outputs": [
    {
     "data": {
      "text/plain": [
       "(2.0, 3.0)"
      ]
     },
     "execution_count": 55,
     "metadata": {},
     "output_type": "execute_result"
    }
   ],
   "source": [
    "q1 = df.condition.quantile(0.25)\n",
    "q3 = df.condition.quantile(0.75)\n",
    "q1, q3"
   ]
  },
  {
   "cell_type": "code",
   "execution_count": 56,
   "metadata": {},
   "outputs": [
    {
     "data": {
      "text/html": [
       "<div>\n",
       "<style scoped>\n",
       "    .dataframe tbody tr th:only-of-type {\n",
       "        vertical-align: middle;\n",
       "    }\n",
       "\n",
       "    .dataframe tbody tr th {\n",
       "        vertical-align: top;\n",
       "    }\n",
       "\n",
       "    .dataframe thead th {\n",
       "        text-align: right;\n",
       "    }\n",
       "</style>\n",
       "<table border=\"1\" class=\"dataframe\">\n",
       "  <thead>\n",
       "    <tr style=\"text-align: right;\">\n",
       "      <th></th>\n",
       "      <th>price</th>\n",
       "      <th>model_year</th>\n",
       "      <th>model</th>\n",
       "      <th>condition</th>\n",
       "      <th>cylinders</th>\n",
       "      <th>fuel</th>\n",
       "      <th>odometer</th>\n",
       "      <th>transmission</th>\n",
       "      <th>type</th>\n",
       "      <th>paint_color</th>\n",
       "      <th>is_4wd</th>\n",
       "      <th>date_posted</th>\n",
       "      <th>days_listed</th>\n",
       "      <th>weekday</th>\n",
       "      <th>month</th>\n",
       "      <th>year</th>\n",
       "      <th>day</th>\n",
       "      <th>vehicle_age</th>\n",
       "      <th>avg_mileage</th>\n",
       "    </tr>\n",
       "  </thead>\n",
       "  <tbody>\n",
       "    <tr>\n",
       "      <td>0</td>\n",
       "      <td>9400</td>\n",
       "      <td>2011</td>\n",
       "      <td>bmw x5</td>\n",
       "      <td>2</td>\n",
       "      <td>6</td>\n",
       "      <td>gas</td>\n",
       "      <td>145000</td>\n",
       "      <td>automatic</td>\n",
       "      <td>SUV</td>\n",
       "      <td>black</td>\n",
       "      <td>True</td>\n",
       "      <td>2018-06-23</td>\n",
       "      <td>19</td>\n",
       "      <td>5</td>\n",
       "      <td>6</td>\n",
       "      <td>2018</td>\n",
       "      <td>23</td>\n",
       "      <td>7</td>\n",
       "      <td>24166.666667</td>\n",
       "    </tr>\n",
       "    <tr>\n",
       "      <td>1</td>\n",
       "      <td>25500</td>\n",
       "      <td>2013</td>\n",
       "      <td>ford f-150</td>\n",
       "      <td>2</td>\n",
       "      <td>6</td>\n",
       "      <td>gas</td>\n",
       "      <td>88705</td>\n",
       "      <td>automatic</td>\n",
       "      <td>pickup</td>\n",
       "      <td>white</td>\n",
       "      <td>True</td>\n",
       "      <td>2018-10-19</td>\n",
       "      <td>50</td>\n",
       "      <td>4</td>\n",
       "      <td>10</td>\n",
       "      <td>2018</td>\n",
       "      <td>19</td>\n",
       "      <td>5</td>\n",
       "      <td>14784.166667</td>\n",
       "    </tr>\n",
       "    <tr>\n",
       "      <td>2</td>\n",
       "      <td>5500</td>\n",
       "      <td>2013</td>\n",
       "      <td>hyundai sonata</td>\n",
       "      <td>4</td>\n",
       "      <td>4</td>\n",
       "      <td>gas</td>\n",
       "      <td>110000</td>\n",
       "      <td>automatic</td>\n",
       "      <td>sedan</td>\n",
       "      <td>red</td>\n",
       "      <td>False</td>\n",
       "      <td>2019-02-07</td>\n",
       "      <td>79</td>\n",
       "      <td>3</td>\n",
       "      <td>2</td>\n",
       "      <td>2019</td>\n",
       "      <td>7</td>\n",
       "      <td>6</td>\n",
       "      <td>27500.000000</td>\n",
       "    </tr>\n",
       "    <tr>\n",
       "      <td>3</td>\n",
       "      <td>1500</td>\n",
       "      <td>2003</td>\n",
       "      <td>ford f-150</td>\n",
       "      <td>1</td>\n",
       "      <td>8</td>\n",
       "      <td>gas</td>\n",
       "      <td>160954</td>\n",
       "      <td>automatic</td>\n",
       "      <td>pickup</td>\n",
       "      <td>white</td>\n",
       "      <td>False</td>\n",
       "      <td>2019-03-22</td>\n",
       "      <td>9</td>\n",
       "      <td>4</td>\n",
       "      <td>3</td>\n",
       "      <td>2019</td>\n",
       "      <td>22</td>\n",
       "      <td>16</td>\n",
       "      <td>20119.250000</td>\n",
       "    </tr>\n",
       "    <tr>\n",
       "      <td>4</td>\n",
       "      <td>14900</td>\n",
       "      <td>2017</td>\n",
       "      <td>chrysler 200</td>\n",
       "      <td>3</td>\n",
       "      <td>4</td>\n",
       "      <td>gas</td>\n",
       "      <td>80903</td>\n",
       "      <td>automatic</td>\n",
       "      <td>sedan</td>\n",
       "      <td>black</td>\n",
       "      <td>False</td>\n",
       "      <td>2019-04-02</td>\n",
       "      <td>28</td>\n",
       "      <td>1</td>\n",
       "      <td>4</td>\n",
       "      <td>2019</td>\n",
       "      <td>2</td>\n",
       "      <td>2</td>\n",
       "      <td>20225.750000</td>\n",
       "    </tr>\n",
       "    <tr>\n",
       "      <td>...</td>\n",
       "      <td>...</td>\n",
       "      <td>...</td>\n",
       "      <td>...</td>\n",
       "      <td>...</td>\n",
       "      <td>...</td>\n",
       "      <td>...</td>\n",
       "      <td>...</td>\n",
       "      <td>...</td>\n",
       "      <td>...</td>\n",
       "      <td>...</td>\n",
       "      <td>...</td>\n",
       "      <td>...</td>\n",
       "      <td>...</td>\n",
       "      <td>...</td>\n",
       "      <td>...</td>\n",
       "      <td>...</td>\n",
       "      <td>...</td>\n",
       "      <td>...</td>\n",
       "      <td>...</td>\n",
       "    </tr>\n",
       "    <tr>\n",
       "      <td>51520</td>\n",
       "      <td>9249</td>\n",
       "      <td>2013</td>\n",
       "      <td>nissan maxima</td>\n",
       "      <td>4</td>\n",
       "      <td>6</td>\n",
       "      <td>gas</td>\n",
       "      <td>88136</td>\n",
       "      <td>automatic</td>\n",
       "      <td>sedan</td>\n",
       "      <td>black</td>\n",
       "      <td>False</td>\n",
       "      <td>2018-10-03</td>\n",
       "      <td>37</td>\n",
       "      <td>2</td>\n",
       "      <td>10</td>\n",
       "      <td>2018</td>\n",
       "      <td>3</td>\n",
       "      <td>5</td>\n",
       "      <td>14689.333333</td>\n",
       "    </tr>\n",
       "    <tr>\n",
       "      <td>51521</td>\n",
       "      <td>2700</td>\n",
       "      <td>2002</td>\n",
       "      <td>honda civic</td>\n",
       "      <td>0</td>\n",
       "      <td>4</td>\n",
       "      <td>gas</td>\n",
       "      <td>181500</td>\n",
       "      <td>automatic</td>\n",
       "      <td>sedan</td>\n",
       "      <td>white</td>\n",
       "      <td>False</td>\n",
       "      <td>2018-11-14</td>\n",
       "      <td>22</td>\n",
       "      <td>2</td>\n",
       "      <td>11</td>\n",
       "      <td>2018</td>\n",
       "      <td>14</td>\n",
       "      <td>16</td>\n",
       "      <td>45375.000000</td>\n",
       "    </tr>\n",
       "    <tr>\n",
       "      <td>51522</td>\n",
       "      <td>3950</td>\n",
       "      <td>2009</td>\n",
       "      <td>hyundai sonata</td>\n",
       "      <td>3</td>\n",
       "      <td>4</td>\n",
       "      <td>gas</td>\n",
       "      <td>128000</td>\n",
       "      <td>automatic</td>\n",
       "      <td>sedan</td>\n",
       "      <td>blue</td>\n",
       "      <td>False</td>\n",
       "      <td>2018-11-15</td>\n",
       "      <td>32</td>\n",
       "      <td>3</td>\n",
       "      <td>11</td>\n",
       "      <td>2018</td>\n",
       "      <td>15</td>\n",
       "      <td>9</td>\n",
       "      <td>32000.000000</td>\n",
       "    </tr>\n",
       "    <tr>\n",
       "      <td>51523</td>\n",
       "      <td>7455</td>\n",
       "      <td>2013</td>\n",
       "      <td>toyota corolla</td>\n",
       "      <td>2</td>\n",
       "      <td>4</td>\n",
       "      <td>gas</td>\n",
       "      <td>139573</td>\n",
       "      <td>automatic</td>\n",
       "      <td>sedan</td>\n",
       "      <td>black</td>\n",
       "      <td>False</td>\n",
       "      <td>2018-07-02</td>\n",
       "      <td>71</td>\n",
       "      <td>0</td>\n",
       "      <td>7</td>\n",
       "      <td>2018</td>\n",
       "      <td>2</td>\n",
       "      <td>5</td>\n",
       "      <td>34893.250000</td>\n",
       "    </tr>\n",
       "    <tr>\n",
       "      <td>51524</td>\n",
       "      <td>6300</td>\n",
       "      <td>2014</td>\n",
       "      <td>nissan altima</td>\n",
       "      <td>2</td>\n",
       "      <td>4</td>\n",
       "      <td>gas</td>\n",
       "      <td>90990</td>\n",
       "      <td>automatic</td>\n",
       "      <td>sedan</td>\n",
       "      <td>grey</td>\n",
       "      <td>False</td>\n",
       "      <td>2018-06-05</td>\n",
       "      <td>10</td>\n",
       "      <td>1</td>\n",
       "      <td>6</td>\n",
       "      <td>2018</td>\n",
       "      <td>5</td>\n",
       "      <td>4</td>\n",
       "      <td>22747.500000</td>\n",
       "    </tr>\n",
       "  </tbody>\n",
       "</table>\n",
       "<p>51382 rows × 19 columns</p>\n",
       "</div>"
      ],
      "text/plain": [
       "       price  model_year           model  condition  cylinders fuel  odometer  \\\n",
       "0       9400        2011          bmw x5          2          6  gas    145000   \n",
       "1      25500        2013      ford f-150          2          6  gas     88705   \n",
       "2       5500        2013  hyundai sonata          4          4  gas    110000   \n",
       "3       1500        2003      ford f-150          1          8  gas    160954   \n",
       "4      14900        2017    chrysler 200          3          4  gas     80903   \n",
       "...      ...         ...             ...        ...        ...  ...       ...   \n",
       "51520   9249        2013   nissan maxima          4          6  gas     88136   \n",
       "51521   2700        2002     honda civic          0          4  gas    181500   \n",
       "51522   3950        2009  hyundai sonata          3          4  gas    128000   \n",
       "51523   7455        2013  toyota corolla          2          4  gas    139573   \n",
       "51524   6300        2014   nissan altima          2          4  gas     90990   \n",
       "\n",
       "      transmission    type paint_color  is_4wd date_posted  days_listed  \\\n",
       "0        automatic     SUV       black    True  2018-06-23           19   \n",
       "1        automatic  pickup       white    True  2018-10-19           50   \n",
       "2        automatic   sedan         red   False  2019-02-07           79   \n",
       "3        automatic  pickup       white   False  2019-03-22            9   \n",
       "4        automatic   sedan       black   False  2019-04-02           28   \n",
       "...            ...     ...         ...     ...         ...          ...   \n",
       "51520    automatic   sedan       black   False  2018-10-03           37   \n",
       "51521    automatic   sedan       white   False  2018-11-14           22   \n",
       "51522    automatic   sedan        blue   False  2018-11-15           32   \n",
       "51523    automatic   sedan       black   False  2018-07-02           71   \n",
       "51524    automatic   sedan        grey   False  2018-06-05           10   \n",
       "\n",
       "       weekday  month  year  day  vehicle_age   avg_mileage  \n",
       "0            5      6  2018   23            7  24166.666667  \n",
       "1            4     10  2018   19            5  14784.166667  \n",
       "2            3      2  2019    7            6  27500.000000  \n",
       "3            4      3  2019   22           16  20119.250000  \n",
       "4            1      4  2019    2            2  20225.750000  \n",
       "...        ...    ...   ...  ...          ...           ...  \n",
       "51520        2     10  2018    3            5  14689.333333  \n",
       "51521        2     11  2018   14           16  45375.000000  \n",
       "51522        3     11  2018   15            9  32000.000000  \n",
       "51523        0      7  2018    2            5  34893.250000  \n",
       "51524        1      6  2018    5            4  22747.500000  \n",
       "\n",
       "[51382 rows x 19 columns]"
      ]
     },
     "execution_count": 56,
     "metadata": {},
     "output_type": "execute_result"
    }
   ],
   "source": [
    "iqr = q3 - q1\n",
    "iqr\n",
    "upper_limit5= q3 + 1.5*iqr\n",
    "upper_limit5\n",
    "df5_no_outlier = df[(df.condition<upper_limit5)]\n",
    "df5_no_outlier"
   ]
  },
  {
   "cell_type": "code",
   "execution_count": 57,
   "metadata": {},
   "outputs": [
    {
     "name": "stdout",
     "output_type": "stream",
     "text": [
      "5000.0\n",
      "4.0\n",
      "4.0\n"
     ]
    }
   ],
   "source": [
    "value_list = ['price', 'vehicle_age', 'cylinders']\n",
    "for i in range (len(value_list)):\n",
    "    q1 = df[value_list[i]].quantile(0.25)\n",
    "    print(q1)"
   ]
  },
  {
   "cell_type": "code",
   "execution_count": 58,
   "metadata": {},
   "outputs": [
    {
     "name": "stdout",
     "output_type": "stream",
     "text": [
      "9950.0\n",
      "10850.0\n",
      "10544.0\n"
     ]
    }
   ],
   "source": [
    "test_df_1 = df[:1000]\n",
    "test_df_2 = df[1000:2000]\n",
    "test_df_3 = df[2000:3000]\n",
    "\n",
    "list_of_dfs = [test_df_1,test_df_2,test_df_3]\n",
    "\n",
    "for i in range(len(list_of_dfs)):\n",
    "    print (list_of_dfs[i]['price'].median())"
   ]
  },
  {
   "cell_type": "markdown",
   "metadata": {},
   "source": [
    "<font color='green'><h3>Use the filtered data to plot new histograms. Compare them with the earlier histograms (the ones that included outliers). Draw conclusions for each histogram. </h3></font>"
   ]
  },
  {
   "cell_type": "code",
   "execution_count": 59,
   "metadata": {},
   "outputs": [
    {
     "data": {
      "image/png": "[encoded data removed]",
      "text/plain": [
       "<Figure size 432x288 with 1 Axes>"
      ]
     },
     "metadata": {
      "needs_background": "light"
     },
     "output_type": "display_data"
    },
    {
     "data": {
      "image/png": "[encoded data removed]",
      "text/plain": [
       "<Figure size 432x288 with 1 Axes>"
      ]
     },
     "metadata": {
      "needs_background": "light"
     },
     "output_type": "display_data"
    }
   ],
   "source": [
    "#comparing histogram for price before and after removing outliers\n",
    "df[\"price\"].plot(kind='hist', bins=100, range =(1,375000), title=\"the price of car on the number of sales\")\n",
    "plt.show()\n",
    "df1_no_outlier[\"price\"].plot(kind='hist', bins=100, range =(1,375000), title=\"the price of car on the number of sales\")\n",
    "plt.show()"
   ]
  },
  {
   "cell_type": "code",
   "execution_count": 60,
   "metadata": {},
   "outputs": [
    {
     "data": {
      "image/png": "[encoded data removed]",
      "text/plain": [
       "<Figure size 432x288 with 1 Axes>"
      ]
     },
     "metadata": {
      "needs_background": "light"
     },
     "output_type": "display_data"
    },
    {
     "data": {
      "image/png": "[encoded data removed]",
      "text/plain": [
       "<Figure size 432x288 with 1 Axes>"
      ]
     },
     "metadata": {
      "needs_background": "light"
     },
     "output_type": "display_data"
    }
   ],
   "source": [
    "#comparing histogram for vehicle age before and after removing outliers\n",
    "df[\"vehicle_age\"].plot(kind='hist', bins=40, range =(0,110), title=\"the age of car on the number of sales\")\n",
    "plt.show()\n",
    "df2_no_outlier[\"vehicle_age\"].plot(kind='hist', bins=40, range =(0,110), title=\"the age of car on the number of sales\")\n",
    "plt.show()"
   ]
  },
  {
   "cell_type": "code",
   "execution_count": 61,
   "metadata": {},
   "outputs": [
    {
     "data": {
      "image/png": "[encoded data removed]",
      "text/plain": [
       "<Figure size 432x288 with 1 Axes>"
      ]
     },
     "metadata": {
      "needs_background": "light"
     },
     "output_type": "display_data"
    },
    {
     "data": {
      "image/png": "[encoded data removed]",
      "text/plain": [
       "<Figure size 432x288 with 1 Axes>"
      ]
     },
     "metadata": {
      "needs_background": "light"
     },
     "output_type": "display_data"
    }
   ],
   "source": [
    "#comparing histogram for avg mileage before and after removing outliers\n",
    "df[\"avg_mileage\"].plot(kind='hist', bins=40, range =(0,90000), title=\"the mileage of car on the number of sales\")\n",
    "plt.show()\n",
    "df3_no_outlier[\"avg_mileage\"].plot(kind='hist', bins=40, range =(0,90000), title=\"the mileage of car on the number of sales\")\n",
    "plt.show()"
   ]
  },
  {
   "cell_type": "code",
   "execution_count": 62,
   "metadata": {},
   "outputs": [
    {
     "data": {
      "image/png": "[encoded data removed]",
      "text/plain": [
       "<Figure size 432x288 with 1 Axes>"
      ]
     },
     "metadata": {
      "needs_background": "light"
     },
     "output_type": "display_data"
    },
    {
     "data": {
      "image/png": "[encoded data removed]",
      "text/plain": [
       "<Figure size 432x288 with 1 Axes>"
      ]
     },
     "metadata": {
      "needs_background": "light"
     },
     "output_type": "display_data"
    }
   ],
   "source": [
    "#comparing histogram for cylinders before and after removing outliers\n",
    "df[\"cylinders\"].plot(kind='hist', bins=4, range =(0,12), title=\"the cylinders of car on the number of sales\")\n",
    "plt.show()\n",
    "df4_no_outlier[\"cylinders\"].plot(kind='hist', bins=4, range =(0,12), title=\"the cylinders of car on the number of sales\")\n",
    "plt.show()"
   ]
  },
  {
   "cell_type": "code",
   "execution_count": 63,
   "metadata": {},
   "outputs": [
    {
     "data": {
      "image/png": "[encoded data removed]",
      "text/plain": [
       "<Figure size 432x288 with 1 Axes>"
      ]
     },
     "metadata": {
      "needs_background": "light"
     },
     "output_type": "display_data"
    },
    {
     "data": {
      "image/png": "[encoded data removed]",
      "text/plain": [
       "<Figure size 432x288 with 1 Axes>"
      ]
     },
     "metadata": {
      "needs_background": "light"
     },
     "output_type": "display_data"
    }
   ],
   "source": [
    "#comparing histogram for condition before and after removing outliers\n",
    "df[\"condition\"].plot(kind='hist', bins=3, range =(0,5), title=\"the condition of car on the number of sales\")\n",
    "plt.show()\n",
    "#histogram for condition\n",
    "df5_no_outlier[\"condition\"].plot(kind='hist', bins=3, range =(0,5), title=\"the condition of car on the number of sales\")\n",
    "plt.show()"
   ]
  },
  {
   "cell_type": "markdown",
   "metadata": {},
   "source": [
    "while comparing all the histograms ,it is clearly visible that there is no change in the graphs of cylinders and condition graphs .but when we see others factors ,the  outliers are removed in case of vehicle,price,avg_mileage."
   ]
  },
  {
   "cell_type": "markdown",
   "metadata": {},
   "source": [
    "<font color='green'><h3>Studying how many days advertisements were displayed (days_listed). Ploting a histogram.Calculating the mean and median. Describing the typical lifetime of an ad. Determining when ads were removed quickly, and when they were listed for an abnormally long time. </h3></font>"
   ]
  },
  {
   "cell_type": "code",
   "execution_count": 64,
   "metadata": {},
   "outputs": [
    {
     "data": {
      "text/plain": [
       "count    51525.00000\n",
       "mean        39.55476\n",
       "std         28.20427\n",
       "min          0.00000\n",
       "25%         19.00000\n",
       "50%         33.00000\n",
       "75%         53.00000\n",
       "max        271.00000\n",
       "Name: days_listed, dtype: float64"
      ]
     },
     "execution_count": 64,
     "metadata": {},
     "output_type": "execute_result"
    }
   ],
   "source": [
    "df['days_listed'].describe()"
   ]
  },
  {
   "cell_type": "code",
   "execution_count": 65,
   "metadata": {},
   "outputs": [
    {
     "data": {
      "image/png": "[encoded data removed]",
      "text/plain": [
       "<Figure size 432x288 with 1 Axes>"
      ]
     },
     "metadata": {
      "needs_background": "light"
     },
     "output_type": "display_data"
    }
   ],
   "source": [
    "#sns.boxplot(data=df, x=\"days_listed\")\n",
    "fig = plt.figure()\n",
    "fig.suptitle('lifetime of an add', fontsize=14, fontweight='bold')\n",
    "\n",
    "ax = fig.add_subplot(111)\n",
    "#paint_clr.boxplot()\n",
    "sns.boxplot(data=df, x=\"days_listed\")\n",
    "\n",
    "ax.set_title('ADS listing')\n",
    "ax.set_xlabel('days_listed')\n",
    "#ax.set_ylabel('price')\n",
    "\n",
    "plt.show()"
   ]
  },
  {
   "cell_type": "code",
   "execution_count": 66,
   "metadata": {},
   "outputs": [
    {
     "data": {
      "text/plain": [
       "('mean:39.55475982532751', 'median: 33.0')"
      ]
     },
     "execution_count": 66,
     "metadata": {},
     "output_type": "execute_result"
    }
   ],
   "source": [
    " mean = f\"mean:{df['days_listed'].mean()}\"\n",
    "median = f\"median: {df['days_listed'].median()}\"\n",
    "mean, median"
   ]
  },
  {
   "cell_type": "code",
   "execution_count": 67,
   "metadata": {},
   "outputs": [
    {
     "data": {
      "image/png": "[encoded data removed]",
      "text/plain": [
       "<Figure size 576x360 with 1 Axes>"
      ]
     },
     "metadata": {
      "needs_background": "light"
     },
     "output_type": "display_data"
    }
   ],
   "source": [
    "#df['days_listed', title=\" on the number of sales\"].hist()\n",
    "#df[\"days_listed\"].plot(kind='hist', title=\"the days_listed of car on the number of sales\")\n",
    "#plt.show()\n",
    "plt.figure(figsize=(8,5))\n",
    "df[\"days_listed\"].plot(kind='hist', title=\"the days_listed of car on the number of sales\")\n",
    "plt.suptitle(' Analyze the days_listed ',fontsize=14, fontweight='bold') #title\n",
    "plt.xlabel('days listed ') #x label\n",
    "plt.ylabel('frequency') #y label\n",
    "plt.show()\n",
    "\n",
    " "
   ]
  },
  {
   "cell_type": "markdown",
   "metadata": {},
   "source": [
    "<font color='green'><h3>Analyze the number of ads and the average price for each type of vehicle. Plot a graph showing the dependence of the number of ads on the vehicle type. Select the two types with the greatest number of ads. </h3></font>"
   ]
  },
  {
   "cell_type": "code",
   "execution_count": 68,
   "metadata": {},
   "outputs": [
    {
     "data": {
      "text/plain": [
       "<Figure size 576x360 with 0 Axes>"
      ]
     },
     "metadata": {},
     "output_type": "display_data"
    },
    {
     "data": {
      "image/png": "[encoded data removed]",
      "text/plain": [
       "<Figure size 432x288 with 1 Axes>"
      ]
     },
     "metadata": {
      "needs_background": "light"
     },
     "output_type": "display_data"
    }
   ],
   "source": [
    "number_ad = df.pivot_table(index='type', values=\"price\", aggfunc=\"count\")\n",
    "#number_ad.plot(kind='bar',title ='Dependence of the number of ads on the vehicle type')\n",
    "plt.figure(figsize=(8,5))\n",
    "number_ad.plot(kind='bar',title ='Dependence of the number of ads on the vehicle type')\n",
    "plt.suptitle(' Analyze the number of ads and the average price ',fontsize=14, fontweight='bold') #title\n",
    "plt.xlabel('type of cars') #x label\n",
    "plt.ylabel('price of cars') #y label\n",
    "plt.show()\n",
    "\n",
    "\n"
   ]
  },
  {
   "cell_type": "markdown",
   "metadata": {},
   "source": [
    "#truck and suv has the greatest number of ads"
   ]
  },
  {
   "cell_type": "markdown",
   "metadata": {},
   "source": [
    "<font color='green'><h3>What factors impact the price most? Take each of the popular types you detected at the previous stage and study whether the price depends on age, mileage, condition, transmission type, and color. For categorical variables (transmission type and color), plot box-and-whisker charts, and create scatterplots for the rest. When analyzing categorical variables, note that the categories must have at least 50 ads; otherwise, their parameters won't be valid for analysis. </h3></font>"
   ]
  },
  {
   "cell_type": "code",
   "execution_count": 69,
   "metadata": {},
   "outputs": [
    {
     "name": "stdout",
     "output_type": "stream",
     "text": [
      "             count\n",
      "paint_color       \n",
      "black         9897\n",
      "blue          4729\n",
      "brown         1223\n",
      "custom        1153\n",
      "green         1554\n",
      "grey          5843\n",
      "orange         231\n",
      "purple         102\n",
      "red           4705\n",
      "silver        7998\n",
      "white        13835\n",
      "yellow         255\n"
     ]
    },
    {
     "data": {
      "image/png": "[encoded data removed]",
      "text/plain": [
       "<Figure size 432x288 with 1 Axes>"
      ]
     },
     "metadata": {
      "needs_background": "light"
     },
     "output_type": "display_data"
    }
   ],
   "source": [
    "paint_clr = df.pivot_table(index=\"paint_color\", values=\"model\", aggfunc=\"count\")\n",
    "paint_clr.columns = ['count']\n",
    "print(paint_clr)\n",
    "#paint_clr.boxplot()\n",
    "fig = plt.figure()\n",
    "fig.suptitle('Impact of price on paint_color', fontsize=14, fontweight='bold')\n",
    "\n",
    "ax = fig.add_subplot(111)\n",
    "paint_clr.boxplot()\n",
    "\n",
    "ax.set_title('price influencing paint color')\n",
    "ax.set_xlabel('count')\n",
    "ax.set_ylabel('price')\n",
    "\n",
    "plt.show()"
   ]
  },
  {
   "cell_type": "code",
   "execution_count": 70,
   "metadata": {},
   "outputs": [
    {
     "name": "stdout",
     "output_type": "stream",
     "text": [
      "              count\n",
      "transmission       \n",
      "automatic     46902\n",
      "manual         2829\n",
      "other          1794\n"
     ]
    },
    {
     "data": {
      "image/png": "[encoded data removed]",
      "text/plain": [
       "<Figure size 432x288 with 1 Axes>"
      ]
     },
     "metadata": {
      "needs_background": "light"
     },
     "output_type": "display_data"
    }
   ],
   "source": [
    "transmission_clr = df.pivot_table(index=\"transmission\", values=\"model\", aggfunc=\"count\")\n",
    "transmission_clr.columns = ['count']\n",
    "print(transmission_clr)\n",
    "#transmission_clr.boxplot()\n",
    "fig = plt.figure()\n",
    "fig.suptitle('Impact of price on transmission', fontsize=14, fontweight='bold')\n",
    "\n",
    "ax = fig.add_subplot(111)\n",
    "transmission_clr.boxplot()\n",
    "\n",
    "ax.set_title('price influencing transmission')\n",
    "ax.set_xlabel('count')\n",
    "ax.set_ylabel('price')\n",
    "\n",
    "plt.show()"
   ]
  },
  {
   "cell_type": "code",
   "execution_count": 71,
   "metadata": {},
   "outputs": [
    {
     "data": {
      "image/png": "[encoded data removed]",
      "text/plain": [
       "<Figure size 576x360 with 1 Axes>"
      ]
     },
     "metadata": {
      "needs_background": "light"
     },
     "output_type": "display_data"
    }
   ],
   "source": [
    "#df2_no_outlier.plot.scatter(x = 'vehicle_age', y = 'price')\n",
    "plt.figure(figsize=(8,5))\n",
    "sns.scatterplot(data=df2_no_outlier,x='vehicle_age',y='price')\n",
    "plt.suptitle('Impact of price on vehicle age',fontsize=14, fontweight='bold') #title\n",
    "plt.xlabel('vehicle age') #x label\n",
    "plt.ylabel('price of cars') #y label\n",
    "plt.show()"
   ]
  },
  {
   "cell_type": "code",
   "execution_count": 72,
   "metadata": {},
   "outputs": [
    {
     "data": {
      "image/png": "[encoded data removed]",
      "text/plain": [
       "<Figure size 576x360 with 1 Axes>"
      ]
     },
     "metadata": {
      "needs_background": "light"
     },
     "output_type": "display_data"
    }
   ],
   "source": [
    "#df3_no_outlier.plot.scatter(x = 'avg_mileage', y = 'price')\n",
    "plt.figure(figsize=(8,5))\n",
    "sns.scatterplot(data=df3_no_outlier,x='avg_mileage',y='price')\n",
    "plt.suptitle('Impact of price on mileage of cars',fontsize=14, fontweight='bold') #title\n",
    "plt.xlabel('avg_mileage') #x label\n",
    "plt.ylabel('price of cars') #y label\n",
    "plt.show()"
   ]
  },
  {
   "cell_type": "code",
   "execution_count": 73,
   "metadata": {},
   "outputs": [
    {
     "data": {
      "image/png": "[encoded data removed]",
      "text/plain": [
       "<Figure size 576x360 with 1 Axes>"
      ]
     },
     "metadata": {
      "needs_background": "light"
     },
     "output_type": "display_data"
    }
   ],
   "source": [
    "#df5_no_outlier.plot.scatter(x = 'condition', y = 'price')\n",
    "plt.figure(figsize=(8,5))\n",
    "sns.scatterplot(data=df5_no_outlier,x='condition',y='price')\n",
    "plt.suptitle('Impact of price on condition of cars',fontsize=14, fontweight='bold') #title\n",
    "plt.xlabel('condition of cars') #x label\n",
    "plt.ylabel('price of cars') #y label\n",
    "plt.show()"
   ]
  },
  {
   "cell_type": "markdown",
   "metadata": {},
   "source": [
    "**IN this step we Carried out exploratory data analysis while considering various factors**\n",
    "* First of all we plotted histograms for each parameter price, vehicle's age when the ad was placed, mileage, number of cylinders, and condition,here we found out some outliers in vehicle_age,price and mileage of cars  \n",
    "* Then we determined the upper limits of outliers, removed the outliers and store them in a separate DataFrame(df1_no_outlier,df2_no_outlier,df3_no_outlier,df4_no_outlier,df5_no_outlier)and continue your work with the filtered data. \n",
    "* Studyed how many days advertisements were displayed (days_listed). Ploted a histogram and Calculated the mean and median. \n",
    "* Analyzed the number of ads and the average price for each type of vehicle. Plotted a graph showing the dependence of the number of ads on the vehicle type. Selected the two types_(SUV AND TRUCK) with the greatest number of ads\n",
    "* Studyed the  factors which impacted the price most.Taking each of the popular types detected at the previous stage and analysing the price dependence on age, mileage, condition, transmission type, and color. For categorical variables (transmission type and color), plotted box-and-whisker charts, and created scatterplots for the rest. \n",
    "\n",
    "** it is concluded **\n",
    "\n",
    "*when we check the factors that impact the price most it can be seen from figures\n",
    "THE SALES of car depend upon condition,age and price more.multiple column is showing multiple relationships in different graphs while looking at the figures ,Condition scatterplot shows the price will be more in excellent condition,The price is more when avg_mileage is between 20000 to 30000,for age the distribution is unequal,for black car and which is automatic the distribution is more*"
   ]
  },
  {
   "cell_type": "markdown",
   "metadata": {},
   "source": [
    "### Step 5. Overall conclusion"
   ]
  },
  {
   "cell_type": "markdown",
   "metadata": {},
   "source": [
    "**This project provide Crankshaft List. Hundreds of free advertisements for vehicles are published on the site every day. we have to study data collected over the last few years and determine which factors influence the price of a vehicle.while analyzing data it is seen that**\n",
    "* *The data in the table contains price ,model_year.model,condition,cylinders,fuel,odometer,transmission,paint_color,is_4wd,date_posted;days_listed*\n",
    "* *Description of data\n",
    "price - specify the price  of vehicle\n",
    "model_year -which year model came\n",
    "model -name of model\n",
    "condition in which condition it was present\n",
    "cylinders -how many cylinders are required\n",
    "fuel — gas, diesel, etc.\n",
    "odometer — the vehicle's mileage when the ad was published\n",
    "transmission - it is automatic or gear \n",
    "paint_color -which colour it is\n",
    "is_4wd — whether the vehicle has 4-wheel drive (Boolean type)\n",
    "date_posted — the date the ad was published\n",
    "days_listed — from publication to removal*\n",
    "* *Firstly looking at the data it can be analysed that there are 51525 entries in it, Observing data it is clearly seen that there is missing values in model_year,odometer,cylinders,paintcolour,is_4wd. it is generalised that is 4wd contain only one unique entry(1) and other entries are nan .it is also visible that it has the highest missing value*\n",
    "* *Secondly we fill out the missing values it can be seen that there is a lot of missing values.when looking the data for 4wd we replaced the other values by 0 as 1 was the rest of the values filled up.then replaced the values in paint colour by the most common values grouped by model column by filling it by mode.then we observed the model_year and  filled it by using mode groupby model column.for the values of odometer we adjusted it by median and grouping by model_year using transform method as we took the median of different models.and last in the case of cylinders filled the values in cylinder by mean and grouping by model_year using transform method ,More cylinders will be required for the car whose model year id old.*\n",
    "* *Thirdly for the datatypes we converted the data of model_year_odometer and cylinders from float to int.and is 4wd column to boolean as it will represent 0 and 1 for true and false.then dateposted to datetime format.*\n",
    "* *Fourthly ,we used categorisation in condition column from fair to excellent rating it from 0 to 5 conditions of car .then we breaked the date posted column into weekday ,month,year and day and added it to the table.then we calculated vehicle age and avg_mileage on the basis of the available data .*\n",
    "* *Fifthly we used IQR method to remove the outlineres by Carrying out exploratory data analysis and plotted  Histograms for each parameter price, vehicle's age when the ad was placed, mileage, number of cylinders, and condition.then we remove dthe outlier and stored it in other tablesafter that we made comparison of histograms and finally we plotted boxplots and scatterflots to find the comparison of price with different factors*\n",
    "\n",
    "**Hence it can be concluded while carrying out different calculations that there is multiple relationships between different columns and **\n",
    "\n",
    "1. *while comparing all the histograms ,it is clearly visible that there is no change in the graphs of cylinders and condition graphs .but when we see others there is outliers removed in cases of vehicle,price,avg_mileage.As vehicle_price when plotted showed the outlier above 50,000 ,in the case of age it was above 40,avg_mileage the outlier was above 60,000*\n",
    "2. *Truck and suv has the greatest number of ads with the count of 12000.*\n",
    "3.  *When we check the factors that impact the price most it can be checked from figures,condition scatterplot shows the price will be more than 35000 in excellent condition , when avg_mileage is between 20000 to 30000, age the distribution is unequal ,white car count is 13835 and transmissio  automatic count is 46902 the highest distribution ,when looked into different figures*\n",
    "*Our goal was to study data collected over the last few years and determine which factors influence the price of a vehicle.hence it is figured that condition,mileage and colour may increase the price more.*\n",
    "\n",
    "\n"
   ]
  }
 ],
 "metadata": {
  "ExecuteTimeLog": [
   {
    "duration": 1460,
    "start_time": "2021-09-13T10:15:56.155Z"
   },
   {
    "duration": 152,
    "start_time": "2021-09-13T10:15:57.618Z"
   },
   {
    "duration": 10,
    "start_time": "2021-09-13T10:15:57.774Z"
   },
   {
    "duration": 33,
    "start_time": "2021-09-13T10:15:57.787Z"
   },
   {
    "duration": 4,
    "start_time": "2021-09-13T10:15:57.823Z"
   },
   {
    "duration": 62,
    "start_time": "2021-09-13T10:15:57.829Z"
   },
   {
    "duration": 25,
    "start_time": "2021-09-13T10:15:57.895Z"
   },
   {
    "duration": 31,
    "start_time": "2021-09-13T10:15:57.923Z"
   },
   {
    "duration": 14,
    "start_time": "2021-09-13T10:15:57.985Z"
   },
   {
    "duration": 10,
    "start_time": "2021-09-13T10:15:58.004Z"
   },
   {
    "duration": 18,
    "start_time": "2021-09-13T10:15:58.017Z"
   },
   {
    "duration": 10,
    "start_time": "2021-09-13T10:15:58.038Z"
   },
   {
    "duration": 144,
    "start_time": "2021-09-13T10:15:58.083Z"
   },
   {
    "duration": 6,
    "start_time": "2021-09-13T10:15:58.229Z"
   },
   {
    "duration": 121,
    "start_time": "2021-09-13T10:15:58.237Z"
   },
   {
    "duration": 23,
    "start_time": "2021-09-13T10:15:58.360Z"
   },
   {
    "duration": 99,
    "start_time": "2021-09-13T10:15:58.385Z"
   },
   {
    "duration": 18,
    "start_time": "2021-09-13T10:15:58.486Z"
   },
   {
    "duration": 24,
    "start_time": "2021-09-13T10:15:58.506Z"
   },
   {
    "duration": 6,
    "start_time": "2021-09-13T10:15:58.532Z"
   },
   {
    "duration": 96,
    "start_time": "2021-09-13T10:15:58.541Z"
   },
   {
    "duration": 5,
    "start_time": "2021-09-13T10:15:58.640Z"
   },
   {
    "duration": 40,
    "start_time": "2021-09-13T10:15:58.648Z"
   },
   {
    "duration": 25,
    "start_time": "2021-09-13T10:15:58.690Z"
   },
   {
    "duration": 65,
    "start_time": "2021-09-13T10:15:58.717Z"
   },
   {
    "duration": 4,
    "start_time": "2021-09-13T10:15:58.785Z"
   },
   {
    "duration": 48,
    "start_time": "2021-09-13T10:15:58.796Z"
   },
   {
    "duration": 57,
    "start_time": "2021-09-13T10:15:58.847Z"
   },
   {
    "duration": 21,
    "start_time": "2021-09-13T10:15:58.906Z"
   },
   {
    "duration": 31,
    "start_time": "2021-09-13T10:15:58.930Z"
   },
   {
    "duration": 35,
    "start_time": "2021-09-13T10:15:58.963Z"
   },
   {
    "duration": 8,
    "start_time": "2021-09-13T10:15:59.000Z"
   },
   {
    "duration": 530,
    "start_time": "2021-09-13T10:15:59.010Z"
   },
   {
    "duration": 5,
    "start_time": "2021-09-13T10:15:59.542Z"
   },
   {
    "duration": 349,
    "start_time": "2021-09-13T10:15:59.549Z"
   },
   {
    "duration": 6,
    "start_time": "2021-09-13T10:15:59.901Z"
   },
   {
    "duration": 374,
    "start_time": "2021-09-13T10:15:59.909Z"
   },
   {
    "duration": 11,
    "start_time": "2021-09-13T10:16:00.286Z"
   },
   {
    "duration": 288,
    "start_time": "2021-09-13T10:16:00.300Z"
   },
   {
    "duration": 326,
    "start_time": "2021-09-13T10:16:00.590Z"
   },
   {
    "duration": 12,
    "start_time": "2021-09-13T10:16:00.919Z"
   },
   {
    "duration": 1230,
    "start_time": "2021-09-13T10:16:00.933Z"
   },
   {
    "duration": 83,
    "start_time": "2021-09-13T10:16:02.165Z"
   },
   {
    "duration": 9,
    "start_time": "2021-09-13T10:16:02.250Z"
   },
   {
    "duration": 23,
    "start_time": "2021-09-13T10:16:02.261Z"
   },
   {
    "duration": 5,
    "start_time": "2021-09-13T10:16:02.286Z"
   },
   {
    "duration": 391,
    "start_time": "2021-09-13T10:16:02.293Z"
   },
   {
    "duration": -171,
    "start_time": "2021-09-13T10:16:02.858Z"
   },
   {
    "duration": -179,
    "start_time": "2021-09-13T10:16:02.867Z"
   },
   {
    "duration": -190,
    "start_time": "2021-09-13T10:16:02.879Z"
   },
   {
    "duration": -198,
    "start_time": "2021-09-13T10:16:02.889Z"
   },
   {
    "duration": -206,
    "start_time": "2021-09-13T10:16:02.898Z"
   },
   {
    "duration": -213,
    "start_time": "2021-09-13T10:16:02.907Z"
   },
   {
    "duration": -220,
    "start_time": "2021-09-13T10:16:02.915Z"
   },
   {
    "duration": -228,
    "start_time": "2021-09-13T10:16:02.924Z"
   },
   {
    "duration": -237,
    "start_time": "2021-09-13T10:16:02.934Z"
   },
   {
    "duration": -261,
    "start_time": "2021-09-13T10:16:02.960Z"
   },
   {
    "duration": -269,
    "start_time": "2021-09-13T10:16:02.969Z"
   },
   {
    "duration": -277,
    "start_time": "2021-09-13T10:16:02.979Z"
   },
   {
    "duration": -285,
    "start_time": "2021-09-13T10:16:02.988Z"
   },
   {
    "duration": -294,
    "start_time": "2021-09-13T10:16:02.998Z"
   },
   {
    "duration": -304,
    "start_time": "2021-09-13T10:16:03.009Z"
   },
   {
    "duration": -310,
    "start_time": "2021-09-13T10:16:03.017Z"
   },
   {
    "duration": -317,
    "start_time": "2021-09-13T10:16:03.025Z"
   },
   {
    "duration": -323,
    "start_time": "2021-09-13T10:16:03.032Z"
   },
   {
    "duration": -327,
    "start_time": "2021-09-13T10:16:03.037Z"
   },
   {
    "duration": -332,
    "start_time": "2021-09-13T10:16:03.043Z"
   },
   {
    "duration": -335,
    "start_time": "2021-09-13T10:16:03.047Z"
   },
   {
    "duration": -338,
    "start_time": "2021-09-13T10:16:03.052Z"
   },
   {
    "duration": -350,
    "start_time": "2021-09-13T10:16:03.065Z"
   },
   {
    "duration": -352,
    "start_time": "2021-09-13T10:16:03.069Z"
   },
   {
    "duration": -357,
    "start_time": "2021-09-13T10:16:03.075Z"
   },
   {
    "duration": -361,
    "start_time": "2021-09-13T10:16:03.080Z"
   },
   {
    "duration": -367,
    "start_time": "2021-09-13T10:16:03.087Z"
   },
   {
    "duration": 9,
    "start_time": "2021-09-13T10:16:27.835Z"
   },
   {
    "duration": 5,
    "start_time": "2021-09-13T10:16:30.283Z"
   },
   {
    "duration": 38,
    "start_time": "2021-09-13T10:16:32.615Z"
   },
   {
    "duration": 1533,
    "start_time": "2021-09-13T10:18:02.380Z"
   },
   {
    "duration": 124,
    "start_time": "2021-09-13T10:18:03.916Z"
   },
   {
    "duration": 5,
    "start_time": "2021-09-13T10:18:04.043Z"
   },
   {
    "duration": 39,
    "start_time": "2021-09-13T10:18:04.051Z"
   },
   {
    "duration": 3,
    "start_time": "2021-09-13T10:18:04.092Z"
   },
   {
    "duration": 34,
    "start_time": "2021-09-13T10:18:04.097Z"
   },
   {
    "duration": 16,
    "start_time": "2021-09-13T10:18:04.133Z"
   },
   {
    "duration": 39,
    "start_time": "2021-09-13T10:18:04.151Z"
   },
   {
    "duration": 13,
    "start_time": "2021-09-13T10:18:04.194Z"
   },
   {
    "duration": 7,
    "start_time": "2021-09-13T10:18:04.210Z"
   },
   {
    "duration": 13,
    "start_time": "2021-09-13T10:18:04.219Z"
   },
   {
    "duration": 15,
    "start_time": "2021-09-13T10:18:04.234Z"
   },
   {
    "duration": 135,
    "start_time": "2021-09-13T10:18:04.283Z"
   },
   {
    "duration": 6,
    "start_time": "2021-09-13T10:18:04.420Z"
   },
   {
    "duration": 122,
    "start_time": "2021-09-13T10:18:04.428Z"
   },
   {
    "duration": 10,
    "start_time": "2021-09-13T10:18:04.552Z"
   },
   {
    "duration": 105,
    "start_time": "2021-09-13T10:18:04.565Z"
   },
   {
    "duration": 27,
    "start_time": "2021-09-13T10:18:04.672Z"
   },
   {
    "duration": 34,
    "start_time": "2021-09-13T10:18:04.702Z"
   },
   {
    "duration": 6,
    "start_time": "2021-09-13T10:18:04.738Z"
   },
   {
    "duration": 91,
    "start_time": "2021-09-13T10:18:04.747Z"
   },
   {
    "duration": 5,
    "start_time": "2021-09-13T10:18:04.840Z"
   },
   {
    "duration": 41,
    "start_time": "2021-09-13T10:18:04.847Z"
   },
   {
    "duration": 24,
    "start_time": "2021-09-13T10:18:04.891Z"
   },
   {
    "duration": 65,
    "start_time": "2021-09-13T10:18:04.917Z"
   },
   {
    "duration": 5,
    "start_time": "2021-09-13T10:18:04.984Z"
   },
   {
    "duration": 52,
    "start_time": "2021-09-13T10:18:04.996Z"
   },
   {
    "duration": 54,
    "start_time": "2021-09-13T10:18:05.052Z"
   },
   {
    "duration": 20,
    "start_time": "2021-09-13T10:18:05.109Z"
   },
   {
    "duration": 50,
    "start_time": "2021-09-13T10:18:05.132Z"
   },
   {
    "duration": 23,
    "start_time": "2021-09-13T10:18:05.184Z"
   },
   {
    "duration": 4,
    "start_time": "2021-09-13T10:18:05.210Z"
   },
   {
    "duration": 551,
    "start_time": "2021-09-13T10:18:05.216Z"
   },
   {
    "duration": 14,
    "start_time": "2021-09-13T10:18:05.769Z"
   },
   {
    "duration": 346,
    "start_time": "2021-09-13T10:18:05.785Z"
   },
   {
    "duration": 6,
    "start_time": "2021-09-13T10:18:06.133Z"
   },
   {
    "duration": 351,
    "start_time": "2021-09-13T10:18:06.141Z"
   },
   {
    "duration": 12,
    "start_time": "2021-09-13T10:18:06.495Z"
   },
   {
    "duration": 296,
    "start_time": "2021-09-13T10:18:06.510Z"
   },
   {
    "duration": 306,
    "start_time": "2021-09-13T10:18:06.809Z"
   },
   {
    "duration": 12,
    "start_time": "2021-09-13T10:18:07.118Z"
   },
   {
    "duration": 1166,
    "start_time": "2021-09-13T10:18:07.133Z"
   },
   {
    "duration": 85,
    "start_time": "2021-09-13T10:18:08.302Z"
   },
   {
    "duration": 10,
    "start_time": "2021-09-13T10:18:08.390Z"
   },
   {
    "duration": 8,
    "start_time": "2021-09-13T10:18:08.402Z"
   },
   {
    "duration": 8,
    "start_time": "2021-09-13T10:18:08.412Z"
   },
   {
    "duration": 427,
    "start_time": "2021-09-13T10:18:08.423Z"
   },
   {
    "duration": -90,
    "start_time": "2021-09-13T10:18:08.943Z"
   },
   {
    "duration": -100,
    "start_time": "2021-09-13T10:18:08.954Z"
   },
   {
    "duration": -108,
    "start_time": "2021-09-13T10:18:08.964Z"
   },
   {
    "duration": -116,
    "start_time": "2021-09-13T10:18:08.973Z"
   },
   {
    "duration": -127,
    "start_time": "2021-09-13T10:18:08.985Z"
   },
   {
    "duration": -137,
    "start_time": "2021-09-13T10:18:08.997Z"
   },
   {
    "duration": -146,
    "start_time": "2021-09-13T10:18:09.007Z"
   },
   {
    "duration": -149,
    "start_time": "2021-09-13T10:18:09.012Z"
   },
   {
    "duration": -153,
    "start_time": "2021-09-13T10:18:09.017Z"
   },
   {
    "duration": -156,
    "start_time": "2021-09-13T10:18:09.022Z"
   },
   {
    "duration": -160,
    "start_time": "2021-09-13T10:18:09.027Z"
   },
   {
    "duration": -168,
    "start_time": "2021-09-13T10:18:09.036Z"
   },
   {
    "duration": -172,
    "start_time": "2021-09-13T10:18:09.042Z"
   },
   {
    "duration": -174,
    "start_time": "2021-09-13T10:18:09.045Z"
   },
   {
    "duration": -177,
    "start_time": "2021-09-13T10:18:09.050Z"
   },
   {
    "duration": -181,
    "start_time": "2021-09-13T10:18:09.055Z"
   },
   {
    "duration": -184,
    "start_time": "2021-09-13T10:18:09.060Z"
   },
   {
    "duration": -187,
    "start_time": "2021-09-13T10:18:09.064Z"
   },
   {
    "duration": -189,
    "start_time": "2021-09-13T10:18:09.068Z"
   },
   {
    "duration": -194,
    "start_time": "2021-09-13T10:18:09.074Z"
   },
   {
    "duration": -197,
    "start_time": "2021-09-13T10:18:09.079Z"
   },
   {
    "duration": -200,
    "start_time": "2021-09-13T10:18:09.083Z"
   },
   {
    "duration": -204,
    "start_time": "2021-09-13T10:18:09.089Z"
   },
   {
    "duration": -207,
    "start_time": "2021-09-13T10:18:09.093Z"
   },
   {
    "duration": -210,
    "start_time": "2021-09-13T10:18:09.097Z"
   },
   {
    "duration": -213,
    "start_time": "2021-09-13T10:18:09.102Z"
   },
   {
    "duration": -217,
    "start_time": "2021-09-13T10:18:09.107Z"
   },
   {
    "duration": 10,
    "start_time": "2021-09-13T10:18:48.292Z"
   },
   {
    "duration": 8,
    "start_time": "2021-09-13T10:18:48.304Z"
   },
   {
    "duration": 41,
    "start_time": "2021-09-13T10:18:48.314Z"
   },
   {
    "duration": 32,
    "start_time": "2021-09-13T10:18:48.357Z"
   },
   {
    "duration": 40,
    "start_time": "2021-09-13T10:18:48.392Z"
   },
   {
    "duration": 9,
    "start_time": "2021-09-13T10:18:48.434Z"
   },
   {
    "duration": 78,
    "start_time": "2021-09-13T10:18:48.445Z"
   },
   {
    "duration": 9,
    "start_time": "2021-09-13T10:18:48.525Z"
   },
   {
    "duration": 70,
    "start_time": "2021-09-13T10:18:48.538Z"
   },
   {
    "duration": 11,
    "start_time": "2021-09-13T10:18:48.611Z"
   },
   {
    "duration": 17,
    "start_time": "2021-09-13T10:18:48.624Z"
   },
   {
    "duration": 838,
    "start_time": "2021-09-13T10:18:48.644Z"
   },
   {
    "duration": -86,
    "start_time": "2021-09-13T10:18:49.571Z"
   },
   {
    "duration": -95,
    "start_time": "2021-09-13T10:18:49.581Z"
   },
   {
    "duration": -102,
    "start_time": "2021-09-13T10:18:49.590Z"
   },
   {
    "duration": -111,
    "start_time": "2021-09-13T10:18:49.600Z"
   },
   {
    "duration": -116,
    "start_time": "2021-09-13T10:18:49.607Z"
   },
   {
    "duration": -122,
    "start_time": "2021-09-13T10:18:49.615Z"
   },
   {
    "duration": -128,
    "start_time": "2021-09-13T10:18:49.623Z"
   },
   {
    "duration": -133,
    "start_time": "2021-09-13T10:18:49.629Z"
   },
   {
    "duration": -136,
    "start_time": "2021-09-13T10:18:49.634Z"
   },
   {
    "duration": -141,
    "start_time": "2021-09-13T10:18:49.640Z"
   },
   {
    "duration": -144,
    "start_time": "2021-09-13T10:18:49.645Z"
   },
   {
    "duration": -150,
    "start_time": "2021-09-13T10:18:49.652Z"
   },
   {
    "duration": -154,
    "start_time": "2021-09-13T10:18:49.657Z"
   },
   {
    "duration": -158,
    "start_time": "2021-09-13T10:18:49.663Z"
   },
   {
    "duration": 1684,
    "start_time": "2021-09-13T10:19:39.697Z"
   },
   {
    "duration": 131,
    "start_time": "2021-09-13T10:19:41.383Z"
   },
   {
    "duration": 5,
    "start_time": "2021-09-13T10:19:41.517Z"
   },
   {
    "duration": 25,
    "start_time": "2021-09-13T10:19:41.526Z"
   },
   {
    "duration": 29,
    "start_time": "2021-09-13T10:19:41.554Z"
   },
   {
    "duration": 24,
    "start_time": "2021-09-13T10:19:41.586Z"
   },
   {
    "duration": 17,
    "start_time": "2021-09-13T10:19:41.613Z"
   },
   {
    "duration": 52,
    "start_time": "2021-09-13T10:19:41.632Z"
   },
   {
    "duration": 9,
    "start_time": "2021-09-13T10:19:41.688Z"
   },
   {
    "duration": 7,
    "start_time": "2021-09-13T10:19:41.700Z"
   },
   {
    "duration": 12,
    "start_time": "2021-09-13T10:19:41.709Z"
   },
   {
    "duration": 13,
    "start_time": "2021-09-13T10:19:41.723Z"
   },
   {
    "duration": 167,
    "start_time": "2021-09-13T10:19:41.738Z"
   },
   {
    "duration": 6,
    "start_time": "2021-09-13T10:19:41.907Z"
   },
   {
    "duration": 125,
    "start_time": "2021-09-13T10:19:41.915Z"
   },
   {
    "duration": 10,
    "start_time": "2021-09-13T10:19:42.042Z"
   },
   {
    "duration": 107,
    "start_time": "2021-09-13T10:19:42.054Z"
   },
   {
    "duration": 30,
    "start_time": "2021-09-13T10:19:42.163Z"
   },
   {
    "duration": 28,
    "start_time": "2021-09-13T10:19:42.195Z"
   },
   {
    "duration": 6,
    "start_time": "2021-09-13T10:19:42.225Z"
   },
   {
    "duration": 94,
    "start_time": "2021-09-13T10:19:42.233Z"
   },
   {
    "duration": 5,
    "start_time": "2021-09-13T10:19:42.330Z"
   },
   {
    "duration": 26,
    "start_time": "2021-09-13T10:19:42.337Z"
   },
   {
    "duration": 24,
    "start_time": "2021-09-13T10:19:42.382Z"
   },
   {
    "duration": 45,
    "start_time": "2021-09-13T10:19:42.409Z"
   },
   {
    "duration": 27,
    "start_time": "2021-09-13T10:19:42.456Z"
   },
   {
    "duration": 50,
    "start_time": "2021-09-13T10:19:42.490Z"
   },
   {
    "duration": 61,
    "start_time": "2021-09-13T10:19:42.543Z"
   },
   {
    "duration": 23,
    "start_time": "2021-09-13T10:19:42.606Z"
   },
   {
    "duration": 31,
    "start_time": "2021-09-13T10:19:42.632Z"
   },
   {
    "duration": 24,
    "start_time": "2021-09-13T10:19:42.683Z"
   },
   {
    "duration": 5,
    "start_time": "2021-09-13T10:19:42.710Z"
   },
   {
    "duration": 655,
    "start_time": "2021-09-13T10:19:42.717Z"
   },
   {
    "duration": 9,
    "start_time": "2021-09-13T10:19:43.375Z"
   },
   {
    "duration": 351,
    "start_time": "2021-09-13T10:19:43.387Z"
   },
   {
    "duration": 6,
    "start_time": "2021-09-13T10:19:43.741Z"
   },
   {
    "duration": 354,
    "start_time": "2021-09-13T10:19:43.749Z"
   },
   {
    "duration": 10,
    "start_time": "2021-09-13T10:19:44.105Z"
   },
   {
    "duration": 309,
    "start_time": "2021-09-13T10:19:44.118Z"
   },
   {
    "duration": 376,
    "start_time": "2021-09-13T10:19:44.430Z"
   },
   {
    "duration": 12,
    "start_time": "2021-09-13T10:19:44.809Z"
   },
   {
    "duration": 1240,
    "start_time": "2021-09-13T10:19:44.823Z"
   },
   {
    "duration": 83,
    "start_time": "2021-09-13T10:19:46.065Z"
   },
   {
    "duration": 10,
    "start_time": "2021-09-13T10:19:46.151Z"
   },
   {
    "duration": 31,
    "start_time": "2021-09-13T10:19:46.163Z"
   },
   {
    "duration": 24,
    "start_time": "2021-09-13T10:19:46.197Z"
   },
   {
    "duration": 47,
    "start_time": "2021-09-13T10:19:46.224Z"
   },
   {
    "duration": 17,
    "start_time": "2021-09-13T10:19:46.274Z"
   },
   {
    "duration": 36,
    "start_time": "2021-09-13T10:19:46.294Z"
   },
   {
    "duration": 42,
    "start_time": "2021-09-13T10:19:46.332Z"
   },
   {
    "duration": 10,
    "start_time": "2021-09-13T10:19:46.377Z"
   },
   {
    "duration": 42,
    "start_time": "2021-09-13T10:19:46.390Z"
   },
   {
    "duration": 9,
    "start_time": "2021-09-13T10:19:46.434Z"
   },
   {
    "duration": 104,
    "start_time": "2021-09-13T10:19:46.445Z"
   },
   {
    "duration": 10,
    "start_time": "2021-09-13T10:19:46.552Z"
   },
   {
    "duration": 83,
    "start_time": "2021-09-13T10:19:46.564Z"
   },
   {
    "duration": 15,
    "start_time": "2021-09-13T10:19:46.650Z"
   },
   {
    "duration": 12,
    "start_time": "2021-09-13T10:19:46.683Z"
   },
   {
    "duration": 1127,
    "start_time": "2021-09-13T10:19:46.698Z"
   },
   {
    "duration": 832,
    "start_time": "2021-09-13T10:19:47.828Z"
   },
   {
    "duration": 728,
    "start_time": "2021-09-13T10:19:48.663Z"
   },
   {
    "duration": 672,
    "start_time": "2021-09-13T10:19:49.393Z"
   },
   {
    "duration": 569,
    "start_time": "2021-09-13T10:19:50.067Z"
   },
   {
    "duration": 12,
    "start_time": "2021-09-13T10:19:50.639Z"
   },
   {
    "duration": 337,
    "start_time": "2021-09-13T10:19:50.654Z"
   },
   {
    "duration": 9,
    "start_time": "2021-09-13T10:19:50.994Z"
   },
   {
    "duration": 360,
    "start_time": "2021-09-13T10:19:51.006Z"
   },
   {
    "duration": 413,
    "start_time": "2021-09-13T10:19:51.369Z"
   },
   {
    "duration": 274,
    "start_time": "2021-09-13T10:19:51.785Z"
   },
   {
    "duration": 237,
    "start_time": "2021-09-13T10:19:52.061Z"
   },
   {
    "duration": 1158,
    "start_time": "2021-09-13T10:19:52.300Z"
   },
   {
    "duration": 1201,
    "start_time": "2021-09-13T10:19:53.460Z"
   },
   {
    "duration": 1260,
    "start_time": "2021-09-13T10:19:54.664Z"
   }
  ],
  "kernelspec": {
   "display_name": "Python 3",
   "language": "python",
   "name": "python3"
  },
  "language_info": {
   "codemirror_mode": {
    "name": "ipython",
    "version": 3
   },
   "file_extension": ".py",
   "mimetype": "text/x-python",
   "name": "python",
   "nbconvert_exporter": "python",
   "pygments_lexer": "ipython3",
   "version": "3.8.5"
  },
  "toc": {
   "base_numbering": 1,
   "nav_menu": {},
   "number_sections": true,
   "sideBar": true,
   "skip_h1_title": false,
   "title_cell": "Table of Contents",
   "title_sidebar": "Contents",
   "toc_cell": false,
   "toc_position": {},
   "toc_section_display": true,
   "toc_window_display": false
  }
 },
 "nbformat": 4,
 "nbformat_minor": 2
}
