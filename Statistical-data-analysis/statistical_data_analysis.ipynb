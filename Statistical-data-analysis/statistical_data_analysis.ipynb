{
 "cells": [
  {
   "cell_type": "markdown",
   "metadata": {},
   "source": [
    "# Project description"
   ]
  },
  {
   "cell_type": "markdown",
   "metadata": {},
   "source": [
    "*You work as an analyst for the telecom operator Megaline. The company offers its clients two prepaid plans, Surf and Ultimate. The commercial department wants to know which of the plans brings in more revenue in order to adjust the advertising budget.\n",
    "You are going to carry out a preliminary analysis of the plans based on a relatively small client selection. You'll have the data on 500 Megaline clients: who the clients are, where they're from, which plan they use, and the number of calls they made and text messages they sent in 2018. Your job is to analyze clients' behavior and determine which prepaid plan brings in more revenue."
   ]
  },
  {
   "cell_type": "markdown",
   "metadata": {},
   "source": [
    "### Step 1. Open the data file and study the general information. "
   ]
  },
  {
   "cell_type": "code",
   "execution_count": 58,
   "metadata": {},
   "outputs": [],
   "source": [
    "import pandas as pd\n",
    "from functools import reduce\n",
    "import matplotlib.pyplot as plt\n",
    "from matplotlib import pyplot as plt\n",
    "import numpy as np\n",
    "from scipy import stats as stats\n",
    "from scipy.stats import f as f_test\n",
    "import seaborn as sns\n",
    "import scipy.stats as st\n",
    "df_calls = pd.read_csv('/datasets/megaline_calls.csv')\n",
    "df_internet = pd.read_csv('/datasets/megaline_internet.csv')\n",
    "df_messages = pd.read_csv('/datasets/megaline_messages.csv')\n",
    "df_plans = pd.read_csv('/datasets/megaline_plans.csv')\n",
    "df_users = pd.read_csv('/datasets/megaline_users.csv')"
   ]
  },
  {
   "cell_type": "code",
   "execution_count": 21,
   "metadata": {},
   "outputs": [
    {
     "name": "stdout",
     "output_type": "stream",
     "text": [
      "Megaline_calls\n",
      "         id  user_id   call_date  duration\n",
      "0   1000_93     1000  2018-12-27      8.52\n",
      "1  1000_145     1000  2018-12-27     13.66\n",
      "Megaline_internet\n",
      "         id  user_id session_date  mb_used\n",
      "0   1000_13     1000   2018-12-29    89.86\n",
      "1  1000_204     1000   2018-12-31     0.00\n",
      "Megaline_messages\n",
      "         id  user_id message_date\n",
      "0  1000_125     1000   2018-12-27\n",
      "1  1000_160     1000   2018-12-31\n",
      "Megaline_users\n",
      "   user_id first_name  last_name  age                                   city  \\\n",
      "0     1000   Anamaria      Bauer   45  Atlanta-Sandy Springs-Roswell, GA MSA   \n",
      "1     1001     Mickey  Wilkerson   28        Seattle-Tacoma-Bellevue, WA MSA   \n",
      "\n",
      "     reg_date      plan churn_date  \n",
      "0  2018-12-24  ultimate        NaN  \n",
      "1  2018-08-13      surf        NaN  \n",
      "Megaline_plans\n",
      "   messages_included  mb_per_month_included  minutes_included  \\\n",
      "0                 50                  15360               500   \n",
      "1               1000                  30720              3000   \n",
      "\n",
      "   usd_monthly_pay  usd_per_gb  usd_per_message  usd_per_minute plan_name  \n",
      "0               20          10             0.03            0.03      surf  \n",
      "1               70           7             0.01            0.01  ultimate  \n"
     ]
    }
   ],
   "source": [
    "#checking and analysing different dataframes\n",
    "list_of_dfs = {'Megaline_calls':df_calls,'Megaline_internet':df_internet,'Megaline_messages':df_messages,'Megaline_users':df_users,'Megaline_plans':df_plans}\n",
    "\n",
    "for key in list_of_dfs:\n",
    "    print(key)\n",
    "    print (list_of_dfs[key].head(2))\n"
   ]
  },
  {
   "cell_type": "code",
   "execution_count": 22,
   "metadata": {},
   "outputs": [
    {
     "name": "stdout",
     "output_type": "stream",
     "text": [
      "Megaline_calls\n",
      "<class 'pandas.core.frame.DataFrame'>\n",
      "RangeIndex: 137735 entries, 0 to 137734\n",
      "Data columns (total 4 columns):\n",
      "id           137735 non-null object\n",
      "user_id      137735 non-null int64\n",
      "call_date    137735 non-null object\n",
      "duration     137735 non-null float64\n",
      "dtypes: float64(1), int64(1), object(2)\n",
      "memory usage: 4.2+ MB\n",
      "None\n",
      "Megaline_internet\n",
      "<class 'pandas.core.frame.DataFrame'>\n",
      "RangeIndex: 104825 entries, 0 to 104824\n",
      "Data columns (total 4 columns):\n",
      "id              104825 non-null object\n",
      "user_id         104825 non-null int64\n",
      "session_date    104825 non-null object\n",
      "mb_used         104825 non-null float64\n",
      "dtypes: float64(1), int64(1), object(2)\n",
      "memory usage: 3.2+ MB\n",
      "None\n",
      "Megaline_messages\n",
      "<class 'pandas.core.frame.DataFrame'>\n",
      "RangeIndex: 76051 entries, 0 to 76050\n",
      "Data columns (total 3 columns):\n",
      "id              76051 non-null object\n",
      "user_id         76051 non-null int64\n",
      "message_date    76051 non-null object\n",
      "dtypes: int64(1), object(2)\n",
      "memory usage: 1.7+ MB\n",
      "None\n",
      "Megaline_users\n",
      "<class 'pandas.core.frame.DataFrame'>\n",
      "RangeIndex: 500 entries, 0 to 499\n",
      "Data columns (total 8 columns):\n",
      "user_id       500 non-null int64\n",
      "first_name    500 non-null object\n",
      "last_name     500 non-null object\n",
      "age           500 non-null int64\n",
      "city          500 non-null object\n",
      "reg_date      500 non-null object\n",
      "plan          500 non-null object\n",
      "churn_date    34 non-null object\n",
      "dtypes: int64(2), object(6)\n",
      "memory usage: 31.4+ KB\n",
      "None\n",
      "Megaline_plans\n",
      "<class 'pandas.core.frame.DataFrame'>\n",
      "RangeIndex: 2 entries, 0 to 1\n",
      "Data columns (total 8 columns):\n",
      "messages_included        2 non-null int64\n",
      "mb_per_month_included    2 non-null int64\n",
      "minutes_included         2 non-null int64\n",
      "usd_monthly_pay          2 non-null int64\n",
      "usd_per_gb               2 non-null int64\n",
      "usd_per_message          2 non-null float64\n",
      "usd_per_minute           2 non-null float64\n",
      "plan_name                2 non-null object\n",
      "dtypes: float64(2), int64(5), object(1)\n",
      "memory usage: 256.0+ bytes\n",
      "None\n"
     ]
    }
   ],
   "source": [
    "#checking and analysing different dataframes\n",
    "for key in list_of_dfs:\n",
    "    print(key)\n",
    "    print (list_of_dfs[key].info())\n"
   ]
  },
  {
   "cell_type": "code",
   "execution_count": 4,
   "metadata": {},
   "outputs": [
    {
     "name": "stdout",
     "output_type": "stream",
     "text": [
      "Megaline_calls\n",
      "id           0\n",
      "user_id      0\n",
      "call_date    0\n",
      "duration     0\n",
      "dtype: int64\n",
      "Megaline_internet\n",
      "id              0\n",
      "user_id         0\n",
      "session_date    0\n",
      "mb_used         0\n",
      "dtype: int64\n",
      "Megaline_messages\n",
      "id              0\n",
      "user_id         0\n",
      "message_date    0\n",
      "dtype: int64\n",
      "Megaline_users\n",
      "user_id         0\n",
      "first_name      0\n",
      "last_name       0\n",
      "age             0\n",
      "city            0\n",
      "reg_date        0\n",
      "plan            0\n",
      "churn_date    466\n",
      "dtype: int64\n",
      "Megaline_plans\n",
      "messages_included        0\n",
      "mb_per_month_included    0\n",
      "minutes_included         0\n",
      "usd_monthly_pay          0\n",
      "usd_per_gb               0\n",
      "usd_per_message          0\n",
      "usd_per_minute           0\n",
      "plan_name                0\n",
      "dtype: int64\n"
     ]
    }
   ],
   "source": [
    "#checking and analysing different dataframes\n",
    "for key in list_of_dfs:\n",
    "    print(key)\n",
    "    print (list_of_dfs[key].isnull().sum())\n",
    "\n"
   ]
  },
  {
   "cell_type": "code",
   "execution_count": 5,
   "metadata": {},
   "outputs": [
    {
     "name": "stdout",
     "output_type": "stream",
     "text": [
      "Megaline_calls\n",
      "              id        user_id   call_date       duration\n",
      "count     137735  137735.000000      137735  137735.000000\n",
      "unique    137735            NaN         351            NaN\n",
      "top     1357_626            NaN  2018-12-27            NaN\n",
      "freq           1            NaN        1091            NaN\n",
      "mean         NaN    1247.658046         NaN       6.745927\n",
      "std          NaN     139.416268         NaN       5.839241\n",
      "min          NaN    1000.000000         NaN       0.000000\n",
      "25%          NaN    1128.000000         NaN       1.290000\n",
      "50%          NaN    1247.000000         NaN       5.980000\n",
      "75%          NaN    1365.000000         NaN      10.690000\n",
      "max          NaN    1499.000000         NaN      37.600000\n",
      "Megaline_internet\n",
      "              id        user_id session_date        mb_used\n",
      "count     104825  104825.000000       104825  104825.000000\n",
      "unique    104825            NaN          351            NaN\n",
      "top     1214_456            NaN   2018-12-24            NaN\n",
      "freq           1            NaN          851            NaN\n",
      "mean         NaN    1242.496361          NaN     366.713701\n",
      "std          NaN     142.053913          NaN     277.170542\n",
      "min          NaN    1000.000000          NaN       0.000000\n",
      "25%          NaN    1122.000000          NaN     136.080000\n",
      "50%          NaN    1236.000000          NaN     343.980000\n",
      "75%          NaN    1367.000000          NaN     554.610000\n",
      "max          NaN    1499.000000          NaN    1693.470000\n",
      "Megaline_messages\n",
      "              id       user_id message_date\n",
      "count      76051  76051.000000        76051\n",
      "unique     76051           NaN          351\n",
      "top     1192_313           NaN   2018-12-28\n",
      "freq           1           NaN          702\n",
      "mean         NaN   1245.972768          NaN\n",
      "std          NaN    139.843635          NaN\n",
      "min          NaN   1000.000000          NaN\n",
      "25%          NaN   1123.000000          NaN\n",
      "50%          NaN   1251.000000          NaN\n",
      "75%          NaN   1362.000000          NaN\n",
      "max          NaN   1497.000000          NaN\n",
      "Megaline_users\n",
      "            user_id first_name last_name         age  \\\n",
      "count    500.000000        500       500  500.000000   \n",
      "unique          NaN        458       399         NaN   \n",
      "top             NaN    Leonila     Brock         NaN   \n",
      "freq            NaN          3         3         NaN   \n",
      "mean    1249.500000        NaN       NaN   45.486000   \n",
      "std      144.481833        NaN       NaN   16.972269   \n",
      "min     1000.000000        NaN       NaN   18.000000   \n",
      "25%     1124.750000        NaN       NaN   30.000000   \n",
      "50%     1249.500000        NaN       NaN   46.000000   \n",
      "75%     1374.250000        NaN       NaN   61.000000   \n",
      "max     1499.000000        NaN       NaN   75.000000   \n",
      "\n",
      "                                             city    reg_date  plan  \\\n",
      "count                                         500         500   500   \n",
      "unique                                         73         266     2   \n",
      "top     New York-Newark-Jersey City, NY-NJ-PA MSA  2018-11-29  surf   \n",
      "freq                                           80           5   339   \n",
      "mean                                          NaN         NaN   NaN   \n",
      "std                                           NaN         NaN   NaN   \n",
      "min                                           NaN         NaN   NaN   \n",
      "25%                                           NaN         NaN   NaN   \n",
      "50%                                           NaN         NaN   NaN   \n",
      "75%                                           NaN         NaN   NaN   \n",
      "max                                           NaN         NaN   NaN   \n",
      "\n",
      "        churn_date  \n",
      "count           34  \n",
      "unique          29  \n",
      "top     2018-12-18  \n",
      "freq             3  \n",
      "mean           NaN  \n",
      "std            NaN  \n",
      "min            NaN  \n",
      "25%            NaN  \n",
      "50%            NaN  \n",
      "75%            NaN  \n",
      "max            NaN  \n",
      "Megaline_plans\n",
      "        messages_included  mb_per_month_included  minutes_included  \\\n",
      "count            2.000000               2.000000          2.000000   \n",
      "unique                NaN                    NaN               NaN   \n",
      "top                   NaN                    NaN               NaN   \n",
      "freq                  NaN                    NaN               NaN   \n",
      "mean           525.000000           23040.000000       1750.000000   \n",
      "std            671.751442           10861.160159       1767.766953   \n",
      "min             50.000000           15360.000000        500.000000   \n",
      "25%            287.500000           19200.000000       1125.000000   \n",
      "50%            525.000000           23040.000000       1750.000000   \n",
      "75%            762.500000           26880.000000       2375.000000   \n",
      "max           1000.000000           30720.000000       3000.000000   \n",
      "\n",
      "        usd_monthly_pay  usd_per_gb  usd_per_message  usd_per_minute plan_name  \n",
      "count          2.000000     2.00000         2.000000        2.000000         2  \n",
      "unique              NaN         NaN              NaN             NaN         2  \n",
      "top                 NaN         NaN              NaN             NaN  ultimate  \n",
      "freq                NaN         NaN              NaN             NaN         1  \n",
      "mean          45.000000     8.50000         0.020000        0.020000       NaN  \n",
      "std           35.355339     2.12132         0.014142        0.014142       NaN  \n",
      "min           20.000000     7.00000         0.010000        0.010000       NaN  \n",
      "25%           32.500000     7.75000         0.015000        0.015000       NaN  \n",
      "50%           45.000000     8.50000         0.020000        0.020000       NaN  \n",
      "75%           57.500000     9.25000         0.025000        0.025000       NaN  \n",
      "max           70.000000    10.00000         0.030000        0.030000       NaN  \n"
     ]
    }
   ],
   "source": [
    "for key in list_of_dfs:\n",
    "    print(key)\n",
    "    print (list_of_dfs[key].describe(include = 'all'))\n",
    "\n"
   ]
  },
  {
   "cell_type": "markdown",
   "metadata": {},
   "source": [
    " **Conclusion**"
   ]
  },
  {
   "cell_type": "markdown",
   "metadata": {},
   "source": [
    "*Looking into details of data it can be seen that there are 5 megalines files for call,internet,messages,user and plan. further when we see the columns of each table it can be pinned out that userids is common column in call,internet,messages and users columns. while analysing null factors , there is missing values in users table churn data column*."
   ]
  },
  {
   "cell_type": "markdown",
   "metadata": {},
   "source": [
    "### Step 2. Prepare the data "
   ]
  },
  {
   "cell_type": "markdown",
   "metadata": {},
   "source": [
    "<font color='green'><h3>Convert the data to the necessary types</h3></font>"
   ]
  },
  {
   "cell_type": "code",
   "execution_count": 23,
   "metadata": {},
   "outputs": [
    {
     "name": "stdout",
     "output_type": "stream",
     "text": [
      "Megaline_calls\n",
      "<class 'pandas.core.frame.DataFrame'>\n",
      "RangeIndex: 137735 entries, 0 to 137734\n",
      "Data columns (total 4 columns):\n",
      "id           137735 non-null object\n",
      "user_id      137735 non-null int64\n",
      "call_date    137735 non-null object\n",
      "duration     137735 non-null float64\n",
      "dtypes: float64(1), int64(1), object(2)\n",
      "memory usage: 4.2+ MB\n",
      "None\n",
      "Megaline_internet\n",
      "<class 'pandas.core.frame.DataFrame'>\n",
      "RangeIndex: 104825 entries, 0 to 104824\n",
      "Data columns (total 4 columns):\n",
      "id              104825 non-null object\n",
      "user_id         104825 non-null int64\n",
      "session_date    104825 non-null object\n",
      "mb_used         104825 non-null float64\n",
      "dtypes: float64(1), int64(1), object(2)\n",
      "memory usage: 3.2+ MB\n",
      "None\n",
      "Megaline_messages\n",
      "<class 'pandas.core.frame.DataFrame'>\n",
      "RangeIndex: 76051 entries, 0 to 76050\n",
      "Data columns (total 3 columns):\n",
      "id              76051 non-null object\n",
      "user_id         76051 non-null int64\n",
      "message_date    76051 non-null object\n",
      "dtypes: int64(1), object(2)\n",
      "memory usage: 1.7+ MB\n",
      "None\n",
      "Megaline_users\n",
      "<class 'pandas.core.frame.DataFrame'>\n",
      "RangeIndex: 500 entries, 0 to 499\n",
      "Data columns (total 8 columns):\n",
      "user_id       500 non-null int64\n",
      "first_name    500 non-null object\n",
      "last_name     500 non-null object\n",
      "age           500 non-null int64\n",
      "city          500 non-null object\n",
      "reg_date      500 non-null object\n",
      "plan          500 non-null object\n",
      "churn_date    34 non-null object\n",
      "dtypes: int64(2), object(6)\n",
      "memory usage: 31.4+ KB\n",
      "None\n",
      "Megaline_plans\n",
      "<class 'pandas.core.frame.DataFrame'>\n",
      "RangeIndex: 2 entries, 0 to 1\n",
      "Data columns (total 8 columns):\n",
      "messages_included        2 non-null int64\n",
      "mb_per_month_included    2 non-null int64\n",
      "minutes_included         2 non-null int64\n",
      "usd_monthly_pay          2 non-null int64\n",
      "usd_per_gb               2 non-null int64\n",
      "usd_per_message          2 non-null float64\n",
      "usd_per_minute           2 non-null float64\n",
      "plan_name                2 non-null object\n",
      "dtypes: float64(2), int64(5), object(1)\n",
      "memory usage: 256.0+ bytes\n",
      "None\n"
     ]
    }
   ],
   "source": [
    "for key in list_of_dfs:\n",
    "    print(key)\n",
    "    print (list_of_dfs[key].info())\n",
    "\n"
   ]
  },
  {
   "cell_type": "code",
   "execution_count": 25,
   "metadata": {},
   "outputs": [],
   "source": [
    "#here we converted the non null object to date time format to use it for further calculations\n",
    "#converted call_date,session_date,message_date,reg_date,churn_date into datetime format from df_users,df_call,df_internet,df_messagesand df_users dataframe\n",
    "df_calls[\"call_date\"] = pd.to_datetime(df_calls[\"call_date\"], format='%Y-%m-%d')\n",
    "df_internet[\"session_date\"] = pd.to_datetime(df_internet[\"session_date\"], format='%Y-%m-%d')\n",
    "df_messages[\"message_date\"] = pd.to_datetime(df_messages[\"message_date\"], format='%Y-%m-%d')\n",
    "df_users[\"reg_date\"] = pd.to_datetime(df_users[\"reg_date\"], format='%Y-%m-%d')\n",
    "df_users[\"churn_date\"] = pd.to_datetime(df_users[\"churn_date\"], format='%Y-%m-%d')\n",
    "df_calls['duration'] = df_calls['duration'].astype('int')\n",
    "df_internet['mb_used'] = df_internet['mb_used'].astype('int')"
   ]
  },
  {
   "cell_type": "markdown",
   "metadata": {},
   "source": [
    "<font color='green'><h3>Find and eliminate errors in the data</h3></font>"
   ]
  },
  {
   "cell_type": "code",
   "execution_count": 8,
   "metadata": {},
   "outputs": [
    {
     "data": {
      "text/plain": [
       "user_id         0\n",
       "first_name      0\n",
       "last_name       0\n",
       "age             0\n",
       "city            0\n",
       "reg_date        0\n",
       "plan            0\n",
       "churn_date    466\n",
       "dtype: int64"
      ]
     },
     "execution_count": 8,
     "metadata": {},
     "output_type": "execute_result"
    }
   ],
   "source": [
    "df_users.isnull().sum()"
   ]
  },
  {
   "cell_type": "code",
   "execution_count": 9,
   "metadata": {},
   "outputs": [
    {
     "data": {
      "text/plain": [
       "2018-12-18    3\n",
       "2018-12-31    2\n",
       "2018-11-14    2\n",
       "2018-12-19    2\n",
       "2018-11-16    1\n",
       "2018-10-03    1\n",
       "2018-08-16    1\n",
       "2018-12-15    1\n",
       "2018-12-12    1\n",
       "2018-11-11    1\n",
       "2018-12-26    1\n",
       "2018-09-07    1\n",
       "2018-10-22    1\n",
       "2018-09-18    1\n",
       "2018-09-01    1\n",
       "2018-12-10    1\n",
       "2018-12-27    1\n",
       "2018-11-30    1\n",
       "2018-10-13    1\n",
       "2018-11-24    1\n",
       "2018-10-07    1\n",
       "2018-12-22    1\n",
       "2018-11-21    1\n",
       "2018-11-18    1\n",
       "2018-09-17    1\n",
       "2018-07-31    1\n",
       "2018-12-30    1\n",
       "2018-11-29    1\n",
       "2018-08-19    1\n",
       "Name: churn_date, dtype: int64"
      ]
     },
     "execution_count": 9,
     "metadata": {},
     "output_type": "execute_result"
    }
   ],
   "source": [
    "df_users['churn_date'].value_counts()"
   ]
  },
  {
   "cell_type": "code",
   "execution_count": 26,
   "metadata": {},
   "outputs": [],
   "source": [
    "#adding month column the table in df_calls,df_internet and df_messages\n",
    "df_calls[\"month\"] = df_calls[\"call_date\"].dt.month\n",
    "df_internet[\"month\"] = df_internet[\"session_date\"].dt.month\n",
    "df_messages['month'] = df_messages['message_date'].dt.month\n"
   ]
  },
  {
   "cell_type": "code",
   "execution_count": 27,
   "metadata": {},
   "outputs": [],
   "source": [
    "#merging the tables of df_calls,df_internet and df_messages tables by using month and user_id column\n",
    "#agg({'message_date': 'count'})\n",
    "grouped_calls = df_calls.groupby([\"user_id\", 'month']).agg({'duration': 'sum', 'call_date': 'count'}).reset_index()\n",
    "grouped_internet = df_internet.groupby([\"user_id\", \"month\"]).agg({'mb_used': 'sum'}).reset_index()\n",
    "grouped_messages = df_messages.groupby([\"user_id\", \"month\"]).agg({'message_date': 'count'}).reset_index()\n",
    "\n",
    "data_frames = [grouped_calls, grouped_internet, grouped_messages]\n",
    "df_merged = reduce(lambda  left,right: pd.merge(left,right,on=['user_id', 'month'],\n",
    "                                            how='outer'), data_frames).fillna(0).reset_index()\n"
   ]
  },
  {
   "cell_type": "code",
   "execution_count": 12,
   "metadata": {},
   "outputs": [
    {
     "data": {
      "text/html": [
       "<div>\n",
       "<style scoped>\n",
       "    .dataframe tbody tr th:only-of-type {\n",
       "        vertical-align: middle;\n",
       "    }\n",
       "\n",
       "    .dataframe tbody tr th {\n",
       "        vertical-align: top;\n",
       "    }\n",
       "\n",
       "    .dataframe thead th {\n",
       "        text-align: right;\n",
       "    }\n",
       "</style>\n",
       "<table border=\"1\" class=\"dataframe\">\n",
       "  <thead>\n",
       "    <tr style=\"text-align: right;\">\n",
       "      <th></th>\n",
       "      <th>index</th>\n",
       "      <th>user_id</th>\n",
       "      <th>month</th>\n",
       "      <th>duration</th>\n",
       "      <th>call_date</th>\n",
       "      <th>mb_used</th>\n",
       "      <th>message_date</th>\n",
       "    </tr>\n",
       "  </thead>\n",
       "  <tbody>\n",
       "    <tr>\n",
       "      <td>0</td>\n",
       "      <td>0</td>\n",
       "      <td>1000</td>\n",
       "      <td>12</td>\n",
       "      <td>108.0</td>\n",
       "      <td>16.0</td>\n",
       "      <td>1899.0</td>\n",
       "      <td>11.0</td>\n",
       "    </tr>\n",
       "    <tr>\n",
       "      <td>1</td>\n",
       "      <td>1</td>\n",
       "      <td>1001</td>\n",
       "      <td>8</td>\n",
       "      <td>160.0</td>\n",
       "      <td>27.0</td>\n",
       "      <td>6908.0</td>\n",
       "      <td>30.0</td>\n",
       "    </tr>\n",
       "    <tr>\n",
       "      <td>2</td>\n",
       "      <td>2</td>\n",
       "      <td>1001</td>\n",
       "      <td>9</td>\n",
       "      <td>278.0</td>\n",
       "      <td>49.0</td>\n",
       "      <td>13294.0</td>\n",
       "      <td>44.0</td>\n",
       "    </tr>\n",
       "    <tr>\n",
       "      <td>3</td>\n",
       "      <td>3</td>\n",
       "      <td>1001</td>\n",
       "      <td>10</td>\n",
       "      <td>348.0</td>\n",
       "      <td>65.0</td>\n",
       "      <td>22308.0</td>\n",
       "      <td>53.0</td>\n",
       "    </tr>\n",
       "    <tr>\n",
       "      <td>4</td>\n",
       "      <td>4</td>\n",
       "      <td>1001</td>\n",
       "      <td>11</td>\n",
       "      <td>379.0</td>\n",
       "      <td>64.0</td>\n",
       "      <td>18477.0</td>\n",
       "      <td>36.0</td>\n",
       "    </tr>\n",
       "  </tbody>\n",
       "</table>\n",
       "</div>"
      ],
      "text/plain": [
       "   index  user_id  month  duration  call_date  mb_used  message_date\n",
       "0      0     1000     12     108.0       16.0   1899.0          11.0\n",
       "1      1     1001      8     160.0       27.0   6908.0          30.0\n",
       "2      2     1001      9     278.0       49.0  13294.0          44.0\n",
       "3      3     1001     10     348.0       65.0  22308.0          53.0\n",
       "4      4     1001     11     379.0       64.0  18477.0          36.0"
      ]
     },
     "execution_count": 12,
     "metadata": {},
     "output_type": "execute_result"
    }
   ],
   "source": [
    "#print(len(total2))\n",
    "df_merged.head()\n"
   ]
  },
  {
   "cell_type": "code",
   "execution_count": 28,
   "metadata": {},
   "outputs": [
    {
     "data": {
      "text/html": [
       "<div>\n",
       "<style scoped>\n",
       "    .dataframe tbody tr th:only-of-type {\n",
       "        vertical-align: middle;\n",
       "    }\n",
       "\n",
       "    .dataframe tbody tr th {\n",
       "        vertical-align: top;\n",
       "    }\n",
       "\n",
       "    .dataframe thead th {\n",
       "        text-align: right;\n",
       "    }\n",
       "</style>\n",
       "<table border=\"1\" class=\"dataframe\">\n",
       "  <thead>\n",
       "    <tr style=\"text-align: right;\">\n",
       "      <th></th>\n",
       "      <th>user_id</th>\n",
       "      <th>first_name</th>\n",
       "      <th>last_name</th>\n",
       "      <th>age</th>\n",
       "      <th>city</th>\n",
       "      <th>reg_date</th>\n",
       "      <th>plan</th>\n",
       "      <th>churn_date</th>\n",
       "      <th>used_days</th>\n",
       "    </tr>\n",
       "  </thead>\n",
       "  <tbody>\n",
       "    <tr>\n",
       "      <td>0</td>\n",
       "      <td>1000</td>\n",
       "      <td>Anamaria</td>\n",
       "      <td>Bauer</td>\n",
       "      <td>45</td>\n",
       "      <td>Atlanta-Sandy Springs-Roswell, GA MSA</td>\n",
       "      <td>2018-12-24</td>\n",
       "      <td>ultimate</td>\n",
       "      <td>2021-02-24</td>\n",
       "      <td>793</td>\n",
       "    </tr>\n",
       "    <tr>\n",
       "      <td>1</td>\n",
       "      <td>1001</td>\n",
       "      <td>Mickey</td>\n",
       "      <td>Wilkerson</td>\n",
       "      <td>28</td>\n",
       "      <td>Seattle-Tacoma-Bellevue, WA MSA</td>\n",
       "      <td>2018-08-13</td>\n",
       "      <td>surf</td>\n",
       "      <td>2021-02-24</td>\n",
       "      <td>926</td>\n",
       "    </tr>\n",
       "    <tr>\n",
       "      <td>2</td>\n",
       "      <td>1002</td>\n",
       "      <td>Carlee</td>\n",
       "      <td>Hoffman</td>\n",
       "      <td>36</td>\n",
       "      <td>Las Vegas-Henderson-Paradise, NV MSA</td>\n",
       "      <td>2018-10-21</td>\n",
       "      <td>surf</td>\n",
       "      <td>2021-02-24</td>\n",
       "      <td>857</td>\n",
       "    </tr>\n",
       "    <tr>\n",
       "      <td>3</td>\n",
       "      <td>1003</td>\n",
       "      <td>Reynaldo</td>\n",
       "      <td>Jenkins</td>\n",
       "      <td>52</td>\n",
       "      <td>Tulsa, OK MSA</td>\n",
       "      <td>2018-01-28</td>\n",
       "      <td>surf</td>\n",
       "      <td>2021-02-24</td>\n",
       "      <td>1123</td>\n",
       "    </tr>\n",
       "    <tr>\n",
       "      <td>4</td>\n",
       "      <td>1004</td>\n",
       "      <td>Leonila</td>\n",
       "      <td>Thompson</td>\n",
       "      <td>40</td>\n",
       "      <td>Seattle-Tacoma-Bellevue, WA MSA</td>\n",
       "      <td>2018-05-23</td>\n",
       "      <td>surf</td>\n",
       "      <td>2021-02-24</td>\n",
       "      <td>1008</td>\n",
       "    </tr>\n",
       "  </tbody>\n",
       "</table>\n",
       "</div>"
      ],
      "text/plain": [
       "   user_id first_name  last_name  age                                   city  \\\n",
       "0     1000   Anamaria      Bauer   45  Atlanta-Sandy Springs-Roswell, GA MSA   \n",
       "1     1001     Mickey  Wilkerson   28        Seattle-Tacoma-Bellevue, WA MSA   \n",
       "2     1002     Carlee    Hoffman   36   Las Vegas-Henderson-Paradise, NV MSA   \n",
       "3     1003   Reynaldo    Jenkins   52                          Tulsa, OK MSA   \n",
       "4     1004    Leonila   Thompson   40        Seattle-Tacoma-Bellevue, WA MSA   \n",
       "\n",
       "    reg_date      plan churn_date  used_days  \n",
       "0 2018-12-24  ultimate 2021-02-24        793  \n",
       "1 2018-08-13      surf 2021-02-24        926  \n",
       "2 2018-10-21      surf 2021-02-24        857  \n",
       "3 2018-01-28      surf 2021-02-24       1123  \n",
       "4 2018-05-23      surf 2021-02-24       1008  "
      ]
     },
     "execution_count": 28,
     "metadata": {},
     "output_type": "execute_result"
    }
   ],
   "source": [
    "#if the value is missing in the churn_date column it means the calling plan was being used when this data was\n",
    "#retrieved so we will place it with a current date\n",
    "df_users.loc[df_users[\"churn_date\"].isna(), \"churn_date\"] = pd.datetime.now().date()\n",
    "df_users[\"used_days\"] = (df_users[\"churn_date\"]-df_users[\"reg_date\"]).dt.days\n",
    "df_users.head()"
   ]
  },
  {
   "cell_type": "code",
   "execution_count": 32,
   "metadata": {},
   "outputs": [
    {
     "data": {
      "text/html": [
       "<div>\n",
       "<style scoped>\n",
       "    .dataframe tbody tr th:only-of-type {\n",
       "        vertical-align: middle;\n",
       "    }\n",
       "\n",
       "    .dataframe tbody tr th {\n",
       "        vertical-align: top;\n",
       "    }\n",
       "\n",
       "    .dataframe thead th {\n",
       "        text-align: right;\n",
       "    }\n",
       "</style>\n",
       "<table border=\"1\" class=\"dataframe\">\n",
       "  <thead>\n",
       "    <tr style=\"text-align: right;\">\n",
       "      <th></th>\n",
       "      <th>id</th>\n",
       "      <th>user_id</th>\n",
       "      <th>call_date</th>\n",
       "      <th>duration</th>\n",
       "      <th>month</th>\n",
       "    </tr>\n",
       "  </thead>\n",
       "  <tbody>\n",
       "    <tr>\n",
       "      <td>19</td>\n",
       "      <td>1001_4</td>\n",
       "      <td>1001</td>\n",
       "      <td>2018-12-05</td>\n",
       "      <td>0</td>\n",
       "      <td>12</td>\n",
       "    </tr>\n",
       "    <tr>\n",
       "      <td>25</td>\n",
       "      <td>1001_13</td>\n",
       "      <td>1001</td>\n",
       "      <td>2018-12-24</td>\n",
       "      <td>0</td>\n",
       "      <td>12</td>\n",
       "    </tr>\n",
       "    <tr>\n",
       "      <td>28</td>\n",
       "      <td>1001_23</td>\n",
       "      <td>1001</td>\n",
       "      <td>2018-10-27</td>\n",
       "      <td>0</td>\n",
       "      <td>10</td>\n",
       "    </tr>\n",
       "    <tr>\n",
       "      <td>31</td>\n",
       "      <td>1001_30</td>\n",
       "      <td>1001</td>\n",
       "      <td>2018-10-17</td>\n",
       "      <td>0</td>\n",
       "      <td>10</td>\n",
       "    </tr>\n",
       "    <tr>\n",
       "      <td>32</td>\n",
       "      <td>1001_31</td>\n",
       "      <td>1001</td>\n",
       "      <td>2018-11-03</td>\n",
       "      <td>0</td>\n",
       "      <td>11</td>\n",
       "    </tr>\n",
       "    <tr>\n",
       "      <td>...</td>\n",
       "      <td>...</td>\n",
       "      <td>...</td>\n",
       "      <td>...</td>\n",
       "      <td>...</td>\n",
       "      <td>...</td>\n",
       "    </tr>\n",
       "    <tr>\n",
       "      <td>137720</td>\n",
       "      <td>1499_189</td>\n",
       "      <td>1499</td>\n",
       "      <td>2018-12-27</td>\n",
       "      <td>0</td>\n",
       "      <td>12</td>\n",
       "    </tr>\n",
       "    <tr>\n",
       "      <td>137722</td>\n",
       "      <td>1499_191</td>\n",
       "      <td>1499</td>\n",
       "      <td>2018-12-24</td>\n",
       "      <td>0</td>\n",
       "      <td>12</td>\n",
       "    </tr>\n",
       "    <tr>\n",
       "      <td>137725</td>\n",
       "      <td>1499_194</td>\n",
       "      <td>1499</td>\n",
       "      <td>2018-10-31</td>\n",
       "      <td>0</td>\n",
       "      <td>10</td>\n",
       "    </tr>\n",
       "    <tr>\n",
       "      <td>137727</td>\n",
       "      <td>1499_196</td>\n",
       "      <td>1499</td>\n",
       "      <td>2018-11-22</td>\n",
       "      <td>0</td>\n",
       "      <td>11</td>\n",
       "    </tr>\n",
       "    <tr>\n",
       "      <td>137733</td>\n",
       "      <td>1499_202</td>\n",
       "      <td>1499</td>\n",
       "      <td>2018-10-10</td>\n",
       "      <td>0</td>\n",
       "      <td>10</td>\n",
       "    </tr>\n",
       "  </tbody>\n",
       "</table>\n",
       "<p>32559 rows × 5 columns</p>\n",
       "</div>"
      ],
      "text/plain": [
       "              id  user_id  call_date  duration  month\n",
       "19        1001_4     1001 2018-12-05         0     12\n",
       "25       1001_13     1001 2018-12-24         0     12\n",
       "28       1001_23     1001 2018-10-27         0     10\n",
       "31       1001_30     1001 2018-10-17         0     10\n",
       "32       1001_31     1001 2018-11-03         0     11\n",
       "...          ...      ...        ...       ...    ...\n",
       "137720  1499_189     1499 2018-12-27         0     12\n",
       "137722  1499_191     1499 2018-12-24         0     12\n",
       "137725  1499_194     1499 2018-10-31         0     10\n",
       "137727  1499_196     1499 2018-11-22         0     11\n",
       "137733  1499_202     1499 2018-10-10         0     10\n",
       "\n",
       "[32559 rows x 5 columns]"
      ]
     },
     "execution_count": 32,
     "metadata": {},
     "output_type": "execute_result"
    }
   ],
   "source": [
    "#noting how many calls have duration of 0 ,as there is a lot of data with 32559 rows\n",
    "df_calls['duration'].value_counts()\n",
    "df_calls.query('duration == 0.00')"
   ]
  },
  {
   "cell_type": "code",
   "execution_count": 43,
   "metadata": {},
   "outputs": [
    {
     "data": {
      "image/png": "[encoded data removed]",
      "text/plain": [
       "<Figure size 576x360 with 1 Axes>"
      ]
     },
     "metadata": {
      "needs_background": "light"
     },
     "output_type": "display_data"
    }
   ],
   "source": [
    "#plotting histograms to see the number of 0's in the graphs \n",
    "plt.figure(figsize=(8,5))\n",
    "df_calls[\"duration\"].plot(kind='hist', title=\"The duration of calls on the number of user ids\")\n",
    "plt.suptitle(' Analyze the duration of calls',fontsize=14, fontweight='bold') #title\n",
    "plt.xlabel('duration of calls  ') #x label\n",
    "plt.ylabel('frequency') #y label\n",
    "plt.show()\n",
    "#as there are large number of people with 0's value it can be considered as miss calls,or calls not picked up.As we cannot delete these values it wi\n",
    "#will lead to large amount of data loss \n"
   ]
  },
  {
   "cell_type": "code",
   "execution_count": 39,
   "metadata": {},
   "outputs": [
    {
     "data": {
      "text/plain": [
       "Text(0, 0.5, 'Frequency')"
      ]
     },
     "execution_count": 39,
     "metadata": {},
     "output_type": "execute_result"
    },
    {
     "data": {
      "image/png": "[encoded data removed]",
      "text/plain": [
       "<Figure size 432x288 with 1 Axes>"
      ]
     },
     "metadata": {
      "needs_background": "light"
     },
     "output_type": "display_data"
    }
   ],
   "source": [
    "#df_calls['duration'] = df_calls['duration']\n",
    "sns.distplot(df_calls['duration'], hist=True,bins=5)\n",
    "plt.xlabel('call duration')\n",
    "plt.ylabel('Frequency')\n"
   ]
  },
  {
   "cell_type": "code",
   "execution_count": 57,
   "metadata": {},
   "outputs": [
    {
     "data": {
      "image/png": "[encoded data removed]",
      "text/plain": [
       "<Figure size 576x360 with 1 Axes>"
      ]
     },
     "metadata": {
      "needs_background": "light"
     },
     "output_type": "display_data"
    }
   ],
   "source": [
    "#plotting histograms to see the number of 0's in the graphs \n",
    "plt.figure(figsize=(8,5))\n",
    "df_internet[\"mb_used\"].plot(kind='hist', title=\"The volume of data in mb\")\n",
    "plt.suptitle(' Analyze the duration of calls',fontsize=14, fontweight='bold') #title\n",
    "plt.xlabel('volume of data ') #x label\n",
    "plt.ylabel('frequency') #y label\n",
    "plt.show()"
   ]
  },
  {
   "cell_type": "markdown",
   "metadata": {},
   "source": [
    "<font color='green'><h3>The number of calls made and minutes used per month\n",
    "The number of text messages sent per month\n",
    "The volume of data per month\n",
    "The monthly revenue from each user (subtract the free package limit from the total number of calls, text messages, and data; multiply the result by the calling plan value; add the monthly charge depending on the calling plan)</h3></font>"
   ]
  },
  {
   "cell_type": "code",
   "execution_count": 15,
   "metadata": {},
   "outputs": [
    {
     "data": {
      "text/html": [
       "<div>\n",
       "<style scoped>\n",
       "    .dataframe tbody tr th:only-of-type {\n",
       "        vertical-align: middle;\n",
       "    }\n",
       "\n",
       "    .dataframe tbody tr th {\n",
       "        vertical-align: top;\n",
       "    }\n",
       "\n",
       "    .dataframe thead th {\n",
       "        text-align: right;\n",
       "    }\n",
       "</style>\n",
       "<table border=\"1\" class=\"dataframe\">\n",
       "  <thead>\n",
       "    <tr style=\"text-align: right;\">\n",
       "      <th></th>\n",
       "      <th>index</th>\n",
       "      <th>user_id</th>\n",
       "      <th>month</th>\n",
       "      <th>duration</th>\n",
       "      <th>call_date</th>\n",
       "      <th>mb_used</th>\n",
       "      <th>message_date</th>\n",
       "    </tr>\n",
       "  </thead>\n",
       "  <tbody>\n",
       "    <tr>\n",
       "      <td>0</td>\n",
       "      <td>0</td>\n",
       "      <td>1000</td>\n",
       "      <td>12</td>\n",
       "      <td>108.0</td>\n",
       "      <td>16.0</td>\n",
       "      <td>1899.0</td>\n",
       "      <td>11.0</td>\n",
       "    </tr>\n",
       "    <tr>\n",
       "      <td>1</td>\n",
       "      <td>1</td>\n",
       "      <td>1001</td>\n",
       "      <td>8</td>\n",
       "      <td>160.0</td>\n",
       "      <td>27.0</td>\n",
       "      <td>6908.0</td>\n",
       "      <td>30.0</td>\n",
       "    </tr>\n",
       "    <tr>\n",
       "      <td>2</td>\n",
       "      <td>2</td>\n",
       "      <td>1001</td>\n",
       "      <td>9</td>\n",
       "      <td>278.0</td>\n",
       "      <td>49.0</td>\n",
       "      <td>13294.0</td>\n",
       "      <td>44.0</td>\n",
       "    </tr>\n",
       "    <tr>\n",
       "      <td>3</td>\n",
       "      <td>3</td>\n",
       "      <td>1001</td>\n",
       "      <td>10</td>\n",
       "      <td>348.0</td>\n",
       "      <td>65.0</td>\n",
       "      <td>22308.0</td>\n",
       "      <td>53.0</td>\n",
       "    </tr>\n",
       "    <tr>\n",
       "      <td>4</td>\n",
       "      <td>4</td>\n",
       "      <td>1001</td>\n",
       "      <td>11</td>\n",
       "      <td>379.0</td>\n",
       "      <td>64.0</td>\n",
       "      <td>18477.0</td>\n",
       "      <td>36.0</td>\n",
       "    </tr>\n",
       "  </tbody>\n",
       "</table>\n",
       "</div>"
      ],
      "text/plain": [
       "   index  user_id  month  duration  call_date  mb_used  message_date\n",
       "0      0     1000     12     108.0       16.0   1899.0          11.0\n",
       "1      1     1001      8     160.0       27.0   6908.0          30.0\n",
       "2      2     1001      9     278.0       49.0  13294.0          44.0\n",
       "3      3     1001     10     348.0       65.0  22308.0          53.0\n",
       "4      4     1001     11     379.0       64.0  18477.0          36.0"
      ]
     },
     "execution_count": 15,
     "metadata": {},
     "output_type": "execute_result"
    }
   ],
   "source": [
    "df_merged.head()"
   ]
  },
  {
   "cell_type": "code",
   "execution_count": 44,
   "metadata": {},
   "outputs": [],
   "source": [
    "months = 12"
   ]
  },
  {
   "cell_type": "code",
   "execution_count": 45,
   "metadata": {},
   "outputs": [],
   "source": [
    "#The number of calls made and minutes used per month The number of text messages sent per month The volume of data per month \n",
    "df_merged['duration_per_month'] = df_merged['duration'] / months\n",
    "df_merged['calls_month'] = df_merged['call_date'] / months\n",
    "df_merged['internet_mb_per_month'] = df_merged['mb_used'] / months\n",
    "df_merged['msg_per_month'] = df_merged['message_date'] / months"
   ]
  },
  {
   "cell_type": "code",
   "execution_count": 18,
   "metadata": {
    "scrolled": true
   },
   "outputs": [
    {
     "data": {
      "text/html": [
       "<div>\n",
       "<style scoped>\n",
       "    .dataframe tbody tr th:only-of-type {\n",
       "        vertical-align: middle;\n",
       "    }\n",
       "\n",
       "    .dataframe tbody tr th {\n",
       "        vertical-align: top;\n",
       "    }\n",
       "\n",
       "    .dataframe thead th {\n",
       "        text-align: right;\n",
       "    }\n",
       "</style>\n",
       "<table border=\"1\" class=\"dataframe\">\n",
       "  <thead>\n",
       "    <tr style=\"text-align: right;\">\n",
       "      <th></th>\n",
       "      <th>index</th>\n",
       "      <th>user_id</th>\n",
       "      <th>month</th>\n",
       "      <th>duration</th>\n",
       "      <th>call_date</th>\n",
       "      <th>mb_used</th>\n",
       "      <th>message_date</th>\n",
       "      <th>duration_per_month</th>\n",
       "      <th>calls_month</th>\n",
       "      <th>internet_mb_per_month</th>\n",
       "      <th>msg_per_month</th>\n",
       "    </tr>\n",
       "  </thead>\n",
       "  <tbody>\n",
       "    <tr>\n",
       "      <td>0</td>\n",
       "      <td>0</td>\n",
       "      <td>1000</td>\n",
       "      <td>12</td>\n",
       "      <td>108.0</td>\n",
       "      <td>16.0</td>\n",
       "      <td>1899.0</td>\n",
       "      <td>11.0</td>\n",
       "      <td>9.000000</td>\n",
       "      <td>1.333333</td>\n",
       "      <td>158.250000</td>\n",
       "      <td>0.916667</td>\n",
       "    </tr>\n",
       "    <tr>\n",
       "      <td>1</td>\n",
       "      <td>1</td>\n",
       "      <td>1001</td>\n",
       "      <td>8</td>\n",
       "      <td>160.0</td>\n",
       "      <td>27.0</td>\n",
       "      <td>6908.0</td>\n",
       "      <td>30.0</td>\n",
       "      <td>13.333333</td>\n",
       "      <td>2.250000</td>\n",
       "      <td>575.666667</td>\n",
       "      <td>2.500000</td>\n",
       "    </tr>\n",
       "    <tr>\n",
       "      <td>2</td>\n",
       "      <td>2</td>\n",
       "      <td>1001</td>\n",
       "      <td>9</td>\n",
       "      <td>278.0</td>\n",
       "      <td>49.0</td>\n",
       "      <td>13294.0</td>\n",
       "      <td>44.0</td>\n",
       "      <td>23.166667</td>\n",
       "      <td>4.083333</td>\n",
       "      <td>1107.833333</td>\n",
       "      <td>3.666667</td>\n",
       "    </tr>\n",
       "    <tr>\n",
       "      <td>3</td>\n",
       "      <td>3</td>\n",
       "      <td>1001</td>\n",
       "      <td>10</td>\n",
       "      <td>348.0</td>\n",
       "      <td>65.0</td>\n",
       "      <td>22308.0</td>\n",
       "      <td>53.0</td>\n",
       "      <td>29.000000</td>\n",
       "      <td>5.416667</td>\n",
       "      <td>1859.000000</td>\n",
       "      <td>4.416667</td>\n",
       "    </tr>\n",
       "    <tr>\n",
       "      <td>4</td>\n",
       "      <td>4</td>\n",
       "      <td>1001</td>\n",
       "      <td>11</td>\n",
       "      <td>379.0</td>\n",
       "      <td>64.0</td>\n",
       "      <td>18477.0</td>\n",
       "      <td>36.0</td>\n",
       "      <td>31.583333</td>\n",
       "      <td>5.333333</td>\n",
       "      <td>1539.750000</td>\n",
       "      <td>3.000000</td>\n",
       "    </tr>\n",
       "    <tr>\n",
       "      <td>...</td>\n",
       "      <td>...</td>\n",
       "      <td>...</td>\n",
       "      <td>...</td>\n",
       "      <td>...</td>\n",
       "      <td>...</td>\n",
       "      <td>...</td>\n",
       "      <td>...</td>\n",
       "      <td>...</td>\n",
       "      <td>...</td>\n",
       "      <td>...</td>\n",
       "      <td>...</td>\n",
       "    </tr>\n",
       "    <tr>\n",
       "      <td>2288</td>\n",
       "      <td>2288</td>\n",
       "      <td>1349</td>\n",
       "      <td>10</td>\n",
       "      <td>0.0</td>\n",
       "      <td>0.0</td>\n",
       "      <td>13079.0</td>\n",
       "      <td>76.0</td>\n",
       "      <td>0.000000</td>\n",
       "      <td>0.000000</td>\n",
       "      <td>1089.916667</td>\n",
       "      <td>6.333333</td>\n",
       "    </tr>\n",
       "    <tr>\n",
       "      <td>2289</td>\n",
       "      <td>2289</td>\n",
       "      <td>1349</td>\n",
       "      <td>11</td>\n",
       "      <td>0.0</td>\n",
       "      <td>0.0</td>\n",
       "      <td>17113.0</td>\n",
       "      <td>72.0</td>\n",
       "      <td>0.000000</td>\n",
       "      <td>0.000000</td>\n",
       "      <td>1426.083333</td>\n",
       "      <td>6.000000</td>\n",
       "    </tr>\n",
       "    <tr>\n",
       "      <td>2290</td>\n",
       "      <td>2290</td>\n",
       "      <td>1349</td>\n",
       "      <td>12</td>\n",
       "      <td>0.0</td>\n",
       "      <td>0.0</td>\n",
       "      <td>13027.0</td>\n",
       "      <td>61.0</td>\n",
       "      <td>0.000000</td>\n",
       "      <td>0.000000</td>\n",
       "      <td>1085.583333</td>\n",
       "      <td>5.083333</td>\n",
       "    </tr>\n",
       "    <tr>\n",
       "      <td>2291</td>\n",
       "      <td>2291</td>\n",
       "      <td>1361</td>\n",
       "      <td>5</td>\n",
       "      <td>0.0</td>\n",
       "      <td>0.0</td>\n",
       "      <td>1516.0</td>\n",
       "      <td>2.0</td>\n",
       "      <td>0.000000</td>\n",
       "      <td>0.000000</td>\n",
       "      <td>126.333333</td>\n",
       "      <td>0.166667</td>\n",
       "    </tr>\n",
       "    <tr>\n",
       "      <td>2292</td>\n",
       "      <td>2292</td>\n",
       "      <td>1482</td>\n",
       "      <td>10</td>\n",
       "      <td>0.0</td>\n",
       "      <td>0.0</td>\n",
       "      <td>0.0</td>\n",
       "      <td>2.0</td>\n",
       "      <td>0.000000</td>\n",
       "      <td>0.000000</td>\n",
       "      <td>0.000000</td>\n",
       "      <td>0.166667</td>\n",
       "    </tr>\n",
       "  </tbody>\n",
       "</table>\n",
       "<p>2293 rows × 11 columns</p>\n",
       "</div>"
      ],
      "text/plain": [
       "      index  user_id  month  duration  call_date  mb_used  message_date  \\\n",
       "0         0     1000     12     108.0       16.0   1899.0          11.0   \n",
       "1         1     1001      8     160.0       27.0   6908.0          30.0   \n",
       "2         2     1001      9     278.0       49.0  13294.0          44.0   \n",
       "3         3     1001     10     348.0       65.0  22308.0          53.0   \n",
       "4         4     1001     11     379.0       64.0  18477.0          36.0   \n",
       "...     ...      ...    ...       ...        ...      ...           ...   \n",
       "2288   2288     1349     10       0.0        0.0  13079.0          76.0   \n",
       "2289   2289     1349     11       0.0        0.0  17113.0          72.0   \n",
       "2290   2290     1349     12       0.0        0.0  13027.0          61.0   \n",
       "2291   2291     1361      5       0.0        0.0   1516.0           2.0   \n",
       "2292   2292     1482     10       0.0        0.0      0.0           2.0   \n",
       "\n",
       "      duration_per_month  calls_month  internet_mb_per_month  msg_per_month  \n",
       "0               9.000000     1.333333             158.250000       0.916667  \n",
       "1              13.333333     2.250000             575.666667       2.500000  \n",
       "2              23.166667     4.083333            1107.833333       3.666667  \n",
       "3              29.000000     5.416667            1859.000000       4.416667  \n",
       "4              31.583333     5.333333            1539.750000       3.000000  \n",
       "...                  ...          ...                    ...            ...  \n",
       "2288            0.000000     0.000000            1089.916667       6.333333  \n",
       "2289            0.000000     0.000000            1426.083333       6.000000  \n",
       "2290            0.000000     0.000000            1085.583333       5.083333  \n",
       "2291            0.000000     0.000000             126.333333       0.166667  \n",
       "2292            0.000000     0.000000               0.000000       0.166667  \n",
       "\n",
       "[2293 rows x 11 columns]"
      ]
     },
     "execution_count": 18,
     "metadata": {},
     "output_type": "execute_result"
    }
   ],
   "source": [
    "df_merged"
   ]
  },
  {
   "cell_type": "code",
   "execution_count": 46,
   "metadata": {},
   "outputs": [],
   "source": [
    "#rounding of the value in duration column by using ceil function\n",
    "df_merged['duration_ceil'] = df_merged['duration'].apply(np.ceil)"
   ]
  },
  {
   "cell_type": "code",
   "execution_count": 47,
   "metadata": {},
   "outputs": [],
   "source": [
    "#rounding of the values in gb_used by ceil\n",
    "df_merged['gb_used'] = (df_merged['mb_used'] /1024).apply(np.ceil)\n",
    "#df_merged['gb_used'].reset_index()\n"
   ]
  },
  {
   "cell_type": "code",
   "execution_count": 21,
   "metadata": {},
   "outputs": [
    {
     "data": {
      "text/html": [
       "<div>\n",
       "<style scoped>\n",
       "    .dataframe tbody tr th:only-of-type {\n",
       "        vertical-align: middle;\n",
       "    }\n",
       "\n",
       "    .dataframe tbody tr th {\n",
       "        vertical-align: top;\n",
       "    }\n",
       "\n",
       "    .dataframe thead th {\n",
       "        text-align: right;\n",
       "    }\n",
       "</style>\n",
       "<table border=\"1\" class=\"dataframe\">\n",
       "  <thead>\n",
       "    <tr style=\"text-align: right;\">\n",
       "      <th></th>\n",
       "      <th>index</th>\n",
       "      <th>gb_used</th>\n",
       "    </tr>\n",
       "  </thead>\n",
       "  <tbody>\n",
       "    <tr>\n",
       "      <td>0</td>\n",
       "      <td>0</td>\n",
       "      <td>2.0</td>\n",
       "    </tr>\n",
       "    <tr>\n",
       "      <td>1</td>\n",
       "      <td>1</td>\n",
       "      <td>7.0</td>\n",
       "    </tr>\n",
       "    <tr>\n",
       "      <td>2</td>\n",
       "      <td>2</td>\n",
       "      <td>13.0</td>\n",
       "    </tr>\n",
       "    <tr>\n",
       "      <td>3</td>\n",
       "      <td>3</td>\n",
       "      <td>22.0</td>\n",
       "    </tr>\n",
       "    <tr>\n",
       "      <td>4</td>\n",
       "      <td>4</td>\n",
       "      <td>19.0</td>\n",
       "    </tr>\n",
       "  </tbody>\n",
       "</table>\n",
       "</div>"
      ],
      "text/plain": [
       "   index  gb_used\n",
       "0      0      2.0\n",
       "1      1      7.0\n",
       "2      2     13.0\n",
       "3      3     22.0\n",
       "4      4     19.0"
      ]
     },
     "execution_count": 21,
     "metadata": {},
     "output_type": "execute_result"
    }
   ],
   "source": [
    "df_merged['gb_used'].head().reset_index()"
   ]
  },
  {
   "cell_type": "code",
   "execution_count": 22,
   "metadata": {},
   "outputs": [
    {
     "data": {
      "text/plain": [
       "(Index(['user_id', 'first_name', 'last_name', 'age', 'city', 'reg_date', 'plan',\n",
       "        'churn_date', 'used_days'],\n",
       "       dtype='object'),\n",
       " Index(['messages_included', 'mb_per_month_included', 'minutes_included',\n",
       "        'usd_monthly_pay', 'usd_per_gb', 'usd_per_message', 'usd_per_minute',\n",
       "        'plan_name'],\n",
       "       dtype='object'))"
      ]
     },
     "execution_count": 22,
     "metadata": {},
     "output_type": "execute_result"
    }
   ],
   "source": [
    "df_users.columns,df_plans.columns\n"
   ]
  },
  {
   "cell_type": "code",
   "execution_count": 48,
   "metadata": {},
   "outputs": [
    {
     "data": {
      "text/html": [
       "<div>\n",
       "<style scoped>\n",
       "    .dataframe tbody tr th:only-of-type {\n",
       "        vertical-align: middle;\n",
       "    }\n",
       "\n",
       "    .dataframe tbody tr th {\n",
       "        vertical-align: top;\n",
       "    }\n",
       "\n",
       "    .dataframe thead th {\n",
       "        text-align: right;\n",
       "    }\n",
       "</style>\n",
       "<table border=\"1\" class=\"dataframe\">\n",
       "  <thead>\n",
       "    <tr style=\"text-align: right;\">\n",
       "      <th></th>\n",
       "      <th>index</th>\n",
       "      <th>user_id</th>\n",
       "      <th>month</th>\n",
       "      <th>duration</th>\n",
       "      <th>call_date</th>\n",
       "      <th>mb_used</th>\n",
       "      <th>message_date</th>\n",
       "      <th>duration_per_month</th>\n",
       "      <th>calls_month</th>\n",
       "      <th>internet_mb_per_month</th>\n",
       "      <th>msg_per_month</th>\n",
       "      <th>duration_ceil</th>\n",
       "      <th>gb_used</th>\n",
       "      <th>plan</th>\n",
       "      <th>city</th>\n",
       "    </tr>\n",
       "  </thead>\n",
       "  <tbody>\n",
       "    <tr>\n",
       "      <td>0</td>\n",
       "      <td>0</td>\n",
       "      <td>1000</td>\n",
       "      <td>12</td>\n",
       "      <td>108.0</td>\n",
       "      <td>16.0</td>\n",
       "      <td>1899.0</td>\n",
       "      <td>11.0</td>\n",
       "      <td>9.000000</td>\n",
       "      <td>1.333333</td>\n",
       "      <td>158.250000</td>\n",
       "      <td>0.916667</td>\n",
       "      <td>108.0</td>\n",
       "      <td>2.0</td>\n",
       "      <td>ultimate</td>\n",
       "      <td>Atlanta-Sandy Springs-Roswell, GA MSA</td>\n",
       "    </tr>\n",
       "    <tr>\n",
       "      <td>1</td>\n",
       "      <td>1</td>\n",
       "      <td>1001</td>\n",
       "      <td>8</td>\n",
       "      <td>160.0</td>\n",
       "      <td>27.0</td>\n",
       "      <td>6908.0</td>\n",
       "      <td>30.0</td>\n",
       "      <td>13.333333</td>\n",
       "      <td>2.250000</td>\n",
       "      <td>575.666667</td>\n",
       "      <td>2.500000</td>\n",
       "      <td>160.0</td>\n",
       "      <td>7.0</td>\n",
       "      <td>surf</td>\n",
       "      <td>Seattle-Tacoma-Bellevue, WA MSA</td>\n",
       "    </tr>\n",
       "    <tr>\n",
       "      <td>2</td>\n",
       "      <td>2</td>\n",
       "      <td>1001</td>\n",
       "      <td>9</td>\n",
       "      <td>278.0</td>\n",
       "      <td>49.0</td>\n",
       "      <td>13294.0</td>\n",
       "      <td>44.0</td>\n",
       "      <td>23.166667</td>\n",
       "      <td>4.083333</td>\n",
       "      <td>1107.833333</td>\n",
       "      <td>3.666667</td>\n",
       "      <td>278.0</td>\n",
       "      <td>13.0</td>\n",
       "      <td>surf</td>\n",
       "      <td>Seattle-Tacoma-Bellevue, WA MSA</td>\n",
       "    </tr>\n",
       "    <tr>\n",
       "      <td>3</td>\n",
       "      <td>3</td>\n",
       "      <td>1001</td>\n",
       "      <td>10</td>\n",
       "      <td>348.0</td>\n",
       "      <td>65.0</td>\n",
       "      <td>22308.0</td>\n",
       "      <td>53.0</td>\n",
       "      <td>29.000000</td>\n",
       "      <td>5.416667</td>\n",
       "      <td>1859.000000</td>\n",
       "      <td>4.416667</td>\n",
       "      <td>348.0</td>\n",
       "      <td>22.0</td>\n",
       "      <td>surf</td>\n",
       "      <td>Seattle-Tacoma-Bellevue, WA MSA</td>\n",
       "    </tr>\n",
       "    <tr>\n",
       "      <td>4</td>\n",
       "      <td>4</td>\n",
       "      <td>1001</td>\n",
       "      <td>11</td>\n",
       "      <td>379.0</td>\n",
       "      <td>64.0</td>\n",
       "      <td>18477.0</td>\n",
       "      <td>36.0</td>\n",
       "      <td>31.583333</td>\n",
       "      <td>5.333333</td>\n",
       "      <td>1539.750000</td>\n",
       "      <td>3.000000</td>\n",
       "      <td>379.0</td>\n",
       "      <td>19.0</td>\n",
       "      <td>surf</td>\n",
       "      <td>Seattle-Tacoma-Bellevue, WA MSA</td>\n",
       "    </tr>\n",
       "    <tr>\n",
       "      <td>...</td>\n",
       "      <td>...</td>\n",
       "      <td>...</td>\n",
       "      <td>...</td>\n",
       "      <td>...</td>\n",
       "      <td>...</td>\n",
       "      <td>...</td>\n",
       "      <td>...</td>\n",
       "      <td>...</td>\n",
       "      <td>...</td>\n",
       "      <td>...</td>\n",
       "      <td>...</td>\n",
       "      <td>...</td>\n",
       "      <td>...</td>\n",
       "      <td>...</td>\n",
       "      <td>...</td>\n",
       "    </tr>\n",
       "    <tr>\n",
       "      <td>2288</td>\n",
       "      <td>2288</td>\n",
       "      <td>1349</td>\n",
       "      <td>10</td>\n",
       "      <td>0.0</td>\n",
       "      <td>0.0</td>\n",
       "      <td>13079.0</td>\n",
       "      <td>76.0</td>\n",
       "      <td>0.000000</td>\n",
       "      <td>0.000000</td>\n",
       "      <td>1089.916667</td>\n",
       "      <td>6.333333</td>\n",
       "      <td>0.0</td>\n",
       "      <td>13.0</td>\n",
       "      <td>surf</td>\n",
       "      <td>Boston-Cambridge-Newton, MA-NH MSA</td>\n",
       "    </tr>\n",
       "    <tr>\n",
       "      <td>2289</td>\n",
       "      <td>2289</td>\n",
       "      <td>1349</td>\n",
       "      <td>11</td>\n",
       "      <td>0.0</td>\n",
       "      <td>0.0</td>\n",
       "      <td>17113.0</td>\n",
       "      <td>72.0</td>\n",
       "      <td>0.000000</td>\n",
       "      <td>0.000000</td>\n",
       "      <td>1426.083333</td>\n",
       "      <td>6.000000</td>\n",
       "      <td>0.0</td>\n",
       "      <td>17.0</td>\n",
       "      <td>surf</td>\n",
       "      <td>Boston-Cambridge-Newton, MA-NH MSA</td>\n",
       "    </tr>\n",
       "    <tr>\n",
       "      <td>2290</td>\n",
       "      <td>2290</td>\n",
       "      <td>1349</td>\n",
       "      <td>12</td>\n",
       "      <td>0.0</td>\n",
       "      <td>0.0</td>\n",
       "      <td>13027.0</td>\n",
       "      <td>61.0</td>\n",
       "      <td>0.000000</td>\n",
       "      <td>0.000000</td>\n",
       "      <td>1085.583333</td>\n",
       "      <td>5.083333</td>\n",
       "      <td>0.0</td>\n",
       "      <td>13.0</td>\n",
       "      <td>surf</td>\n",
       "      <td>Boston-Cambridge-Newton, MA-NH MSA</td>\n",
       "    </tr>\n",
       "    <tr>\n",
       "      <td>2291</td>\n",
       "      <td>2291</td>\n",
       "      <td>1361</td>\n",
       "      <td>5</td>\n",
       "      <td>0.0</td>\n",
       "      <td>0.0</td>\n",
       "      <td>1516.0</td>\n",
       "      <td>2.0</td>\n",
       "      <td>0.000000</td>\n",
       "      <td>0.000000</td>\n",
       "      <td>126.333333</td>\n",
       "      <td>0.166667</td>\n",
       "      <td>0.0</td>\n",
       "      <td>2.0</td>\n",
       "      <td>surf</td>\n",
       "      <td>Birmingham-Hoover, AL MSA</td>\n",
       "    </tr>\n",
       "    <tr>\n",
       "      <td>2292</td>\n",
       "      <td>2292</td>\n",
       "      <td>1482</td>\n",
       "      <td>10</td>\n",
       "      <td>0.0</td>\n",
       "      <td>0.0</td>\n",
       "      <td>0.0</td>\n",
       "      <td>2.0</td>\n",
       "      <td>0.000000</td>\n",
       "      <td>0.000000</td>\n",
       "      <td>0.000000</td>\n",
       "      <td>0.166667</td>\n",
       "      <td>0.0</td>\n",
       "      <td>0.0</td>\n",
       "      <td>ultimate</td>\n",
       "      <td>New York-Newark-Jersey City, NY-NJ-PA MSA</td>\n",
       "    </tr>\n",
       "  </tbody>\n",
       "</table>\n",
       "<p>2293 rows × 15 columns</p>\n",
       "</div>"
      ],
      "text/plain": [
       "      index  user_id  month  duration  call_date  mb_used  message_date  \\\n",
       "0         0     1000     12     108.0       16.0   1899.0          11.0   \n",
       "1         1     1001      8     160.0       27.0   6908.0          30.0   \n",
       "2         2     1001      9     278.0       49.0  13294.0          44.0   \n",
       "3         3     1001     10     348.0       65.0  22308.0          53.0   \n",
       "4         4     1001     11     379.0       64.0  18477.0          36.0   \n",
       "...     ...      ...    ...       ...        ...      ...           ...   \n",
       "2288   2288     1349     10       0.0        0.0  13079.0          76.0   \n",
       "2289   2289     1349     11       0.0        0.0  17113.0          72.0   \n",
       "2290   2290     1349     12       0.0        0.0  13027.0          61.0   \n",
       "2291   2291     1361      5       0.0        0.0   1516.0           2.0   \n",
       "2292   2292     1482     10       0.0        0.0      0.0           2.0   \n",
       "\n",
       "      duration_per_month  calls_month  internet_mb_per_month  msg_per_month  \\\n",
       "0               9.000000     1.333333             158.250000       0.916667   \n",
       "1              13.333333     2.250000             575.666667       2.500000   \n",
       "2              23.166667     4.083333            1107.833333       3.666667   \n",
       "3              29.000000     5.416667            1859.000000       4.416667   \n",
       "4              31.583333     5.333333            1539.750000       3.000000   \n",
       "...                  ...          ...                    ...            ...   \n",
       "2288            0.000000     0.000000            1089.916667       6.333333   \n",
       "2289            0.000000     0.000000            1426.083333       6.000000   \n",
       "2290            0.000000     0.000000            1085.583333       5.083333   \n",
       "2291            0.000000     0.000000             126.333333       0.166667   \n",
       "2292            0.000000     0.000000               0.000000       0.166667   \n",
       "\n",
       "      duration_ceil  gb_used      plan  \\\n",
       "0             108.0      2.0  ultimate   \n",
       "1             160.0      7.0      surf   \n",
       "2             278.0     13.0      surf   \n",
       "3             348.0     22.0      surf   \n",
       "4             379.0     19.0      surf   \n",
       "...             ...      ...       ...   \n",
       "2288            0.0     13.0      surf   \n",
       "2289            0.0     17.0      surf   \n",
       "2290            0.0     13.0      surf   \n",
       "2291            0.0      2.0      surf   \n",
       "2292            0.0      0.0  ultimate   \n",
       "\n",
       "                                           city  \n",
       "0         Atlanta-Sandy Springs-Roswell, GA MSA  \n",
       "1               Seattle-Tacoma-Bellevue, WA MSA  \n",
       "2               Seattle-Tacoma-Bellevue, WA MSA  \n",
       "3               Seattle-Tacoma-Bellevue, WA MSA  \n",
       "4               Seattle-Tacoma-Bellevue, WA MSA  \n",
       "...                                         ...  \n",
       "2288         Boston-Cambridge-Newton, MA-NH MSA  \n",
       "2289         Boston-Cambridge-Newton, MA-NH MSA  \n",
       "2290         Boston-Cambridge-Newton, MA-NH MSA  \n",
       "2291                  Birmingham-Hoover, AL MSA  \n",
       "2292  New York-Newark-Jersey City, NY-NJ-PA MSA  \n",
       "\n",
       "[2293 rows x 15 columns]"
      ]
     },
     "execution_count": 48,
     "metadata": {},
     "output_type": "execute_result"
    }
   ],
   "source": [
    "#grouped_plan = df_users.groupby([\"user_id\"]).agg('sum')\n",
    "#grouped_plan\n",
    "#df_megamerged = (df_merged\n",
    "  #.join(df_users.groupby('user_id')['plan'].sum(), on='user_id'))\n",
    "#here we megamerged the table with merging tables from df_users and df_merged\n",
    "df_megamerged = df_merged.merge(df_users[['user_id','plan','city']],how='left',on='user_id').fillna(0)\n",
    "df_megamerged.reset_index()\n",
    "  \n",
    "            # right = grouped_plan, how='outer',on=['user_id']).fillna(0)\n",
    "df_megamerged"
   ]
  },
  {
   "cell_type": "markdown",
   "metadata": {},
   "source": [
    "<font color='green'><h3>\n",
    "The monthly revenue from each user (subtract the free package limit from the total number of calls, text messages, and data; multiply the result by the calling plan value; add the monthly charge depending on the calling plan)</h3></font>"
   ]
  },
  {
   "cell_type": "code",
   "execution_count": 49,
   "metadata": {},
   "outputs": [],
   "source": [
    "#calculated the total cost of each user\n",
    "def total_revenue(row):\n",
    "    plan = row['plan']   \n",
    "    \n",
    "    internet_usage = row['gb_used']\n",
    "    monthly_minutes  = row['duration_ceil']\n",
    "    messages = row['msg_per_month']\n",
    "    \n",
    "    \n",
    "    if plan == 'surf':\n",
    "        \n",
    "        if monthly_minutes >= 500:\n",
    "            revenue_calls = (0.03)*(monthly_minutes - 500) \n",
    "        else:\n",
    "             revenue_calls = 0\n",
    "        if messages >= 50:\n",
    "            revenue_messages = 0.03*(messages - 50)\n",
    "        else :\n",
    "            revenue_messages = 0\n",
    "        if internet_usage >= 15:\n",
    "            revenue_internet_usage = 10*(internet_usage - 15)\n",
    "        else :\n",
    "            revenue_internet_usage = 0\n",
    "                \n",
    "        cost = 20 + revenue_messages + revenue_internet_usage + revenue_calls\n",
    "            \n",
    "        \n",
    "        \n",
    "    elif plan == 'ultimate':\n",
    "        \n",
    "        if monthly_minutes >= 3000:\n",
    "            revenue_calls = (0.01)*(monthly_minutes - 3000) \n",
    "        else:\n",
    "            revenue_calls = 0\n",
    "        if messages >= 50:\n",
    "            revenue_messages = 0.01*(messages - 1000)\n",
    "        else :\n",
    "            revenue_messages = 0\n",
    "        if internet_usage >= 15:\n",
    "            revenue_internet_usage = 7*(internet_usage - 30)\n",
    "        else :\n",
    "            revenue_internet_usage = 0\n",
    "        cost = 70 + revenue_messages + revenue_internet_usage + revenue_calls\n",
    "        \n",
    "    return cost"
   ]
  },
  {
   "cell_type": "code",
   "execution_count": 50,
   "metadata": {},
   "outputs": [
    {
     "data": {
      "text/html": [
       "<div>\n",
       "<style scoped>\n",
       "    .dataframe tbody tr th:only-of-type {\n",
       "        vertical-align: middle;\n",
       "    }\n",
       "\n",
       "    .dataframe tbody tr th {\n",
       "        vertical-align: top;\n",
       "    }\n",
       "\n",
       "    .dataframe thead th {\n",
       "        text-align: right;\n",
       "    }\n",
       "</style>\n",
       "<table border=\"1\" class=\"dataframe\">\n",
       "  <thead>\n",
       "    <tr style=\"text-align: right;\">\n",
       "      <th></th>\n",
       "      <th>level_0</th>\n",
       "      <th>index</th>\n",
       "      <th>user_id</th>\n",
       "      <th>month</th>\n",
       "      <th>duration</th>\n",
       "      <th>call_date</th>\n",
       "      <th>mb_used</th>\n",
       "      <th>message_date</th>\n",
       "      <th>duration_per_month</th>\n",
       "      <th>calls_month</th>\n",
       "      <th>internet_mb_per_month</th>\n",
       "      <th>msg_per_month</th>\n",
       "      <th>duration_ceil</th>\n",
       "      <th>gb_used</th>\n",
       "      <th>plan</th>\n",
       "      <th>city</th>\n",
       "      <th>total_cost</th>\n",
       "    </tr>\n",
       "  </thead>\n",
       "  <tbody>\n",
       "    <tr>\n",
       "      <td>0</td>\n",
       "      <td>0</td>\n",
       "      <td>0</td>\n",
       "      <td>1000</td>\n",
       "      <td>12</td>\n",
       "      <td>108.0</td>\n",
       "      <td>16.0</td>\n",
       "      <td>1899.0</td>\n",
       "      <td>11.0</td>\n",
       "      <td>9.000000</td>\n",
       "      <td>1.333333</td>\n",
       "      <td>158.250000</td>\n",
       "      <td>0.916667</td>\n",
       "      <td>108.0</td>\n",
       "      <td>2.0</td>\n",
       "      <td>ultimate</td>\n",
       "      <td>Atlanta-Sandy Springs-Roswell, GA MSA</td>\n",
       "      <td>70.0</td>\n",
       "    </tr>\n",
       "    <tr>\n",
       "      <td>1</td>\n",
       "      <td>1</td>\n",
       "      <td>1</td>\n",
       "      <td>1001</td>\n",
       "      <td>8</td>\n",
       "      <td>160.0</td>\n",
       "      <td>27.0</td>\n",
       "      <td>6908.0</td>\n",
       "      <td>30.0</td>\n",
       "      <td>13.333333</td>\n",
       "      <td>2.250000</td>\n",
       "      <td>575.666667</td>\n",
       "      <td>2.500000</td>\n",
       "      <td>160.0</td>\n",
       "      <td>7.0</td>\n",
       "      <td>surf</td>\n",
       "      <td>Seattle-Tacoma-Bellevue, WA MSA</td>\n",
       "      <td>20.0</td>\n",
       "    </tr>\n",
       "    <tr>\n",
       "      <td>2</td>\n",
       "      <td>2</td>\n",
       "      <td>2</td>\n",
       "      <td>1001</td>\n",
       "      <td>9</td>\n",
       "      <td>278.0</td>\n",
       "      <td>49.0</td>\n",
       "      <td>13294.0</td>\n",
       "      <td>44.0</td>\n",
       "      <td>23.166667</td>\n",
       "      <td>4.083333</td>\n",
       "      <td>1107.833333</td>\n",
       "      <td>3.666667</td>\n",
       "      <td>278.0</td>\n",
       "      <td>13.0</td>\n",
       "      <td>surf</td>\n",
       "      <td>Seattle-Tacoma-Bellevue, WA MSA</td>\n",
       "      <td>20.0</td>\n",
       "    </tr>\n",
       "    <tr>\n",
       "      <td>3</td>\n",
       "      <td>3</td>\n",
       "      <td>3</td>\n",
       "      <td>1001</td>\n",
       "      <td>10</td>\n",
       "      <td>348.0</td>\n",
       "      <td>65.0</td>\n",
       "      <td>22308.0</td>\n",
       "      <td>53.0</td>\n",
       "      <td>29.000000</td>\n",
       "      <td>5.416667</td>\n",
       "      <td>1859.000000</td>\n",
       "      <td>4.416667</td>\n",
       "      <td>348.0</td>\n",
       "      <td>22.0</td>\n",
       "      <td>surf</td>\n",
       "      <td>Seattle-Tacoma-Bellevue, WA MSA</td>\n",
       "      <td>90.0</td>\n",
       "    </tr>\n",
       "    <tr>\n",
       "      <td>4</td>\n",
       "      <td>4</td>\n",
       "      <td>4</td>\n",
       "      <td>1001</td>\n",
       "      <td>11</td>\n",
       "      <td>379.0</td>\n",
       "      <td>64.0</td>\n",
       "      <td>18477.0</td>\n",
       "      <td>36.0</td>\n",
       "      <td>31.583333</td>\n",
       "      <td>5.333333</td>\n",
       "      <td>1539.750000</td>\n",
       "      <td>3.000000</td>\n",
       "      <td>379.0</td>\n",
       "      <td>19.0</td>\n",
       "      <td>surf</td>\n",
       "      <td>Seattle-Tacoma-Bellevue, WA MSA</td>\n",
       "      <td>60.0</td>\n",
       "    </tr>\n",
       "  </tbody>\n",
       "</table>\n",
       "</div>"
      ],
      "text/plain": [
       "   level_0  index  user_id  month  duration  call_date  mb_used  message_date  \\\n",
       "0        0      0     1000     12     108.0       16.0   1899.0          11.0   \n",
       "1        1      1     1001      8     160.0       27.0   6908.0          30.0   \n",
       "2        2      2     1001      9     278.0       49.0  13294.0          44.0   \n",
       "3        3      3     1001     10     348.0       65.0  22308.0          53.0   \n",
       "4        4      4     1001     11     379.0       64.0  18477.0          36.0   \n",
       "\n",
       "   duration_per_month  calls_month  internet_mb_per_month  msg_per_month  \\\n",
       "0            9.000000     1.333333             158.250000       0.916667   \n",
       "1           13.333333     2.250000             575.666667       2.500000   \n",
       "2           23.166667     4.083333            1107.833333       3.666667   \n",
       "3           29.000000     5.416667            1859.000000       4.416667   \n",
       "4           31.583333     5.333333            1539.750000       3.000000   \n",
       "\n",
       "   duration_ceil  gb_used      plan                                   city  \\\n",
       "0          108.0      2.0  ultimate  Atlanta-Sandy Springs-Roswell, GA MSA   \n",
       "1          160.0      7.0      surf        Seattle-Tacoma-Bellevue, WA MSA   \n",
       "2          278.0     13.0      surf        Seattle-Tacoma-Bellevue, WA MSA   \n",
       "3          348.0     22.0      surf        Seattle-Tacoma-Bellevue, WA MSA   \n",
       "4          379.0     19.0      surf        Seattle-Tacoma-Bellevue, WA MSA   \n",
       "\n",
       "   total_cost  \n",
       "0        70.0  \n",
       "1        20.0  \n",
       "2        20.0  \n",
       "3        90.0  \n",
       "4        60.0  "
      ]
     },
     "execution_count": 50,
     "metadata": {},
     "output_type": "execute_result"
    }
   ],
   "source": [
    "df_megamerged['total_cost'] = df_megamerged.apply(total_revenue , axis = 1)\n",
    "#df_megamerged['total_cost'] = df_megamerged.apply(total_revenue_ultimate , axis = 1)\n",
    "df_megamerged.head().reset_index()"
   ]
  },
  {
   "cell_type": "markdown",
   "metadata": {},
   "source": [
    "**CONCLUSION**"
   ]
  },
  {
   "cell_type": "markdown",
   "metadata": {},
   "source": [
    "First of all we converted the datatypes to be used for further calculations we converted the non null object to date time format to use it for further calculations,call_date,session_date,message_date,reg_date,churn_date into datetime format from df_users,df_call,df_internet,df_message.Then we did the merging the tables of df_calls,df_internet and df_messages by using month and user_id column.then we found out some more values for adding to table, the number of calls made and minutes used per month The number of text messages sent per month The volume of data per month .then rounded the values in duration and gb used by ceil function.then we added one more dataframe df_users to get the plan column for furthur calculation of total cost on the by subtracting the free package limit from the total number of calls, text messages, and data; multiply the result by the calling plan value; add the monthly charge depending on the calling plan.it can be seen that there is some negative values in total cost column"
   ]
  },
  {
   "cell_type": "markdown",
   "metadata": {},
   "source": [
    "### Step 3. Analyze the data"
   ]
  },
  {
   "cell_type": "markdown",
   "metadata": {},
   "source": [
    "<font color='green'><h3>\n",
    "Describe the customers' behavior. Find the minutes, texts, and volume of data the users of each plan require per month. Calculate the mean, dispersion, and standard deviation. Plot histograms. Describe the distributions.</h3></font>"
   ]
  },
  {
   "cell_type": "code",
   "execution_count": 26,
   "metadata": {},
   "outputs": [
    {
     "data": {
      "image/png": "[encoded data removed]",
      "text/plain": [
       "<Figure size 432x288 with 1 Axes>"
      ]
     },
     "metadata": {
      "needs_background": "light"
     },
     "output_type": "display_data"
    }
   ],
   "source": [
    "\n",
    "x1 = df_megamerged.loc[df_megamerged.plan=='ultimate', 'internet_mb_per_month']\n",
    "x2 = df_megamerged.loc[df_megamerged.plan=='surf', 'internet_mb_per_month']\n",
    "\n",
    "kwargs = dict(alpha=0.5, bins=10,density=True)\n",
    "\n",
    "plt.hist(x1, **kwargs, color='g', label='ultimate')\n",
    "plt.hist(x2, **kwargs, color='r', label='surf')\n",
    "\n",
    "plt.gca().set(title='Histogram of volume of data for users of each plan', ylabel='Frequency')\n",
    "plt.xlim(0,5905)\n",
    "plt.legend();\n"
   ]
  },
  {
   "cell_type": "code",
   "execution_count": 27,
   "metadata": {},
   "outputs": [
    {
     "data": {
      "image/png": "[encoded data removed]",
      "text/plain": [
       "<Figure size 432x288 with 1 Axes>"
      ]
     },
     "metadata": {
      "needs_background": "light"
     },
     "output_type": "display_data"
    }
   ],
   "source": [
    "x1 = df_megamerged.loc[df_megamerged.plan=='ultimate', 'msg_per_month']\n",
    "x2 = df_megamerged.loc[df_megamerged.plan=='surf', 'msg_per_month']\n",
    "\n",
    "kwargs = dict(alpha=0.5, bins = 10,density=True)\n",
    "\n",
    "plt.hist(x1, **kwargs, color='g', label='ultimate')\n",
    "plt.hist(x2, **kwargs, color='b', label='surf')\n",
    "\n",
    "plt.gca().set(title='Histogram of text data for users of each plan', ylabel='Frequency',xlabel='msg_per_month')\n",
    "plt.xlim(-1,23)\n",
    "plt.legend();\n"
   ]
  },
  {
   "cell_type": "code",
   "execution_count": 28,
   "metadata": {},
   "outputs": [
    {
     "data": {
      "image/png": "[encoded data removed]",
      "text/plain": [
       "<Figure size 432x288 with 1 Axes>"
      ]
     },
     "metadata": {
      "needs_background": "light"
     },
     "output_type": "display_data"
    }
   ],
   "source": [
    "x1 = df_megamerged.loc[df_megamerged.plan=='ultimate', 'duration_per_month']\n",
    "x2 = df_megamerged.loc[df_megamerged.plan=='surf', 'duration_per_month']\n",
    "\n",
    "kwargs = dict(alpha=0.5, bins=10,density=True)\n",
    "\n",
    "plt.hist(x1, **kwargs, color='r', label='ultimate')\n",
    "plt.hist(x2, **kwargs, color='b', label='surf')\n",
    "\n",
    "plt.gca().set(title='Histogram of data for minutes per month, users of each plan', ylabel='Frequency',xlabel='minutes per month')\n",
    "plt.xlim(0,112)\n",
    "plt.legend();"
   ]
  },
  {
   "cell_type": "code",
   "execution_count": 56,
   "metadata": {},
   "outputs": [
    {
     "data": {
      "image/png": "[encoded data removed]",
      "text/plain": [
       "<Figure size 432x288 with 1 Axes>"
      ]
     },
     "metadata": {
      "needs_background": "light"
     },
     "output_type": "display_data"
    }
   ],
   "source": [
    "x1 = df_megamerged.loc[df_megamerged.plan=='ultimate', 'total_cost']\n",
    "x2 = df_megamerged.loc[df_megamerged.plan=='surf', 'total_cost']\n",
    "\n",
    "kwargs = dict(alpha=0.5, bins=10,density=True)\n",
    "\n",
    "plt.hist(x1, **kwargs, color='r', label='ultimate')\n",
    "plt.hist(x2, **kwargs, color='b', label='surf')\n",
    "\n",
    "plt.gca().set(title='Histogram of revenue on plan and surf', ylabel='Frequency',xlabel='revenue per month')\n",
    "plt.xlim(0,350)\n",
    "plt.legend();"
   ]
  },
  {
   "cell_type": "code",
   "execution_count": 53,
   "metadata": {},
   "outputs": [
    {
     "data": {
      "text/plain": [
       "584.7"
      ]
     },
     "execution_count": 53,
     "metadata": {},
     "output_type": "execute_result"
    }
   ],
   "source": [
    "df_megamerged['total_cost'].max()"
   ]
  },
  {
   "cell_type": "code",
   "execution_count": 29,
   "metadata": {},
   "outputs": [
    {
     "name": "stdout",
     "output_type": "stream",
     "text": [
      "msg_per_month                 6.661204\n",
      "internet_mb_per_month    267857.242750\n",
      "duration_per_month          218.772339\n",
      "dtype: float64\n"
     ]
    }
   ],
   "source": [
    "#calculating mean and variance of plan surf groupby userid\n",
    "df_surf = df_megamerged.query('plan == \"surf\"').groupby(['user_id'])['msg_per_month','internet_mb_per_month','duration_per_month'].mean()\n",
    "variance_surf = np.var(df_surf)\n",
    "print(variance_surf)"
   ]
  },
  {
   "cell_type": "code",
   "execution_count": 30,
   "metadata": {},
   "outputs": [
    {
     "name": "stdout",
     "output_type": "stream",
     "text": [
      "msg_per_month                 6.661204\n",
      "internet_mb_per_month    267857.242750\n",
      "duration_per_month          218.772339\n",
      "dtype: float64\n"
     ]
    }
   ],
   "source": [
    "#calculating mean and variance of ultimate surf groupby userid\n",
    "f_surf = df_megamerged.query('plan == \"ultimate\"').groupby(['user_id'])['msg_per_month','internet_mb_per_month','duration_per_month'].mean()\n",
    "variance_surf = np.var(df_surf)\n",
    "print(variance_surf)"
   ]
  },
  {
   "cell_type": "markdown",
   "metadata": {},
   "source": [
    "*Here we calculated the customers behavior;find out the minutes, texts, and volume of data the users of each plan require per month. Calculated the mean, dispersion, and standard deviation.from the figures it can be seen that ultimate shows the highest number of values for 1500 mb .and while looking into other figures minutes used is highest 40 for ultimate and (20 to 35) for surf.message per month is more on the range for,the peak is high nearby to 0 for both ultimate and surf."
   ]
  },
  {
   "cell_type": "markdown",
   "metadata": {},
   "source": [
    "### Step 4. Test the hypotheses"
   ]
  },
  {
   "cell_type": "markdown",
   "metadata": {},
   "source": [
    "*The average revenue from users of Ultimate and Surf calling plans differs.\n",
    "The average revenue from users in NY-NJ area is different from that of the users from other regions.*"
   ]
  },
  {
   "cell_type": "code",
   "execution_count": 61,
   "metadata": {},
   "outputs": [],
   "source": [
    "ultimate_test = df_megamerged[df_megamerged.plan=='ultimate']['total_cost']\n",
    "surf_test = df_megamerged[df_megamerged.plan=='surf']['total_cost']"
   ]
  },
  {
   "cell_type": "code",
   "execution_count": 32,
   "metadata": {},
   "outputs": [
    {
     "data": {
      "text/plain": [
       "1        20.0\n",
       "2        20.0\n",
       "3        90.0\n",
       "4        60.0\n",
       "5        60.0\n",
       "        ...  \n",
       "2283    180.0\n",
       "2288     20.0\n",
       "2289     40.0\n",
       "2290     20.0\n",
       "2291     20.0\n",
       "Name: total_cost, Length: 1573, dtype: float64"
      ]
     },
     "execution_count": 32,
     "metadata": {},
     "output_type": "execute_result"
    }
   ],
   "source": [
    "surf_test"
   ]
  },
  {
   "cell_type": "code",
   "execution_count": 33,
   "metadata": {},
   "outputs": [],
   "source": [
    "def check_f_test(X,Y):\n",
    "  F = np.var(X) / np.var(Y)\n",
    "  p_value = f_test.cdf(F, len(X)-1, len(Y)-1)\n",
    "  return p_value > .05"
   ]
  },
  {
   "cell_type": "code",
   "execution_count": 34,
   "metadata": {},
   "outputs": [
    {
     "name": "stdout",
     "output_type": "stream",
     "text": [
      "There is significance to reject the null hypothesis, therefore Var(ultimate) != Var(surf)\n"
     ]
    }
   ],
   "source": [
    "if check_f_test(ultimate_test, surf_test):\n",
    "    print('could not reject the null hypothesis, therefore that Var(ultimate) == Var(surf)')\n",
    "else:\n",
    "    print('There is significance to reject the null hypothesis, therefore Var(ultimate) != Var(surf)')"
   ]
  },
  {
   "cell_type": "code",
   "execution_count": 62,
   "metadata": {},
   "outputs": [
    {
     "data": {
      "text/plain": [
       "LeveneResult(statistic=0.2438235714768432, pvalue=0.6215054013011277)"
      ]
     },
     "execution_count": 62,
     "metadata": {},
     "output_type": "execute_result"
    }
   ],
   "source": [
    "#levene test\n",
    "st.levene(ultimate_test, surf_test, center='mean')\n",
    " #the p-value of the test is less than the threshold value of 0.05 and hence, the sample groups do not have equal variance."
   ]
  },
  {
   "cell_type": "code",
   "execution_count": 35,
   "metadata": {},
   "outputs": [
    {
     "name": "stdout",
     "output_type": "stream",
     "text": [
      " rejecting the null hypothesis, therefore the avg profits comparing for plan is different\n"
     ]
    }
   ],
   "source": [
    "results = stats.ttest_ind(ultimate_test, surf_test, equal_var=True)\n",
    "if results.pvalue < .05:\n",
    "      print(' rejecting the null hypothesis, therefore the avg profits comparing for plan is different')\n",
    "        \n",
    "else:\n",
    "      print('Fail in rejecting of the null hypothesis, therefore the avg profits comparing for the plan is same')"
   ]
  },
  {
   "cell_type": "code",
   "execution_count": 36,
   "metadata": {},
   "outputs": [
    {
     "data": {
      "text/plain": [
       "array(['Atlanta-Sandy Springs-Roswell, GA MSA',\n",
       "       'Seattle-Tacoma-Bellevue, WA MSA',\n",
       "       'Las Vegas-Henderson-Paradise, NV MSA', 'Tulsa, OK MSA',\n",
       "       'Dallas-Fort Worth-Arlington, TX MSA',\n",
       "       'San Francisco-Oakland-Berkeley, CA MSA',\n",
       "       'Grand Rapids-Kentwood, MI MSA',\n",
       "       'Orlando-Kissimmee-Sanford, FL MSA',\n",
       "       'San Jose-Sunnyvale-Santa Clara, CA MSA',\n",
       "       'Cleveland-Elyria, OH MSA',\n",
       "       'Chicago-Naperville-Elgin, IL-IN-WI MSA', 'Knoxville, TN MSA',\n",
       "       'New York-Newark-Jersey City, NY-NJ-PA MSA', 'Pittsburgh, PA MSA',\n",
       "       'Fresno, CA MSA',\n",
       "       'Washington-Arlington-Alexandria, DC-VA-MD-WV MSA',\n",
       "       'Indianapolis-Carmel-Anderson, IN MSA', 'Jacksonville, FL MSA',\n",
       "       'Los Angeles-Long Beach-Anaheim, CA MSA',\n",
       "       'Omaha-Council Bluffs, NE-IA MSA',\n",
       "       'Houston-The Woodlands-Sugar Land, TX MSA',\n",
       "       'Philadelphia-Camden-Wilmington, PA-NJ-DE-MD MSA',\n",
       "       'Tampa-St. Petersburg-Clearwater, FL MSA',\n",
       "       'Birmingham-Hoover, AL MSA', 'Oklahoma City, OK MSA',\n",
       "       'Charlotte-Concord-Gastonia, NC-SC MSA',\n",
       "       'Denver-Aurora-Lakewood, CO MSA',\n",
       "       'Nashville-Davidson–Murfreesboro–Franklin, TN MSA',\n",
       "       'Columbus, OH MSA', 'Albuquerque, NM MSA',\n",
       "       'Boston-Cambridge-Newton, MA-NH MSA',\n",
       "       'Miami-Fort Lauderdale-West Palm Beach, FL MSA',\n",
       "       'San Diego-Chula Vista-Carlsbad, CA MSA',\n",
       "       'Phoenix-Mesa-Chandler, AZ MSA',\n",
       "       'Portland-Vancouver-Hillsboro, OR-WA MSA',\n",
       "       'Cincinnati, OH-KY-IN MSA', 'Columbia, SC MSA',\n",
       "       'San Antonio-New Braunfels, TX MSA', 'Buffalo-Cheektowaga, NY MSA',\n",
       "       'Memphis, TN-MS-AR MSA',\n",
       "       'Riverside-San Bernardino-Ontario, CA MSA',\n",
       "       'Louisville/Jefferson County, KY-IN MSA',\n",
       "       'Albany-Schenectady-Troy, NY MSA', 'Providence-Warwick, RI-MA MSA',\n",
       "       'Salt Lake City, UT MSA', 'Urban Honolulu, HI MSA',\n",
       "       'El Paso, TX MSA', 'New Haven-Milford, CT MSA',\n",
       "       'North Port-Sarasota-Bradenton, FL MSA', 'Baton Rouge, LA MSA',\n",
       "       'New Orleans-Metairie, LA MSA',\n",
       "       'Bridgeport-Stamford-Norwalk, CT MSA',\n",
       "       'Virginia Beach-Norfolk-Newport News, VA-NC MSA',\n",
       "       'Baltimore-Columbia-Towson, MD MSA', 'Milwaukee-Waukesha, WI MSA',\n",
       "       'Oxnard-Thousand Oaks-Ventura, CA MSA',\n",
       "       'Sacramento–Roseville–Folsom, CA MSA',\n",
       "       'Austin-Round Rock-Georgetown, TX MSA', 'Richmond, VA MSA',\n",
       "       'St. Louis, MO-IL MSA',\n",
       "       'Minneapolis-St. Paul-Bloomington, MN-WI MSA',\n",
       "       'Dayton-Kettering, OH MSA', 'Bakersfield, CA MSA',\n",
       "       'Detroit-Warren-Dearborn, MI MSA', 'Kansas City, MO-KS MSA',\n",
       "       'Charleston-North Charleston, SC MSA', 'Rochester, NY MSA',\n",
       "       'Raleigh-Cary, NC MSA', 'Colorado Springs, CO MSA',\n",
       "       'Greensboro-High Point, NC MSA', 'Tucson, AZ MSA',\n",
       "       'Stockton, CA MSA', 'Cape Coral-Fort Myers, FL MSA'], dtype=object)"
      ]
     },
     "execution_count": 36,
     "metadata": {},
     "output_type": "execute_result"
    }
   ],
   "source": [
    "df_users['city'].unique()"
   ]
  },
  {
   "cell_type": "code",
   "execution_count": 37,
   "metadata": {},
   "outputs": [],
   "source": [
    "df_megamerged[\"is_NY\"] = df_megamerged[\"city\"].str.contains(\"NY-NJ\")"
   ]
  },
  {
   "cell_type": "code",
   "execution_count": 38,
   "metadata": {},
   "outputs": [],
   "source": [
    "NY = df_megamerged[df_megamerged[\"is_NY\"]]['total_cost'].dropna()\n",
    "not_NY = df_megamerged[~df_megamerged[\"is_NY\"]]['total_cost'].dropna()\n"
   ]
  },
  {
   "cell_type": "code",
   "execution_count": 39,
   "metadata": {},
   "outputs": [
    {
     "name": "stdout",
     "output_type": "stream",
     "text": [
      "Failed to reject the null hypothesis, therefore Var(ultimate) != Var(surf)\n"
     ]
    }
   ],
   "source": [
    "if check_f_test(NY, not_NY):\n",
    "    print('There is significance to reject the null hypothesis, therefore Var(ultimate) == Var(surf)')   \n",
    "else:\n",
    "    print('Failed to reject the null hypothesis, therefore Var(ultimate) != Var(surf)')"
   ]
  },
  {
   "cell_type": "code",
   "execution_count": 40,
   "metadata": {},
   "outputs": [
    {
     "name": "stdout",
     "output_type": "stream",
     "text": [
      "Fail in rejecting of the null hypothesis, therefore the avg profits comparing for two population in NY area is same\n"
     ]
    }
   ],
   "source": [
    "results = stats.ttest_ind(NY, not_NY, equal_var=True)\n",
    "if results.pvalue < .05:\n",
    "      print('we have sufficient significance for rejecting the null hypothesis, therefore the avg profits comparing for two population in NY area is different')\n",
    "        \n",
    "else:\n",
    "      print('Fail in rejecting of the null hypothesis, therefore the avg profits comparing for two population in NY area is same')"
   ]
  },
  {
   "cell_type": "markdown",
   "metadata": {},
   "source": [
    "**CONCLUSION**"
   ]
  },
  {
   "cell_type": "markdown",
   "metadata": {},
   "source": [
    "*In this step we did the hypothesis testing  for ultimate and surf plan on the basis of total cost then we did testing of the NY-NJ region .\n",
    "1. In the first case for ultimate and surf plan it can be seen that it is failed to reject the null hypothesis when we take the significance level to .05 it show the average profit to be different\n",
    "2. In the second case for NY-NJ region it is showing the average profit to be same on while rejecting the null hypothesis"
   ]
  },
  {
   "cell_type": "markdown",
   "metadata": {},
   "source": [
    "### Step 5 Conclusion"
   ]
  },
  {
   "cell_type": "markdown",
   "metadata": {},
   "source": [
    "**This project involve analysing the telecom operator Megaline. The company offers its clients two prepaid plans, Surf and Ultimate. The commercial department wants to know which of the plans brings in more revenue in order to adjust the advertising budget.we are going to carry out a preliminary analysis of the plans based on a relatively small client selection. we will  have the data on 500 Megaline clients: who the clients are, where they're from, which plan they use, and the number of calls they made and text messages they sent in 2018.**\n",
    "*The data contains five different datasets megaline_calls,megaline_internet,megaline_messages,megaline_plans and megaline_users* \n",
    "* Description of data\n",
    "*Surf\n",
    "Monthly charge: $20\n",
    "500 monthly minutes, 50 texts, and 15 GB of data\n",
    "After exceeding the package limits:\n",
    "1 minute: 3 cents\n",
    "1 text message: 3 cents\n",
    "1 GB of data: $10\n",
    "Ultimate\n",
    "Monthly charge: $70\n",
    "3000 monthly minutes, 1000 text messages, and 30 GB of data\n",
    "After exceeding the package limits:\n",
    "1 minute: 1 cent\n",
    "1 text message: 1 cent\n",
    "1 GB of data: $7*\n",
    "* *First looking into details of data it can be seen that there are 5 megalines files for call,internet,messages,user and plan. further when we see the columns of each table it can be pinned out that userids is common column in call,internet,messages and users columns. while analysing null factors , there is missing values in users table churn data column.*\n",
    "* Secondly  we converted the datatypes to be used for further calculations we converted the non null object to date time format to use it for further calculations,call_date,session_date,message_date,reg_date,churn_date into datetime format from df_users,df_call,df_internet,df_message.Then we did the merging the tables of df_calls,df_internet and df_messages by using month and user_id column.then we found out some more values for adding to table, the number of calls made and minutes used per month The number of text messages sent per month The volume of data per month .then rounded the values in duration and gb used by ceil function.then we added one more dataframe df_users to get the plan column for furthur calculation of total cost on the by subtracting the free package limit from the total number of calls, text messages, and data; multiply the result by the calling plan value; add the monthly charge depending on the calling plan.it can be seen that there is some negative values in total cost column\n",
    "* Thirdly we calculated the customers behavior;find out the minutes, texts, and volume of data the users of each plan require per month. Calculated the mean, dispersion, and standard deviation.from the figures it can be seen that ultimate shows the highest number of values for 1500 mb .and while looking into other figures minutes used is highest 40 for ultimate and (20 to 35) for surf.message per month is more on the range for,the peak is high nearby to 0 for both ultimate and surf.\n",
    "* Fourtly we find out while the average revenue from users of Ultimate and Surf calling plans differs and the average revenue from users in NY-NJ area is different from that of the users from other regions.*\n",
    "**Hence it can be concluded while carrying out different calculations that there is multiple relationships between different columns and **\n",
    "1. it can be seen that ultimate shows the highest number of values for 1500 mb .and while looking into other figures minutes used is highest 40 for ultimate and (20 to 35) for surf.message per month is more on the range for,the peak is high nearby to 0 for both ultimate and surf.\n",
    "2. when we calculated the variance of plan the figure shows ( msg_per_month=6.661204),(internet_mb_per_month=267857.242750)\n",
    "duration_per_month= 218.772339.for ultimate the variance values are for (msg_per_month=7.481248)(internet_mb_per_month  =240646.527407 and (duration_per_month=219.623756)\n",
    "3.In the case for ultimate and surf plan it can be seen that it is failed to reject the null hypothesis when we take the significance level to .05 it show the average profit to be different and In the second case for NY-NJ region it is showing the average profit to be same on while rejecting the null hypothesis"
   ]
  }
 ],
 "metadata": {
  "kernelspec": {
   "display_name": "Python 3",
   "language": "python",
   "name": "python3"
  },
  "language_info": {
   "codemirror_mode": {
    "name": "ipython",
    "version": 3
   },
   "file_extension": ".py",
   "mimetype": "text/x-python",
   "name": "python",
   "nbconvert_exporter": "python",
   "pygments_lexer": "ipython3",
   "version": "3.8.5"
  },
  "toc": {
   "base_numbering": 1,
   "nav_menu": {},
   "number_sections": true,
   "sideBar": true,
   "skip_h1_title": false,
   "title_cell": "Table of Contents",
   "title_sidebar": "Contents",
   "toc_cell": false,
   "toc_position": {},
   "toc_section_display": true,
   "toc_window_display": false
  }
 },
 "nbformat": 4,
 "nbformat_minor": 2
}
